{
 "cells": [
  {
   "cell_type": "code",
   "execution_count": 50,
   "metadata": {},
   "outputs": [
    {
     "name": "stdout",
     "output_type": "stream",
     "text": [
      "4 2\n",
      "1 1 1 1\n",
      "6\n"
     ]
    }
   ],
   "source": [
    "def dfs(idx, sum):\n",
    "    global cnt\n",
    "    if idx >= n:\n",
    "        return\n",
    "    sum += s_[idx]\n",
    "    if sum == s:\n",
    "        cnt += 1\n",
    "    dfs(idx + 1, sum - s_[idx])\n",
    "    dfs(idx + 1, sum)\n",
    "    \n",
    "    \n",
    "n, s = map(int, input().split())\n",
    "s_ = list(map(int, input().split()))\n",
    "cnt = 0\n",
    "dfs(0, 0)\n",
    "print(cnt)"
   ]
  },
  {
   "cell_type": "code",
   "execution_count": 48,
   "metadata": {},
   "outputs": [
    {
     "name": "stdout",
     "output_type": "stream",
     "text": [
      "4 2\n",
      "1 1 1 1\n"
     ]
    }
   ],
   "source": [
    "# 인덱스는 연속된 오름차순이여야 부분 순열이다 -> 요게 틀렸네, 연속 안해도 괜찮음\n",
    "# DFS\n",
    "\n",
    "N, S = map(int, input().split())\n",
    "array = list(map(int, input().split()))"
   ]
  },
  {
   "cell_type": "code",
   "execution_count": 49,
   "metadata": {},
   "outputs": [
    {
     "name": "stdout",
     "output_type": "stream",
     "text": [
      "3\n"
     ]
    }
   ],
   "source": [
    "answer = 0\n",
    "for idx, x in enumerate(array):\n",
    "    sum = 0\n",
    "    for i in range(idx , len(array)):\n",
    "        sum += array[i]\n",
    "        if sum == S:\n",
    "            #print(array[idx:i+1])\n",
    "            answer += 1\n",
    "print(answer)"
   ]
  },
  {
   "cell_type": "code",
   "execution_count": 7,
   "metadata": {},
   "outputs": [
    {
     "data": {
      "text/plain": [
       "1"
      ]
     },
     "execution_count": 7,
     "metadata": {},
     "output_type": "execute_result"
    }
   ],
   "source": [
    "answer"
   ]
  }
 ],
 "metadata": {
  "kernelspec": {
   "display_name": "Python 3",
   "language": "python",
   "name": "python3"
  },
  "language_info": {
   "codemirror_mode": {
    "name": "ipython",
    "version": 3
   },
   "file_extension": ".py",
   "mimetype": "text/x-python",
   "name": "python",
   "nbconvert_exporter": "python",
   "pygments_lexer": "ipython3",
   "version": "3.8.5"
  }
 },
 "nbformat": 4,
 "nbformat_minor": 4
}
