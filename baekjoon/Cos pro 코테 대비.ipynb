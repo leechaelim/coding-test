{
 "cells": [
  {
   "cell_type": "code",
   "execution_count": null,
   "metadata": {},
   "outputs": [],
   "source": [
    "# cos 5차 6번 \n",
    "# 18분\n",
    "def solution(s1, s2, p, q):\n",
    "    answer = ''\n",
    "    n1 = 0\n",
    "    n2 = 0\n",
    "    len1 = len(s1) - 1\n",
    "    len2 = len(s2) - 1\n",
    "\n",
    "    for a in s1:\n",
    "        if len1 == 0:\n",
    "            n1 += int(a)\n",
    "            break\n",
    "        n1 += (p**len1) * int(a)\n",
    "        len1 -= 1\n",
    "\n",
    "    for b in s2:\n",
    "        if len2 == 0:\n",
    "            n2 += int(b) \n",
    "            break\n",
    "        n2 += (p**len2)*int(b) \n",
    "        len2 -= 1\n",
    "\n",
    "    SUM = n1 + n2\n",
    "    while True:\n",
    "        answer = str(SUM%q)+answer\n",
    "        SUM = SUM//q\n",
    "        if SUM < q:\n",
    "            answer = str(SUM) + answer\n",
    "            return answer"
   ]
  },
  {
   "cell_type": "code",
   "execution_count": null,
   "metadata": {},
   "outputs": [],
   "source": [
    "# 4차 8번 15분\n",
    "# -*- coding: utf-8 -*-\n",
    "# UTF-8 encoding when using korean\n",
    "from itertools import permutations\n",
    "def solution(card, n):\n",
    "    # 만들 수 없으면 -1 리턴\n",
    "    for x in card:\n",
    "        n_cnt = str(n).count(str(x))\n",
    "        if str(n).count(str(x)) != card.count(x):\n",
    "            return -1\n",
    "    arr = list(permutations(card,len(card)))\n",
    "    number = []\n",
    "    for permu in arr:\n",
    "        s = ''\n",
    "        for p in permu:\n",
    "            s += str(p)\n",
    "        number.append(s)\n",
    "    number= list(set(number))\n",
    "    number.sort()\n",
    "    return number.index(str(n))+1"
   ]
  },
  {
   "cell_type": "code",
   "execution_count": null,
   "metadata": {},
   "outputs": [],
   "source": [
    "# cos 5차 9번 10분\n",
    "def solution1(number, target):\n",
    "    answer = 0\n",
    "    dp  = [int(1e9)] * (20002)\n",
    "    dp[number] = 0\n",
    "    for idx in range(10001):\n",
    "        if dp[idx] != int(1e9):\n",
    "            dp[idx + 1] = min(dp[idx + 1], dp[idx] + 1)\n",
    "            dp[idx - 1] = min(dp[idx - 1], dp[idx] + 1)\n",
    "            dp[idx * 2] = min(dp[idx * 2], dp[idx] + 1)\n",
    "\n",
    "    return dp[:target+1] #[target]\n",
    "\n",
    "\n",
    "def solution(number, target):\n",
    "    answer = 0\n",
    "    dp  = [int(1e9)] * (20001)\n",
    "    dp[number] = 0\n",
    "    for idx in range(target+2):\n",
    "        if dp[idx] != int(1e9):\n",
    "            dp[idx + 1] = min(dp[idx + 1], dp[idx] + 1)\n",
    "            dp[idx - 1] = min(dp[idx - 1], dp[idx] + 1)\n",
    "            dp[idx * 2] = min(dp[idx * 2], dp[idx] + 1)\n",
    "\n",
    "    return dp[target] #[target]"
   ]
  }
 ],
 "metadata": {
  "kernelspec": {
   "display_name": "Python 3",
   "language": "python",
   "name": "python3"
  },
  "language_info": {
   "codemirror_mode": {
    "name": "ipython",
    "version": 3
   },
   "file_extension": ".py",
   "mimetype": "text/x-python",
   "name": "python",
   "nbconvert_exporter": "python",
   "pygments_lexer": "ipython3",
   "version": "3.8.5"
  }
 },
 "nbformat": 4,
 "nbformat_minor": 4
}
