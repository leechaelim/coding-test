{
 "cells": [
  {
   "cell_type": "code",
   "execution_count": 50,
   "metadata": {},
   "outputs": [
    {
     "name": "stdout",
     "output_type": "stream",
     "text": [
      "9\n",
      "7 3\n",
      "5\n",
      "1 2\n",
      "1 3\n",
      "2 7\n",
      "2 8\n",
      "2 9\n",
      "3\n"
     ]
    }
   ],
   "source": [
    "# result 리스트를 만들어서 goal_1에서 모든 노드까지의 거리를 저장하기\n",
    "from collections import deque\n",
    "        \n",
    "def bfs(graph, start, visited):#start 부모, target 자식\n",
    "    global result\n",
    "    queue = deque([start])\n",
    "    visited[start] = 1\n",
    "    while queue: #큐가 빌 때까지 계속, 큐가 비어있으면 False\n",
    "        v = queue.popleft()\n",
    "        for i in graph[v]:\n",
    "            if visited[i] == 0:\n",
    "                queue.append(i)\n",
    "                visited[i] = 1\n",
    "                result[i] = result[v] + 1\n",
    "    return False\n",
    "\n",
    "N = int(input())\n",
    "goal_1, goal_2 = map(int, input().split())\n",
    "graph = [[] for _ in range(101)]\n",
    "visited = [0] * 101\n",
    "global result\n",
    "result = [0 for _ in range(101)]\n",
    "\n",
    "for _ in range(int(input())):\n",
    "    a, b = map(int, input().split())\n",
    "    graph[a].append(b)\n",
    "    graph[b].append(a)\n",
    "\n",
    "bfs(graph, goal_1, visited)\n",
    "print(result[goal_2] if result[goal_2]!= 0 else -1)"
   ]
  },
  {
   "cell_type": "code",
   "execution_count": 44,
   "metadata": {},
   "outputs": [
    {
     "name": "stdout",
     "output_type": "stream",
     "text": [
      "9\n",
      "9 3\n",
      "8\n",
      "10 11\n",
      "11 12\n",
      "10 1\n",
      "1 2\n",
      "1 3\n",
      "2 7 \n",
      "2 8\n",
      "2 9\n",
      "3\n"
     ]
    }
   ],
   "source": [
    "# 이거는 틀리다고 나옴\n",
    "from collections import deque\n",
    "        \n",
    "def find_index(target):\n",
    "    for i in range(101):\n",
    "        if target in graph[i]:\n",
    "            return i\n",
    "\n",
    "def bfs(graph, start, visited, target):#start 부모, target 자식\n",
    "    global result\n",
    "    queue = deque([start])\n",
    "    visited[start] = True\n",
    "    while queue: #큐가 빌 때까지 계속, 큐가 비어있으면 False\n",
    "        v = queue.popleft()\n",
    "        result += 1\n",
    "        if target in graph[v]:\n",
    "            return True\n",
    "        for i in graph[v]:\n",
    "            if not visited[i]:\n",
    "                queue.append(i)\n",
    "                visited[i] = True\n",
    "    return False\n",
    "\n",
    "N = int(input())\n",
    "goal_1, goal_2 = map(int, input().split())\n",
    "graph = [[] for _ in range(101)]\n",
    "visited = [False] * 101\n",
    "\n",
    "for _ in range(int(input())):\n",
    "    a, b = map(int, input().split())\n",
    "    graph[a].append(b)\n",
    "    \n",
    "\n",
    "global result\n",
    "result = 0\n",
    "\n",
    "def cal(goal_1, goal_2):\n",
    "    tmp = goal_2\n",
    "    while True:\n",
    "        if bfs(graph, tmp, visited, goal_1)==False: # 직속 아님\n",
    "            if find_index(tmp)==None or tmp == find_index(tmp):\n",
    "                return -1\n",
    "            else:\n",
    "                tmp = find_index(tmp)\n",
    "        else:\n",
    "            return result\n",
    "        \n",
    "print(min(cal(goal_1, goal_2),cal(goal_2, goal_1)))"
   ]
  },
  {
   "cell_type": "code",
   "execution_count": 49,
   "metadata": {},
   "outputs": [
    {
     "data": {
      "text/plain": [
       "[0,\n",
       " 0,\n",
       " 0,\n",
       " 0,\n",
       " 0,\n",
       " 0,\n",
       " 0,\n",
       " 0,\n",
       " 0,\n",
       " 0,\n",
       " 0,\n",
       " 0,\n",
       " 0,\n",
       " 0,\n",
       " 0,\n",
       " 0,\n",
       " 0,\n",
       " 0,\n",
       " 0,\n",
       " 0,\n",
       " 0,\n",
       " 0,\n",
       " 0,\n",
       " 0,\n",
       " 0,\n",
       " 0,\n",
       " 0,\n",
       " 0,\n",
       " 0,\n",
       " 0,\n",
       " 0,\n",
       " 0,\n",
       " 0,\n",
       " 0,\n",
       " 0,\n",
       " 0,\n",
       " 0,\n",
       " 0,\n",
       " 0,\n",
       " 0,\n",
       " 0,\n",
       " 0,\n",
       " 0,\n",
       " 0,\n",
       " 0,\n",
       " 0,\n",
       " 0,\n",
       " 0,\n",
       " 0,\n",
       " 0,\n",
       " 0,\n",
       " 0,\n",
       " 0,\n",
       " 0,\n",
       " 0,\n",
       " 0,\n",
       " 0,\n",
       " 0,\n",
       " 0,\n",
       " 0,\n",
       " 0,\n",
       " 0,\n",
       " 0,\n",
       " 0,\n",
       " 0,\n",
       " 0,\n",
       " 0,\n",
       " 0,\n",
       " 0,\n",
       " 0,\n",
       " 0,\n",
       " 0,\n",
       " 0,\n",
       " 0,\n",
       " 0,\n",
       " 0,\n",
       " 0,\n",
       " 0,\n",
       " 0,\n",
       " 0,\n",
       " 0,\n",
       " 0,\n",
       " 0,\n",
       " 0,\n",
       " 0,\n",
       " 0,\n",
       " 0,\n",
       " 0,\n",
       " 0,\n",
       " 0,\n",
       " 0,\n",
       " 0,\n",
       " 0,\n",
       " 0,\n",
       " 0,\n",
       " 0,\n",
       " 0,\n",
       " 0,\n",
       " 0,\n",
       " 0,\n",
       " 0]"
      ]
     },
     "execution_count": 49,
     "metadata": {},
     "output_type": "execute_result"
    }
   ],
   "source": [
    "result"
   ]
  },
  {
   "cell_type": "code",
   "execution_count": null,
   "metadata": {},
   "outputs": [],
   "source": [
    "N = int(input())\n",
    "goal_1, goal_2 = map(int, input().split())\n",
    "edge_num = int(input())\n",
    "graph = [[] for _ in range(101)]\n",
    "for _ in range(edge_num):\n",
    "    a, b = map(int, input().split())\n",
    "    graph[a].append(b)"
   ]
  },
  {
   "cell_type": "code",
   "execution_count": 7,
   "metadata": {},
   "outputs": [],
   "source": [
    "def bfs(graph, start, visited, target):#start 부모, target 자식\n",
    "    global result\n",
    "    queue = deque([start])\n",
    "    visited[start] = True\n",
    "    while queue: #큐가 빌 때까지 계속, 큐가 비어있으면 False\n",
    "        v = queue.popleft()\n",
    "        result += 1\n",
    "        \n",
    "        print(v,result)\n",
    "        if target in graph[v]:\n",
    "            return True\n",
    "        for i in graph[v]:\n",
    "            if not visited[i]:\n",
    "                queue.append(i)\n",
    "                visited[i] = True\n",
    "    return False"
   ]
  },
  {
   "cell_type": "code",
   "execution_count": 16,
   "metadata": {},
   "outputs": [],
   "source": [
    "def find_index(target):\n",
    "    for i in range(101):\n",
    "        if target in graph[i]:\n",
    "            return i"
   ]
  },
  {
   "cell_type": "code",
   "execution_count": 35,
   "metadata": {},
   "outputs": [
    {
     "name": "stdout",
     "output_type": "stream",
     "text": [
      "-1\n"
     ]
    }
   ],
   "source": [
    "from collections import deque\n",
    "visited = [False] * 101\n",
    "global result\n",
    "result = 0\n",
    "goal_2 = 5\n",
    "tmp = goal_2\n",
    "while True:\n",
    "    \n",
    "    if bfs(graph, tmp, visited, goal_1)==False: # 직속 아님\n",
    "        if find_index(tmp)==None or tmp == find_index(tmp):\n",
    "            print(-1)\n",
    "            break\n",
    "        else:\n",
    "            #result += 1\n",
    "            tmp = find_index(tmp)\n",
    "    else:\n",
    "        print(result)\n",
    "        break"
   ]
  },
  {
   "cell_type": "code",
   "execution_count": 34,
   "metadata": {},
   "outputs": [
    {
     "name": "stdout",
     "output_type": "stream",
     "text": [
      "None\n"
     ]
    }
   ],
   "source": [
    "print(find_index(4))"
   ]
  }
 ],
 "metadata": {
  "kernelspec": {
   "display_name": "Python 3",
   "language": "python",
   "name": "python3"
  },
  "language_info": {
   "codemirror_mode": {
    "name": "ipython",
    "version": 3
   },
   "file_extension": ".py",
   "mimetype": "text/x-python",
   "name": "python",
   "nbconvert_exporter": "python",
   "pygments_lexer": "ipython3",
   "version": "3.8.5"
  }
 },
 "nbformat": 4,
 "nbformat_minor": 4
}
