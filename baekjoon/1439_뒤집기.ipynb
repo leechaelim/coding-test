{
 "cells": [
  {
   "cell_type": "code",
   "execution_count": 14,
   "metadata": {},
   "outputs": [
    {
     "name": "stdout",
     "output_type": "stream",
     "text": [
      "0001100\n",
      "0 5\n",
      "0 4\n",
      "0 3\n",
      "1\n"
     ]
    }
   ],
   "source": [
    "# 숏코딩 뭐야...?\n",
    "# 나중에 구글링해보기\n",
    "\n",
    "def reverse(x,y):\n",
    "    global nums\n",
    "    for i in range(x,y+1):\n",
    "        if nums[i]==0:\n",
    "            nums[i] = 1\n",
    "        else:\n",
    "            nums[i] = 0\n",
    "\n",
    "            \n",
    "nums = list(map(int, input()))\n",
    "\n",
    "i = 0\n",
    "k = len(nums)-1\n",
    "count = 0\n",
    "while (0 in nums) and (1 in nums):\n",
    "    zero_counts = 0\n",
    "    for x in nums:\n",
    "        if x == 0:\n",
    "            zero_counts += 1\n",
    "    #print(\"확인\",nums, zero_counts)\n",
    "    if zero_counts==1 or zero_counts==len(nums)-1:\n",
    "        count += 1\n",
    "        break\n",
    "   \n",
    "    if nums[i]!=nums[k]:\n",
    "        check = True\n",
    "        j = i\n",
    "        while check:\n",
    "            if nums[j+1] == nums[k]:\n",
    "                reverse(j+1,k)\n",
    "                count += 1\n",
    "                check = False\n",
    "                \n",
    "            j += 1\n",
    "    elif i>0:\n",
    "        if nums[i] != nums[i-1]:\n",
    "            reverse(i,k)\n",
    "            count += 1\n",
    "            \n",
    "            \n",
    "    #i+=1\n",
    "    k-=1\n",
    "                \n",
    "print(count)"
   ]
  }
 ],
 "metadata": {
  "kernelspec": {
   "display_name": "Python 3",
   "language": "python",
   "name": "python3"
  },
  "language_info": {
   "codemirror_mode": {
    "name": "ipython",
    "version": 3
   },
   "file_extension": ".py",
   "mimetype": "text/x-python",
   "name": "python",
   "nbconvert_exporter": "python",
   "pygments_lexer": "ipython3",
   "version": "3.8.5"
  }
 },
 "nbformat": 4,
 "nbformat_minor": 4
}
