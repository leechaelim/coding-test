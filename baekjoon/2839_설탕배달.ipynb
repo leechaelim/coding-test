{
 "cells": [
  {
   "cell_type": "code",
   "execution_count": 14,
   "metadata": {},
   "outputs": [
    {
     "name": "stdout",
     "output_type": "stream",
     "text": [
      "11\n",
      "3\n"
     ]
    }
   ],
   "source": [
    "# 다이나믹 프로그래밍\n",
    "N = int(input())\n",
    "\n",
    "# 3키로, 5키로\n",
    "\n",
    "dp = [-1]*(5001)\n",
    "dp[3],dp[5] = 1,1\n",
    "for i in range(3, N+1):\n",
    "    if dp[i]!= -1:\n",
    "        if i+3<=N and dp[i+3]!=-1:\n",
    "            dp[i+3] = min(dp[i+3],dp[i]+1 )\n",
    "        elif i+3<=N:\n",
    "            dp[i+3] = dp[i] + 1\n",
    "\n",
    "        if i+5<=N and dp[i+5]!=-1:\n",
    "            dp[i+5] = min(dp[i+5],dp[i]+1 )\n",
    "        elif i+5<=N:\n",
    "            dp[i+5] = dp[i] + 1\n",
    "print(dp[N])"
   ]
  },
  {
   "cell_type": "code",
   "execution_count": 10,
   "metadata": {},
   "outputs": [
    {
     "data": {
      "text/plain": [
       "[-1, -1, -1, 1, -1, 1, 2, -1, 2, 3, 2, 3, 4, 3, 4, 3, 4, 5, 4]"
      ]
     },
     "execution_count": 10,
     "metadata": {},
     "output_type": "execute_result"
    }
   ],
   "source": [
    "dp"
   ]
  }
 ],
 "metadata": {
  "kernelspec": {
   "display_name": "Python 3",
   "language": "python",
   "name": "python3"
  },
  "language_info": {
   "codemirror_mode": {
    "name": "ipython",
    "version": 3
   },
   "file_extension": ".py",
   "mimetype": "text/x-python",
   "name": "python",
   "nbconvert_exporter": "python",
   "pygments_lexer": "ipython3",
   "version": "3.8.5"
  }
 },
 "nbformat": 4,
 "nbformat_minor": 4
}
