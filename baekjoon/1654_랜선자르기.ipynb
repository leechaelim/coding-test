{
 "cells": [
  {
   "cell_type": "code",
   "execution_count": 51,
   "metadata": {},
   "outputs": [
    {
     "name": "stdout",
     "output_type": "stream",
     "text": [
      "4 11\n",
      "802\n",
      "743\n",
      "457\n",
      "539\n",
      "1 802 201\n",
      "1 400 401\n",
      "201 400 200\n",
      "201 299 300\n",
      "201 249 250\n",
      "201 224 225\n",
      "201 211 212\n",
      "201 205 206\n",
      "201 202 203\n",
      "201 200 201\n",
      "200\n"
     ]
    }
   ],
   "source": [
    "# 이건 맞은거\n",
    "N, K = map(int, input().split())\n",
    "arr = []\n",
    "for _ in range(N):\n",
    "    arr.append(int(input()))\n",
    "start = 1\n",
    "end = max(arr)\n",
    "while True:\n",
    "    print(start, end, mid )\n",
    "    if start > end :\n",
    "        break\n",
    "    \n",
    "    mid = (start + end)//2\n",
    "    tmp = 0\n",
    "    for x in arr:\n",
    "        tmp += x//mid\n",
    "        \n",
    "    if tmp >= K:\n",
    "        start = mid + 1\n",
    "    else:\n",
    "        end = mid - 1\n",
    "    \n",
    "print((start + end)//2)"
   ]
  },
  {
   "cell_type": "code",
   "execution_count": 55,
   "metadata": {},
   "outputs": [
    {
     "name": "stdout",
     "output_type": "stream",
     "text": [
      "4 11\n",
      "802\n",
      "739\n",
      "539\n",
      "457\n",
      "200\n"
     ]
    }
   ],
   "source": [
    "# 이건 틀린 거\n",
    "N, K = map(int, input().split())\n",
    "arr = []\n",
    "for _ in range(N):\n",
    "    arr.append(int(input()))\n",
    "start = 1\n",
    "end = max(arr)\n",
    "while True:\n",
    "    mid = (start + end)//2\n",
    "    if start >= end : # 아 여기가 틀렸다 > 으로 수정하면 맞음\n",
    "        break\n",
    "    \n",
    "    tmp = 0\n",
    "    for x in arr:\n",
    "        tmp += x//mid\n",
    "        \n",
    "    if tmp >= K:\n",
    "        start = mid + 1\n",
    "    else:\n",
    "        end = mid - 1\n",
    "print(mid)"
   ]
  },
  {
   "cell_type": "code",
   "execution_count": 56,
   "metadata": {},
   "outputs": [
    {
     "name": "stdout",
     "output_type": "stream",
     "text": [
      "201 200 200\n"
     ]
    }
   ],
   "source": [
    "print(start, end, mid )"
   ]
  }
 ],
 "metadata": {
  "kernelspec": {
   "display_name": "Python 3",
   "language": "python",
   "name": "python3"
  },
  "language_info": {
   "codemirror_mode": {
    "name": "ipython",
    "version": 3
   },
   "file_extension": ".py",
   "mimetype": "text/x-python",
   "name": "python",
   "nbconvert_exporter": "python",
   "pygments_lexer": "ipython3",
   "version": "3.8.5"
  }
 },
 "nbformat": 4,
 "nbformat_minor": 4
}
