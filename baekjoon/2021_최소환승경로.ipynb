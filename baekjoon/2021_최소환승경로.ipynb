{
 "cells": [
  {
   "cell_type": "code",
   "execution_count": 28,
   "metadata": {},
   "outputs": [
    {
     "name": "stdout",
     "output_type": "stream",
     "text": [
      "9 5\n",
      "1 2 3 1\n",
      "1 4 5 1\n",
      "3 6 7 1\n",
      "5 6 7 1\n",
      "6 8 9 1\n",
      "1 9\n"
     ]
    }
   ],
   "source": [
    "# 50분 풀었는 데 시간 초과남, 모르겠다.\n",
    "N, L = map(int, input().split())\n",
    "lines = []\n",
    "for _ in range(L):\n",
    "    lines.append(list(map(int, input().split()))[:-1])\n",
    "    \n",
    "start, end = map(int, input().split())\n"
   ]
  },
  {
   "cell_type": "code",
   "execution_count": 9,
   "metadata": {},
   "outputs": [
    {
     "data": {
      "text/plain": [
       "[[-1, 2, 3, -1, -1], [-1, -1, 6], [-1, 7, 8, 9, 10]]"
      ]
     },
     "execution_count": 9,
     "metadata": {},
     "output_type": "execute_result"
    }
   ],
   "source": [
    "10 3\n",
    "1 2 3 4 5 -1\n",
    "4 5 6 -1\n",
    "5 7 8 9 10 -1\n",
    "1 10"
   ]
  },
  {
   "cell_type": "code",
   "execution_count": 29,
   "metadata": {},
   "outputs": [
    {
     "name": "stdout",
     "output_type": "stream",
     "text": [
      "2\n"
     ]
    }
   ],
   "source": [
    "from collections import deque\n",
    "answer = int(1e9)\n",
    "for idx,x in enumerate(lines):\n",
    "    if start in x:\n",
    "        queue = deque()\n",
    "        queue.append([start,idx, 0])\n",
    "        while queue:\n",
    "            station, sub_line, cnt = queue.popleft()\n",
    "            if cnt >= answer:\n",
    "                continue\n",
    "            if end in lines[sub_line]:\n",
    "                answer = min(answer, cnt)\n",
    "                break\n",
    "            for num, other_line in enumerate(lines):\n",
    "                if num != sub_line and station in other_line:\n",
    "                    queue.append([station,num, cnt+1])\n",
    "                for next_station in lines[sub_line]:\n",
    "                    if num != sub_line and next_station in other_line:\n",
    "                        queue.append([next_station,num, cnt+1])\n",
    "        break\n",
    "if answer != int(1e9):\n",
    "    print(answer)\n",
    "else:\n",
    "    print(-1)"
   ]
  },
  {
   "cell_type": "code",
   "execution_count": 20,
   "metadata": {},
   "outputs": [
    {
     "data": {
      "text/plain": [
       "1"
      ]
     },
     "execution_count": 20,
     "metadata": {},
     "output_type": "execute_result"
    }
   ],
   "source": [
    "from collections import deque\n",
    "import sys\n",
    "input = sys.stdin.readline\n",
    "N, L = map(int, input().split())\n",
    "lines = []\n",
    "for _ in range(L):\n",
    "    lines.append(list(map(int, input().split()))[:-1])\n",
    "    \n",
    "start, end = map(int, input().split())\n",
    "answer = int(1e9)\n",
    "for idx,x in enumerate(lines):\n",
    "    if start in x:\n",
    "        queue = deque()\n",
    "        queue.append([start,idx, 0])\n",
    "        while queue:\n",
    "            station, sub_line, cnt = queue.popleft()\n",
    "            if end in lines[sub_line]:\n",
    "                answer = min(answer, cnt)\n",
    "                break\n",
    "            if cnt >= answer:\n",
    "                continue\n",
    "            for num, other_line in enumerate(lines):\n",
    "                if num != sub_line and station in other_line:\n",
    "                    queue.append([station,num, cnt+1])\n",
    "                for next_station in lines[sub_line]:\n",
    "                    if num != sub_line and next_station in other_line:\n",
    "                        queue.append([next_station,num, cnt+1])\n",
    "if answer != int(1e9):\n",
    "    print(answer)\n",
    "else:\n",
    "    print(-1)"
   ]
  }
 ],
 "metadata": {
  "kernelspec": {
   "display_name": "Python 3",
   "language": "python",
   "name": "python3"
  },
  "language_info": {
   "codemirror_mode": {
    "name": "ipython",
    "version": 3
   },
   "file_extension": ".py",
   "mimetype": "text/x-python",
   "name": "python",
   "nbconvert_exporter": "python",
   "pygments_lexer": "ipython3",
   "version": "3.8.5"
  }
 },
 "nbformat": 4,
 "nbformat_minor": 4
}
