{
 "cells": [
  {
   "cell_type": "code",
   "execution_count": 30,
   "metadata": {},
   "outputs": [
    {
     "name": "stdout",
     "output_type": "stream",
     "text": [
      "13\n",
      "but\n",
      "i\n",
      "wont\n",
      "hesitate\n",
      "no\n",
      "more\n",
      "no\n",
      "more\n",
      "it\n",
      "cannot\n",
      "im\n",
      "yours\n",
      "wait\n",
      "(1, 'i')\n",
      "(2, 'im')\n",
      "(2, 'it')\n",
      "(2, 'no')\n",
      "(3, 'but')\n",
      "(4, 'more')\n",
      "(4, 'wait')\n",
      "(4, 'wont')\n",
      "(5, 'yours')\n",
      "(6, 'cannot')\n",
      "(8, 'hesitate')\n"
     ]
    }
   ],
   "source": [
    "#15분\n",
    "N = int(input())\n",
    "words = []\n",
    "for _ in range(N):\n",
    "    words.append(input())\n",
    "words = list(set(words))\n",
    "arr = []\n",
    "for x in words:\n",
    "    arr.append((len(x),x))\n",
    "arr =sorted( arr, key = lambda x:(x[0],x[1]))\n",
    "for n,w in arr:\n",
    "    print(w)"
   ]
  },
  {
   "cell_type": "code",
   "execution_count": null,
   "metadata": {},
   "outputs": [],
   "source": [
    "# 숏코딩\n",
    "v = list(set([input() for i in range(int(input()))]))\n",
    "v.sort(key=lambda x:(len(x),x)) #이렇게 그냥 len 쓸수 있네\n",
    "print(\"\\n\".join(v));"
   ]
  },
  {
   "cell_type": "code",
   "execution_count": 28,
   "metadata": {},
   "outputs": [
    {
     "data": {
      "text/plain": [
       "['no',\n",
       " 'i',\n",
       " 'but',\n",
       " 'im',\n",
       " 'wait',\n",
       " 'cannot',\n",
       " 'wont',\n",
       " 'yours',\n",
       " 'hesiatte',\n",
       " 'it',\n",
       " 'more']"
      ]
     },
     "execution_count": 28,
     "metadata": {},
     "output_type": "execute_result"
    }
   ],
   "source": [
    "a = list(set(map(lambda words:words[1],words)))\n",
    "\n",
    "a"
   ]
  },
  {
   "cell_type": "code",
   "execution_count": 29,
   "metadata": {},
   "outputs": [
    {
     "data": {
      "text/plain": [
       "[[1, 'i'],\n",
       " [2, 'im'],\n",
       " [2, 'it'],\n",
       " [2, 'no'],\n",
       " [2, 'no'],\n",
       " [3, 'but'],\n",
       " [4, 'more'],\n",
       " [4, 'more'],\n",
       " [4, 'wait'],\n",
       " [4, 'wont'],\n",
       " [5, 'yours'],\n",
       " [6, 'cannot'],\n",
       " [8, 'hesiatte']]"
      ]
     },
     "execution_count": 29,
     "metadata": {},
     "output_type": "execute_result"
    }
   ],
   "source": [
    "words"
   ]
  }
 ],
 "metadata": {
  "kernelspec": {
   "display_name": "Python 3",
   "language": "python",
   "name": "python3"
  },
  "language_info": {
   "codemirror_mode": {
    "name": "ipython",
    "version": 3
   },
   "file_extension": ".py",
   "mimetype": "text/x-python",
   "name": "python",
   "nbconvert_exporter": "python",
   "pygments_lexer": "ipython3",
   "version": "3.8.5"
  }
 },
 "nbformat": 4,
 "nbformat_minor": 4
}
