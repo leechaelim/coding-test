{
 "cells": [
  {
   "cell_type": "code",
   "execution_count": 33,
   "metadata": {},
   "outputs": [
    {
     "name": "stdout",
     "output_type": "stream",
     "text": [
      "1\n",
      "3\n",
      "a b\n",
      "b b\n",
      "c c\n",
      "3 2 0\n",
      "6 3 2\n",
      "5\n"
     ]
    }
   ],
   "source": [
    "from bisect import bisect_left, bisect_right\n",
    "\n",
    "N = int(input())\n",
    "for i in range(N):\n",
    "    num = int(input())\n",
    "    array = []\n",
    "    for k in range(num):\n",
    "        name, style = map(str, input().split())\n",
    "        array.append(style)\n",
    "    result = 1\n",
    "    array.sort()\n",
    "    k = 0\n",
    "    while k < num:\n",
    "        indexs = bisect_right(array, array[k])\n",
    "        result *= (indexs - k + 1)\n",
    "        print(result,indexs, k)\n",
    "        k = indexs\n",
    "    print(result - 1) # 경우의 수는 (A종류 수 +1)(B종류 수 +1)-1, 아무것도 선택안하는 경우만 빼줌"
   ]
  },
  {
   "cell_type": "code",
   "execution_count": 34,
   "metadata": {},
   "outputs": [
    {
     "name": "stdout",
     "output_type": "stream",
     "text": [
      "1\n",
      "3\n",
      "a b\n",
      "b b\n",
      "c c\n",
      "3 2 0\n",
      "6 3 2\n",
      "5\n"
     ]
    }
   ],
   "source": [
    "# 숏코딩\n",
    "from bisect import bisect_left, bisect_right\n",
    "\n",
    "for i in range(int(input())):\n",
    "    style = []\n",
    "    for k in range(int(input())):\n",
    "        style.append(input().split()[1])\n",
    "    result = 1\n",
    "    style.sort()\n",
    "    k = 0\n",
    "    while k < len(style):\n",
    "        indexs = bisect_right(style, style[k])\n",
    "        result *= (indexs - k + 1)\n",
    "        k = indexs\n",
    "    print(result - 1) # 경우의 수는 (A종류 수 +1)(B종류 수 +1)-1, 아무것도 선택안하는 경우만 빼줌"
   ]
  },
  {
   "cell_type": "code",
   "execution_count": 29,
   "metadata": {},
   "outputs": [
    {
     "data": {
      "text/plain": [
       "['c']"
      ]
     },
     "execution_count": 29,
     "metadata": {},
     "output_type": "execute_result"
    }
   ],
   "source": [
    "style"
   ]
  },
  {
   "cell_type": "code",
   "execution_count": 2,
   "metadata": {},
   "outputs": [
    {
     "name": "stdout",
     "output_type": "stream",
     "text": [
      "da rg\n"
     ]
    }
   ],
   "source": [
    "name, style = map(str, input().split())"
   ]
  },
  {
   "cell_type": "code",
   "execution_count": 11,
   "metadata": {},
   "outputs": [
    {
     "data": {
      "text/plain": [
       "('headgear', 'hat')"
      ]
     },
     "execution_count": 11,
     "metadata": {},
     "output_type": "execute_result"
    }
   ],
   "source": [
    "array.sort()\n",
    "array[1]"
   ]
  }
 ],
 "metadata": {
  "kernelspec": {
   "display_name": "Python 3",
   "language": "python",
   "name": "python3"
  },
  "language_info": {
   "codemirror_mode": {
    "name": "ipython",
    "version": 3
   },
   "file_extension": ".py",
   "mimetype": "text/x-python",
   "name": "python",
   "nbconvert_exporter": "python",
   "pygments_lexer": "ipython3",
   "version": "3.8.5"
  }
 },
 "nbformat": 4,
 "nbformat_minor": 4
}
