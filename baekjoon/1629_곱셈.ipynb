{
 "cells": [
  {
   "cell_type": "markdown",
   "metadata": {},
   "source": [
    "### 분할 정복\n",
    "\n",
    "계산 과전 복잡하고 반복적일때 간단하게 쪼개서 합치는 유형\n",
    "\n",
    "재귀함수로 많이 활용됨\n",
    "O(log2n)\n"
   ]
  },
  {
   "cell_type": "code",
   "execution_count": 39,
   "metadata": {},
   "outputs": [
    {
     "name": "stdout",
     "output_type": "stream",
     "text": [
      "8 10 12\n",
      "8 2\n",
      "4 5\n",
      "8 10\n",
      "4\n"
     ]
    }
   ],
   "source": [
    "A, B, C = map(int, input().split())\n",
    "\n",
    "def sol(b):\n",
    "    if b==1: #곱할 횟수가 1회\n",
    "        return A%C\n",
    "    if b%2 == 0: #짝수 회 곱할때\n",
    "        tmp = sol(b//2)\n",
    "        print(tmp,b)\n",
    "        return tmp*tmp % C\n",
    "    else: #홀수 회 곱할때\n",
    "        tmp = sol(b//2)\n",
    "        print(tmp,b)\n",
    "        return tmp*tmp*A % C\n",
    "    \n",
    "print(sol(B))"
   ]
  },
  {
   "cell_type": "code",
   "execution_count": 35,
   "metadata": {},
   "outputs": [
    {
     "name": "stdout",
     "output_type": "stream",
     "text": [
      "8\n",
      "4\n",
      "8\n",
      "4\n",
      "8\n",
      "4\n",
      "8\n",
      "4\n",
      "8\n",
      "4\n",
      "8\n"
     ]
    }
   ],
   "source": [
    "for i in range(1,12):\n",
    "    print((8**i)%12)"
   ]
  },
  {
   "cell_type": "code",
   "execution_count": 46,
   "metadata": {},
   "outputs": [
    {
     "name": "stdout",
     "output_type": "stream",
     "text": [
      "10 11 12\n"
     ]
    }
   ],
   "source": [
    " A, B, C = map(int, input().split())"
   ]
  },
  {
   "cell_type": "code",
   "execution_count": 36,
   "metadata": {},
   "outputs": [
    {
     "name": "stdout",
     "output_type": "stream",
     "text": [
      "8 11 12\n",
      "8\n"
     ]
    }
   ],
   "source": [
    "A, B, C = map(int, input().split())\n",
    "array = []\n",
    "mul = A\n",
    "for i in range(1,B+1):\n",
    "    \n",
    "    if len(array)>=2 and array[-1]==mul % C:\n",
    "        array.append(-1)\n",
    "        break\n",
    "    if len(array)>=1 and mul % C in array: #4 4 4 ..#1 2 3 1 2 3\n",
    "        break\n",
    "    array.append(mul % C)\n",
    "    mul *= A\n",
    "    \n",
    "if len(array)==1:\n",
    "    print(array[-1])\n",
    "elif array[-1]== -1:\n",
    "    print(array[-2])\n",
    "else:\n",
    "    print(array[B % len(array) - 1])"
   ]
  },
  {
   "cell_type": "code",
   "execution_count": 37,
   "metadata": {},
   "outputs": [
    {
     "data": {
      "text/plain": [
       "1"
      ]
     },
     "execution_count": 37,
     "metadata": {},
     "output_type": "execute_result"
    }
   ],
   "source": [
    "len(array)"
   ]
  },
  {
   "cell_type": "code",
   "execution_count": 31,
   "metadata": {},
   "outputs": [
    {
     "data": {
      "text/plain": [
       "True"
      ]
     },
     "execution_count": 31,
     "metadata": {},
     "output_type": "execute_result"
    }
   ],
   "source": [
    "4 in array"
   ]
  }
 ],
 "metadata": {
  "kernelspec": {
   "display_name": "Python 3",
   "language": "python",
   "name": "python3"
  },
  "language_info": {
   "codemirror_mode": {
    "name": "ipython",
    "version": 3
   },
   "file_extension": ".py",
   "mimetype": "text/x-python",
   "name": "python",
   "nbconvert_exporter": "python",
   "pygments_lexer": "ipython3",
   "version": "3.8.5"
  }
 },
 "nbformat": 4,
 "nbformat_minor": 4
}
