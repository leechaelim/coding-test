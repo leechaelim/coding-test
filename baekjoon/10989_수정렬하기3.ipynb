{
 "cells": [
  {
   "cell_type": "code",
   "execution_count": null,
   "metadata": {},
   "outputs": [],
   "source": [
    "import sys\n",
    "input = sys.stdin.readline\n",
    "N = int(input())\n",
    "arr = [0]*(10001)\n",
    "for _ in range(N):\n",
    "    arr[int(input())] += 1\n",
    "\n",
    "for idx, x in enumerate(arr):\n",
    "    for _ in range(x):\n",
    "        print(idx)"
   ]
  },
  {
   "cell_type": "code",
   "execution_count": 8,
   "metadata": {},
   "outputs": [
    {
     "name": "stdout",
     "output_type": "stream",
     "text": [
      "10 \n",
      "5\n",
      "2 \n",
      "3\n",
      "1\n",
      "4\n",
      "2\n",
      "3\n",
      "5\n",
      "1\n",
      "7\n"
     ]
    }
   ],
   "source": [
    "import sys\n",
    "input = sys.stdin.readline\n",
    "N = int(input())\n",
    "arr = dict()\n",
    "for _ in range(N):\n",
    "    a = int(input())\n",
    "    if a not in arr:\n",
    "        arr[a] = 1\n",
    "    else:\n",
    "        arr[a] += 1\n",
    "for idx in range(10001):\n",
    "    if idx in arr:\n",
    "        for _ in range(arr[idx]):\n",
    "            print(idx)"
   ]
  }
 ],
 "metadata": {
  "kernelspec": {
   "display_name": "Python 3",
   "language": "python",
   "name": "python3"
  },
  "language_info": {
   "codemirror_mode": {
    "name": "ipython",
    "version": 3
   },
   "file_extension": ".py",
   "mimetype": "text/x-python",
   "name": "python",
   "nbconvert_exporter": "python",
   "pygments_lexer": "ipython3",
   "version": "3.8.5"
  }
 },
 "nbformat": 4,
 "nbformat_minor": 4
}
