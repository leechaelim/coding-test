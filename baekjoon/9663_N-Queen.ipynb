{
 "cells": [
  {
   "cell_type": "code",
   "execution_count": 86,
   "metadata": {},
   "outputs": [
    {
     "name": "stdout",
     "output_type": "stream",
     "text": [
      "1\n",
      "1\n"
     ]
    }
   ],
   "source": [
    "# 1차원 리스트에서는 deepcopy보다 슬라이싱이 더 빠름\n",
    "def checking(queen, x):\n",
    "    global answer\n",
    "    global N\n",
    "    for i in range(N): \n",
    "        if i not in queen: #세로줄에 같은거 확인\n",
    "            # 대각선 확인\n",
    "            tmp = True\n",
    "            for idx in range(len(queen)):\n",
    "                if abs(queen[idx] - i) == x-idx:\n",
    "                    tmp = False\n",
    "                    break\n",
    "            if tmp:\n",
    "                if x == N-1:\n",
    "                    answer += 1\n",
    "                else:\n",
    "                    next_queen = queen[:] # 슬라이싱이 더 빠름\n",
    "                    next_queen.append(i)\n",
    "                    checking(next_queen, x+1) #다음 행 체크\n",
    "\n",
    "global answer\n",
    "global N\n",
    "N = int(input())\n",
    "x = 0\n",
    "answer = 0\n",
    "if N==1:\n",
    "    print(1) # 1 예외처리 확인\n",
    "else:\n",
    "    for a in range(N):\n",
    "        queen = [a]#0행 i열\n",
    "        checking(queen, 1)\n",
    "\n",
    "    print(answer)\n"
   ]
  },
  {
   "cell_type": "code",
   "execution_count": 80,
   "metadata": {},
   "outputs": [
    {
     "name": "stdout",
     "output_type": "stream",
     "text": [
      "1\n",
      "0\n"
     ]
    }
   ],
   "source": [
    "import copy\n",
    "def checking(queen, x):\n",
    "    global answer\n",
    "    global N\n",
    "    for i in range(N): \n",
    "        if i not in queen: #세로줄에 같은거 확인\n",
    "            # 대각선 확인\n",
    "            tmp = True\n",
    "            for idx in range(len(queen)):\n",
    "                if abs(queen[idx] - i) == x-idx:\n",
    "                    tmp = False\n",
    "                    break\n",
    "            if tmp:\n",
    "                if x == N-1:\n",
    "                    answer += 1\n",
    "                else:\n",
    "                    next_queen = copy.deepcopy(queen)\n",
    "                    next_queen.append(i)\n",
    "                    checking(next_queen, x+1) #다음 행 체크\n",
    "\n",
    "global answer\n",
    "global N\n",
    "N = int(input())\n",
    "x = 0\n",
    "answer = 0\n",
    "for a in range(N):\n",
    "    queen = [a]#0행 i열\n",
    "    checking(queen, 1)\n",
    "\n",
    "print(answer)\n",
    "    "
   ]
  },
  {
   "cell_type": "code",
   "execution_count": 87,
   "metadata": {},
   "outputs": [
    {
     "name": "stdout",
     "output_type": "stream",
     "text": [
      "1\n",
      "1\n"
     ]
    }
   ],
   "source": [
    "# 다른사람 풀이 얘도 어차피 시간초과남\n",
    "def dfs(queen, n, row):\n",
    "    count = 0\n",
    "    \n",
    "    if n == row:\n",
    "        return 1\n",
    "    \n",
    "    # 가로로 한번만 진행\n",
    "    for col in range(n):\n",
    "        queen[row] = col\n",
    "\n",
    "        # for-else구문\n",
    "        for x in range(row):\n",
    "            # 세로로 겹치면 안됨\n",
    "            if queen[x] == queen[row]: \n",
    "                break\n",
    "                \n",
    "            # 대각선으로 겹치면 안됨\n",
    "            if abs(queen[x]-queen[row]) == (row-x): #ABS 활용!!!!\n",
    "                break\n",
    "        else:\n",
    "            count += dfs(queen, n, row+1)\n",
    "            \n",
    "    return count\n",
    "\n",
    "global N\n",
    "n = int(input())\n",
    "queen = [0]*n\n",
    "\n",
    "print(dfs(queen, n, 0))\n"
   ]
  },
  {
   "cell_type": "code",
   "execution_count": null,
   "metadata": {},
   "outputs": [],
   "source": [
    "1. 같은 가로줄엔 안된다\n",
    "// 일단 가로줄에 1개씩으로 넣는다고 가정하고 쳐내자\n",
    "2. 같은 세로줄도 안된다\n",
    "3. 대각선 안된다 x+_a, y+_a (1<=a<=n-1)"
   ]
  }
 ],
 "metadata": {
  "kernelspec": {
   "display_name": "Python 3",
   "language": "python",
   "name": "python3"
  },
  "language_info": {
   "codemirror_mode": {
    "name": "ipython",
    "version": 3
   },
   "file_extension": ".py",
   "mimetype": "text/x-python",
   "name": "python",
   "nbconvert_exporter": "python",
   "pygments_lexer": "ipython3",
   "version": "3.8.5"
  }
 },
 "nbformat": 4,
 "nbformat_minor": 4
}
