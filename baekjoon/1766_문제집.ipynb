{
 "cells": [
  {
   "cell_type": "code",
   "execution_count": 3,
   "metadata": {},
   "outputs": [
    {
     "name": "stdout",
     "output_type": "stream",
     "text": [
      "4 2\n",
      "4 2\n",
      "3 1\n",
      "3 1 4 2 "
     ]
    }
   ],
   "source": [
    "# 한 10분?\n",
    "# 위상 정렬 + 힙\n",
    "# 진입 차수 0인 것 중에 가장 작은 걸 먼저 pop해야해서 힙 사용함\n",
    "import heapq\n",
    "import sys\n",
    "input = sys.stdin.readline\n",
    "v, e = map(int, input().split()) #노드, 간선\n",
    "indegree = [0] * (v + 1) # 집입 차수\n",
    "graph = [[] for _ in range(v + 1)] #간선 정보\n",
    "\n",
    "for _ in range(e):\n",
    "    a, b = map(int, input().split())\n",
    "    graph[a].append(b) #방향성 O, a -> b\n",
    "    indegree[b] += 1 #b의 진입차수 증가\n",
    "    \n",
    "result = []\n",
    "heap = []\n",
    "for i in range(1, v+1):\n",
    "    #진입 차수 0인 노드 초기 삽입\n",
    "    if indegree[i] == 0:\n",
    "        heapq.heappush(heap,i)\n",
    "while heap:\n",
    "    now = heapq.heappop(heap)\n",
    "    result.append(now)\n",
    "    #now랑 연결된 노드의 진입차수 줄여주기\n",
    "    for i in graph[now]:\n",
    "        indegree[i] -= 1\n",
    "        #새로 진입차수 0인거 삽입\n",
    "        if indegree[i] == 0:\n",
    "            heapq.heappush(heap,i)\n",
    "\n",
    "for i in result:\n",
    "    print(i, end =\" \")\n",
    "        "
   ]
  }
 ],
 "metadata": {
  "kernelspec": {
   "display_name": "Python 3",
   "language": "python",
   "name": "python3"
  },
  "language_info": {
   "codemirror_mode": {
    "name": "ipython",
    "version": 3
   },
   "file_extension": ".py",
   "mimetype": "text/x-python",
   "name": "python",
   "nbconvert_exporter": "python",
   "pygments_lexer": "ipython3",
   "version": "3.8.5"
  }
 },
 "nbformat": 4,
 "nbformat_minor": 4
}
