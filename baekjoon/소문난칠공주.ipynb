{
 "cells": [
  {
   "cell_type": "code",
   "execution_count": null,
   "metadata": {},
   "outputs": [],
   "source": [
    "# BFS 응용\n",
    "# 조합으로 25명 중 7명을 미리 뽑고\n",
    "# 4명 이상 다솜파 인지 확인\n",
    "# 그리고 인접한지 확인\n",
    "# 전체에서 필터링하는 식으로 답 찾는다,,,,,,,,,\n",
    "\n",
    "#1시간 걸림 골3"
   ]
  },
  {
   "cell_type": "code",
   "execution_count": 1,
   "metadata": {},
   "outputs": [
    {
     "name": "stdout",
     "output_type": "stream",
     "text": [
      "YYYYY\n",
      "SYSYS\n",
      "YYYYY\n",
      "YSYYS\n",
      "YYYYY\n"
     ]
    }
   ],
   "source": [
    "map = [[] for _ in range(5)]\n",
    "for i in range(5):\n",
    "    map[i] = list(input())"
   ]
  },
  {
   "cell_type": "code",
   "execution_count": 34,
   "metadata": {},
   "outputs": [
    {
     "name": "stdout",
     "output_type": "stream",
     "text": [
      "(5, 6, 7, 8, 9, 11, 16)\n",
      "1\n",
      "(5, 6, 7, 8, 9, 14, 19)\n",
      "2\n"
     ]
    }
   ],
   "source": [
    "from itertools import combinations \n",
    "answer = 0\n",
    "idx = [ i for i in range(25)]\n",
    "combi = list(combinations(idx, 7))\n",
    "\n",
    "dx = [1,-1,0,0]\n",
    "dy = [0,0,-1,1]\n",
    "\n",
    "for member in combi:\n",
    "    count = 0\n",
    "    for stu in member:\n",
    "        x = stu // 5\n",
    "        y = stu % 5\n",
    "        if map[x][y] == \"S\":\n",
    "            count += 1\n",
    "    if count >= 4:\n",
    "        # bfs 탐색 고고\n",
    "        check = True\n",
    "        start = [member[0]]\n",
    "        visited = [member[0]]\n",
    "        while start:\n",
    "            now = start.pop()\n",
    "            for i in range(4):\n",
    "                nx = now //5 + dx[i]\n",
    "                ny = now % 5 + dy[i]\n",
    "                if nx>=0 and nx<5 and ny>=0 and ny<5:\n",
    "                    if (nx*5 + ny) in member :\n",
    "                        if (nx*5 + ny) not in visited:\n",
    "                            start.append(nx*5 + ny)\n",
    "                            visited.append(nx*5 + ny)\n",
    "        if len(visited)== 7:\n",
    "            answer += 1\n",
    "print(answer)\n"
   ]
  },
  {
   "cell_type": "code",
   "execution_count": 35,
   "metadata": {},
   "outputs": [
    {
     "data": {
      "text/plain": [
       "2"
      ]
     },
     "execution_count": 35,
     "metadata": {},
     "output_type": "execute_result"
    }
   ],
   "source": [
    "answer"
   ]
  }
 ],
 "metadata": {
  "kernelspec": {
   "display_name": "Python 3",
   "language": "python",
   "name": "python3"
  },
  "language_info": {
   "codemirror_mode": {
    "name": "ipython",
    "version": 3
   },
   "file_extension": ".py",
   "mimetype": "text/x-python",
   "name": "python",
   "nbconvert_exporter": "python",
   "pygments_lexer": "ipython3",
   "version": "3.8.5"
  }
 },
 "nbformat": 4,
 "nbformat_minor": 4
}
