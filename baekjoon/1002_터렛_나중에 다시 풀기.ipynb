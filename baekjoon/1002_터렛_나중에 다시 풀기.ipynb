{
 "cells": [
  {
   "cell_type": "code",
   "execution_count": null,
   "metadata": {},
   "outputs": [],
   "source": [
    "# https://ooyoung.tistory.com/111 풀이\n",
    "# 두 원의 교점이 생기는 경우를 고려\n",
    "#경우의 수는 4가지 뿐\n",
    "import math\n",
    "\n",
    "n = int(input())\n",
    "\n",
    "for _ in range(n):\n",
    "    x1, y1, r1, x2, y2, r2 = map(int, input().split())\n",
    "    distance = math.sqrt((x1-x2)**2 + (y1-y2)**2)  # 두 원의 거리 (원의방정식활용)\n",
    "    if distance == 0 and r1 == r2 :  # 두 원이 동심원이고 반지름이 같을 때\n",
    "        print(-1)\n",
    "    elif abs(r1-r2) == distance or r1 + r2 == distance:  # 내접, 외접일 때\n",
    "        print(1)\n",
    "    elif abs(r1-r2) < distance < (r1+r2) :  # 두 원이 서로다른 두 점에서 만날 때\n",
    "        print(2)\n",
    "    else:\n",
    "        print(0)  # 그 외에"
   ]
  },
  {
   "cell_type": "code",
   "execution_count": 11,
   "metadata": {},
   "outputs": [
    {
     "name": "stdout",
     "output_type": "stream",
     "text": [
      "1\n",
      "0 0 3000 4000 2500 2500\n",
      "0 0 3000 4000 2500 2500\n",
      "2\n"
     ]
    }
   ],
   "source": [
    "# 40분 풀고 50%에서 틀림, 너무 하드코딩함, 예외 이렇게 세세하게 따지면 틀리기 쉽다\n",
    "T = int(input())\n",
    "for _ in range(T):\n",
    "    x1,y1,r1,x2,y2,r2 = map(int, input().split())\n",
    "    answer = 0\n",
    "    if x1==x2 and y1==y2 :\n",
    "        if r1!=r2:\n",
    "            print(0)\n",
    "            continue\n",
    "        elif r1==r2:\n",
    "            print(-1)\n",
    "            continue\n",
    "\n",
    "    distance = abs(x2-x1)+abs(y2-y1)\n",
    "    if distance >= r1 and distance >= r2: #r1,r2 사이에 존재\n",
    "        if r1+r2==distance:\n",
    "            print(1)\n",
    "            continue\n",
    "        elif distance == r1!=r2 or distance == r2!=r1:\n",
    "            print(0)\n",
    "            continue\n",
    "        else:\n",
    "            print(2)\n",
    "            continue\n",
    "\n",
    "    elif distance <= r1 and distance >= r2:# r1 바깥\n",
    "        if r2 - distance != r1:\n",
    "            print(0)\n",
    "            continue\n",
    "        else:\n",
    "            for a in range(r2 - distance):\n",
    "                for b in range(r2 - distance):\n",
    "                    if a+b == r2 - distance:\n",
    "                        answer += 1\n",
    "            print(answer)\n",
    "            continue\n",
    "    elif distance >= r1 and distance <= r2:# r12바깥\n",
    "        if r1 - distance != r2:\n",
    "            print(0)\n",
    "            continue\n",
    "        else:\n",
    "            for a in range(r1 - distance):\n",
    "                for b in range(1 - distance):\n",
    "                    if a+b == r1 - distance:\n",
    "                        answer += 1\n",
    "            print(answer)\n",
    "            continue\n",
    "    elif distance < r1 and distance < r2:# r1 바깥\n",
    "            print(2)\n",
    "            continue"
   ]
  }
 ],
 "metadata": {
  "kernelspec": {
   "display_name": "Python 3",
   "language": "python",
   "name": "python3"
  },
  "language_info": {
   "codemirror_mode": {
    "name": "ipython",
    "version": 3
   },
   "file_extension": ".py",
   "mimetype": "text/x-python",
   "name": "python",
   "nbconvert_exporter": "python",
   "pygments_lexer": "ipython3",
   "version": "3.8.5"
  }
 },
 "nbformat": 4,
 "nbformat_minor": 4
}
