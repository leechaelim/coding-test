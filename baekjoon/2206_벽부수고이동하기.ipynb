{
 "cells": [
  {
   "cell_type": "code",
   "execution_count": 71,
   "metadata": {},
   "outputs": [
    {
     "name": "stdout",
     "output_type": "stream",
     "text": [
      "3 3\n",
      "000\n",
      "000\n",
      "000\n"
     ]
    }
   ],
   "source": [
    "# 1시간 풀었는데 시간초과 난다....\n",
    "N,M = map(int, input().split())\n",
    "arr = []\n",
    "for _ in range(N):\n",
    "    arr.append(list(map(int, input())))"
   ]
  },
  {
   "cell_type": "code",
   "execution_count": 72,
   "metadata": {},
   "outputs": [
    {
     "name": "stdout",
     "output_type": "stream",
     "text": [
      "5\n"
     ]
    }
   ],
   "source": [
    "from collections import deque\n",
    "N,M = map(int, input().split())\n",
    "arr = []\n",
    "for _ in range(N):\n",
    "    arr.append(list(map(int, input())))\n",
    "    \n",
    "result = [[[int(1e9),True] for _ in range(M)] for _ in range(N)]\n",
    "bomb = True #1회 부수기\n",
    "queue = deque()\n",
    "queue.append((0,0,bomb))\n",
    "result[0][0] = [1,True]\n",
    "dx = [1,-1,0,0]\n",
    "dy = [0,0,1,-1]\n",
    "\n",
    "\n",
    "while queue:\n",
    "    x,y,bomb = queue.popleft()\n",
    "    for i in range(4):\n",
    "        nx = dx[i] + x\n",
    "        ny = dy[i] + y\n",
    "        if nx>=0 and nx<N and ny>=0 and ny<M:\n",
    "            if arr[nx][ny]==0:\n",
    "                if result[nx][ny][0] > result[x][y][0] + 1:\n",
    "                    result[nx][ny] = [result[x][y][0] + 1,bomb]\n",
    "                    queue.append((nx,ny,bomb))\n",
    "                \n",
    "                elif result[nx][ny][0] == result[x][y][0] + 1:\n",
    "                    result[nx][ny] = [result[x][y][0] + 1,result[nx][ny][1] or bomb]\n",
    "            elif result[x][y][1]==True or bomb: #벽이고 폭탄 안씀\n",
    "                if result[nx][ny][0] > result[x][y][0] + 1:\n",
    "                    result[nx][ny] = [result[x][y][0] + 1,False]\n",
    "                    queue.append((nx,ny,False))\n",
    "                \n",
    "if result[-1][-1][0]==int(1e9):\n",
    "    print(-1)\n",
    "else:\n",
    "    print(result[-1][-1][0])"
   ]
  },
  {
   "cell_type": "code",
   "execution_count": 78,
   "metadata": {},
   "outputs": [
    {
     "name": "stdout",
     "output_type": "stream",
     "text": [
      "4 4\n",
      "0100\n",
      "0000\n",
      "0011\n",
      "0000\n",
      "7\n"
     ]
    }
   ],
   "source": [
    "###########################\n",
    "from collections import deque\n",
    "N,M = map(int, input().split())\n",
    "arr = []\n",
    "for _ in range(N):\n",
    "    arr.append(list(map(int, input())))\n",
    "    \n",
    "result = [[[int(1e9),False] for _ in range(M)] for _ in range(N)]\n",
    "bomb = True #1회 부수기\n",
    "queue = deque()\n",
    "queue.append((0,0,bomb))\n",
    "result[0][0] = [1,True]\n",
    "dx = [1,-1,0,0]\n",
    "dy = [0,0,1,-1]\n",
    "\n",
    "\n",
    "while queue:\n",
    "    x,y,bomb = queue.popleft()\n",
    "    if x==N-1 and y==M-1:\n",
    "        break\n",
    "    for i in range(4):\n",
    "        nx = dx[i] + x\n",
    "        ny = dy[i] + y\n",
    "        if nx>=0 and nx<N and ny>=0 and ny<M:\n",
    "            if arr[nx][ny]==0 and result[nx][ny][1]==False :\n",
    "                result[nx][ny] = [result[x][y][0] + 1,bomb]\n",
    "                queue.append((nx,ny,bomb))\n",
    "            elif arr[nx][ny]==1 and bomb==True :\n",
    "                result[nx][ny] = [result[x][y][0] + 1,False]\n",
    "                queue.append((nx,ny,False))\n",
    "                \n",
    "if result[-1][-1][0]==int(1e9):\n",
    "    print(-1)\n",
    "else:\n",
    "    print(result[-1][-1][0])"
   ]
  },
  {
   "cell_type": "code",
   "execution_count": null,
   "metadata": {},
   "outputs": [],
   "source": [
    "from collections import deque\n",
    "N,M = map(int, input().split())\n",
    "arr = []\n",
    "for _ in range(N):\n",
    "    arr.append(list(map(int, input())))\n",
    "    \n",
    "result = [[int(1e9) for _ in range(M)] for _ in range(N)]\n",
    "bomb = True #1회 부수기\n",
    "queue = deque()\n",
    "queue.append((0,0,bomb))\n",
    "result[0][0] = 1\n",
    "dx = [1,0,-1,0]\n",
    "dy = [0,1,0,-1]\n",
    "\n",
    "\n",
    "while queue:\n",
    "    x,y,bomb = queue.popleft()\n",
    "    if x==N-1 and y==M-1:\n",
    "        break\n",
    "    for i in range(4):\n",
    "        nx = dx[i] + x\n",
    "        ny = dy[i] + y\n",
    "        if nx>=0 and nx<N and ny>=0 and ny<M:\n",
    "            if result[nx][ny] == int(1e9) and arr[nx][ny]==0:\n",
    "                result[nx][ny] = result[x][y] + 1\n",
    "                queue.append((nx,ny,bomb))\n",
    "            elif bomb==True and result[nx][ny] == int(1e9): #벽이고 폭탄 안씀\n",
    "                result[nx][ny] = result[x][y] + 1\n",
    "                queue.append((nx,ny,False))\n",
    "                \n",
    "if result[-1][-1]==int(1e9):\n",
    "    print(-1)\n",
    "else:\n",
    "    print(result[-1][-1])"
   ]
  },
  {
   "cell_type": "code",
   "execution_count": 76,
   "metadata": {},
   "outputs": [
    {
     "name": "stdout",
     "output_type": "stream",
     "text": [
      "3 3\n",
      "011\n",
      "100\n",
      "000\n",
      "5\n"
     ]
    }
   ],
   "source": [
    "from collections import deque\n",
    "N,M = map(int, input().split())\n",
    "arr = []\n",
    "for _ in range(N):\n",
    "    arr.append(list(map(int, input())))\n",
    "    \n",
    "result = [[[int(1e9),True] for _ in range(M)] for _ in range(N)]\n",
    "bomb = True #1회 부수기\n",
    "queue = deque()\n",
    "queue.append((0,0,bomb))\n",
    "result[0][0] = [1,True]\n",
    "dx = [1,-1,0,0]\n",
    "dy = [0,0,1,-1]\n",
    "\n",
    "\n",
    "while queue:\n",
    "    x,y,bomb = queue.popleft()\n",
    "    for i in range(4):\n",
    "        nx = dx[i] + x\n",
    "        ny = dy[i] + y\n",
    "        if nx>=0 and nx<N and ny>=0 and ny<M:\n",
    "            if arr[nx][ny]==0:\n",
    "                if result[nx][ny][0] > result[x][y][0] + 1:\n",
    "                    result[nx][ny] = [result[x][y][0] + 1,bomb]\n",
    "                    queue.append((nx,ny,bomb))\n",
    "                \n",
    "                elif result[nx][ny][0] == result[x][y][0] + 1:\n",
    "                    result[nx][ny] = [result[x][y][0] + 1,result[nx][ny][1] or bomb]\n",
    "            elif result[x][y][1]==True or bomb: #벽이고 폭탄 안씀\n",
    "                if result[nx][ny][0] > result[x][y][0] + 1:\n",
    "                    result[nx][ny] = [result[x][y][0] + 1,False]\n",
    "                    queue.append((nx,ny,False))\n",
    "                \n",
    "if result[-1][-1][0]==int(1e9):\n",
    "    print(-1)\n",
    "else:\n",
    "    print(result[-1][-1][0])"
   ]
  },
  {
   "cell_type": "code",
   "execution_count": 77,
   "metadata": {},
   "outputs": [
    {
     "data": {
      "text/plain": [
       "[[[1, True], [2, False], [1000000000, True]],\n",
       " [[2, False], [3, False], [4, False]],\n",
       " [[3, False], [4, False], [5, False]]]"
      ]
     },
     "execution_count": 77,
     "metadata": {},
     "output_type": "execute_result"
    }
   ],
   "source": [
    "result"
   ]
  },
  {
   "cell_type": "code",
   "execution_count": 74,
   "metadata": {},
   "outputs": [
    {
     "data": {
      "text/plain": [
       "[[0, 0, 0], [0, 0, 0], [0, 0, 0]]"
      ]
     },
     "execution_count": 74,
     "metadata": {},
     "output_type": "execute_result"
    }
   ],
   "source": [
    "arr"
   ]
  }
 ],
 "metadata": {
  "kernelspec": {
   "display_name": "Python 3",
   "language": "python",
   "name": "python3"
  },
  "language_info": {
   "codemirror_mode": {
    "name": "ipython",
    "version": 3
   },
   "file_extension": ".py",
   "mimetype": "text/x-python",
   "name": "python",
   "nbconvert_exporter": "python",
   "pygments_lexer": "ipython3",
   "version": "3.8.5"
  }
 },
 "nbformat": 4,
 "nbformat_minor": 4
}
