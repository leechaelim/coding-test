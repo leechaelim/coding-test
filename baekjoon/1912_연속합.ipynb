{
 "cells": [
  {
   "cell_type": "code",
   "execution_count": 4,
   "metadata": {},
   "outputs": [
    {
     "name": "stdout",
     "output_type": "stream",
     "text": [
      "10\n",
      "2 1 -4 3 4 -4 6 5 -5 1\n"
     ]
    }
   ],
   "source": [
    "N = int(input())\n",
    "array = list(map(int, input().split()))\n"
   ]
  },
  {
   "cell_type": "code",
   "execution_count": 14,
   "metadata": {},
   "outputs": [
    {
     "name": "stdout",
     "output_type": "stream",
     "text": [
      "10\n",
      "2 1 -4 3 4 -4 6 5 -5 1\n",
      "2 2\n",
      "1 3\n",
      "3 3\n",
      "4 7\n",
      "-4 3\n",
      "6 9\n",
      "5 14\n",
      "-5 9\n",
      "1 10\n",
      "14\n"
     ]
    }
   ],
   "source": [
    "N = int(input())\n",
    "array = list(map(int, input().split()))\n",
    "\n",
    "maxi = 0\n",
    "temp = 0\n",
    "for x in array:\n",
    "    if 0 < maxi+x:\n",
    "        maxi += x\n",
    "        print(x, maxi)\n",
    "        if x > 0:\n",
    "            temp = max(maxi,temp)\n",
    "    else:\n",
    "        maxi = 0\n",
    "answer = max(maxi,temp)\n",
    "if answer == 0:\n",
    "    print(max(array))\n",
    "else:\n",
    "    print(answer)"
   ]
  },
  {
   "cell_type": "code",
   "execution_count": 15,
   "metadata": {},
   "outputs": [
    {
     "name": "stdout",
     "output_type": "stream",
     "text": [
      "10\n",
      "2 1 -4 3 4 -4 6 5 -5 1\n",
      "1 3\n",
      "-4 -1\n",
      "3 3\n",
      "4 7\n",
      "-4 3\n",
      "6 9\n",
      "5 14\n",
      "-5 9\n",
      "1 10\n",
      "14\n"
     ]
    }
   ],
   "source": [
    "n = int(input())\n",
    "a = list(map(int, input().split()))\n",
    "\n",
    "for i in range(1, n):\n",
    "    b = a[i]\n",
    "    a[i] = max(a[i], a[i-1] + a[i])\n",
    "    print(b, a[i])\n",
    "print(max(a))"
   ]
  }
 ],
 "metadata": {
  "kernelspec": {
   "display_name": "Python 3",
   "language": "python",
   "name": "python3"
  },
  "language_info": {
   "codemirror_mode": {
    "name": "ipython",
    "version": 3
   },
   "file_extension": ".py",
   "mimetype": "text/x-python",
   "name": "python",
   "nbconvert_exporter": "python",
   "pygments_lexer": "ipython3",
   "version": "3.8.5"
  }
 },
 "nbformat": 4,
 "nbformat_minor": 4
}
