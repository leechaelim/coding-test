{
 "cells": [
  {
   "cell_type": "code",
   "execution_count": 24,
   "metadata": {},
   "outputs": [
    {
     "name": "stdout",
     "output_type": "stream",
     "text": [
      "5 5\n",
      "1 5 1 1 1\n"
     ]
    }
   ],
   "source": [
    "# 35분\n",
    "N,M = map(int, input().split())\n",
    "lesson = list(map(int, input().split()))"
   ]
  },
  {
   "cell_type": "code",
   "execution_count": 28,
   "metadata": {},
   "outputs": [
    {
     "name": "stdout",
     "output_type": "stream",
     "text": [
      "5 6 7 2\n",
      "5 4 5 3\n",
      "5\n"
     ]
    }
   ],
   "source": [
    "start = max(lesson)\n",
    "end = sum(lesson)\n",
    "answer = int(1e9)\n",
    "while True:\n",
    "    if start > end :\n",
    "        break\n",
    "    mid = (start + end) // 2\n",
    "    tmp = 0\n",
    "    cnt = 1\n",
    "    for x in lesson:\n",
    "        tmp += x\n",
    "        if tmp > mid:\n",
    "            tmp = x\n",
    "            cnt += 1\n",
    "    if cnt <= M: # 작아도 된다고 문제에 써있음\n",
    "        answer = min(answer,mid) # 여기 min이다~\n",
    "        end = mid -1\n",
    "    else:\n",
    "        start = mid + 1\n",
    "    print(start , end, mid, cnt)\n",
    "print(answer)"
   ]
  },
  {
   "cell_type": "code",
   "execution_count": 7,
   "metadata": {},
   "outputs": [
    {
     "name": "stdout",
     "output_type": "stream",
     "text": [
      "17 16 16\n"
     ]
    }
   ],
   "source": [
    "print(start , end, mid)"
   ]
  }
 ],
 "metadata": {
  "kernelspec": {
   "display_name": "Python 3",
   "language": "python",
   "name": "python3"
  },
  "language_info": {
   "codemirror_mode": {
    "name": "ipython",
    "version": 3
   },
   "file_extension": ".py",
   "mimetype": "text/x-python",
   "name": "python",
   "nbconvert_exporter": "python",
   "pygments_lexer": "ipython3",
   "version": "3.8.5"
  }
 },
 "nbformat": 4,
 "nbformat_minor": 4
}
