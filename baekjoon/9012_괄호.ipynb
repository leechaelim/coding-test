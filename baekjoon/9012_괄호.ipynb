{
 "cells": [
  {
   "cell_type": "code",
   "execution_count": 5,
   "metadata": {},
   "outputs": [
    {
     "name": "stdout",
     "output_type": "stream",
     "text": [
      "6\n",
      "(())())\n",
      "(((()())()\n",
      "(()())((()))\n",
      "((()()(()))(((())))()\n",
      "()()()()(()()())()\n",
      "(()((())()(\n",
      "NO\n",
      "NO\n",
      "YES\n",
      "NO\n",
      "YES\n",
      "NO\n"
     ]
    }
   ],
   "source": [
    "#9분 컷\n",
    "N = int(input())\n",
    "answer = \"\"\n",
    "for _ in range(N):\n",
    "    stack = []\n",
    "    check = True\n",
    "    arr = list(map(str, input()))\n",
    "    for op in arr:\n",
    "        if op=='(':\n",
    "            stack.append(op)\n",
    "        elif op==')':\n",
    "            if not stack or stack.pop()!='(':\n",
    "                check = False\n",
    "                break\n",
    "    if check and not stack: # 스택 남은 거 잊지 말고 확인\n",
    "        answer+=\"YES\\n\"\n",
    "    else:\n",
    "        answer+=\"NO\\n\"\n",
    "        \n",
    "print(answer[:-1])"
   ]
  }
 ],
 "metadata": {
  "kernelspec": {
   "display_name": "Python 3",
   "language": "python",
   "name": "python3"
  },
  "language_info": {
   "codemirror_mode": {
    "name": "ipython",
    "version": 3
   },
   "file_extension": ".py",
   "mimetype": "text/x-python",
   "name": "python",
   "nbconvert_exporter": "python",
   "pygments_lexer": "ipython3",
   "version": "3.8.5"
  }
 },
 "nbformat": 4,
 "nbformat_minor": 4
}
