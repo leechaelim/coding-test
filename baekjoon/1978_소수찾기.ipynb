{
 "cells": [
  {
   "cell_type": "code",
   "execution_count": 13,
   "metadata": {},
   "outputs": [
    {
     "name": "stdout",
     "output_type": "stream",
     "text": [
      "4\n",
      "1 3 5 7\n"
     ]
    }
   ],
   "source": [
    "#에라토스테네스 체 외웠당!\n",
    "\n",
    "N = int(input())\n",
    "num = list(map(int, input().split()))\n",
    "arr = [False]*(max(num)+1)\n",
    "arr[0],arr[1] = True, True\n",
    "for i in range(2,len(arr)):\n",
    "    if arr[i] == False:\n",
    "        for j in range(i+1,len(arr)):\n",
    "            if j%i==0:\n",
    "                arr[j] = True\n",
    "answer = 0\n",
    "for x in num:\n",
    "    if arr[x]==False:\n",
    "        answer += 1\n",
    "print(answer)"
   ]
  },
  {
   "cell_type": "code",
   "execution_count": 14,
   "metadata": {},
   "outputs": [],
   "source": [
    "arr = [False]*(max(num)+1)\n",
    "arr[0],arr[1] = True, True\n",
    "for i in range(2,len(arr)):\n",
    "    if arr[i] == False:\n",
    "        for j in range(i+1,len(arr)):\n",
    "            if j%i==0:\n",
    "                arr[j] = True"
   ]
  },
  {
   "cell_type": "code",
   "execution_count": 15,
   "metadata": {},
   "outputs": [
    {
     "name": "stdout",
     "output_type": "stream",
     "text": [
      "3\n"
     ]
    }
   ],
   "source": [
    "answer = 0\n",
    "for x in num:\n",
    "    if arr[x]==False:\n",
    "        answer += 1\n",
    "print(answer)"
   ]
  },
  {
   "cell_type": "code",
   "execution_count": null,
   "metadata": {},
   "outputs": [],
   "source": [
    "# 찐 에라토스테네스의 체\n",
    "# for문 끝까지 안하고 n ** 0.5 까지만 해도 되는 건 까먹었다.\n",
    "def prime_list(n):\n",
    "    # 에라토스테네스의 체 초기화: n개 요소에 True 설정(소수로 간주)\n",
    "    sieve = [True] * n\n",
    "\n",
    "    m = int(n ** 0.5)\n",
    "    for i in range(2, m + 1):\n",
    "        if sieve[i] == True:           # i가 소수인 경우 \n",
    "            for j in range(i+i, n, i): # i이후 i의 배수들을 False 판정\n",
    "                sieve[j] = False\n",
    "\n",
    "    # 소수 목록 산출\n",
    "    return [i for i in range(2, n) if sieve[i] == True]"
   ]
  }
 ],
 "metadata": {
  "kernelspec": {
   "display_name": "Python 3",
   "language": "python",
   "name": "python3"
  },
  "language_info": {
   "codemirror_mode": {
    "name": "ipython",
    "version": 3
   },
   "file_extension": ".py",
   "mimetype": "text/x-python",
   "name": "python",
   "nbconvert_exporter": "python",
   "pygments_lexer": "ipython3",
   "version": "3.8.5"
  }
 },
 "nbformat": 4,
 "nbformat_minor": 4
}
