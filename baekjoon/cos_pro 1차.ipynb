{
 "cells": [
  {
   "cell_type": "code",
   "execution_count": 9,
   "metadata": {},
   "outputs": [],
   "source": [
    "def solution(n):\n",
    "    answer = 1\n",
    "    tmp = 1\n",
    "    i = 0\n",
    "    while True:\n",
    "        tmp += 2*(n-1-2*i)\n",
    "        answer+= tmp\n",
    "        if tmp ==n**2-1 or tmp ==n**2:\n",
    "            break\n",
    "\n",
    "        tmp += 2*(n-1-2*i)\n",
    "        answer+= tmp\n",
    "\n",
    "        if tmp ==n**2-1 or tmp ==n**2:\n",
    "            break\n",
    "        i += 1\n",
    "    return answer"
   ]
  },
  {
   "cell_type": "code",
   "execution_count": 16,
   "metadata": {},
   "outputs": [],
   "source": [
    "def solution1(n):\n",
    "    answer = 0\n",
    "    ori = 0\n",
    "    for i in range(n):\n",
    "        # 오른쪽 위 꼭지점 양 옆 변 부분과 왼쪽 아래 꼭지점 양 옆 변 부분을 반복하며\n",
    "        # 점점 중간으로 나아가는 for 문입니다.\n",
    "        start, end = ori + 1, ori + 2 * (n - i) - 1\n",
    "        # start와 end는 꼭지점 양 옆 변에서 가장 작은 수와 가장 큰 수 입니다.\n",
    "        if i % 2 == 0:\n",
    "            # 대각선 성분이 존재하는 곳은 i가 0, 2, 4, ...로 짝수일 때 입니다.\n",
    "            if end < n ** 2: answer = answer + start + end\n",
    "                # 대각선 성분 중 가장 큰 값이 판에서 가장 큰 수보다 작은 경우\n",
    "                # start와 end가 전부 유효하므로 더해줍니다.\n",
    "            elif start == end: answer = answer + start\n",
    "                # n이 짝수인 경우 상관이 없지만 홀수인 경우에는\n",
    "                # 정 중앙의 값이 생기는데 이는 start와 end가 같은 경우입니다.\n",
    "                # 따라서 이 경우에는 start와 end중 하나만 더해줍니다.\n",
    "        ori = end\n",
    "        # 오른쪽 위와 왼쪽 아래 꼭지점이 바뀔 때마다 시작지점인 ori를 업데이트합니다.\n",
    "    return answer"
   ]
  },
  {
   "cell_type": "code",
   "execution_count": 21,
   "metadata": {},
   "outputs": [
    {
     "data": {
      "text/plain": [
       "661700"
      ]
     },
     "execution_count": 21,
     "metadata": {},
     "output_type": "execute_result"
    }
   ],
   "source": [
    "solution1(100)"
   ]
  },
  {
   "cell_type": "code",
   "execution_count": 28,
   "metadata": {},
   "outputs": [],
   "source": [
    "def solution(pos):\n",
    "    x = ord(pos[0]) - ord('A')\n",
    "    y = int(pos[1])\n",
    "    answer = 0\n",
    "    dx = [2,2,-2,-2,1,-1,1,-1]\n",
    "    dy = [1,-1,1,-1,2,2,-2,-2]\n",
    "    for i in range(len(dx)):\n",
    "        nx = x + dx[i]\n",
    "        ny = y + dy[i]\n",
    "        if nx>=0 and nx<8 and ny>=0 and ny<8:\n",
    "            answer +=1\n",
    "    return answer"
   ]
  },
  {
   "cell_type": "code",
   "execution_count": 27,
   "metadata": {},
   "outputs": [
    {
     "data": {
      "text/plain": [
       "65"
      ]
     },
     "execution_count": 27,
     "metadata": {},
     "output_type": "execute_result"
    }
   ],
   "source": [
    "ord('A')"
   ]
  },
  {
   "cell_type": "code",
   "execution_count": 29,
   "metadata": {},
   "outputs": [
    {
     "data": {
      "text/plain": [
       "1"
      ]
     },
     "execution_count": 29,
     "metadata": {},
     "output_type": "execute_result"
    }
   ],
   "source": [
    "solution(\"A9\")"
   ]
  }
 ],
 "metadata": {
  "kernelspec": {
   "display_name": "Python 3",
   "language": "python",
   "name": "python3"
  },
  "language_info": {
   "codemirror_mode": {
    "name": "ipython",
    "version": 3
   },
   "file_extension": ".py",
   "mimetype": "text/x-python",
   "name": "python",
   "nbconvert_exporter": "python",
   "pygments_lexer": "ipython3",
   "version": "3.8.5"
  }
 },
 "nbformat": 4,
 "nbformat_minor": 4
}
