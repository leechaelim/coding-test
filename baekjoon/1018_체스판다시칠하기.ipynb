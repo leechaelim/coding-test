{
 "cells": [
  {
   "cell_type": "code",
   "execution_count": 3,
   "metadata": {},
   "outputs": [
    {
     "name": "stdout",
     "output_type": "stream",
     "text": [
      "8 8\n",
      "WBWBWBWB\n",
      "BWBWBWBW\n",
      "WBWBWBWB\n",
      "BWBWBWBW\n",
      "WBWBWBWB\n",
      "BWBWBWBW\n",
      "WBWBWBWB\n",
      "BWBWBWBW\n"
     ]
    }
   ],
   "source": [
    "N, M = map(int, input().split())\n",
    "arr = []\n",
    "for _ in range(N):\n",
    "    arr.append(list(map(str,input())))"
   ]
  },
  {
   "cell_type": "code",
   "execution_count": 9,
   "metadata": {},
   "outputs": [],
   "source": [
    "# 한 10분? 하지만 이건 노가다로 푼 느낌\n",
    "# ans_1 만들지 말고 i,j 인덱스로 B, W 비교해서 해결가능함\n",
    "answer = int(1e9)\n",
    "ans_1 = []\n",
    "ans_2 = []\n",
    "for i in range(8):\n",
    "    if i%2==0:\n",
    "        ans_1.append(list(map(str,\"WBWBWBWB\")))\n",
    "        ans_2.append(list(map(str,\"BWBWBWBW\")))\n",
    "    else:\n",
    "        ans_1.append(list(map(str,\"BWBWBWBW\")))\n",
    "        ans_2.append(list(map(str,\"WBWBWBWB\")))\n",
    "        \n",
    "    \n",
    "for i in range(M-7):\n",
    "    for j in range(N-7):\n",
    "        new_map = []\n",
    "        r1, r2 = 0, 0\n",
    "        for k in range(8):\n",
    "            new_map.append(arr[j+k][i:i+8])\n",
    "        for a in range(8):\n",
    "            for b in range(8):\n",
    "                if new_map[a][b] != ans_1[a][b]:\n",
    "                    r1+=1\n",
    "                if new_map[a][b] != ans_2[a][b]:\n",
    "                    r2+=1\n",
    "        answer = min([r1,r2,answer])"
   ]
  },
  {
   "cell_type": "code",
   "execution_count": 11,
   "metadata": {},
   "outputs": [],
   "source": [
    "# 한 10분? 하지만 이건 노가다로 푼 느낌\n",
    "# ans_1 만들지 말고 i,j 인덱스로 B, W 비교해서 해결가능함\n",
    "answer = int(1e9)\n",
    "    \n",
    "for i in range(M-7):\n",
    "    for j in range(N-7):\n",
    "        r1, r2 = 0, 0\n",
    "        for a in range(j,j+8):\n",
    "            for b in range(i,i+8):\n",
    "                if (a+b)%2==0: #행열 인덱스 합으로 체스판 만들기 가능 홀짝홀짝,,,\n",
    "                    if arr[a][b] !=\"W\":\n",
    "                        r1+=1\n",
    "                    if arr[a][b] !=\"B\":\n",
    "                        r2+=1\n",
    "                else:\n",
    "                    if arr[a][b] !=\"B\":\n",
    "                        r1+=1\n",
    "                    if arr[a][b] !=\"W\":\n",
    "                        r2+=1\n",
    "        answer = min([r1,r2,answer])"
   ]
  },
  {
   "cell_type": "code",
   "execution_count": 12,
   "metadata": {},
   "outputs": [
    {
     "data": {
      "text/plain": [
       "0"
      ]
     },
     "execution_count": 12,
     "metadata": {},
     "output_type": "execute_result"
    }
   ],
   "source": [
    "answer"
   ]
  },
  {
   "cell_type": "code",
   "execution_count": 5,
   "metadata": {},
   "outputs": [
    {
     "data": {
      "text/plain": [
       "[1, 2, 3, 4, 5, 6, 7]"
      ]
     },
     "execution_count": 5,
     "metadata": {},
     "output_type": "execute_result"
    }
   ],
   "source": [
    "a = [0,1,2,3,4,5,6,7,8,9]\n",
    "a[1:8]"
   ]
  }
 ],
 "metadata": {
  "kernelspec": {
   "display_name": "Python 3",
   "language": "python",
   "name": "python3"
  },
  "language_info": {
   "codemirror_mode": {
    "name": "ipython",
    "version": 3
   },
   "file_extension": ".py",
   "mimetype": "text/x-python",
   "name": "python",
   "nbconvert_exporter": "python",
   "pygments_lexer": "ipython3",
   "version": "3.8.5"
  }
 },
 "nbformat": 4,
 "nbformat_minor": 4
}
