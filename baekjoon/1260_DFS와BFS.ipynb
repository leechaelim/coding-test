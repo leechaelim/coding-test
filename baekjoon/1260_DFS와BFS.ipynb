{
 "cells": [
  {
   "cell_type": "code",
   "execution_count": 2,
   "metadata": {},
   "outputs": [
    {
     "name": "stdout",
     "output_type": "stream",
     "text": [
      "4 5 1\n",
      "1 2\n",
      "1 3\n",
      "1 4\n",
      "2 4\n",
      "3 4\n"
     ]
    }
   ],
   "source": [
    "N, M, start = map(int, input().split())\n",
    "graph = [[] for _ in range(N+1)]\n",
    "visited = [False]*(N+1)\n",
    "for _ in range(M):\n",
    "    a, b = map(int, input().split())\n",
    "    graph[a].append(b)\n",
    "    graph[b].append(a)"
   ]
  },
  {
   "cell_type": "code",
   "execution_count": 26,
   "metadata": {},
   "outputs": [
    {
     "name": "stdout",
     "output_type": "stream",
     "text": [
      "4 5 1\n",
      "1 2\n",
      "1 3\n",
      "1 4\n",
      "2 4\n",
      "3 4\n",
      "1 2 4 3 \n",
      "1 2 3 4 "
     ]
    }
   ],
   "source": [
    "#30분\n",
    "from collections import deque\n",
    "def dfs(graph,visited,v):\n",
    "    visited[v] = True\n",
    "    print(v, end = \" \")\n",
    "    for x in graph[v]:\n",
    "        if visited[x] == False:\n",
    "            dfs(graph,visited, x)\n",
    "        \n",
    "def bfs(graph, visited, v):\n",
    "    queue = deque()\n",
    "    visited[v] = True\n",
    "    queue.append(v)\n",
    "    while queue:\n",
    "        now = queue.popleft()\n",
    "        print(now, end = \" \")\n",
    "        for x in graph[now]:\n",
    "            if visited[x] == False:\n",
    "                queue.append(x)\n",
    "                visited[x] = True\n",
    "                \n",
    "def BFS(graph, visited,start):\n",
    "    queue = deque([start])\n",
    "    visited[start] = True\n",
    "    while queue: #큐가 빌 때까지 계속, 큐가 비어있으면 False\n",
    "        v = queue.popleft()\n",
    "        print(v, end = \" \")\n",
    "        for i in graph[v]:\n",
    "            if not visited[i]:\n",
    "                queue.append(i)\n",
    "                visited[i] = True                \n",
    "                \n",
    "N, M, start = map(int, input().split())\n",
    "graph = [[] for _ in range(N+1)]\n",
    "for _ in range(M):\n",
    "    a, b = map(int, input().split())\n",
    "    graph[a].append(b)\n",
    "    graph[b].append(a) \n",
    "    \n",
    "for i in range(len(graph)):\n",
    "    graph[i].sort()\n",
    "    \n",
    "visited = [False]*(N+1)                \n",
    "dfs(graph,visited,start) \n",
    "print()\n",
    "visited = [False]*(N+1)\n",
    "bfs(graph,visited,start) "
   ]
  },
  {
   "cell_type": "code",
   "execution_count": 23,
   "metadata": {},
   "outputs": [
    {
     "data": {
      "text/plain": [
       "[[], [2, 3, 4], [1, 4], [1, 4], [1, 2, 3]]"
      ]
     },
     "execution_count": 23,
     "metadata": {},
     "output_type": "execute_result"
    }
   ],
   "source": [
    "graph"
   ]
  }
 ],
 "metadata": {
  "kernelspec": {
   "display_name": "Python 3",
   "language": "python",
   "name": "python3"
  },
  "language_info": {
   "codemirror_mode": {
    "name": "ipython",
    "version": 3
   },
   "file_extension": ".py",
   "mimetype": "text/x-python",
   "name": "python",
   "nbconvert_exporter": "python",
   "pygments_lexer": "ipython3",
   "version": "3.8.5"
  }
 },
 "nbformat": 4,
 "nbformat_minor": 4
}
