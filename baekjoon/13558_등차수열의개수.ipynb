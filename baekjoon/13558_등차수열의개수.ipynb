{
 "cells": [
  {
   "cell_type": "code",
   "execution_count": null,
   "metadata": {},
   "outputs": [],
   "source": [
    "import sys\n",
    "input = sys.stdin.readline\n",
    "N = int(input())\n",
    "arr = list(map(int, input().split()))\n",
    "\n",
    "answer = 0\n",
    "for i in range(len(arr)-2): #i\n",
    "    for k in range(i+1,len(arr)): #k\n",
    "        if arr[i]%2==arr[k]%2:\n",
    "            answer += arr[i+1:k].count((arr[i] + arr[k])//2)\n",
    "print(answer)"
   ]
  },
  {
   "cell_type": "code",
   "execution_count": null,
   "metadata": {},
   "outputs": [],
   "source": [
    "import sys\n",
    "input = sys.stdin.readline"
   ]
  },
  {
   "cell_type": "code",
   "execution_count": 1,
   "metadata": {},
   "outputs": [
    {
     "name": "stdout",
     "output_type": "stream",
     "text": [
      "10\n",
      "3 5 3 6 3 4 10 4 5 2\n"
     ]
    }
   ],
   "source": [
    "N = int(input())\n",
    "arr = list(map(int, input().split()))"
   ]
  },
  {
   "cell_type": "code",
   "execution_count": 21,
   "metadata": {},
   "outputs": [
    {
     "name": "stdout",
     "output_type": "stream",
     "text": [
      "9\n"
     ]
    }
   ],
   "source": [
    "# 40분 풀었는데 시간초과남\n",
    "\n",
    "import itertools \n",
    "answer = 0\n",
    "check_0 = []\n",
    "check_1 = []\n",
    "for idx, x in enumerate(arr):\n",
    "    if x%2==0: #짝수면\n",
    "        check_0.append([idx, x])\n",
    "    else: # 홀수면\n",
    "        check_1.append([idx, x])\n",
    "    \n",
    "a = itertools.combinations(check_0,2)\n",
    "b = itertools.combinations(check_1,2)\n",
    "for A in a:\n",
    "    i, x = A[0]\n",
    "    k, y = A[1]\n",
    "    answer += arr[i+1:k].count((x+y)//2)\n",
    "\n",
    "for B in b:\n",
    "    i, x = B[0]\n",
    "    k, y = B[1]\n",
    "    answer += arr[i+1:k].count((x+y)//2)\n",
    "print(answer)"
   ]
  },
  {
   "cell_type": "code",
   "execution_count": 12,
   "metadata": {},
   "outputs": [
    {
     "name": "stdout",
     "output_type": "stream",
     "text": [
      "9\n"
     ]
    }
   ],
   "source": [
    "answer = 0\n",
    "queue = []\n",
    "for i in range(len(arr)-2): #i\n",
    "    for k in range(i+2,len(arr)): #k\n",
    "        if arr[i]%2==arr[k]%2:\n",
    "            queue.append([arr[i] + arr[k], i,k])\n",
    "for x,i,k in queue:\n",
    "    answer += arr[i+1:k].count(x//2)\n",
    "    \n",
    "print(answer)"
   ]
  },
  {
   "cell_type": "code",
   "execution_count": 23,
   "metadata": {},
   "outputs": [
    {
     "name": "stdout",
     "output_type": "stream",
     "text": [
      "9\n"
     ]
    }
   ],
   "source": [
    "\n",
    "answer = 0\n",
    "check_0 = []\n",
    "check_1 = []\n",
    "for idx, x in enumerate(arr):\n",
    "    if x%2==0: #짝수면\n",
    "        check_0.append([idx, x])\n",
    "    else: # 홀수면\n",
    "        check_1.append([idx, x])\n",
    "    \n",
    "a = itertools.combinations(check_0,2)\n",
    "\n",
    "b = itertools.combinations(check_1,2)\n",
    "for A in a:\n",
    "    i, x = A[0]\n",
    "    k, y = A[1]\n",
    "    answer += arr[i+1:k].count((x+y)//2)\n",
    "\n",
    "for B in b:\n",
    "    i, x = B[0]\n",
    "    k, y = B[1]\n",
    "    answer += arr[i+1:k].count((x+y)//2)\n",
    "print(answer)"
   ]
  }
 ],
 "metadata": {
  "kernelspec": {
   "display_name": "Python 3",
   "language": "python",
   "name": "python3"
  },
  "language_info": {
   "codemirror_mode": {
    "name": "ipython",
    "version": 3
   },
   "file_extension": ".py",
   "mimetype": "text/x-python",
   "name": "python",
   "nbconvert_exporter": "python",
   "pygments_lexer": "ipython3",
   "version": "3.8.5"
  }
 },
 "nbformat": 4,
 "nbformat_minor": 4
}
