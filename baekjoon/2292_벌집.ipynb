{
 "cells": [
  {
   "cell_type": "code",
   "execution_count": 15,
   "metadata": {},
   "outputs": [
    {
     "name": "stdout",
     "output_type": "stream",
     "text": [
      "8\n",
      "3\n"
     ]
    }
   ],
   "source": [
    "# 10분 컷\n",
    "N = int(input())\n",
    "answer = 0\n",
    "i = 0\n",
    "tmp = 1\n",
    "while True:\n",
    "    i = 6*answer + tmp\n",
    "    if N <= i:\n",
    "        print(answer+1)\n",
    "        break\n",
    "    answer += 1\n",
    "    tmp = i"
   ]
  },
  {
   "cell_type": "markdown",
   "metadata": {},
   "source": [
    "같은 테투리에 있으면 1에서 N까지의 거리는 모두 같다는 거 이용\n",
    "\n",
    "몇 번째 테두리냐를 계산 - 수열 이용 "
   ]
  },
  {
   "cell_type": "code",
   "execution_count": null,
   "metadata": {},
   "outputs": [],
   "source": [
    "1 - 6 - 12 - 18\n",
    "1 - 2,7 - 8,19 - 20,37"
   ]
  }
 ],
 "metadata": {
  "kernelspec": {
   "display_name": "Python 3",
   "language": "python",
   "name": "python3"
  },
  "language_info": {
   "codemirror_mode": {
    "name": "ipython",
    "version": 3
   },
   "file_extension": ".py",
   "mimetype": "text/x-python",
   "name": "python",
   "nbconvert_exporter": "python",
   "pygments_lexer": "ipython3",
   "version": "3.8.5"
  }
 },
 "nbformat": 4,
 "nbformat_minor": 4
}
