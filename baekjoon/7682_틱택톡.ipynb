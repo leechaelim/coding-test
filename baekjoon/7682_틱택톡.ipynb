{
 "cells": [
  {
   "cell_type": "code",
   "execution_count": null,
   "metadata": {},
   "outputs": [],
   "source": [
    "OOX\n",
    "XXO\n",
    "OXO\n",
    "\n",
    "xoxoxoxox\n",
    "x가 5개 o가 4개\n",
    "x가 항상 o보다 같거나 많음\n",
    "\n",
    "45분 걸려서 + 강의 질문 반례 보고 품\n",
    "너무 하드 코딩했다"
   ]
  },
  {
   "cell_type": "code",
   "execution_count": 24,
   "metadata": {},
   "outputs": [
    {
     "name": "stdout",
     "output_type": "stream",
     "text": [
      "XOXOXOXO.\n",
      "invalid\n",
      "XOXOXOX..\n",
      "valid\n",
      "end\n"
     ]
    }
   ],
   "source": [
    "while True:\n",
    "    tick = list(map(str,input()))\n",
    "    if len(tick) == 3:\n",
    "        break\n",
    "    x_cnt = tick.count('X')\n",
    "    o_cnt = tick.count('O')\n",
    "    cnt_1 = 0\n",
    "    cnt_2 = 0\n",
    "    cnt_3 = 0\n",
    "    bingo = ''\n",
    "    if x_cnt < o_cnt or (x_cnt - o_cnt) > 1 :\n",
    "        print('invalid')\n",
    "    else:\n",
    "        for a in range(3):\n",
    "            if tick[a]==tick[a+3] == tick[a+6]!='.': # 세로줄 빙고\n",
    "                cnt_1 += 1\n",
    "                bingo = tick[a]\n",
    "            if tick[3*a] == tick[3*a+1] == tick[3*a+2]!='.': # 가로줄 빙고\n",
    "                cnt_2 += 1\n",
    "                bingo = tick[3*a]\n",
    "        if tick[0]==tick[4]==tick[8]!='.':\n",
    "            cnt_3 += 1\n",
    "            bingo = tick[4]\n",
    "        if tick[2]==tick[4]==tick[6]!='.':\n",
    "            cnt_3 += 1\n",
    "            bingo = tick[4]\n",
    "        if tick[0]==tick[4]==tick[8]==tick[2]==tick[6]!='.':\n",
    "            cnt_3 -= 1\n",
    "            bingo = tick[4]\n",
    "            \n",
    "   \n",
    "        if cnt_1 > 1 or cnt_2 > 1:\n",
    "            print('invalid')\n",
    "        elif cnt_1 == cnt_2 == cnt_3 == 0 and (x_cnt+o_cnt)!=9:\n",
    "            print('invalid')\n",
    "        elif (cnt_1 == 1 or cnt_2 == 1 or cnt_3==1) and bingo == 'O' and x_cnt > o_cnt:\n",
    "            print('invalid')\n",
    "        elif (cnt_1 == 1 or cnt_2 == 1 or cnt_3==1) and bingo == 'X' and x_cnt <= o_cnt:\n",
    "            print('invalid')\n",
    "        else:\n",
    "            print('valid')\n",
    "    "
   ]
  },
  {
   "cell_type": "code",
   "execution_count": 2,
   "metadata": {},
   "outputs": [
    {
     "data": {
      "text/plain": [
       "['e', 'n', 'd']"
      ]
     },
     "execution_count": 2,
     "metadata": {},
     "output_type": "execute_result"
    }
   ],
   "source": [
    "XOX\n",
    "OXO\n",
    "XOX\n",
    "\n",
    "X.O\n",
    "O..\n",
    "X..\n",
    "\n",
    ".XX\n",
    "X.X\n",
    "OOO\n",
    "\n",
    "XXX\n",
    "XOO\n",
    "XOO\n",
    "\n",
    "XOX\n",
    "OXO\n",
    "X..\n",
    "\n",
    "XOX\n",
    "OXO\n",
    "XO."
   ]
  },
  {
   "cell_type": "code",
   "execution_count": 17,
   "metadata": {},
   "outputs": [
    {
     "data": {
      "text/plain": [
       "False"
      ]
     },
     "execution_count": 17,
     "metadata": {},
     "output_type": "execute_result"
    }
   ],
   "source": [
    "3==3==1!=3"
   ]
  }
 ],
 "metadata": {
  "kernelspec": {
   "display_name": "Python 3",
   "language": "python",
   "name": "python3"
  },
  "language_info": {
   "codemirror_mode": {
    "name": "ipython",
    "version": 3
   },
   "file_extension": ".py",
   "mimetype": "text/x-python",
   "name": "python",
   "nbconvert_exporter": "python",
   "pygments_lexer": "ipython3",
   "version": "3.8.5"
  }
 },
 "nbformat": 4,
 "nbformat_minor": 4
}
