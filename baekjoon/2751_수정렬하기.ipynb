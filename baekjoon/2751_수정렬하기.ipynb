{
 "cells": [
  {
   "cell_type": "code",
   "execution_count": 19,
   "metadata": {},
   "outputs": [
    {
     "name": "stdout",
     "output_type": "stream",
     "text": [
      "4\n",
      "-5\n",
      "0\n",
      "1\n",
      "-2\n",
      "-5\n",
      "-2\n",
      "0\n",
      "1\n"
     ]
    }
   ],
   "source": [
    "#11분 컷\n",
    "#import sys\n",
    "#input = sys.stdin.readline\n",
    "N = int(input())\n",
    "arr = [0]*(1000001)\n",
    "for _ in range(N):\n",
    "    x = int(input())\n",
    "    if x<0:\n",
    "        arr[-x] -= 2\n",
    "    else:\n",
    "        arr[x] += 1\n",
    "# -2 음수, -1 음수 양수, 0 없음, 1 양수\n",
    "for idx in range(1,len(arr)+1):# 1~1000001\n",
    "    if arr[-idx]<0:\n",
    "        print(-1000001+idx)\n",
    "\n",
    "for idx in range(len(arr)):# 0~1000000\n",
    "    if abs(arr[idx]) == 1:\n",
    "        print(idx)"
   ]
  },
  {
   "cell_type": "code",
   "execution_count": 20,
   "metadata": {},
   "outputs": [
    {
     "data": {
      "text/plain": [
       "[1, 1, -2, 0, 0]"
      ]
     },
     "execution_count": 20,
     "metadata": {},
     "output_type": "execute_result"
    }
   ],
   "source": [
    "arr[:5]"
   ]
  }
 ],
 "metadata": {
  "kernelspec": {
   "display_name": "Python 3",
   "language": "python",
   "name": "python3"
  },
  "language_info": {
   "codemirror_mode": {
    "name": "ipython",
    "version": 3
   },
   "file_extension": ".py",
   "mimetype": "text/x-python",
   "name": "python",
   "nbconvert_exporter": "python",
   "pygments_lexer": "ipython3",
   "version": "3.8.5"
  }
 },
 "nbformat": 4,
 "nbformat_minor": 4
}
