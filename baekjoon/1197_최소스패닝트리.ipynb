{
 "cells": [
  {
   "cell_type": "code",
   "execution_count": 21,
   "metadata": {},
   "outputs": [
    {
     "name": "stdout",
     "output_type": "stream",
     "text": [
      "7 9\n",
      "1 2 29\n",
      "1 5 75\n",
      "2 3 35\n",
      "2 6 34\n",
      "3 4 7\n",
      "4 6 23\n",
      "4 7 13\n",
      "5 6 53\n",
      "6 7 25\n",
      "159\n"
     ]
    }
   ],
   "source": [
    "# 이코테 ch10 최소 신장 트리\n",
    "def find_parent(parent, x):\n",
    "    if parent[x] != x:\n",
    "        parent[x] = find_parent(parent, parent[x])\n",
    "    return parent[x]\n",
    "\n",
    "def union_parent(parent, a,b):\n",
    "    a = find_parent(parent, a)\n",
    "    b = find_parent(parent, b)\n",
    "    \n",
    "    if a < b:\n",
    "        parent[b] = a\n",
    "    else:\n",
    "        parent[a] = b\n",
    "        \n",
    "v, e = map(int, input().split())\n",
    "edge = []\n",
    "parent = [i for i in range(v+1)]\n",
    "for _ in range(e):\n",
    "    a,b,c = map(int, input().split())\n",
    "    edge.append([c,a,b])\n",
    "    \n",
    "edge.sort()\n",
    "result = 0\n",
    "for now in edge:\n",
    "    cost, a,b = now\n",
    "    if find_parent(parent, a) != find_parent(parent, b):\n",
    "        result += cost\n",
    "        union_parent(parent, a,b)\n",
    "print(result)"
   ]
  },
  {
   "cell_type": "code",
   "execution_count": 17,
   "metadata": {},
   "outputs": [
    {
     "name": "stdout",
     "output_type": "stream",
     "text": [
      "7 9\n",
      "1 2 29\n",
      "1 5 35\n",
      "1 5 75\n",
      "2 6 34\n",
      "3 4 7\n",
      "4 6 23\n",
      "4 7 13\n",
      "5 6 53\n",
      "6 7 25\n",
      "166\n"
     ]
    }
   ],
   "source": [
    "#13분 테케는 맞지만 틀림\n",
    "# visited를 갱신하는 부분이 없어서 1로 싹 바뀌질 않음\n",
    "# find_parent함수 필요\n",
    "v, e = map(int, input().split())\n",
    "#edge = [[] for _ in range(v+1)]\n",
    "edge = []\n",
    "visited = [v+1 for _ in range(v+1)]\n",
    "visited[0] = 1\n",
    "for _ in range(e):\n",
    "    a,b,c = map(int, input().split())\n",
    "    edge.append([c,a,b])\n",
    "    \n",
    "edge.sort()\n",
    "result = 0\n",
    "for now in edge:\n",
    "    cost, a,b = now\n",
    "    if max(visited) == 1:\n",
    "        break\n",
    "    if visited[a]!=1 or visited[b]!= 1:\n",
    "        result += cost\n",
    "        visited[a], visited[b] = min(a,b,visited[a], visited[b]),min(a,b,visited[a], visited[b])\n",
    "print(result)"
   ]
  },
  {
   "cell_type": "code",
   "execution_count": 18,
   "metadata": {},
   "outputs": [
    {
     "data": {
      "text/plain": [
       "[1, 1, 1, 3, 3, 1, 1, 3]"
      ]
     },
     "execution_count": 18,
     "metadata": {},
     "output_type": "execute_result"
    }
   ],
   "source": [
    "visited"
   ]
  },
  {
   "cell_type": "code",
   "execution_count": 6,
   "metadata": {},
   "outputs": [
    {
     "data": {
      "text/plain": [
       "[True, True, True, True]"
      ]
     },
     "execution_count": 6,
     "metadata": {},
     "output_type": "execute_result"
    }
   ],
   "source": [
    "7 9\n",
    "1 2 29\n",
    "1 5 75\n",
    "2 3 35\n",
    "2 6 34\n",
    "3 4 7\n",
    "4 6 23\n",
    "4 7 13\n",
    "5 6 53\n",
    "6 7 25"
   ]
  }
 ],
 "metadata": {
  "kernelspec": {
   "display_name": "Python 3",
   "language": "python",
   "name": "python3"
  },
  "language_info": {
   "codemirror_mode": {
    "name": "ipython",
    "version": 3
   },
   "file_extension": ".py",
   "mimetype": "text/x-python",
   "name": "python",
   "nbconvert_exporter": "python",
   "pygments_lexer": "ipython3",
   "version": "3.8.5"
  }
 },
 "nbformat": 4,
 "nbformat_minor": 4
}
