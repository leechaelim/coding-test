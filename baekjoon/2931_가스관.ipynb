{
 "cells": [
  {
   "cell_type": "code",
   "execution_count": 92,
   "metadata": {},
   "outputs": [
    {
     "name": "stdout",
     "output_type": "stream",
     "text": [
      "6 10\n",
      "Z.1----4..\n",
      "|.|....|..\n",
      "|..14..M..\n",
      "2-+++4....\n",
      "..2323....\n",
      "..........\n"
     ]
    }
   ],
   "source": [
    "R,C = map(int, input().split())\n",
    "arr = []\n",
    "M_index = [0,0]\n",
    "Z_index = [0,0]\n",
    "for i in range(R):\n",
    "    a =list(map(str, input()))\n",
    "    arr.append(a)\n",
    "    if \"M\" in a:\n",
    "        M_index = [i,a.index(\"M\")]\n",
    "    if \"Z\" in a:\n",
    "        Z_index = [i,a.index(\"Z\")]"
   ]
  },
  {
   "cell_type": "code",
   "execution_count": 93,
   "metadata": {},
   "outputs": [],
   "source": [
    "# 지금은 테케 3번 틀리고\n",
    "# +모양에서 경로 2개 다 탐색 못하는 중이니까 \n",
    "# BFS로 바꿔서 수정하기\n",
    "\n",
    "block = [ '|', '-','+','1','2','3','4']\n",
    "move = dict()\n",
    "move['|'] = [[1,0],[-1,0]]\n",
    "move['-'] = [[0,1],[0,-1]]\n",
    "move['+'] = [[0,1],[0,-1],[1,0],[-1,0]]\n",
    "move['1'] = [[0,1],[1,0]]\n",
    "move['2'] = [[0,1],[-1,0]]\n",
    "move['3'] = [[0,-1],[-1,0]]\n",
    "move['4'] = [[0,-1],[1,0]]\n",
    "\n",
    "\n",
    "dx = [1,-1,0,0]\n",
    "dy = [0,0,1,-1]\n",
    "for i in range(4):\n",
    "    x = M_index[0] + dx[i]\n",
    "    y = M_index[1] + dy[i]\n",
    "    if x>=0 and x<R and y>=0 and y<C and arr[x][y]!= \".\":\n",
    "        now = [x,y]\n",
    "        arr[M_index[0]][M_index[1]] = '방문'#방문 처리\n",
    "\n",
    "check = True\n",
    "while check:\n",
    "    block_move = move[arr[now[0]][now[1]]]\n",
    "    for m in block_move:\n",
    "        x = now[0] + m[0]\n",
    "        y = now[1] + m[1]\n",
    "        if check and x>=0 and x<R and y>=0 and y<C :\n",
    "            if arr[x][y]!= '방문' and arr[x][y]!= '.':\n",
    "                arr[now[0]][now[1]] = '방문' \n",
    "                now = [x,y]\n",
    "                check = True\n",
    "            elif arr[x][y]== '.':#이거 다음이 빠진 블록인 것\n",
    "                check_list = []\n",
    "\n",
    "                for m in block_move:\n",
    "                    x = now[0] + m[0]\n",
    "                    y = now[1] + m[1]\n",
    "\n",
    "                    if x>=0 and x<R and y>=0 and y<C and arr[x][y]==\".\":\n",
    "                        check_list=[x,y]\n",
    "                \n",
    "                check = False\n",
    "final_move = []\n",
    "for i in range(4):\n",
    "    x = check_list[0] + dx[i]\n",
    "    y = check_list[1] + dy[i]\n",
    "    if x>=0 and x<R and y>=0 and y<C and arr[x][y]!= '방문' and arr[x][y]!= '.':\n",
    "        final_move.append([dx[i],dy[i]])\n",
    "final_move.sort()\n",
    "for x in move:\n",
    "    move[x].sort()\n",
    "    if move[x] == final_move:\n",
    "        print(str(check_list[0]+1)+\" \"+str(check_list[1]+1)+\" \"+str(x))"
   ]
  },
  {
   "cell_type": "code",
   "execution_count": 94,
   "metadata": {},
   "outputs": [
    {
     "data": {
      "text/plain": [
       "[['Z', '.', '1', '-', '-', '-', '-', '방문', '.', '.'],\n",
       " ['|', '.', '|', '.', '.', '.', '.', '방문', '.', '.'],\n",
       " ['|', '.', '.', '1', '4', '.', '.', '방문', '.', '.'],\n",
       " ['2', '-', '+', '+', '+', '4', '.', '.', '.', '.'],\n",
       " ['.', '.', '2', '3', '2', '3', '.', '.', '.', '.'],\n",
       " ['.', '.', '.', '.', '.', '.', '.', '.', '.', '.']]"
      ]
     },
     "execution_count": 94,
     "metadata": {},
     "output_type": "execute_result"
    }
   ],
   "source": [
    "#arr[0][4] = \"M\"\n",
    "arr"
   ]
  },
  {
   "cell_type": "code",
   "execution_count": 95,
   "metadata": {},
   "outputs": [
    {
     "data": {
      "text/plain": [
       "[1, 6]"
      ]
     },
     "execution_count": 95,
     "metadata": {},
     "output_type": "execute_result"
    }
   ],
   "source": [
    "check_list"
   ]
  },
  {
   "cell_type": "code",
   "execution_count": 96,
   "metadata": {},
   "outputs": [
    {
     "data": {
      "text/plain": [
       "[0, 6]"
      ]
     },
     "execution_count": 96,
     "metadata": {},
     "output_type": "execute_result"
    }
   ],
   "source": [
    "now"
   ]
  },
  {
   "cell_type": "code",
   "execution_count": 97,
   "metadata": {},
   "outputs": [
    {
     "data": {
      "text/plain": [
       "[[0, -1], [1, 0]]"
      ]
     },
     "execution_count": 97,
     "metadata": {},
     "output_type": "execute_result"
    }
   ],
   "source": [
    "block_move"
   ]
  },
  {
   "cell_type": "code",
   "execution_count": 87,
   "metadata": {},
   "outputs": [
    {
     "data": {
      "text/plain": [
       "[[-1, 0], [0, 1]]"
      ]
     },
     "execution_count": 87,
     "metadata": {},
     "output_type": "execute_result"
    }
   ],
   "source": [
    "final_move"
   ]
  },
  {
   "cell_type": "code",
   "execution_count": 56,
   "metadata": {},
   "outputs": [
    {
     "data": {
      "text/plain": [
       "1"
      ]
     },
     "execution_count": 56,
     "metadata": {},
     "output_type": "execute_result"
    }
   ],
   "source": [
    "block = [ '|', '-','+','1','2','3','4']\n",
    "move = dict()\n",
    "move['|'] = [[1,0],[-1,0]]\n",
    "move['-'] = [[0,1],[0,-1]]\n",
    "move['+'] = [[0,1],[0,-1],[1,0],[-1,0]]\n",
    "move['1'] = [[0,1],[1,0]]\n",
    "move['2'] = [[0,1],[-1,0]]\n",
    "move['3'] = [[0,-1],[-1,0]]\n",
    "move['4'] = [[0,1],[-1,0]]\n",
    "\n",
    "\n",
    "dx = [1,-1,0,0]\n",
    "dy = [0,0,1,-1]\n",
    "for i in range(4):\n",
    "    x = M_index[0] + dx[i]\n",
    "    y = M_index[1] + dy[i]\n",
    "    if x>=0 and x<R and y>=0 and y<C and arr[x][y]!= \".\":\n",
    "        now = [x,y]\n",
    "        arr[M_index[0]][M_index[1]] = '방문'#방문 처리\n",
    "\n",
    "check = True\n",
    "while check:\n",
    "    block_move = move[arr[now[0]][now[1]]]\n",
    "    for m in block_move:\n",
    "        x = now[0] + m[0]\n",
    "        y = now[1] + m[1]\n",
    "        if check and x>=0 and x<R and y>=0 and y<C :\n",
    "            if arr[x][y]!= '방문' and arr[x][y]!= '.':\n",
    "                arr[now[0]][now[1]] = '방문' \n",
    "                now = [x,y]\n",
    "                check = True\n",
    "            else:\n",
    "    if check == False: #이거 다음이 빠진 블록인 것\n",
    "        check_list = []\n",
    "        \n",
    "        for m in block_move:\n",
    "            x = now[0] + m[0]\n",
    "            y = now[1] + m[1]\n",
    "            \n",
    "            if x>=0 and x<R and y>=0 and y<C and arr[x][y]!=\"방문\":\n",
    "                check_list=[x,y]\n",
    "        break\n",
    "final_move = []\n",
    "for i in range(4):\n",
    "    x = check_list[0] + dx[i]\n",
    "    y = check_list[1] + dy[i]\n",
    "    if x>=0 and x<R and y>=0 and y<C and arr[x][y]!= '방문' and arr[x][y]!= '.':\n",
    "        final_move.append([dx[i],dy[i]])\n",
    "final_move.sort()\n",
    "for x in move:\n",
    "    move[x].sort()\n",
    "    if move[x] == final_move:\n",
    "        print(str(check_list[0]+1)+\" \"+str(check_list[1]+1)+\" \"+str(x))"
   ]
  },
  {
   "cell_type": "code",
   "execution_count": 81,
   "metadata": {},
   "outputs": [
    {
     "data": {
      "text/plain": [
       "[0, 3]"
      ]
     },
     "execution_count": 81,
     "metadata": {},
     "output_type": "execute_result"
    }
   ],
   "source": [
    "now"
   ]
  }
 ],
 "metadata": {
  "kernelspec": {
   "display_name": "Python 3",
   "language": "python",
   "name": "python3"
  },
  "language_info": {
   "codemirror_mode": {
    "name": "ipython",
    "version": 3
   },
   "file_extension": ".py",
   "mimetype": "text/x-python",
   "name": "python",
   "nbconvert_exporter": "python",
   "pygments_lexer": "ipython3",
   "version": "3.8.5"
  }
 },
 "nbformat": 4,
 "nbformat_minor": 4
}
