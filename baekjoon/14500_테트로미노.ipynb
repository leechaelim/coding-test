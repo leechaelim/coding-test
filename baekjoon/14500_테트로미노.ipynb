{
 "cells": [
  {
   "cell_type": "code",
   "execution_count": null,
   "metadata": {},
   "outputs": [],
   "source": [
    "# 정답 코드\n",
    "\n",
    "# 블로그에서 ㅗ 처리방법 슬쩍 보고 품\n",
    "\n",
    "import sys\n",
    "input = sys.stdin.readline\n",
    "N, M = map(int, input().split())\n",
    "arr = []\n",
    "block_max = 0\n",
    "\n",
    "for _ in range(N):\n",
    "    a = list(map(int, input().split()))\n",
    "    block_max = max(block_max,max(a))\n",
    "    arr.append(a)\n",
    "    \n",
    "    \n",
    "# BFS로 최댓값 탐색할거임, 시작 지점+블록갯수+합\n",
    "from collections import deque\n",
    "dx = [1,-1,0,0]\n",
    "dy = [0,0,1,-1]\n",
    "maxi = 0\n",
    "\n",
    "for A in range(N): #행\n",
    "    for B in range(M): #열\n",
    "        visited = deque()\n",
    "        visited.append([A,B])\n",
    "        queue = deque()\n",
    "        queue.append([A,B,arr[A][B],1,visited])\n",
    "\n",
    "        while queue:\n",
    "            a,b,result,block,v = queue.popleft()\n",
    "            if block == 4:\n",
    "                maxi = max(maxi,result)\n",
    "                #print(a,b,result,block,v)\n",
    "            elif result+ (4-block)*block_max <= maxi:\n",
    "                #print(a,b,result,block,v)\n",
    "                continue\n",
    "            else:\n",
    "                for i in range(4):\n",
    "                    x = dx[i] + a\n",
    "                    y = dy[i] + b\n",
    "                    if x>=0 and x<N and y>=0 and y<M and ([x,y] not in v):\n",
    "                        queue.append([x,y,result+arr[x][y],block+1,v+deque([[x,y]])])\n",
    "                        if block == 2:\n",
    "                            queue.append([a,b,result+arr[x][y],block+1,v+deque([[x,y]])])\n",
    "                            #print(a,b,result+arr[x][y],block+1,v+deque([[x,y]]))\n",
    "print(maxi)"
   ]
  },
  {
   "cell_type": "code",
   "execution_count": 46,
   "metadata": {},
   "outputs": [
    {
     "name": "stdout",
     "output_type": "stream",
     "text": [
      "4 4 \n",
      "0  0 0 0\n",
      "0 0 0 0\n",
      "0 1 2 3\n",
      "0 0 4 0\n"
     ]
    }
   ],
   "source": [
    "\n",
    "N, M = map(int, input().split())\n",
    "arr = []\n",
    "block_max = 0\n",
    "\n",
    "for _ in range(N):\n",
    "    a = list(map(int, input().split()))\n",
    "    block_max = max(block_max,max(a))\n",
    "    arr.append(a)\n",
    "    \n"
   ]
  },
  {
   "cell_type": "code",
   "execution_count": 14,
   "metadata": {},
   "outputs": [
    {
     "data": {
      "text/plain": [
       "2"
      ]
     },
     "execution_count": 14,
     "metadata": {},
     "output_type": "execute_result"
    }
   ],
   "source": [
    "block_max"
   ]
  },
  {
   "cell_type": "code",
   "execution_count": 47,
   "metadata": {},
   "outputs": [
    {
     "name": "stdout",
     "output_type": "stream",
     "text": [
      "2 1 1 4 deque([[0, 0], [1, 0], [2, 0], [2, 1]])\n",
      "3 2 5 4 deque([[1, 1], [2, 1], [3, 1], [3, 2]])\n",
      "3 2 7 4 deque([[1, 1], [2, 1], [2, 2], [3, 2]])\n",
      "2 3 9 4 deque([[2, 2], [3, 2], [3, 3], [2, 3]])\n",
      "2 1 10 4 deque([[2, 3], [2, 2], [3, 2], [2, 1]])\n",
      "10\n"
     ]
    }
   ],
   "source": [
    "# 45분 -> 실패\n",
    "# BFS로 최댓값 탐색할거임, 시작 지점+블록갯수+합\n",
    "# 지금 상태로는 백준 시간 초과나고\n",
    "# 3번 테케레서 ㅗ모양 탐색 못하는 중\n",
    "from collections import deque\n",
    "dx = [1,-1,0,0]\n",
    "dy = [0,0,1,-1]\n",
    "maxi = 0\n",
    "# 아 왜 a,b 헷갈리게 이렇게 썼냐 이것떄문에 틀렸던거다. 제발 구분되게 쓰자\n",
    "for a in range(N): #행\n",
    "    for b in range(M): #열\n",
    "        visited = deque()\n",
    "        visited.append([a,b])\n",
    "        queue = deque()\n",
    "        queue.append([a,b,arr[a][b],1,visited])\n",
    "\n",
    "        while queue:\n",
    "            a,b,result,block,v = queue.popleft()\n",
    "            if block == 4:\n",
    "                maxi = max(maxi,result)\n",
    "                print(a,b,result,block,v)\n",
    "            \n",
    "            if result+ (4-block)*block_max <= maxi:\n",
    "                #print(a,b,result,block,v)\n",
    "                continue\n",
    "            else:\n",
    "                for i in range(4):\n",
    "                    x = dx[i] + a\n",
    "                    y = dy[i] + b\n",
    "                    if x>=0 and x<N and y>=0 and y<M and ([x,y] not in v):\n",
    "                        queue.append([x,y,result+arr[x][y],block+1,v+deque([[x,y]])])\n",
    "                        if block == 2: # ㅗ 탐색 하기 위해서 2개째 일때 자기 자신으로 bfs 다시한번 함\n",
    "                            queue.append([a,b,result+arr[x][y],block+1,v+deque([[x,y]])])\n",
    "                            #print(a,b,result+arr[x][y],block+1,v+deque([[x,y]]))\n",
    "print(maxi)"
   ]
  },
  {
   "cell_type": "code",
   "execution_count": 19,
   "metadata": {},
   "outputs": [
    {
     "data": {
      "text/plain": [
       "deque([1, 2, 3, 4])"
      ]
     },
     "execution_count": 19,
     "metadata": {},
     "output_type": "execute_result"
    }
   ],
   "source": [
    "A = deque([1,2])\n",
    "B = deque([3,4])\n",
    "A+B"
   ]
  }
 ],
 "metadata": {
  "kernelspec": {
   "display_name": "Python 3",
   "language": "python",
   "name": "python3"
  },
  "language_info": {
   "codemirror_mode": {
    "name": "ipython",
    "version": 3
   },
   "file_extension": ".py",
   "mimetype": "text/x-python",
   "name": "python",
   "nbconvert_exporter": "python",
   "pygments_lexer": "ipython3",
   "version": "3.8.5"
  }
 },
 "nbformat": 4,
 "nbformat_minor": 4
}
