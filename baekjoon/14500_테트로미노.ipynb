{
 "cells": [
  {
   "cell_type": "code",
   "execution_count": 1,
   "metadata": {},
   "outputs": [
    {
     "name": "stdout",
     "output_type": "stream",
     "text": [
      "4 10\n",
      "1 2 1 2 1 2 1 2 1 2\n",
      "2 1 2 1 2 1 2 1 2 1\n",
      "1 2 1 2 1 2 1 2 1 2\n",
      "2 1 2 1 2 1 2 1 2 1\n"
     ]
    }
   ],
   "source": [
    "\n",
    "N, M = map(int, input().split())\n",
    "arr = []\n",
    "for _ in range(N):\n",
    "    a = list(map(int, input().split()))\n",
    "    arr.append(a)"
   ]
  },
  {
   "cell_type": "code",
   "execution_count": 2,
   "metadata": {},
   "outputs": [
    {
     "name": "stdout",
     "output_type": "stream",
     "text": [
      "6\n"
     ]
    }
   ],
   "source": [
    "# BFS로 최댓값 탐색할거임, 시작 지점+블록갯수+합\n",
    "# 지금 상태로는 백준 시간 초과나고\n",
    "# 3번 테케레서 ㅗ모양 탐색 못하는 중\n",
    "from collections import deque\n",
    "dx = [1,-1,0,0]\n",
    "dy = [0,0,1,-1]\n",
    "maxi = 0\n",
    "for a in range(N): #행\n",
    "    for b in range(M): #열\n",
    "        visited = deque()\n",
    "        visited.append([a,b])\n",
    "        queue = deque()\n",
    "        queue.append([a,b,arr[a][b],1,visited])\n",
    "\n",
    "        while queue:\n",
    "            a,b,result,block,v = queue.popleft()\n",
    "            if block == 4:\n",
    "                maxi = max(maxi,result)\n",
    "            else:\n",
    "                for i in range(4):\n",
    "                    x = dx[i] + a\n",
    "                    y = dy[i] + b\n",
    "                    if x>=0 and x<N and y>=0 and y<M and ([x,y] not in v):\n",
    "                        v.append([x,y])\n",
    "                        queue.append([x,y,result+arr[x][y],block+1,v])\n",
    "print(maxi)"
   ]
  },
  {
   "cell_type": "code",
   "execution_count": 21,
   "metadata": {},
   "outputs": [
    {
     "data": {
      "text/plain": [
       "[[1, 2, 3, 4, 5],\n",
       " [5, 4, 3, 2, 1],\n",
       " [2, 3, 4, 5, 6],\n",
       " [6, 5, 4, 3, 2],\n",
       " [1, 2, 1, 2, 1]]"
      ]
     },
     "execution_count": 21,
     "metadata": {},
     "output_type": "execute_result"
    }
   ],
   "source": [
    "aaa = arr[:]\n",
    "aaa"
   ]
  },
  {
   "cell_type": "code",
   "execution_count": 23,
   "metadata": {},
   "outputs": [
    {
     "data": {
      "text/plain": [
       "[[1, 2, 3, 4, 5],\n",
       " [5, 4, 3, 2, 1],\n",
       " [2, 3, 4, 5, 6],\n",
       " [6, 5, 4, 3, 2],\n",
       " [1, 2, 1, 2, 1]]"
      ]
     },
     "execution_count": 23,
     "metadata": {},
     "output_type": "execute_result"
    }
   ],
   "source": [
    "arr"
   ]
  },
  {
   "cell_type": "code",
   "execution_count": 18,
   "metadata": {},
   "outputs": [
    {
     "data": {
      "text/plain": [
       "14"
      ]
     },
     "execution_count": 18,
     "metadata": {},
     "output_type": "execute_result"
    }
   ],
   "source": [
    "maxi"
   ]
  }
 ],
 "metadata": {
  "kernelspec": {
   "display_name": "Python 3",
   "language": "python",
   "name": "python3"
  },
  "language_info": {
   "codemirror_mode": {
    "name": "ipython",
    "version": 3
   },
   "file_extension": ".py",
   "mimetype": "text/x-python",
   "name": "python",
   "nbconvert_exporter": "python",
   "pygments_lexer": "ipython3",
   "version": "3.8.5"
  }
 },
 "nbformat": 4,
 "nbformat_minor": 4
}
