{
 "cells": [
  {
   "cell_type": "code",
   "execution_count": 8,
   "metadata": {},
   "outputs": [
    {
     "name": "stdout",
     "output_type": "stream",
     "text": [
      "4 6\n",
      "10011\n",
      "10100\n",
      "10000\n",
      "11111\n",
      "8\n"
     ]
    }
   ],
   "source": [
    "from collections import deque\n",
    "N, M = map(int, input().split())\n",
    "array = []\n",
    "for _ in range(N):\n",
    "    array.append(list(map(int,input())))\n",
    "queue = deque([[0,0]])\n",
    "dx = [1,-1,0,0]\n",
    "dy = [0,0,-1,1]\n",
    "while queue:\n",
    "    x,y = queue.popleft() # deque 써서 popleft하던지 list써서 del queue[0]하던지 맨 앞부터해야함, pop()XXXX!!\n",
    "    for i in range(4):\n",
    "        nx = x + dx[i]\n",
    "        ny = y + dy[i]\n",
    "        if nx>=0 and nx < len(array) and ny>=0 and ny<len(array[0]):\n",
    "            if array[nx][ny] == 1: #방문 x\n",
    "                array[nx][ny] += array[x][y]\n",
    "                queue.append([nx,ny])\n",
    "print(array[-1][-1])    \n",
    "        \n",
    "        "
   ]
  },
  {
   "cell_type": "code",
   "execution_count": 7,
   "metadata": {},
   "outputs": [
    {
     "data": {
      "text/plain": [
       "deque([0, 0])"
      ]
     },
     "execution_count": 7,
     "metadata": {},
     "output_type": "execute_result"
    }
   ],
   "source": [
    "queue = deque([0,0])\n",
    "queue"
   ]
  },
  {
   "cell_type": "code",
   "execution_count": 30,
   "metadata": {},
   "outputs": [
    {
     "name": "stdout",
     "output_type": "stream",
     "text": [
      "4 6\n",
      "110110\n",
      "110110\n",
      "111111\n",
      "111101\n"
     ]
    }
   ],
   "source": [
    "N, M = map(int, input().split())\n",
    "array = []\n",
    "for _ in range(N):\n",
    "    array.append(list(map(int,input())))"
   ]
  },
  {
   "cell_type": "code",
   "execution_count": 34,
   "metadata": {},
   "outputs": [],
   "source": [
    "N, M = 4, 6\n",
    "array = [[1, 0, 1, 1, 1, 1],\n",
    " [1, 0, 1, 0, 1, 0],\n",
    " [1, 0, 1, 0, 1, 1],\n",
    " [1, 1, 1, 0, 1, 1]]"
   ]
  },
  {
   "cell_type": "code",
   "execution_count": 42,
   "metadata": {},
   "outputs": [
    {
     "data": {
      "text/plain": [
       "[[3, 0, 9, 10, 11, 12],\n",
       " [2, 0, 8, 0, 12, 0],\n",
       " [3, 0, 7, 0, 13, 14],\n",
       " [4, 5, 6, 0, 14, 15]]"
      ]
     },
     "execution_count": 42,
     "metadata": {},
     "output_type": "execute_result"
    }
   ],
   "source": [
    "array"
   ]
  },
  {
   "cell_type": "code",
   "execution_count": 40,
   "metadata": {},
   "outputs": [],
   "source": [
    "bfs(array)"
   ]
  },
  {
   "cell_type": "code",
   "execution_count": 31,
   "metadata": {},
   "outputs": [],
   "source": [
    "DFS(array,0,0)"
   ]
  },
  {
   "cell_type": "code",
   "execution_count": 39,
   "metadata": {},
   "outputs": [],
   "source": [
    "start = [[0,0]]\n",
    "\n",
    "def bfs(array):\n",
    "    queue = [[0,0]]\n",
    "    dx = [1,-1,0,0]\n",
    "    dy = [0,0,-1,1]\n",
    "    while queue:\n",
    "        x,y = queue.pop()\n",
    "        for i in range(4):\n",
    "            nx = x + dx[i]\n",
    "            ny = y + dy[i]\n",
    "            if nx>=0 and nx < len(array) and ny>=0 and ny<len(array[0]):\n",
    "                if array[nx][ny] == 1: #방문 x\n",
    "                    queue.append([nx,ny])\n",
    "                    array[nx][ny] += array[x][y]\n",
    "        \n",
    "        \n",
    "        "
   ]
  },
  {
   "cell_type": "code",
   "execution_count": null,
   "metadata": {},
   "outputs": [],
   "source": []
  },
  {
   "cell_type": "code",
   "execution_count": 1,
   "metadata": {},
   "outputs": [
    {
     "ename": "NameError",
     "evalue": "name 'array' is not defined",
     "output_type": "error",
     "traceback": [
      "\u001b[1;31m---------------------------------------------------------------------------\u001b[0m",
      "\u001b[1;31mNameError\u001b[0m                                 Traceback (most recent call last)",
      "\u001b[1;32m<ipython-input-1-7e71d2f093c1>\u001b[0m in \u001b[0;36m<module>\u001b[1;34m\u001b[0m\n\u001b[1;32m----> 1\u001b[1;33m \u001b[0marray\u001b[0m\u001b[1;33m\u001b[0m\u001b[1;33m\u001b[0m\u001b[0m\n\u001b[0m",
      "\u001b[1;31mNameError\u001b[0m: name 'array' is not defined"
     ]
    }
   ],
   "source": [
    "array"
   ]
  },
  {
   "cell_type": "code",
   "execution_count": 11,
   "metadata": {},
   "outputs": [
    {
     "name": "stdout",
     "output_type": "stream",
     "text": [
      "[[1, 1, 2, 3, 4, 5], [2, 4, 8, 13, 21, 30], [3, 9, 22, 43, 78, 130], [4, 17, 49, 114, 236, 445]]\n"
     ]
    }
   ],
   "source": [
    "for x in range(N):\n",
    "    for y in range(M):\n",
    "        if x+1<N and y+1<M:\n",
    "            array[x+1][y+1]+=array[x][y]\n",
    "            array[x+1][y]+=array[x][y]\n",
    "            array[x][y+1]+=array[x][y]\n",
    "        elif y+1<M:\n",
    "            array[x][y+1]+=array[x][y]\n",
    "        elif x+1<N:\n",
    "            array[x+1][y]+=array[x][y]\n",
    "print(array)"
   ]
  }
 ],
 "metadata": {
  "kernelspec": {
   "display_name": "Python 3",
   "language": "python",
   "name": "python3"
  },
  "language_info": {
   "codemirror_mode": {
    "name": "ipython",
    "version": 3
   },
   "file_extension": ".py",
   "mimetype": "text/x-python",
   "name": "python",
   "nbconvert_exporter": "python",
   "pygments_lexer": "ipython3",
   "version": "3.8.5"
  }
 },
 "nbformat": 4,
 "nbformat_minor": 4
}
