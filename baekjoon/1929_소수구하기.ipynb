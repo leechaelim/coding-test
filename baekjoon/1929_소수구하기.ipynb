{
 "cells": [
  {
   "cell_type": "code",
   "execution_count": 4,
   "metadata": {},
   "outputs": [
    {
     "name": "stdout",
     "output_type": "stream",
     "text": [
      "3 16\n",
      "3\n",
      "5\n",
      "7\n",
      "11\n",
      "13\n"
     ]
    }
   ],
   "source": [
    "#에라토스테네스 체 외웠당!\n",
    "\n",
    "start, end = map(int, input().split())\n",
    "arr = [False]*(end+1)\n",
    "arr[0],arr[1] = True, True\n",
    "for i in range(2,int(len(arr)**0.5)+1):\n",
    "    if arr[i] == False:\n",
    "        for j in range(i+i, len(arr), i): #step i로 하면 i의 배수 판별 효율적이다!!!\n",
    "            if j%i==0:\n",
    "                arr[j] = True\n",
    "\n",
    "for x in range(start, end+1):\n",
    "    if arr[x]==False:\n",
    "        print(x)\n"
   ]
  }
 ],
 "metadata": {
  "kernelspec": {
   "display_name": "Python 3",
   "language": "python",
   "name": "python3"
  },
  "language_info": {
   "codemirror_mode": {
    "name": "ipython",
    "version": 3
   },
   "file_extension": ".py",
   "mimetype": "text/x-python",
   "name": "python",
   "nbconvert_exporter": "python",
   "pygments_lexer": "ipython3",
   "version": "3.8.5"
  }
 },
 "nbformat": 4,
 "nbformat_minor": 4
}
