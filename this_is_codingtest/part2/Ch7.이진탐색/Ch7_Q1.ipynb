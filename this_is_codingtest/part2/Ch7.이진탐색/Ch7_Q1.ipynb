{
 "cells": [
  {
   "cell_type": "code",
   "execution_count": 1,
   "metadata": {},
   "outputs": [
    {
     "name": "stdout",
     "output_type": "stream",
     "text": [
      "5\n",
      "8 3 7 9 2\n",
      "3\n",
      "5 7 9\n"
     ]
    }
   ],
   "source": [
    "N = int(input())\n",
    "array_N = list(map(int, input().split()))\n",
    "M = int(input())\n",
    "array_M = list(map(int, input().split()))\n"
   ]
  },
  {
   "cell_type": "code",
   "execution_count": 8,
   "metadata": {},
   "outputs": [],
   "source": [
    "\n",
    "def binary_search(array, target, start, end):\n",
    "    if start > end :\n",
    "        #print(\"no\")\n",
    "        return \"no \"\n",
    "    mid = (start + end)//2\n",
    "    if array[mid] == target:\n",
    "        #print(\"yes\")\n",
    "        return \"yes \"\n",
    "    elif array[mid] < target:\n",
    "        return binary_search(array, target, mid + 1, end)\n",
    "    else:\n",
    "        return binary_search(array, target, start, mid - 1)\n",
    "    "
   ]
  },
  {
   "cell_type": "code",
   "execution_count": 10,
   "metadata": {},
   "outputs": [
    {
     "name": "stdout",
     "output_type": "stream",
     "text": [
      "no yes yes \n",
      "no yes yes "
     ]
    }
   ],
   "source": [
    "array_N.sort()\n",
    "answer = \"\"\n",
    "for i in range(M):\n",
    "    answer += binary_search(array_N, array_M[i], 0, N)\n",
    "print(answer)\n",
    "\n",
    "# 그냥 in 활용\n",
    "for i in range(M):\n",
    "    if array_M[i] in array_N:\n",
    "        print(\"yes\", end = \" \")\n",
    "    else:\n",
    "        print(\"no\", end = \" \")"
   ]
  }
 ],
 "metadata": {
  "kernelspec": {
   "display_name": "Python 3",
   "language": "python",
   "name": "python3"
  },
  "language_info": {
   "codemirror_mode": {
    "name": "ipython",
    "version": 3
   },
   "file_extension": ".py",
   "mimetype": "text/x-python",
   "name": "python",
   "nbconvert_exporter": "python",
   "pygments_lexer": "ipython3",
   "version": "3.8.5"
  }
 },
 "nbformat": 4,
 "nbformat_minor": 4
}
