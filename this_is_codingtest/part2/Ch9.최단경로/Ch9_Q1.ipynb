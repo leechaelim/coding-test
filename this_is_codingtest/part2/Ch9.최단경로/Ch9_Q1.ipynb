{
 "cells": [
  {
   "cell_type": "code",
   "execution_count": 7,
   "metadata": {},
   "outputs": [
    {
     "name": "stdout",
     "output_type": "stream",
     "text": [
      "4 2\n",
      "1 3\n",
      "2 4\n",
      "3 4\n",
      "K까지 1000000000\n",
      "x까지 1\n",
      "-1\n"
     ]
    }
   ],
   "source": [
    "#힙큐 사용한 더 효율적인 다익스트라 알고리즘\n",
    "import heapq\n",
    "\n",
    "answer = 0\n",
    "INF = int(1e9)\n",
    "n,m = map(int, input().split())#노드, 간선 개수\n",
    "\n",
    "graph = [[] for i in range(n+1)]\n",
    "visited = [False]*(n+1)\n",
    "distance = [INF]*(n+1)\n",
    "\n",
    "#모든 간선 정보 입력 받기\n",
    "for _ in range(m):\n",
    "    a,b = map(int, input().split())#a노드에서 b노드로 가는 비용이 c\n",
    "    graph[a].append((b,1))\n",
    "\n",
    "\n",
    "x, k = map(int, input().split())#도착, 소개팅\n",
    "\n",
    "def dijstra(start):\n",
    "    q = []\n",
    "    heapq.heappush(q,(0,start))\n",
    "    distance[start] = 0\n",
    "    \n",
    "    while q:\n",
    "        dist, now = heapq.heappop(q)\n",
    "        if distance[now] < dist: #이미 처리된 노드\n",
    "            continue\n",
    "        #now 노드랑 연결된 노드 확인\n",
    "        for i in graph[now]:\n",
    "            cost = dist + i[1]\n",
    "            if cost < distance[i[0]]:#now 노드 거쳐서 가는게 빠른 경우\n",
    "                distance[i[0]] = cost\n",
    "                heapq.heappush(q,(cost, i[0]))\n",
    "                \n",
    "                \n",
    "                \n",
    "##############                \n",
    "dijstra(1)\n",
    "##############\n",
    "\n",
    "#각 노드로 가는 최단 거리 출력\n",
    "print(\"K까지 \"+str(distance[k]))\n",
    "answer +=distance[k]\n",
    "\n",
    "##############                \n",
    "dijstra(k)\n",
    "##############\n",
    "\n",
    "#각 노드로 가는 최단 거리 출력\n",
    "print(\"x까지 \"+str(distance[x]))\n",
    "answer +=distance[x]\n",
    "\n",
    "if answer >= INF:\n",
    "    print(-1)\n",
    "else:\n",
    "    print(answer)"
   ]
  },
  {
   "cell_type": "code",
   "execution_count": 16,
   "metadata": {},
   "outputs": [
    {
     "name": "stdout",
     "output_type": "stream",
     "text": [
      "5 7\n",
      "1 2\n",
      "1 3\n",
      "1 4\n",
      "2 4\n",
      "3 4\n",
      "3 5\n",
      "4 5\n",
      "4 5\n",
      "3\n"
     ]
    }
   ],
   "source": [
    "n, m = map(int, input().split())\n",
    "\n",
    "#플로이드 워셜 알고리즘로 해보려고 했는데, 시작노드 설정이 없어서 어려울 것 같아 포기 -> 잘못됨\n",
    "#플로이드에서는 모든 시작 끝 경우 다 알 수 있음\n",
    "#graph[시작][끝]인거 잘 생각\n",
    "INF = int(1e9)\n",
    "graph = [[INF]*(n+1) for _ in range(n+1)]#2차원 리스트 무한으로 초기화\n",
    "\n",
    "for a in range(1, n+1):\n",
    "    for b in range(1, n+1):\n",
    "        if a==b:\n",
    "            graph[a][b] = 0\n",
    "\n",
    "#모든 간선 정보 입력 받기\n",
    "for _ in range(m):\n",
    "    a,b = map(int, input().split()) #a노드에서 b노드로 가는 비용이 c\n",
    "    graph[a][b] = 1\n",
    "    graph[b][a] = 1\n",
    "\n",
    "x, k = map(int, input().split())#도착, 소개팅\n",
    "for q in range(1, n+1):\n",
    "    for a in range(1, n+1):\n",
    "        for b in range(1, n+1):\n",
    "            graph[a][b] = min(graph[a][b], graph[a][q] + graph[q][b])\n",
    "            \n",
    "            \n",
    "print(graph[1][k]+graph[k][x])"
   ]
  },
  {
   "cell_type": "code",
   "execution_count": 15,
   "metadata": {},
   "outputs": [
    {
     "name": "stdout",
     "output_type": "stream",
     "text": [
      "3\n"
     ]
    }
   ],
   "source": [
    "print(graph[1][k]+graph[k][x])"
   ]
  }
 ],
 "metadata": {
  "kernelspec": {
   "display_name": "Python 3",
   "language": "python",
   "name": "python3"
  },
  "language_info": {
   "codemirror_mode": {
    "name": "ipython",
    "version": 3
   },
   "file_extension": ".py",
   "mimetype": "text/x-python",
   "name": "python",
   "nbconvert_exporter": "python",
   "pygments_lexer": "ipython3",
   "version": "3.8.5"
  }
 },
 "nbformat": 4,
 "nbformat_minor": 4
}
