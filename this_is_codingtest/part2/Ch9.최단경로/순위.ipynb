{
 "cells": [
  {
   "cell_type": "code",
   "execution_count": null,
   "metadata": {},
   "outputs": [],
   "source": [
    "# 다른사람 풀이\n",
    "\n",
    "# defaultdict 이용하자, append 아니고 add로 써야함\n",
    "\n",
    "from collections import defaultdict\n",
    "def solution(n, results):\n",
    "    answer = 0\n",
    "    win_graph = defaultdict(set)    # 이긴 애들\n",
    "    lose_graph = defaultdict(set)   # 진 애들\n",
    "    \n",
    "    for winner,loser in results:        # 결과에서 이기고 진 애들 그래프화\n",
    "        win_graph[loser].add(winner)\n",
    "        lose_graph[winner].add(loser)\n",
    "\n",
    "    for i in range(1,n+1):         \n",
    "        for winner in win_graph[i]:                    # i한테 진 애들은 i를 이긴 애들한테도 진 것\n",
    "            lose_graph[winner].update(lose_graph[i])\n",
    "        for loser in lose_graph[i]:                     # i한테 이긴 애들은 i한테 진 애들한테도 이긴 것\n",
    "            win_graph[loser].update(win_graph[i])\n",
    "    \n",
    "    for i in range(1,n+1):\n",
    "        if len(win_graph[i]) + len(lose_graph[i]) == n-1:   # i한테 이기고 진 애들 합쳐서 n-1이면 순위가 결정된 것\n",
    "            answer += 1\n",
    "    return answer"
   ]
  },
  {
   "cell_type": "code",
   "execution_count": 16,
   "metadata": {},
   "outputs": [
    {
     "name": "stdout",
     "output_type": "stream",
     "text": [
      "defaultdict(<class 'set'>, {})\n",
      "defaultdict(<class 'set'>, {'하나': {1}, '둘': {1}})\n",
      "defaultdict(<class 'set'>, {'하나': {1}, '둘': '둘 수정'})\n",
      "2\n",
      "{1, 2}\n",
      "[1, 2]\n",
      "1\n"
     ]
    }
   ],
   "source": [
    "from collections import defaultdict\n",
    "a = defaultdict(set)\n",
    "print(a)\n",
    "a[\"하나\"].add(1) #append 아니고 add로 써야함\n",
    "\n",
    "a[\"둘\"].add(1)\n",
    "print(a)\n",
    "\n",
    "a[\"둘\"] = \"둘 수정\" #=으로 넣으면 값 바뀜\n",
    "print(a)\n",
    "a[\"하나\"].add(2)\n",
    "print(len(a[\"하나\"])) #len은 가능\n",
    "\n",
    "print(a[\"하나\"])\n",
    "# print(a[\"하나\"][0]) set에 인덱스로 접근 못함, list로 한번 바꿔줘야 함\n",
    "A = list(a[\"하나\"])\n",
    "print(A)\n",
    "print(A[0])\n"
   ]
  },
  {
   "cell_type": "code",
   "execution_count": 18,
   "metadata": {},
   "outputs": [
    {
     "name": "stdout",
     "output_type": "stream",
     "text": [
      "defaultdict(<class 'set'>, {'하나': {1, 2}, '둘': '둘 수정'})\n",
      "defaultdict(<class 'set'>, {'하나': {1, 2}, '둘': '둘 수정'})\n",
      "defaultdict(<class 'set'>, {'하나': {2}, '둘': '둘 수정'})\n"
     ]
    }
   ],
   "source": [
    "# remove(item) : item에 해당하는 원소를 제거하고, 없으면 KeyError 발생\n",
    "# discard(item) : item에 해당하는 원소를 제거하고, 없어도 에러발생하지 않음\n",
    "print(a)\n",
    "a[\"하나\"].discard(\"없는거\")\n",
    "print(a)\n",
    "a[\"하나\"].remove(1)\n",
    "print(a)"
   ]
  },
  {
   "cell_type": "code",
   "execution_count": 35,
   "metadata": {},
   "outputs": [
    {
     "name": "stdout",
     "output_type": "stream",
     "text": [
      "{'일': 1}\n",
      "{'일': []}\n",
      "{'일': [3]}\n",
      "3\n"
     ]
    }
   ],
   "source": [
    "b = {} # 딕셔너리\n",
    "b['일'] = 1\n",
    "#b['일'].append(2) 이러면 에러남\n",
    "print(b)\n",
    "b['일'] = [] #리스트면 append가능\n",
    "print(b)\n",
    "b['일'].append(3)\n",
    "print(b)\n",
    "print(b['일'][0])"
   ]
  }
 ],
 "metadata": {
  "kernelspec": {
   "display_name": "Python 3",
   "language": "python",
   "name": "python3"
  },
  "language_info": {
   "codemirror_mode": {
    "name": "ipython",
    "version": 3
   },
   "file_extension": ".py",
   "mimetype": "text/x-python",
   "name": "python",
   "nbconvert_exporter": "python",
   "pygments_lexer": "ipython3",
   "version": "3.8.5"
  }
 },
 "nbformat": 4,
 "nbformat_minor": 4
}
