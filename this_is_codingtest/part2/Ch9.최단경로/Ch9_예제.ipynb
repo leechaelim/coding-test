{
 "cells": [
  {
   "cell_type": "code",
   "execution_count": 3,
   "metadata": {},
   "outputs": [
    {
     "name": "stdout",
     "output_type": "stream",
     "text": [
      "6 11\n",
      "1\n",
      "1 2 2\n",
      "1 3 5\n",
      "1 4 1\n",
      "2 3 3\n",
      "2 4 2\n",
      "3 2 3\n",
      "3 6 5\n",
      "4 3 3\n",
      "4 5 1\n",
      "5 3 1\n",
      "5 6 2\n",
      "0\n",
      "2\n",
      "3\n",
      "1\n",
      "2\n",
      "4\n"
     ]
    }
   ],
   "source": [
    "#다익스트라 알고리즘\n",
    "#import sys\n",
    "#input = sys.stdin.readline\n",
    "INF = int(1e9)\n",
    "n,m = map(int, input().split())#노드, 간선 개수\n",
    "start = int(input()) #시작 노드 번호\n",
    "graph = [[] for i in range(n+1)]\n",
    "visited = [False]*(n+1)\n",
    "distance = [INF]*(n+1)\n",
    "\n",
    "#모든 간선 정보 입력 받기\n",
    "for _ in range(m):\n",
    "    a,b,c = map(int, input().split())#a노드에서 b노드로 가는 비용이 c\n",
    "    graph[a].append((b,c))\n",
    "    \n",
    "def get_smallest_node():\n",
    "    min_value = INF\n",
    "    index = 0\n",
    "    for i in range(1,n+1):\n",
    "        if distance[i] < min_value and not visited[i]:\n",
    "            min_value = distance[i]\n",
    "            index = i\n",
    "    return index\n",
    "\n",
    "def dijstra(start):\n",
    "    distance[start] = 0\n",
    "    visited[start] = True\n",
    "    for j in graph[start]:\n",
    "        distance[j[0]] = j[1]\n",
    "    #시작노드를 제외한 전체 n-1개 노드에 대해 반복\n",
    "    for i in range(n-1):\n",
    "        now = get_smallest_node() #현재 최단 거리가 제일 짧은 노드 꺼냄\n",
    "        visited[now] = True\n",
    "        #now 노드랑 연결된 노드 확인\n",
    "        for j in graph[now]:\n",
    "            cost = distance[now] + j[1]\n",
    "            if cost < distance[j[0]]:#now 노드 거쳐서 가는게 빠른 경우\n",
    "                distance[j[0]] = cost\n",
    "\n",
    "                \n",
    "                \n",
    "                \n",
    "##############                \n",
    "dijstra(start)\n",
    "##############\n",
    "\n",
    "#각 노드로 가는 최단 거리 출력\n",
    "for i in range(1,n+1):\n",
    "    if distance[i] == INF:\n",
    "        print(\"무한대\")\n",
    "    else:\n",
    "        print(distance[i])\n",
    "\n"
   ]
  },
  {
   "cell_type": "code",
   "execution_count": 6,
   "metadata": {},
   "outputs": [
    {
     "name": "stdout",
     "output_type": "stream",
     "text": [
      "0\n",
      "2\n",
      "3\n",
      "1\n",
      "2\n",
      "4\n"
     ]
    }
   ],
   "source": [
    "#힙큐 사용한 더 효율적인 다익스트라 알고리즘\n",
    "import heapq\n",
    "\n",
    "\n",
    "INF = int(1e9)\n",
    "n,m = map(int, input().split())#노드, 간선 개수\n",
    "start = int(input()) #시작 노드 번호\n",
    "graph = [[] for i in range(n+1)]\n",
    "visited = [False]*(n+1)\n",
    "distance = [INF]*(n+1)\n",
    "\n",
    "#모든 간선 정보 입력 받기\n",
    "for _ in range(m):\n",
    "    a,b,c = map(int, input().split())#a노드에서 b노드로 가는 비용이 c\n",
    "    graph[a].append((b,c))\n",
    "    \n",
    "def dijstra(start):\n",
    "    q = []\n",
    "    heapq.heappush(q,(0,start))\n",
    "    distance[start] = 0\n",
    "    \n",
    "    while q:\n",
    "        dist, now = heapq.heappop(q)\n",
    "        if distance[now] < dist: #이미 처리된 노드\n",
    "            continue\n",
    "        #now 노드랑 연결된 노드 확인\n",
    "        for i in graph[now]:\n",
    "            cost = dist + i[1]\n",
    "            if cost < distance[i[0]]:#now 노드 거쳐서 가는게 빠른 경우\n",
    "                distance[i[0]] = cost\n",
    "                heapq.heappush(q,(cost, i[0]))\n",
    "                \n",
    "                \n",
    "                \n",
    "##############                \n",
    "dijstra(start)\n",
    "##############\n",
    "\n",
    "#각 노드로 가는 최단 거리 출력\n",
    "for i in range(1,n+1):\n",
    "    if distance[i] == INF:\n",
    "        print(\"무한대\")\n",
    "    else:\n",
    "        print(distance[i])\n",
    "\n"
   ]
  },
  {
   "cell_type": "code",
   "execution_count": 4,
   "metadata": {},
   "outputs": [
    {
     "name": "stdout",
     "output_type": "stream",
     "text": [
      "0 4 8 6 \n",
      "3 0 7 9 \n",
      "5 9 0 4 \n",
      "7 11 2 0 \n"
     ]
    }
   ],
   "source": [
    "#플로이드 워셜 알고리즘\n",
    "INF = int(1e9)\n",
    "n,m = map(int, input().split())#노드, 간선 개수\n",
    "graph = [[INF]*(n+1) for _ in range(n+1)]#2차원 리스트 무한으로 초기화\n",
    "\n",
    "for a in range(1, n+1):\n",
    "    for b in range(1, n+1):\n",
    "        if a==b:\n",
    "            graph[a][b] = 0\n",
    "\n",
    "#모든 간선 정보 입력 받기\n",
    "for _ in range(m):\n",
    "    a,b,c = map(int, input().split())#a노드에서 b노드로 가는 비용이 c\n",
    "    graph[a][b] = c\n",
    "    \n",
    "for k in range(1, n+1):\n",
    "    for a in range(1, n+1):\n",
    "        for b in range(1, n+1):\n",
    "            graph[a][b] = min(graph[a][b], graph[a][k] + graph[k][b])\n",
    "            \n",
    "for a in range(1, n+1):\n",
    "    for b in range(1, n+1):\n",
    "        if graph[a][b] == INF:\n",
    "            print(\"무한대\", end = \" \")\n",
    "        else:\n",
    "            print(graph[a][b], end = \" \")\n",
    "    print()"
   ]
  },
  {
   "cell_type": "code",
   "execution_count": 5,
   "metadata": {},
   "outputs": [
    {
     "data": {
      "text/plain": [
       "6"
      ]
     },
     "execution_count": 5,
     "metadata": {},
     "output_type": "execute_result"
    }
   ],
   "source": [
    "#1에서 시작해서 4로 도착하는 최단 거리\n",
    "graph[1][4]"
   ]
  }
 ],
 "metadata": {
  "kernelspec": {
   "display_name": "Python 3",
   "language": "python",
   "name": "python3"
  },
  "language_info": {
   "codemirror_mode": {
    "name": "ipython",
    "version": 3
   },
   "file_extension": ".py",
   "mimetype": "text/x-python",
   "name": "python",
   "nbconvert_exporter": "python",
   "pygments_lexer": "ipython3",
   "version": "3.8.5"
  }
 },
 "nbformat": 4,
 "nbformat_minor": 4
}
