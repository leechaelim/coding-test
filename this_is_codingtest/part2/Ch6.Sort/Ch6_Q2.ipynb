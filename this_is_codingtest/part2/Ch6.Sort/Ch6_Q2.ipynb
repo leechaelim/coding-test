{
 "cells": [
  {
   "cell_type": "code",
   "execution_count": 18,
   "metadata": {},
   "outputs": [
    {
     "name": "stdout",
     "output_type": "stream",
     "text": [
      "2\n",
      "홍길동 95\n",
      "이순시 77\n",
      "이순시 홍길동 "
     ]
    }
   ],
   "source": [
    "#7m 26s\n",
    "def setting(data):\n",
    "    return int(data[1])\n",
    "\n",
    "N = int(input())\n",
    "array = []\n",
    "for i in range(N):\n",
    "    array.append(tuple(map(str, input().split())))\n",
    "    \n",
    "array = sorted(array, key = setting)\n",
    "\n",
    "for x in array:\n",
    "    print(x[0], end = \" \")"
   ]
  },
  {
   "cell_type": "code",
   "execution_count": null,
   "metadata": {},
   "outputs": [],
   "source": [
    "N = int(input())\n",
    "array = []\n",
    "for i in range(N):\n",
    "    input_data = input().split()\n",
    "    array.append((input_data[0], input_data[1])) # 튜플 append\n",
    "    \n",
    "array = sorted(array, key = lambda X: X[1])\n",
    "\n",
    "for x in array:\n",
    "    print(x[0], end = \" \")"
   ]
  },
  {
   "cell_type": "code",
   "execution_count": 21,
   "metadata": {},
   "outputs": [
    {
     "data": {
      "text/plain": [
       "['김', '34']"
      ]
     },
     "execution_count": 21,
     "metadata": {},
     "output_type": "execute_result"
    }
   ],
   "source": [
    "input_data"
   ]
  }
 ],
 "metadata": {
  "kernelspec": {
   "display_name": "Python 3",
   "language": "python",
   "name": "python3"
  },
  "language_info": {
   "codemirror_mode": {
    "name": "ipython",
    "version": 3
   },
   "file_extension": ".py",
   "mimetype": "text/x-python",
   "name": "python",
   "nbconvert_exporter": "python",
   "pygments_lexer": "ipython3",
   "version": "3.8.5"
  }
 },
 "nbformat": 4,
 "nbformat_minor": 4
}
