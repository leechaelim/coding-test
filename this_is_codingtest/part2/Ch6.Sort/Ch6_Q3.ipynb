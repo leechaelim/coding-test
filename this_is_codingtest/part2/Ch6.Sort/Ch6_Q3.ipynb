{
 "cells": [
  {
   "cell_type": "code",
   "execution_count": 10,
   "metadata": {},
   "outputs": [
    {
     "name": "stdout",
     "output_type": "stream",
     "text": [
      "5 3\n",
      "1 2 5 4 3\n",
      "5 5 6 6 5\n",
      "26\n"
     ]
    }
   ],
   "source": [
    "#7m 9s -> 예외 있음, 틀림\n",
    "input_data = input().split()\n",
    "N = int(input_data[0])\n",
    "K = int(input_data[1])\n",
    "#N, K = map(int, input().split())\n",
    "array_A = list(map(int, input().split()))\n",
    "array_B = list(map(int, input().split()))\n",
    "\n",
    "array_A = sorted(array_A)\n",
    "array_B = sorted(array_B, reverse = True)\n",
    "\n",
    "for i in range(K):\n",
    "    array_A[i] = array_B[i]\n",
    "    \n",
    "print(sum(array_A))"
   ]
  },
  {
   "cell_type": "code",
   "execution_count": 11,
   "metadata": {},
   "outputs": [
    {
     "data": {
      "text/plain": [
       "[6, 6, 5, 4, 5]"
      ]
     },
     "execution_count": 11,
     "metadata": {},
     "output_type": "execute_result"
    }
   ],
   "source": [
    "array_A"
   ]
  },
  {
   "cell_type": "code",
   "execution_count": null,
   "metadata": {},
   "outputs": [],
   "source": [
    "N, K = map(int, input().split())\n",
    "array_A = list(map(int, input().split()))\n",
    "array_B = list(map(int, input().split()))\n",
    "\n",
    "array_A = sorted(array_A)\n",
    "array_B = sorted(array_B, reverse = True)\n",
    "\n",
    "for i in range(K): # A에서 더 작을 때만 스왑해줘야했다\n",
    "    if array_A[i]<array_B[i]:\n",
    "        array_A[i] = array_B[i]\n",
    "    else:\n",
    "        break # 그냥 else처리 안해도 되긴하는데 break해줘야지 실행 시간 짧아지지\n",
    "        \n",
    "print(sum(array_A))"
   ]
  }
 ],
 "metadata": {
  "kernelspec": {
   "display_name": "Python 3",
   "language": "python",
   "name": "python3"
  },
  "language_info": {
   "codemirror_mode": {
    "name": "ipython",
    "version": 3
   },
   "file_extension": ".py",
   "mimetype": "text/x-python",
   "name": "python",
   "nbconvert_exporter": "python",
   "pygments_lexer": "ipython3",
   "version": "3.8.5"
  }
 },
 "nbformat": 4,
 "nbformat_minor": 4
}
