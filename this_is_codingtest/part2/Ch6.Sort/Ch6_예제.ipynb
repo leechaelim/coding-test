{
 "cells": [
  {
   "cell_type": "code",
   "execution_count": 2,
   "metadata": {},
   "outputs": [
    {
     "name": "stdout",
     "output_type": "stream",
     "text": [
      "[0, 5, 2, 6, 7, 8, 1, 3, 3, 8, 9]\n",
      "[0, 1, 2, 6, 7, 8, 5, 3, 3, 8, 9]\n",
      "[0, 1, 2, 6, 7, 8, 5, 3, 3, 8, 9]\n",
      "[0, 1, 2, 3, 7, 8, 5, 6, 3, 8, 9]\n",
      "[0, 1, 2, 3, 3, 8, 5, 6, 7, 8, 9]\n",
      "[0, 1, 2, 3, 3, 5, 8, 6, 7, 8, 9]\n",
      "[0, 1, 2, 3, 3, 5, 6, 8, 7, 8, 9]\n",
      "[0, 1, 2, 3, 3, 5, 6, 7, 8, 8, 9]\n",
      "[0, 1, 2, 3, 3, 5, 6, 7, 8, 8, 9]\n",
      "[0, 1, 2, 3, 3, 5, 6, 7, 8, 8, 9]\n",
      "[0, 1, 2, 3, 3, 5, 6, 7, 8, 8, 9]\n"
     ]
    }
   ],
   "source": [
    "# 선택 정렬\n",
    "array = [ 3,5,2,6,7,8,1,0,3,8,9]\n",
    "for i in range(len(array)):\n",
    "    min_index = i\n",
    "    for j in range(i+1,len(array)):\n",
    "        if array[min_index] > array[j]:\n",
    "            min_index = j\n",
    "    array[i], array[min_index] = array[min_index],array[i]\n",
    "    print(array)"
   ]
  }
 ],
 "metadata": {
  "kernelspec": {
   "display_name": "Python 3",
   "language": "python",
   "name": "python3"
  },
  "language_info": {
   "codemirror_mode": {
    "name": "ipython",
    "version": 3
   },
   "file_extension": ".py",
   "mimetype": "text/x-python",
   "name": "python",
   "nbconvert_exporter": "python",
   "pygments_lexer": "ipython3",
   "version": "3.8.5"
  }
 },
 "nbformat": 4,
 "nbformat_minor": 4
}
