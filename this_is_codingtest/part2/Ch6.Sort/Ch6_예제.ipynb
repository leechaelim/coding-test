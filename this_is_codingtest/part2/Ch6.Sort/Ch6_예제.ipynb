{
 "cells": [
  {
   "cell_type": "code",
   "execution_count": 2,
   "metadata": {},
   "outputs": [
    {
     "name": "stdout",
     "output_type": "stream",
     "text": [
      "[0, 5, 2, 6, 7, 8, 1, 3, 3, 8, 9]\n",
      "[0, 1, 2, 6, 7, 8, 5, 3, 3, 8, 9]\n",
      "[0, 1, 2, 6, 7, 8, 5, 3, 3, 8, 9]\n",
      "[0, 1, 2, 3, 7, 8, 5, 6, 3, 8, 9]\n",
      "[0, 1, 2, 3, 3, 8, 5, 6, 7, 8, 9]\n",
      "[0, 1, 2, 3, 3, 5, 8, 6, 7, 8, 9]\n",
      "[0, 1, 2, 3, 3, 5, 6, 8, 7, 8, 9]\n",
      "[0, 1, 2, 3, 3, 5, 6, 7, 8, 8, 9]\n",
      "[0, 1, 2, 3, 3, 5, 6, 7, 8, 8, 9]\n",
      "[0, 1, 2, 3, 3, 5, 6, 7, 8, 8, 9]\n",
      "[0, 1, 2, 3, 3, 5, 6, 7, 8, 8, 9]\n"
     ]
    }
   ],
   "source": [
    "# 6-1 선택 정렬\n",
    "array = [ 3,5,2,6,7,8,1,0,3,8,9]\n",
    "for i in range(len(array)):\n",
    "    min_index = i\n",
    "    for j in range(i+1,len(array)):\n",
    "        if array[min_index] > array[j]:\n",
    "            min_index = j\n",
    "    array[i], array[min_index] = array[min_index],array[i]\n",
    "    print(array)"
   ]
  },
  {
   "cell_type": "code",
   "execution_count": 4,
   "metadata": {},
   "outputs": [
    {
     "name": "stdout",
     "output_type": "stream",
     "text": [
      "1 2\n",
      "2 1\n"
     ]
    }
   ],
   "source": [
    "# 파이썬에서의 swqp\n",
    "\n",
    "a = 1\n",
    "b = 2\n",
    "print(a,b)\n",
    "\n",
    "a, b = b, a\n",
    "\n",
    "print(a,b)"
   ]
  },
  {
   "cell_type": "code",
   "execution_count": 6,
   "metadata": {},
   "outputs": [
    {
     "name": "stdout",
     "output_type": "stream",
     "text": [
      "[3, 2, 5, 6, 7, 8, 1, 0, 3, 8, 9]\n",
      "[2, 3, 5, 6, 7, 8, 1, 0, 3, 8, 9]\n",
      "[2, 3, 5, 6, 7, 1, 8, 0, 3, 8, 9]\n",
      "[2, 3, 5, 6, 1, 7, 8, 0, 3, 8, 9]\n",
      "[2, 3, 5, 1, 6, 7, 8, 0, 3, 8, 9]\n",
      "[2, 3, 1, 5, 6, 7, 8, 0, 3, 8, 9]\n",
      "[2, 1, 3, 5, 6, 7, 8, 0, 3, 8, 9]\n",
      "[1, 2, 3, 5, 6, 7, 8, 0, 3, 8, 9]\n",
      "[1, 2, 3, 5, 6, 7, 0, 8, 3, 8, 9]\n",
      "[1, 2, 3, 5, 6, 0, 7, 8, 3, 8, 9]\n",
      "[1, 2, 3, 5, 0, 6, 7, 8, 3, 8, 9]\n",
      "[1, 2, 3, 0, 5, 6, 7, 8, 3, 8, 9]\n",
      "[1, 2, 0, 3, 5, 6, 7, 8, 3, 8, 9]\n",
      "[1, 0, 2, 3, 5, 6, 7, 8, 3, 8, 9]\n",
      "[0, 1, 2, 3, 5, 6, 7, 8, 3, 8, 9]\n",
      "[0, 1, 2, 3, 5, 6, 7, 3, 8, 8, 9]\n",
      "[0, 1, 2, 3, 5, 6, 3, 7, 8, 8, 9]\n",
      "[0, 1, 2, 3, 5, 3, 6, 7, 8, 8, 9]\n",
      "[0, 1, 2, 3, 3, 5, 6, 7, 8, 8, 9]\n"
     ]
    }
   ],
   "source": [
    "# 6-3 삽입 정렬, 리스트가 거의 정렬되어 있는 경우에는 삽입 정렬이 우수\n",
    "array = [ 3,5,2,6,7,8,1,0,3,8,9]\n",
    "\n",
    "for i in range(len(array)):\n",
    "    for j in range(i, 0, -1): # 1씩 감소하도록\n",
    "        if array[j] < array[j - 1]:\n",
    "            array[j], array[j-1] = array[j-1],array[j]\n",
    "            print(array)\n",
    "        else:\n",
    "            break\n"
   ]
  },
  {
   "cell_type": "code",
   "execution_count": 14,
   "metadata": {},
   "outputs": [
    {
     "name": "stdout",
     "output_type": "stream",
     "text": [
      "[2, 1, 0, 3, 3, 5, 6, 7, 8, 8, 9]\n",
      "[1, 0, 2, 3]\n",
      "[0, 1]\n",
      "[5, 6, 7, 8, 8, 9]\n",
      "[6, 7, 8, 8, 9]\n",
      "[7, 8, 8, 9]\n",
      "[8, 8, 9]\n",
      "[0, 1, 2, 3, 3, 5, 6, 7, 8, 8, 9]\n"
     ]
    }
   ],
   "source": [
    "# 6-5 파이썬용 퀵 정렬\n",
    "array = [ 3,5,2,6,7,8,1,0,3,8,9]\n",
    "\n",
    "def quick_sort(array):\n",
    "    if len(array) <= 1:\n",
    "        return array\n",
    "    \n",
    "    pivot = array[0]\n",
    "    tail = array[1:] #피벗 제외한 리스트\n",
    "    \n",
    "    left_side = [ x for x in tail if x <= pivot]\n",
    "    right_side = [ x for x in tail if x > pivot]\n",
    "    print(left_side+[pivot]+right_side)\n",
    "    return quick_sort(left_side)+[pivot]+quick_sort(right_side)\n",
    "\n",
    "print(quick_sort(array))"
   ]
  }
 ],
 "metadata": {
  "kernelspec": {
   "display_name": "Python 3",
   "language": "python",
   "name": "python3"
  },
  "language_info": {
   "codemirror_mode": {
    "name": "ipython",
    "version": 3
   },
   "file_extension": ".py",
   "mimetype": "text/x-python",
   "name": "python",
   "nbconvert_exporter": "python",
   "pygments_lexer": "ipython3",
   "version": "3.8.5"
  }
 },
 "nbformat": 4,
 "nbformat_minor": 4
}
