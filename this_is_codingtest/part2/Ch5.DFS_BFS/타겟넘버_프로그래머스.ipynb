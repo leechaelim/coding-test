{
 "cells": [
  {
   "cell_type": "code",
   "execution_count": 10,
   "metadata": {},
   "outputs": [],
   "source": [
    "\n",
    "def solution(numbers, target):\n",
    "    if not numbers and target == 0 :\n",
    "        print(numbers, target, 1)\n",
    "        return 1\n",
    "    elif not numbers:\n",
    "        print(numbers, target, 0)\n",
    "        return 0\n",
    "    else:\n",
    "        print(\"f\")\n",
    "        print(numbers[1:], target-numbers[0], target+numbers[0])\n",
    "        return solution(numbers[1:], target-numbers[0]) + solution(numbers[1:], target+numbers[0])\n",
    "\n"
   ]
  },
  {
   "cell_type": "code",
   "execution_count": 11,
   "metadata": {},
   "outputs": [
    {
     "name": "stdout",
     "output_type": "stream",
     "text": [
      "f\n",
      "[1, 1, 1, 1] 2 4\n",
      "f\n",
      "[1, 1, 1] 1 3\n",
      "f\n",
      "[1, 1] 0 2\n",
      "f\n",
      "[1] -1 1\n",
      "f\n",
      "[] -2 0\n",
      "[] -2 0\n",
      "[] 0 1\n",
      "f\n",
      "[] 0 2\n",
      "[] 0 1\n",
      "[] 2 0\n",
      "f\n",
      "[1] 1 3\n",
      "f\n",
      "[] 0 2\n",
      "[] 0 1\n",
      "[] 2 0\n",
      "f\n",
      "[] 2 4\n",
      "[] 2 0\n",
      "[] 4 0\n",
      "f\n",
      "[1, 1] 2 4\n",
      "f\n",
      "[1] 1 3\n",
      "f\n",
      "[] 0 2\n",
      "[] 0 1\n",
      "[] 2 0\n",
      "f\n",
      "[] 2 4\n",
      "[] 2 0\n",
      "[] 4 0\n",
      "f\n",
      "[1] 3 5\n",
      "f\n",
      "[] 2 4\n",
      "[] 2 0\n",
      "[] 4 0\n",
      "f\n",
      "[] 4 6\n",
      "[] 4 0\n",
      "[] 6 0\n",
      "f\n",
      "[1, 1, 1] 3 5\n",
      "f\n",
      "[1, 1] 2 4\n",
      "f\n",
      "[1] 1 3\n",
      "f\n",
      "[] 0 2\n",
      "[] 0 1\n",
      "[] 2 0\n",
      "f\n",
      "[] 2 4\n",
      "[] 2 0\n",
      "[] 4 0\n",
      "f\n",
      "[1] 3 5\n",
      "f\n",
      "[] 2 4\n",
      "[] 2 0\n",
      "[] 4 0\n",
      "f\n",
      "[] 4 6\n",
      "[] 4 0\n",
      "[] 6 0\n",
      "f\n",
      "[1, 1] 4 6\n",
      "f\n",
      "[1] 3 5\n",
      "f\n",
      "[] 2 4\n",
      "[] 2 0\n",
      "[] 4 0\n",
      "f\n",
      "[] 4 6\n",
      "[] 4 0\n",
      "[] 6 0\n",
      "f\n",
      "[1] 5 7\n",
      "f\n",
      "[] 4 6\n",
      "[] 4 0\n",
      "[] 6 0\n",
      "f\n",
      "[] 6 8\n",
      "[] 6 0\n",
      "[] 8 0\n"
     ]
    },
    {
     "data": {
      "text/plain": [
       "5"
      ]
     },
     "execution_count": 11,
     "metadata": {},
     "output_type": "execute_result"
    }
   ],
   "source": [
    "solution([1,1,1,1,1],3)"
   ]
  },
  {
   "cell_type": "code",
   "execution_count": 5,
   "metadata": {},
   "outputs": [
    {
     "data": {
      "text/plain": [
       "[2, 3, 4, 5]"
      ]
     },
     "execution_count": 5,
     "metadata": {},
     "output_type": "execute_result"
    }
   ],
   "source": [
    "numbers =[1,2,3,4,5]\n",
    "numbers[1:]"
   ]
  }
 ],
 "metadata": {
  "kernelspec": {
   "display_name": "Python 3",
   "language": "python",
   "name": "python3"
  },
  "language_info": {
   "codemirror_mode": {
    "name": "ipython",
    "version": 3
   },
   "file_extension": ".py",
   "mimetype": "text/x-python",
   "name": "python",
   "nbconvert_exporter": "python",
   "pygments_lexer": "ipython3",
   "version": "3.8.5"
  }
 },
 "nbformat": 4,
 "nbformat_minor": 4
}
