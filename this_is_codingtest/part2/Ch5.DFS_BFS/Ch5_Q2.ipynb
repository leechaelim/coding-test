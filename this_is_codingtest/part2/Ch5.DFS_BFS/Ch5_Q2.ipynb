{
 "cells": [
  {
   "cell_type": "code",
   "execution_count": 20,
   "metadata": {},
   "outputs": [
    {
     "name": "stdout",
     "output_type": "stream",
     "text": [
      "3 3\n",
      "111\n",
      "011\n",
      "111\n"
     ]
    }
   ],
   "source": [
    "N, M  = map(int, input().split())\n",
    "map_list=[]\n",
    "for i in range(N):\n",
    "    map_list.append(list(map(int,input())))"
   ]
  },
  {
   "cell_type": "code",
   "execution_count": 19,
   "metadata": {},
   "outputs": [],
   "source": [
    "from collections import deque\n",
    "\n",
    "def bfs(x, y):\n",
    "    queue = deque([(x, y)])\n",
    "    while queue: #큐가 빌 때까지 계속, 큐가 비어있으면 False\n",
    "        v = queue.popleft()\n",
    "        dx = [1,-1,0,0]\n",
    "        dy = [0,0,1,-1]\n",
    "        for i in range(4):\n",
    "            nx = v[0]+dx[i]\n",
    "            ny = v[1]+dy[i]\n",
    "\n",
    "            if nx < 0 or nx > N-1 or ny < 0 or ny > M-1:\n",
    "                continue\n",
    "            if map_list[nx][ny] == 1:\n",
    "                queue.append((nx,ny))\n",
    "                map_list[nx][ny] = map_list[v[0]][v[1]] + 1\n",
    "                for x in map_list:\n",
    "                    print(x)\n",
    "            if map_list[nx][ny] == 0:\n",
    "                continue\n",
    "    return map_list[N-1][M-1]"
   ]
  },
  {
   "cell_type": "code",
   "execution_count": 14,
   "metadata": {},
   "outputs": [],
   "source": [
    "##이거 아님\n",
    "from collections import deque\n",
    "\n",
    "number = 1\n",
    "def bfs(x, y):\n",
    "    global number\n",
    "    if map_list[x][y] == 1:\n",
    "        map_list[x][y] = number\n",
    "        if x+1<N:\n",
    "            bfs(x+1,y)\n",
    "        if y+1<M:\n",
    "            bfs(x,y+1)\n",
    "        if x-1>=0:\n",
    "            bfs(x-1,y)\n",
    "        if y-1>=0:\n",
    "            bfs(x,y-1)\n",
    "        number =+ 1\n",
    "    elif map_list[x][y] == 0:\n",
    "        return False"
   ]
  },
  {
   "cell_type": "code",
   "execution_count": 21,
   "metadata": {},
   "outputs": [
    {
     "name": "stdout",
     "output_type": "stream",
     "text": [
      "[1, 2, 1]\n",
      "[0, 1, 1]\n",
      "[1, 1, 1]\n",
      "[1, 2, 1]\n",
      "[0, 3, 1]\n",
      "[1, 1, 1]\n",
      "[1, 2, 3]\n",
      "[0, 3, 1]\n",
      "[1, 1, 1]\n",
      "[3, 2, 3]\n",
      "[0, 3, 1]\n",
      "[1, 1, 1]\n",
      "[3, 2, 3]\n",
      "[0, 3, 1]\n",
      "[1, 4, 1]\n",
      "[3, 2, 3]\n",
      "[0, 3, 4]\n",
      "[1, 4, 1]\n",
      "[3, 2, 3]\n",
      "[0, 3, 4]\n",
      "[1, 4, 5]\n",
      "[3, 2, 3]\n",
      "[0, 3, 4]\n",
      "[5, 4, 5]\n"
     ]
    },
    {
     "data": {
      "text/plain": [
       "5"
      ]
     },
     "execution_count": 21,
     "metadata": {},
     "output_type": "execute_result"
    }
   ],
   "source": [
    "bfs(0, 0)"
   ]
  },
  {
   "cell_type": "code",
   "execution_count": 18,
   "metadata": {},
   "outputs": [
    {
     "name": "stdout",
     "output_type": "stream",
     "text": [
      "[3, 2, 3, 4]\n",
      "[2, 3, 4, 5]\n",
      "[3, 4, 5, 6]\n",
      "[4, 5, 6, 7]\n"
     ]
    }
   ],
   "source": [
    "for x in map_list:\n",
    "    print(x)"
   ]
  }
 ],
 "metadata": {
  "kernelspec": {
   "display_name": "Python 3",
   "language": "python",
   "name": "python3"
  },
  "language_info": {
   "codemirror_mode": {
    "name": "ipython",
    "version": 3
   },
   "file_extension": ".py",
   "mimetype": "text/x-python",
   "name": "python",
   "nbconvert_exporter": "python",
   "pygments_lexer": "ipython3",
   "version": "3.8.5"
  }
 },
 "nbformat": 4,
 "nbformat_minor": 4
}
