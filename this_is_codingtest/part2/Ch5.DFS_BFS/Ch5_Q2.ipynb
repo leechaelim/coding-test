{
 "cells": [
  {
   "cell_type": "code",
   "execution_count": 1,
   "metadata": {},
   "outputs": [
    {
     "name": "stdout",
     "output_type": "stream",
     "text": [
      "5 6\n",
      "101010\n",
      "111111\n",
      "000001\n",
      "111111\n",
      "111111\n"
     ]
    }
   ],
   "source": [
    "N, M  = map(int, input().split())\n",
    "map_list=[]\n",
    "for i in range(N):\n",
    "    map_list.append(list(map(int,input())))"
   ]
  },
  {
   "cell_type": "code",
   "execution_count": null,
   "metadata": {},
   "outputs": [],
   "source": [
    "def dfs(x, y):\n",
    "    if map_list[x][y] == 0:\n",
    "        if dfs(x+1,y) :\n",
    "            map_list[x][y] = 2\n",
    "            continue\n",
    "        elif dfs(x,y+1) :\n",
    "            map_list[x][y] = 2\n",
    "            continue\n",
    "        elif dfs(x-1,y) :\n",
    "            map_list[x][y] = 2\n",
    "            continue\n",
    "        elif dfs(x,y-1) :\n",
    "            map_list[x][y] = 2\n",
    "            continue\n",
    "    elif map_list[x][y] == 1:\n",
    "        return False"
   ]
  }
 ],
 "metadata": {
  "kernelspec": {
   "display_name": "Python 3",
   "language": "python",
   "name": "python3"
  },
  "language_info": {
   "codemirror_mode": {
    "name": "ipython",
    "version": 3
   },
   "file_extension": ".py",
   "mimetype": "text/x-python",
   "name": "python",
   "nbconvert_exporter": "python",
   "pygments_lexer": "ipython3",
   "version": "3.8.5"
  }
 },
 "nbformat": 4,
 "nbformat_minor": 4
}
