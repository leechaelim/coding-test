{
 "cells": [
  {
   "cell_type": "code",
   "execution_count": 55,
   "metadata": {},
   "outputs": [
    {
     "name": "stdout",
     "output_type": "stream",
     "text": [
      "5\n",
      "10 -1\n",
      "10 1 -1\n",
      "4 1 -1\n",
      "4 3 1 -1\n",
      "3 3 -1\n",
      "10\n",
      "20\n",
      "14\n",
      "28\n",
      "17\n"
     ]
    }
   ],
   "source": [
    "from collections import deque\n",
    "N = int(input())\n",
    "indegree = [0]*(N+1)\n",
    "graph = [[] for _ in range(N+1)]\n",
    "N_list = []\n",
    "time = [0]*(N+1)\n",
    "for X in range(N):\n",
    "    N_list = list(map(int, input().split()))\n",
    "    time[X+1] = N_list[0]\n",
    "    for i in range(1,len(N_list)):\n",
    "        if N_list[i]!= -1:\n",
    "            graph[N_list[i]].append(X+1)\n",
    "            indegree[X+1] += 1\n",
    "        else:\n",
    "            break\n",
    "    \n",
    "def topology():\n",
    "    result = [0]*(N+1)\n",
    "    q = deque()\n",
    "    for i in range(1,N+1):\n",
    "        if indegree[i] == 0:\n",
    "            q.append(i)\n",
    "            result[i]+=time[i]\n",
    "    while q:\n",
    "        now = q.popleft()\n",
    "        for i in graph[now]:\n",
    "            result[i]+=max(time[now],result[now])\n",
    "            indegree[i] -= 1\n",
    "            if indegree[i] == 0:\n",
    "                q.append(i)\n",
    "                result[i]+=time[i]\n",
    "    for i in range(1,len(result)):\n",
    "        print(result[i])\n",
    "        \n",
    "topology()"
   ]
  },
  {
   "cell_type": "code",
   "execution_count": 32,
   "metadata": {},
   "outputs": [
    {
     "data": {
      "text/plain": [
       "[0, 10, 10, 4, 4, 3]"
      ]
     },
     "execution_count": 32,
     "metadata": {},
     "output_type": "execute_result"
    }
   ],
   "source": [
    "time"
   ]
  },
  {
   "cell_type": "code",
   "execution_count": 34,
   "metadata": {},
   "outputs": [
    {
     "data": {
      "text/plain": [
       "[[], [2, 3, 4], [], [4, 5], [], []]"
      ]
     },
     "execution_count": 34,
     "metadata": {},
     "output_type": "execute_result"
    }
   ],
   "source": [
    "graph"
   ]
  }
 ],
 "metadata": {
  "kernelspec": {
   "display_name": "Python 3",
   "language": "python",
   "name": "python3"
  },
  "language_info": {
   "codemirror_mode": {
    "name": "ipython",
    "version": 3
   },
   "file_extension": ".py",
   "mimetype": "text/x-python",
   "name": "python",
   "nbconvert_exporter": "python",
   "pygments_lexer": "ipython3",
   "version": "3.8.5"
  }
 },
 "nbformat": 4,
 "nbformat_minor": 4
}
