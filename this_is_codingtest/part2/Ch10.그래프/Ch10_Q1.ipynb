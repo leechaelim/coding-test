{
 "cells": [
  {
   "cell_type": "code",
   "execution_count": 1,
   "metadata": {},
   "outputs": [
    {
     "name": "stdout",
     "output_type": "stream",
     "text": [
      "7 8\n",
      "0 1 3\n",
      "1 1 7\n",
      "NO\n",
      "0 7 6\n",
      "1 7 1\n",
      "NO\n",
      "0 3 7\n",
      "0 4 2\n",
      "0 1 1\n",
      "1 1 1\n",
      "YES\n"
     ]
    }
   ],
   "source": [
    "#서로소 집합 이용한 사이클 찾기\n",
    "\n",
    "# 특정원소가 속한 집합찾기\n",
    "def find_parent(parent, x):\n",
    "    #루트 노드 찾을 때까지 재귀적으로 호출\n",
    "    if parent[x] != x:\n",
    "        parent[x] = find_parent(parent, parent[x])\n",
    "    return parent[x] \n",
    "\n",
    "# 두 원소가 속한 집합 찾기\n",
    "def union_parent(parent, a, b):\n",
    "    a = find_parent(parent, a)\n",
    "    b = find_parent(parent, b)\n",
    "    if a < b:\n",
    "        parent[b] = a\n",
    "    else:\n",
    "        parent[a] = b\n",
    "    \n",
    "    \n",
    "# 노드 개수: v, 간선 개수(union 연산): e\n",
    "v, e = map(int, input().split())\n",
    "# 부모 테이블 초기화\n",
    "parent = [0] * (v + 1)\n",
    "for i in range(1,v+1):\n",
    "    parent[i] = i\n",
    "    \n",
    "\n",
    "# union 연산 수행\n",
    "for i in range(e):\n",
    "    goal, a, b = map(int, input().split())\n",
    "    if goal == 0:\n",
    "        union_parent(parent, a, b)\n",
    "    elif goal == 1:\n",
    "        if find_parent(parent, a) == find_parent(parent, b):\n",
    "            print(\"YES\")\n",
    "        else:\n",
    "            print(\"NO\")"
   ]
  }
 ],
 "metadata": {
  "kernelspec": {
   "display_name": "Python 3",
   "language": "python",
   "name": "python3"
  },
  "language_info": {
   "codemirror_mode": {
    "name": "ipython",
    "version": 3
   },
   "file_extension": ".py",
   "mimetype": "text/x-python",
   "name": "python",
   "nbconvert_exporter": "python",
   "pygments_lexer": "ipython3",
   "version": "3.8.5"
  }
 },
 "nbformat": 4,
 "nbformat_minor": 4
}
