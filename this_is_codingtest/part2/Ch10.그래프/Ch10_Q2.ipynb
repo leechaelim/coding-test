{
 "cells": [
  {
   "cell_type": "code",
   "execution_count": null,
   "metadata": {},
   "outputs": [],
   "source": [
    "def find_parent(parent, x):\n",
    "    if parent[x] != x:\n",
    "        parent[x] = find_parent(parent,parent[x])\n",
    "    return parent[x]\n",
    "\n",
    "def union(parent, a, b):\n",
    "    A = find_parent(parent, a)\n",
    "    B = find_parent(parent, b)\n",
    "    if A < B:\n",
    "        parent[B] = parent[A]\n",
    "    else:\n",
    "        parent[A] = parent[B]\n",
    "        \n",
    "N, M = map(int, input().split())\n",
    "parent = [0]* (N+1)\n",
    "edges = []\n",
    "result = 0\n",
    "for i in range(N+1):\n",
    "    parent[i] = i\n",
    "    \n",
    "for i in range(M):\n",
    "    a, b, c= map(int, input().split())\n",
    "    edges.append((c, a, b))\n",
    "    #union(parent, a, b)\n",
    "edges.sort()\n",
    "last = 0\n",
    "for edge in edges:\n",
    "    cost, a, b = edge\n",
    "    # 사이클이 아닌 경우에만 집합에 포함\n",
    "    if find_parent(parent, a) != find_parent(parent, b):\n",
    "        union(parent, a, b)\n",
    "        result += cost\n",
    "        last = cost\n",
    "print(result - last)    \n"
   ]
  },
  {
   "cell_type": "code",
   "execution_count": 16,
   "metadata": {},
   "outputs": [
    {
     "data": {
      "text/plain": [
       "[0, 1, 1, 1, 1, 1, 1, 1]"
      ]
     },
     "execution_count": 16,
     "metadata": {},
     "output_type": "execute_result"
    }
   ],
   "source": [
    "parent #서클 ㅇ"
   ]
  },
  {
   "cell_type": "code",
   "execution_count": 17,
   "metadata": {},
   "outputs": [
    {
     "data": {
      "text/plain": [
       "[(1, 3, 2),\n",
       " (1, 6, 4),\n",
       " (2, 1, 3),\n",
       " (2, 1, 6),\n",
       " (2, 2, 5),\n",
       " (3, 1, 2),\n",
       " (3, 4, 5),\n",
       " (3, 6, 5),\n",
       " (4, 3, 4),\n",
       " (4, 6, 7),\n",
       " (5, 5, 1),\n",
       " (6, 7, 3)]"
      ]
     },
     "execution_count": 17,
     "metadata": {},
     "output_type": "execute_result"
    }
   ],
   "source": [
    "edges"
   ]
  }
 ],
 "metadata": {
  "kernelspec": {
   "display_name": "Python 3",
   "language": "python",
   "name": "python3"
  },
  "language_info": {
   "codemirror_mode": {
    "name": "ipython",
    "version": 3
   },
   "file_extension": ".py",
   "mimetype": "text/x-python",
   "name": "python",
   "nbconvert_exporter": "python",
   "pygments_lexer": "ipython3",
   "version": "3.8.5"
  }
 },
 "nbformat": 4,
 "nbformat_minor": 4
}
