{
 "cells": [
  {
   "cell_type": "markdown",
   "metadata": {},
   "source": [
    "## 서로소 집합"
   ]
  },
  {
   "cell_type": "code",
   "execution_count": 2,
   "metadata": {},
   "outputs": [
    {
     "name": "stdout",
     "output_type": "stream",
     "text": [
      "5 4\n",
      "4 5\n",
      "3 4\n",
      "2 3\n",
      "1 2\n",
      "각 원소가 속한 집합: 1 1 1 1 1  \n",
      "부모 테이블: 1 1 2 3 4 "
     ]
    }
   ],
   "source": [
    "#서로소 집합 찾기\n",
    "\n",
    "# 특정원소가 속한 집합찾기\n",
    "def find_parent(parent, x):\n",
    "    #루트 노드 찾을 때까지 재귀적으로 호출\n",
    "    if parent[x] != x:\n",
    "        return find_parent(parent, parent[x])\n",
    "    return x\n",
    "\n",
    "# 두 원소가 속한 집합 찾기\n",
    "def union_parent(parent, a, b):\n",
    "    a = find_parent(parent, a)\n",
    "    b = find_parent(parent, b)\n",
    "    if a < b:\n",
    "        parent[b] = a\n",
    "    else:\n",
    "        parent[a] = b\n",
    "    \n",
    "    \n",
    "# 노드 개수: v, 간선 개수(union 연산): e\n",
    "v, e = map(int, input().split())\n",
    "# 부모 테이블 초기화\n",
    "parent = [0] * (v + 1)\n",
    "for i in range(1,v+1):\n",
    "    parent[i] = i\n",
    "    \n",
    "# union 연산 수행\n",
    "for i in range(e):\n",
    "    a, b = map(int, input().split())\n",
    "    union_parent(parent, a, b)\n",
    "    \n",
    "print(\"각 원소가 속한 집합:\", end = \" \")\n",
    "for i in range(1, v+1):\n",
    "    print(find_parent(parent, i), end = \" \")\n",
    "    \n",
    "print(\" \")\n",
    "print(\"부모 테이블:\", end = \" \")\n",
    "for i in range(1, v+1):\n",
    "    print(parent[i], end = \" \")\n"
   ]
  },
  {
   "cell_type": "code",
   "execution_count": 4,
   "metadata": {},
   "outputs": [
    {
     "name": "stdout",
     "output_type": "stream",
     "text": [
      "5 4\n",
      "4 5\n",
      "3 4\n",
      "2 3\n",
      "1 2\n",
      "각 원소가 속한 집합: 1 1 1 1 1  \n",
      "부모 테이블: 1 1 1 1 1 "
     ]
    }
   ],
   "source": [
    "#서로소 집합 찾기 + 경로 압축\n",
    "\n",
    "# 특정원소가 속한 집합찾기\n",
    "def find_parent(parent, x):\n",
    "    #루트 노드 찾을 때까지 재귀적으로 호출\n",
    "    if parent[x] != x:\n",
    "        parent[x] = find_parent(parent, parent[x]) #########################경로압축!\n",
    "    return parent[x] \n",
    "\n",
    "# 두 원소가 속한 집합 찾기\n",
    "def union_parent(parent, a, b):\n",
    "    a = find_parent(parent, a)\n",
    "    b = find_parent(parent, b)\n",
    "    if a < b:\n",
    "        parent[b] = a\n",
    "    else:\n",
    "        parent[a] = b\n",
    "    \n",
    "    \n",
    "# 노드 개수: v, 간선 개수(union 연산): e\n",
    "v, e = map(int, input().split())\n",
    "# 부모 테이블 초기화\n",
    "parent = [0] * (v + 1)\n",
    "for i in range(1,v+1):\n",
    "    parent[i] = i\n",
    "    \n",
    "# union 연산 수행\n",
    "for i in range(e):\n",
    "    a, b = map(int, input().split())\n",
    "    union_parent(parent, a, b)\n",
    "    \n",
    "print(\"각 원소가 속한 집합:\", end = \" \")\n",
    "for i in range(1, v+1):\n",
    "    print(find_parent(parent, i), end = \" \")\n",
    "    \n",
    "print(\" \")\n",
    "print(\"부모 테이블:\", end = \" \")\n",
    "for i in range(1, v+1):\n",
    "    print(parent[i], end = \" \")\n"
   ]
  },
  {
   "cell_type": "markdown",
   "metadata": {},
   "source": [
    "### 사이클"
   ]
  },
  {
   "cell_type": "code",
   "execution_count": 7,
   "metadata": {},
   "outputs": [
    {
     "name": "stdout",
     "output_type": "stream",
     "text": [
      "6 4\n",
      "6 5\n",
      "4 3\n",
      "3 2\n",
      "2 4\n",
      "사이클 발생\n",
      "각 원소가 속한 집합: 1 2 2 2 5 5  \n",
      "부모 테이블: 1 2 2 2 5 5 "
     ]
    }
   ],
   "source": [
    "#서로소 집합 이용한 사이클 찾기\n",
    "\n",
    "# 특정원소가 속한 집합찾기\n",
    "def find_parent(parent, x):\n",
    "    #루트 노드 찾을 때까지 재귀적으로 호출\n",
    "    if parent[x] != x:\n",
    "        parent[x] = find_parent(parent, parent[x])\n",
    "    return parent[x] \n",
    "\n",
    "# 두 원소가 속한 집합 찾기\n",
    "def union_parent(parent, a, b):\n",
    "    a = find_parent(parent, a)\n",
    "    b = find_parent(parent, b)\n",
    "    if a < b:\n",
    "        parent[b] = a\n",
    "    else:\n",
    "        parent[a] = b\n",
    "    \n",
    "    \n",
    "# 노드 개수: v, 간선 개수(union 연산): e\n",
    "v, e = map(int, input().split())\n",
    "# 부모 테이블 초기화\n",
    "parent = [0] * (v + 1)\n",
    "for i in range(1,v+1):\n",
    "    parent[i] = i\n",
    "    \n",
    "    \n",
    "    \n",
    "CYCLE = False #사이클 발생 여부\n",
    "\n",
    "\n",
    "# union 연산 수행\n",
    "for i in range(e):\n",
    "    a, b = map(int, input().split())\n",
    "    # 사이클이 발생한 경우 종료\n",
    "    if find_parent(parent, a) == find_parent(parent, b):\n",
    "        CYCLE = True\n",
    "        break\n",
    "    else:\n",
    "        union_parent(parent, a, b)\n",
    "        \n",
    "if CYCLE :\n",
    "    print(\"사이클 발생\")\n",
    "else:\n",
    "    print(\"사이클 없음\")\n",
    "print(\"각 원소가 속한 집합:\", end = \" \")\n",
    "for i in range(1, v+1):\n",
    "    print(find_parent(parent, i), end = \" \")\n",
    "    \n",
    "print(\" \")\n",
    "print(\"부모 테이블:\", end = \" \")\n",
    "for i in range(1, v+1):\n",
    "    print(parent[i], end = \" \")\n"
   ]
  },
  {
   "cell_type": "markdown",
   "metadata": {},
   "source": [
    "## 신장 트리 - 최소 신장 트리 알고리즘"
   ]
  },
  {
   "cell_type": "code",
   "execution_count": 10,
   "metadata": {},
   "outputs": [
    {
     "name": "stdout",
     "output_type": "stream",
     "text": [
      "7 9\n",
      "1 2 29\n",
      "1 5 75\n",
      "2 3 35\n",
      "2 6 34\n",
      "3 4 7\n",
      "4 6 23\n",
      "4 7 13\n",
      "5 6 53\n",
      "6 7 25\n",
      "159\n"
     ]
    }
   ],
   "source": [
    "# 크루스칼 알고리즘\n",
    "#서로소 집합 이용한 사이클 찾기\n",
    "\n",
    "# 특정원소가 속한 집합찾기\n",
    "def find_parent(parent, x):\n",
    "    #루트 노드 찾을 때까지 재귀적으로 호출\n",
    "    if parent[x] != x:\n",
    "        parent[x] = find_parent(parent, parent[x])\n",
    "    return parent[x] \n",
    "\n",
    "# 두 원소가 속한 집합 찾기\n",
    "def union_parent(parent, a, b):\n",
    "    a = find_parent(parent, a)\n",
    "    b = find_parent(parent, b)\n",
    "    if a < b:\n",
    "        parent[b] = a\n",
    "    else:\n",
    "        parent[a] = b\n",
    "    \n",
    "    \n",
    "# 노드 개수: v, 간선 개수(union 연산): e\n",
    "v, e = map(int, input().split())\n",
    "# 부모 테이블 초기화\n",
    "parent = [0] * (v + 1)\n",
    "for i in range(1,v+1):\n",
    "    parent[i] = i\n",
    "    \n",
    "edges = [] #간선 정보\n",
    "result = 0\n",
    "    \n",
    "\n",
    "# 간선 정보 입력 받기\n",
    "for i in range(e):\n",
    "    a, b, cost= map(int, input().split())\n",
    "    edges.append((cost, a, b))\n",
    "\n",
    "    \n",
    "edges.sort() #정렬 필수    \n",
    "\n",
    "\n",
    "for edge in edges:\n",
    "    cost, a, b = edge\n",
    "    # 사이클이 아닌 경우에만 집합에 포함\n",
    "    if find_parent(parent, a) != find_parent(parent, b):\n",
    "        union_parent(parent, a, b)\n",
    "        result += cost\n",
    "    \n",
    "\n",
    "print(result)\n"
   ]
  },
  {
   "cell_type": "markdown",
   "metadata": {},
   "source": [
    "## 위상 정렬"
   ]
  },
  {
   "cell_type": "code",
   "execution_count": 11,
   "metadata": {},
   "outputs": [
    {
     "name": "stdout",
     "output_type": "stream",
     "text": [
      "7 8\n",
      "1 2\n",
      "1 5\n",
      "2 3\n",
      "2 6\n",
      "3 4\n",
      "4 7\n",
      "5 6\n",
      "6 4\n",
      "1 2 5 3 6 4 7 "
     ]
    }
   ],
   "source": [
    "from collections import deque\n",
    "\n",
    "v, e = map(int, input().split()) #노드, 간선\n",
    "indegree = [0] * (v + 1) # 집입 차수\n",
    "graph = [[] for _ in range(v + 1)] #간선 정보\n",
    "\n",
    "for _ in range(e):\n",
    "    a, b = map(int, input().split())\n",
    "    graph[a].append(b) #방향성 O, a -> b\n",
    "    indegree[b] += 1 #b의 진입차수 증가\n",
    "    \n",
    "def topology_sort():\n",
    "    result = []\n",
    "    q = deque()\n",
    "    \n",
    "    for i in range(1, v+1):\n",
    "        #진입 차수 0인 노드 초기 삽입\n",
    "        if indegree[i] == 0:\n",
    "            q.append(i)\n",
    "            \n",
    "    while q:\n",
    "        now = q.popleft()\n",
    "        result.append(now)\n",
    "        #now랑 연결된 노드의 진입차수 줄여주기\n",
    "        for i in graph[now]:\n",
    "            indegree[i] -= 1\n",
    "            #새로 진입차수 0인거 삽입\n",
    "            if indegree[i] == 0:\n",
    "                q.append(i)\n",
    "                \n",
    "    for i in result:\n",
    "        print(i, end =\" \")\n",
    "        \n",
    "topology_sort()"
   ]
  }
 ],
 "metadata": {
  "kernelspec": {
   "display_name": "Python 3",
   "language": "python",
   "name": "python3"
  },
  "language_info": {
   "codemirror_mode": {
    "name": "ipython",
    "version": 3
   },
   "file_extension": ".py",
   "mimetype": "text/x-python",
   "name": "python",
   "nbconvert_exporter": "python",
   "pygments_lexer": "ipython3",
   "version": "3.8.5"
  }
 },
 "nbformat": 4,
 "nbformat_minor": 4
}
