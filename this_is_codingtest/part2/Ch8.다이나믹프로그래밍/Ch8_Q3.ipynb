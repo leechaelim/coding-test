{
 "cells": [
  {
   "cell_type": "code",
   "execution_count": 4,
   "metadata": {},
   "outputs": [
    {
     "name": "stdout",
     "output_type": "stream",
     "text": [
      "5\n",
      "27\n"
     ]
    }
   ],
   "source": [
    "# 내 풀이 case 3에서만 우연히 맞고, 틀림\n",
    "N = int(input())\n",
    "\n",
    "d = [0] * (N+1)\n",
    "d[1] = 1\n",
    "d[2] = 3\n",
    "for i in range(3,N+1):\n",
    "    d[i] = d[i-1]+d[i-2]*3-1 # 2x1 블록이 연달아 3개 이상 나오는거 고려하다가 잘못생각함, 이미 d[i-1]가 다 커버함\n",
    "print(d[-1]%796796)"
   ]
  },
  {
   "cell_type": "code",
   "execution_count": 5,
   "metadata": {},
   "outputs": [
    {
     "name": "stdout",
     "output_type": "stream",
     "text": [
      "5\n",
      "21\n"
     ]
    }
   ],
   "source": [
    "N = int(input())\n",
    "\n",
    "d = [0] * (N+1)\n",
    "d[1] = 1\n",
    "d[2] = 3\n",
    "for i in range(3,N+1):\n",
    "    d[i] = d[i-1]+d[i-2]*2\n",
    "print(d[-1]%796796)"
   ]
  }
 ],
 "metadata": {
  "kernelspec": {
   "display_name": "Python 3",
   "language": "python",
   "name": "python3"
  },
  "language_info": {
   "codemirror_mode": {
    "name": "ipython",
    "version": 3
   },
   "file_extension": ".py",
   "mimetype": "text/x-python",
   "name": "python",
   "nbconvert_exporter": "python",
   "pygments_lexer": "ipython3",
   "version": "3.8.5"
  }
 },
 "nbformat": 4,
 "nbformat_minor": 4
}
