{
 "cells": [
  {
   "cell_type": "code",
   "execution_count": 47,
   "metadata": {},
   "outputs": [
    {
     "name": "stdout",
     "output_type": "stream",
     "text": [
      "10\n",
      "5 1 1 3 4 3 5 7 2 10\n"
     ]
    }
   ],
   "source": [
    "N = int(input())\n",
    "array = list(map(int, input().split()))\n"
   ]
  },
  {
   "cell_type": "code",
   "execution_count": 48,
   "metadata": {
    "scrolled": true
   },
   "outputs": [
    {
     "name": "stdout",
     "output_type": "stream",
     "text": [
      "28\n",
      "[5, 1, 6, 8, 10, 11, 15, 18, 17, 28]\n"
     ]
    }
   ],
   "source": [
    "d = [0]*(N)\n",
    "d[0] = array[0]\n",
    "d[1] = array[1]\n",
    "d[2] = d[0] + array[2]\n",
    "for i in range(3,N):\n",
    "    d[i] = max(d[i-2],d[i-3])+array[i]\n",
    "print(max(d))      \n",
    "print(d)"
   ]
  },
  {
   "cell_type": "markdown",
   "metadata": {},
   "source": [
    "내 풀이에서 [5, 1, 6, 8, 10, 11, 15, 18, 17, 28]\n",
    "교재는 [5, 5, 6, 8, 10, 11, 15, 18, 18, 28]\n",
    "\n",
    "나는 과정을 다 기록한 거고, 교재는 최대만 기록\n",
    "내 d[8] = d[6] + a[8]\n",
    "교재 d[8] = d[7]"
   ]
  },
  {
   "cell_type": "code",
   "execution_count": 49,
   "metadata": {},
   "outputs": [
    {
     "name": "stdout",
     "output_type": "stream",
     "text": [
      "28\n",
      "[5, 5, 6, 8, 10, 11, 15, 18, 18, 28, 0, 0, 0, 0, 0, 0, 0, 0, 0, 0, 0, 0, 0, 0, 0, 0, 0, 0, 0, 0, 0, 0, 0, 0, 0, 0, 0, 0, 0, 0, 0, 0, 0, 0, 0, 0, 0, 0, 0, 0, 0, 0, 0, 0, 0, 0, 0, 0, 0, 0, 0, 0, 0, 0, 0, 0, 0, 0, 0, 0, 0, 0, 0, 0, 0, 0, 0, 0, 0, 0, 0, 0, 0, 0, 0, 0, 0, 0, 0, 0, 0, 0, 0, 0, 0, 0, 0, 0, 0, 0]\n"
     ]
    }
   ],
   "source": [
    "# 교재 풀이, 최대만 저장\n",
    "\n",
    "d = [0]*(100)\n",
    "d[0] = array[0]\n",
    "d[1] = max(array[1], array[0])\n",
    "for i in range(2,N):\n",
    "    d[i] = max(d[i-1],d[i-2]+array[i])\n",
    "print(d[N-1])    \n",
    "print(d)"
   ]
  }
 ],
 "metadata": {
  "kernelspec": {
   "display_name": "Python 3",
   "language": "python",
   "name": "python3"
  },
  "language_info": {
   "codemirror_mode": {
    "name": "ipython",
    "version": 3
   },
   "file_extension": ".py",
   "mimetype": "text/x-python",
   "name": "python",
   "nbconvert_exporter": "python",
   "pygments_lexer": "ipython3",
   "version": "3.8.5"
  }
 },
 "nbformat": 4,
 "nbformat_minor": 4
}
