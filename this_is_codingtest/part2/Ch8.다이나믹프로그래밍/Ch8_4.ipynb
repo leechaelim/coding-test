{
 "cells": [
  {
   "cell_type": "code",
   "execution_count": 64,
   "metadata": {},
   "outputs": [
    {
     "name": "stdout",
     "output_type": "stream",
     "text": [
      "2 15\n",
      "2\n",
      "3\n"
     ]
    }
   ],
   "source": [
    "N, M = map(int, input().split())\n",
    "coin = []\n",
    "for i in range(N):\n",
    "    coin.append(int(input()))"
   ]
  },
  {
   "cell_type": "code",
   "execution_count": 65,
   "metadata": {},
   "outputs": [
    {
     "name": "stdout",
     "output_type": "stream",
     "text": [
      "5\n"
     ]
    }
   ],
   "source": [
    "coin.sort()\n",
    "\n",
    "d = [0] * (M+coin[-1]+1)\n",
    "\n",
    "for i in range(N):\n",
    "    d[coin[i]] = 1\n",
    "\n",
    "for i in range(coin[0],M+1):\n",
    "    if d[i] != 0:\n",
    "        for k in range(N):\n",
    "            if d[i + coin[k]] == 0:\n",
    "                d[i + coin[k]] = d[i] + 1\n",
    "            else:\n",
    "                d[i + coin[k]] = min(d[i] + 1, d[i + coin[k]] )\n",
    "                \n",
    "if d[M] == 0:\n",
    "    print(-1)\n",
    "else:\n",
    "    print(d[M])"
   ]
  },
  {
   "cell_type": "code",
   "execution_count": 66,
   "metadata": {},
   "outputs": [
    {
     "data": {
      "text/plain": [
       "[0, 0, 1, 1, 2, 2, 2, 3, 3, 3, 4, 4, 4, 5, 5, 5, 6, 6, 6]"
      ]
     },
     "execution_count": 66,
     "metadata": {},
     "output_type": "execute_result"
    }
   ],
   "source": [
    "d"
   ]
  },
  {
   "cell_type": "code",
   "execution_count": 71,
   "metadata": {},
   "outputs": [
    {
     "name": "stdout",
     "output_type": "stream",
     "text": [
      "5\n"
     ]
    }
   ],
   "source": [
    "coin.sort()\n",
    "#min 쓸때는 최대값으로 생성하는 게 편하다\n",
    "d = [10001] * (M+coin[-1]+1)\n",
    "\n",
    "for i in range(N):\n",
    "    d[coin[i]] = 1\n",
    "\n",
    "for i in range(coin[0],M+1):\n",
    "    if d[i] != 10001:\n",
    "        for k in range(N):\n",
    "            d[i + coin[k]] = min(d[i] + 1, d[i + coin[k]] )\n",
    "                \n",
    "if d[M] == 10001:\n",
    "    print(-1)\n",
    "else:\n",
    "    print(d[M])"
   ]
  },
  {
   "cell_type": "code",
   "execution_count": 72,
   "metadata": {},
   "outputs": [
    {
     "data": {
      "text/plain": [
       "[10001, 10001, 1, 1, 2, 2, 2, 3, 3, 3, 4, 4, 4, 5, 5, 5, 6, 6, 6]"
      ]
     },
     "execution_count": 72,
     "metadata": {},
     "output_type": "execute_result"
    }
   ],
   "source": [
    "d"
   ]
  },
  {
   "cell_type": "code",
   "execution_count": 69,
   "metadata": {},
   "outputs": [
    {
     "name": "stdout",
     "output_type": "stream",
     "text": [
      "5\n"
     ]
    }
   ],
   "source": [
    "#교재 풀이\n",
    "coin.sort()\n",
    "\n",
    "d = [10001] * (M+1)\n",
    "d[0] = 0\n",
    "for i in range(N):\n",
    "    for j in range(coin[i],M+1):\n",
    "        if d[j-coin[i]]!= 10001:\n",
    "            d[j] = min(d[j] , d[j - coin[i]]+1 )\n",
    "                \n",
    "if d[M] == 10001:\n",
    "    print(-1)\n",
    "else:\n",
    "    print(d[M])"
   ]
  },
  {
   "cell_type": "code",
   "execution_count": 70,
   "metadata": {},
   "outputs": [
    {
     "data": {
      "text/plain": [
       "[0, 10001, 1, 1, 2, 2, 2, 3, 3, 3, 4, 4, 4, 5, 5, 5]"
      ]
     },
     "execution_count": 70,
     "metadata": {},
     "output_type": "execute_result"
    }
   ],
   "source": [
    "d"
   ]
  }
 ],
 "metadata": {
  "kernelspec": {
   "display_name": "Python 3",
   "language": "python",
   "name": "python3"
  },
  "language_info": {
   "codemirror_mode": {
    "name": "ipython",
    "version": 3
   },
   "file_extension": ".py",
   "mimetype": "text/x-python",
   "name": "python",
   "nbconvert_exporter": "python",
   "pygments_lexer": "ipython3",
   "version": "3.8.5"
  }
 },
 "nbformat": 4,
 "nbformat_minor": 4
}
