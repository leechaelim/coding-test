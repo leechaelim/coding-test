{
 "cells": [
  {
   "cell_type": "code",
   "execution_count": 4,
   "metadata": {},
   "outputs": [
    {
     "data": {
      "text/plain": [
       "[[1, 0, 0, 0, 0, 0, 0, 0, 0, 0],\n",
       " [0, 0, 0, 0, 0, 0, 0, 0, 0, 0],\n",
       " [0, 0, 0, 0, 0, 0, 0, 0, 0, 0],\n",
       " [0, 0, 0, 0, 0, 0, 0, 0, 0, 0],\n",
       " [0, 0, 0, 0, 0, 0, 0, 0, 0, 0],\n",
       " [0, 0, 0, 0, 0, 0, 0, 0, 0, 0],\n",
       " [0, 0, 0, 0, 0, 0, 0, 0, 0, 0],\n",
       " [0, 0, 0, 0, 0, 0, 0, 0, 0, 0],\n",
       " [0, 0, 0, 0, 0, 0, 0, 0, 0, 0],\n",
       " [0, 0, 0, 0, 0, 0, 0, 0, 0, 0]]"
      ]
     },
     "execution_count": 4,
     "metadata": {},
     "output_type": "execute_result"
    }
   ],
   "source": [
    "matrix = [[0 for col in range(10)] for row in range(10)]\n",
    "matrix[0][0] = 1\n",
    "matrix"
   ]
  },
  {
   "cell_type": "code",
   "execution_count": 10,
   "metadata": {},
   "outputs": [
    {
     "data": {
      "text/plain": [
       "[[1, 2, 0, 0, 0, 0, 0, 0, 0, 0],\n",
       " [1, 2, 0, 0, 0, 0, 0, 0, 0, 0],\n",
       " [1, 2, 0, 0, 0, 0, 0, 0, 0, 0],\n",
       " [1, 2, 0, 0, 0, 0, 0, 0, 0, 0],\n",
       " [1, 2, 0, 0, 0, 0, 0, 0, 0, 0],\n",
       " [1, 2, 0, 0, 0, 0, 0, 0, 0, 0],\n",
       " [1, 2, 0, 0, 0, 0, 0, 0, 0, 0],\n",
       " [1, 2, 0, 0, 0, 0, 0, 0, 0, 0],\n",
       " [1, 2, 0, 0, 0, 0, 0, 0, 0, 0],\n",
       " [1, 2, 0, 0, 0, 0, 0, 0, 0, 0]]"
      ]
     },
     "execution_count": 10,
     "metadata": {},
     "output_type": "execute_result"
    }
   ],
   "source": [
    "matrix_2 = [[0] * 10]* 10\n",
    "matrix_2[0][0] = 1\n",
    "matrix_2[0][1] = 2\n",
    "matrix_2"
   ]
  },
  {
   "cell_type": "code",
   "execution_count": 9,
   "metadata": {},
   "outputs": [
    {
     "data": {
      "text/plain": [
       "[1, 2, 0, 0, 0, 0, 0, 0, 0, 0]"
      ]
     },
     "execution_count": 9,
     "metadata": {},
     "output_type": "execute_result"
    }
   ],
   "source": [
    "matrix_3 = [0]* 10\n",
    "matrix_3[0] = 1\n",
    "matrix_3[1] = 2\n",
    "matrix_3"
   ]
  },
  {
   "cell_type": "code",
   "execution_count": 11,
   "metadata": {},
   "outputs": [
    {
     "data": {
      "text/plain": [
       "[1, 2, 0, 0, 0, 0, 0, 0, 0, 0]"
      ]
     },
     "execution_count": 11,
     "metadata": {},
     "output_type": "execute_result"
    }
   ],
   "source": [
    "matrix_4 = [0 for col in range(10)]\n",
    "matrix_4[0] = 1\n",
    "matrix_4[1] = 2\n",
    "matrix_4"
   ]
  }
 ],
 "metadata": {
  "kernelspec": {
   "display_name": "Python 3",
   "language": "python",
   "name": "python3"
  },
  "language_info": {
   "codemirror_mode": {
    "name": "ipython",
    "version": 3
   },
   "file_extension": ".py",
   "mimetype": "text/x-python",
   "name": "python",
   "nbconvert_exporter": "python",
   "pygments_lexer": "ipython3",
   "version": "3.8.5"
  }
 },
 "nbformat": 4,
 "nbformat_minor": 4
}
