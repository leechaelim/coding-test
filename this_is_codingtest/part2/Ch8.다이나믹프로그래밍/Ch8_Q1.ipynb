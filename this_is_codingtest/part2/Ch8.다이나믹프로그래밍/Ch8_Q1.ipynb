{
 "cells": [
  {
   "cell_type": "code",
   "execution_count": 18,
   "metadata": {},
   "outputs": [
    {
     "name": "stdout",
     "output_type": "stream",
     "text": [
      "26\n",
      "3\n"
     ]
    }
   ],
   "source": [
    "N = int(input())\n",
    "INF = int(1e9)\n",
    "d = [ INF for _ in range(N+1)]\n",
    "idx = N \n",
    "d[idx] = 0\n",
    "while True:\n",
    "    if idx == 1:\n",
    "        break\n",
    "    if idx % 5 == 0:\n",
    "        d[idx//5] = min(d[idx//5], d[idx]+ 1)\n",
    "    if idx % 3 == 0:\n",
    "        d[idx//3] = min(d[idx//3], d[idx]+ 1)\n",
    "    if idx % 2 == 0:\n",
    "        d[idx//2] = min(d[idx//2], d[idx]+ 1)\n",
    "    d[idx-1] = min(d[idx-1], d[idx]+ 1)\n",
    "    idx -= 1\n",
    "print(d[1])"
   ]
  },
  {
   "cell_type": "code",
   "execution_count": 15,
   "metadata": {},
   "outputs": [
    {
     "name": "stdout",
     "output_type": "stream",
     "text": [
      "26\n",
      "[0, 0, 1, 1, 2, 1, 2, 3, 3, 2, 2, 3, 3, 4, 4, 2, 3, 4, 3, 4, 3, 4, 4, 5, 4, 2, 3]\n"
     ]
    }
   ],
   "source": [
    "# BOTTOm Up\n",
    "N = int(input())\n",
    "d = [0] * (N+1)\n",
    "for i in range(2,N+1): #d[1] = 0이 맞다\n",
    "    d[i] = d[i-1] + 1\n",
    "    if i%5==0:\n",
    "        d[i] = min(d[i], d[i//5]+1)\n",
    "    if i%3==0:\n",
    "        d[i] = min(d[i], d[i//3]+1)\n",
    "    if i%2==0:\n",
    "        d[i] = min(d[i], d[i//2]+1)\n",
    "print(d)"
   ]
  }
 ],
 "metadata": {
  "kernelspec": {
   "display_name": "Python 3",
   "language": "python",
   "name": "python3"
  },
  "language_info": {
   "codemirror_mode": {
    "name": "ipython",
    "version": 3
   },
   "file_extension": ".py",
   "mimetype": "text/x-python",
   "name": "python",
   "nbconvert_exporter": "python",
   "pygments_lexer": "ipython3",
   "version": "3.8.5"
  }
 },
 "nbformat": 4,
 "nbformat_minor": 4
}
