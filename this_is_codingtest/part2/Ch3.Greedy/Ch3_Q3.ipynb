{
 "cells": [
  {
   "cell_type": "code",
   "execution_count": 1,
   "metadata": {},
   "outputs": [],
   "source": [
    "#첫번째 풀이: 17'11''\n",
    "def make_one():\n",
    "    N, K = map(int, input().split())\n",
    "    answer = 0\n",
    "    while(True):\n",
    "        if N == 1:\n",
    "            break\n",
    "        elif N%K ==0:\n",
    "            N = N//K\n",
    "            answer += 1\n",
    "        else:\n",
    "            N = N-1\n",
    "            answer += 1\n",
    "    print(answer)\n",
    "    #N 범위가 커지면 실행 시간 오버될 수 있음 -> ver2,3"
   ]
  },
  {
   "cell_type": "code",
   "execution_count": 69,
   "metadata": {},
   "outputs": [],
   "source": [
    "#교재 베스트 풀이이긴 한데 좀 틀린듯\n",
    "def make_one_ver2():\n",
    "    N, K = map(int, input().split())\n",
    "    answer = 0\n",
    "    while True:\n",
    "        target = (N//K)*K #N이 1일때 target = 0이 되고 answer 하나 늘어남\n",
    "        answer += (N - target)\n",
    "        N = target\n",
    "        print(str(N)+\",\"+str(answer))\n",
    "        if N<K:\n",
    "            break\n",
    "        N //= K\n",
    "        answer += 1 \n",
    "        print(str(N)+\",\"+str(answer))\n",
    "    answer += (N - 1) # 무의미, 그냥 -1하는거랑 똑같음\n",
    "    print(\"N : \"+str(N))#N이 최종적으로 0이 된다, 정답은 맞게 나옴\n",
    "    print(answer)"
   ]
  },
  {
   "cell_type": "code",
   "execution_count": 73,
   "metadata": {},
   "outputs": [],
   "source": [
    "#교재 베스트 풀이 + 수정\n",
    "def make_one_ver3():\n",
    "    N, K = map(int, input().split())\n",
    "    answer = 0\n",
    "    while True:\n",
    "        target = (N//K)*K\n",
    "        if N<K:# target == 0: # target이 0이라는 것은 N<k이라는 것\n",
    "            break\n",
    "        answer += (N - target)\n",
    "        N = target\n",
    "        print(str(N)+\"+\"+str(answer))\n",
    "        N //= K\n",
    "        answer += 1 \n",
    "        print(str(N)+\",\"+str(answer))\n",
    "    \n",
    "    print(\"N : \"+str(N))\n",
    "    print(answer)"
   ]
  },
  {
   "cell_type": "code",
   "execution_count": 4,
   "metadata": {},
   "outputs": [
    {
     "name": "stdout",
     "output_type": "stream",
     "text": [
      "25 5\n",
      "2\n"
     ]
    }
   ],
   "source": [
    "make_one()"
   ]
  },
  {
   "cell_type": "code",
   "execution_count": 72,
   "metadata": {},
   "outputs": [
    {
     "name": "stdout",
     "output_type": "stream",
     "text": [
      "25 5\n",
      "25,0\n",
      "5,1\n",
      "5,1\n",
      "1,2\n",
      "0,3\n",
      "N : 0\n",
      "2\n"
     ]
    }
   ],
   "source": [
    "make_one_ver2()"
   ]
  },
  {
   "cell_type": "code",
   "execution_count": 75,
   "metadata": {},
   "outputs": [
    {
     "name": "stdout",
     "output_type": "stream",
     "text": [
      "17 4\n",
      "16+1\n",
      "4,2\n",
      "4+2\n",
      "1,3\n",
      "N : 1\n",
      "3\n"
     ]
    }
   ],
   "source": [
    "make_one_ver3()"
   ]
  }
 ],
 "metadata": {
  "kernelspec": {
   "display_name": "Python 3",
   "language": "python",
   "name": "python3"
  },
  "language_info": {
   "codemirror_mode": {
    "name": "ipython",
    "version": 3
   },
   "file_extension": ".py",
   "mimetype": "text/x-python",
   "name": "python",
   "nbconvert_exporter": "python",
   "pygments_lexer": "ipython3",
   "version": "3.8.5"
  }
 },
 "nbformat": 4,
 "nbformat_minor": 4
}
