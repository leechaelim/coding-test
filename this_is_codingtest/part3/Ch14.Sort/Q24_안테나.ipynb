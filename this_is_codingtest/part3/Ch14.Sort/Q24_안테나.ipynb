{
 "cells": [
  {
   "cell_type": "code",
   "execution_count": 2,
   "metadata": {},
   "outputs": [
    {
     "name": "stdout",
     "output_type": "stream",
     "text": [
      "4\n",
      "5 1 7 9\n"
     ]
    }
   ],
   "source": [
    "# 37m 런타임 초과\n",
    "\n",
    "N = int(input())\n",
    "home = list(map(int, input().split()))\n"
   ]
  },
  {
   "cell_type": "code",
   "execution_count": 20,
   "metadata": {},
   "outputs": [
    {
     "name": "stdout",
     "output_type": "stream",
     "text": [
      "5\n"
     ]
    }
   ],
   "source": [
    "\n",
    "home.sort()\n",
    "mini = sum(home)\n",
    "HOME = sum(home)\n",
    "answer = 0\n",
    "for target in home:\n",
    "    distance = target*target*N - 2*target*HOME\n",
    "    if distance < mini:\n",
    "        mini = distance\n",
    "        answer = target\n",
    "print(answer)"
   ]
  },
  {
   "cell_type": "code",
   "execution_count": 16,
   "metadata": {},
   "outputs": [
    {
     "data": {
      "text/plain": [
       "44"
      ]
     },
     "execution_count": 16,
     "metadata": {},
     "output_type": "execute_result"
    }
   ],
   "source": [
    "sum(home*2)"
   ]
  },
  {
   "cell_type": "code",
   "execution_count": 22,
   "metadata": {},
   "outputs": [
    {
     "name": "stdout",
     "output_type": "stream",
     "text": [
      "4\n",
      "5 1 7 9\n",
      "5\n"
     ]
    }
   ],
   "source": [
    "N = int(input())\n",
    "home = list(map(int, input().split()))\n",
    "home.sort()\n",
    "mini = sum(home)\n",
    "HOME = sum(home)\n",
    "answer = 0\n",
    "for target in home:\n",
    "    distance = target*target*N - 2*target*HOME\n",
    "    if distance < mini:\n",
    "        mini = distance\n",
    "        answer = target\n",
    "print(answer)"
   ]
  },
  {
   "cell_type": "code",
   "execution_count": 23,
   "metadata": {},
   "outputs": [
    {
     "name": "stdout",
     "output_type": "stream",
     "text": [
      "4\n",
      "5 1 7 9\n",
      "5\n"
     ]
    }
   ],
   "source": [
    "# 해설: 중간값이 항상 답이다,,, 최소가 되는 것의 성질을 먼저 생각해봐야했었다\n",
    "\n",
    "N = int(input())\n",
    "home = list(map(int, input().split()))\n",
    "home.sort()\n",
    "print(home[(N-1)//2])"
   ]
  }
 ],
 "metadata": {
  "kernelspec": {
   "display_name": "Python 3",
   "language": "python",
   "name": "python3"
  },
  "language_info": {
   "codemirror_mode": {
    "name": "ipython",
    "version": 3
   },
   "file_extension": ".py",
   "mimetype": "text/x-python",
   "name": "python",
   "nbconvert_exporter": "python",
   "pygments_lexer": "ipython3",
   "version": "3.8.5"
  }
 },
 "nbformat": 4,
 "nbformat_minor": 4
}
