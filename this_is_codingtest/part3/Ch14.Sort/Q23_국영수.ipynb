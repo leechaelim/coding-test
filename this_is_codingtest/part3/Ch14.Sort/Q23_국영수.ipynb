{
 "cells": [
  {
   "cell_type": "code",
   "execution_count": 3,
   "metadata": {},
   "outputs": [
    {
     "name": "stdout",
     "output_type": "stream",
     "text": [
      "12\n",
      "Junkyu 50 60 100\n",
      "Sangkeun 80 60 50\n",
      "Sunyoung 80 70 100\n",
      "Soong 50 60 90\n",
      "Haebin 50 60 100\n",
      "Kangsoo 60 80 100\n",
      "Donghyuk 80 60 100\n",
      "Sei 70 70 70\n",
      "Wonseob 70 70 90\n",
      "Sanghyun 70 70 80\n",
      "nsj 80 80 80\n",
      "Taewhan 50 60 90\n"
     ]
    }
   ],
   "source": [
    "N = int(input())\n",
    "array = []\n",
    "for i in range(N):\n",
    "    array.append(list(map(str, input().split())))\n",
    "    "
   ]
  },
  {
   "cell_type": "code",
   "execution_count": 48,
   "metadata": {},
   "outputs": [
    {
     "data": {
      "text/plain": [
       "[['Junkyu', '50', '60', '100'],\n",
       " ['Sangkeun', '80', '60', '50'],\n",
       " ['Sunyoung', '80', '70', '100'],\n",
       " ['Soong', '50', '60', '90'],\n",
       " ['Haebin', '50', '60', '100'],\n",
       " ['Kangsoo', '60', '80', '100'],\n",
       " ['Donghyuk', '80', '60', '100'],\n",
       " ['Sei', '70', '70', '70'],\n",
       " ['Wonseob', '70', '70', '90'],\n",
       " ['Sanghyun', '70', '70', '80'],\n",
       " ['nsj', '80', '80', '80'],\n",
       " ['Taewhan', '50', '60', '90']]"
      ]
     },
     "execution_count": 48,
     "metadata": {},
     "output_type": "execute_result"
    }
   ],
   "source": [
    "score = array.copy()\n",
    "score"
   ]
  },
  {
   "cell_type": "code",
   "execution_count": 14,
   "metadata": {},
   "outputs": [
    {
     "data": {
      "text/plain": [
       "101"
      ]
     },
     "execution_count": 14,
     "metadata": {},
     "output_type": "execute_result"
    }
   ],
   "source": [
    "A_score = [0]*(100+1)\n",
    "B_score = [0]*(100+1)\n",
    "C_score = [0]*(100+1)\n",
    "len(A_score)"
   ]
  },
  {
   "cell_type": "code",
   "execution_count": 18,
   "metadata": {},
   "outputs": [],
   "source": [
    "for i in range(len(score)):\n",
    "    A_score[int(score[i][1])]+=1"
   ]
  },
  {
   "cell_type": "code",
   "execution_count": 19,
   "metadata": {},
   "outputs": [
    {
     "data": {
      "text/plain": [
       "[['Sangkeun', '80', '60', '50'],\n",
       " ['Sunyoung', '80', '70', '100'],\n",
       " ['Donghyuk', '80', '60', '100'],\n",
       " ['nsj', '80', '80', '80'],\n",
       " ['Sei', '70', '70', '70'],\n",
       " ['Wonseob', '70', '70', '90'],\n",
       " ['Sanghyun', '70', '70', '80'],\n",
       " ['Kangsoo', '60', '80', '100'],\n",
       " ['Junkyu', '50', '60', '100'],\n",
       " ['Soong', '50', '60', '90'],\n",
       " ['Haebin', '50', '60', '100'],\n",
       " ['Taewhan', '50', '60', '90']]"
      ]
     },
     "execution_count": 19,
     "metadata": {},
     "output_type": "execute_result"
    }
   ],
   "source": [
    "score"
   ]
  },
  {
   "cell_type": "code",
   "execution_count": 31,
   "metadata": {},
   "outputs": [
    {
     "data": {
      "text/plain": [
       "[['Sangkeun', '80', '60', '50'],\n",
       " ['Donghyuk', '80', '60', '100'],\n",
       " ['Sunyoung', '80', '70', '100'],\n",
       " ['Sei', '70', '70', '70'],\n",
       " ['Wonseob', '70', '70', '90'],\n",
       " ['Sanghyun', '70', '70', '80'],\n",
       " ['Junkyu', '50', '60', '100'],\n",
       " ['Soong', '50', '60', '90'],\n",
       " ['Haebin', '50', '60', '100'],\n",
       " ['Taewhan', '50', '60', '90'],\n",
       " ['nsj', '80', '80', '80'],\n",
       " ['Kangsoo', '60', '80', '100']]"
      ]
     },
     "execution_count": 31,
     "metadata": {},
     "output_type": "execute_result"
    }
   ],
   "source": [
    "score"
   ]
  },
  {
   "cell_type": "code",
   "execution_count": 29,
   "metadata": {},
   "outputs": [],
   "source": [
    "score = sorted(score, key = lambda X: X[1], reverse = True)\n",
    "for i in range(len(score)):\n",
    "    p_score = [0]*101\n",
    "    if A_score[int(score[i][1])]>1:\n",
    "        score_part = score[i:i+A_score[int(score[i][1])]].copy()\n",
    "        score[i:i+A_score[int(score[i][1])]]= sorted(score_part, key = lambda X: X[2])\n",
    "    for k in range(len(score_part)):\n",
    "        p_score[int(score[i][1])]+=1\n",
    "        return sort_list(score,3,-1)\n",
    "    \n",
    "for i in range(len(score)):\n",
    "    if B_score[int(score[i][2])]>1:\n",
    "        score_part = score[i:i+B_score[int(score[i][2])]].copy()\n",
    "        score[i:i+B_score[int(score[i][2])]]= sorted(score_part, key = lambda X: X[3], reverse = True)\n",
    "    "
   ]
  },
  {
   "cell_type": "code",
   "execution_count": null,
   "metadata": {},
   "outputs": [],
   "source": [
    "def sort_list(score,p_score, index_num, direction):\n",
    "    if A_score[int(score[i][1])]>1:\n",
    "        score_part = score[i:i+A_score[int(score[i][1])]].copy()\n",
    "        score[i:i+A_score[int(score[i][1])]]= sorted(score_part, key = lambda X: X[2])\n",
    "    for k in range(len(score_part)):\n",
    "        p_score[int(score[i][1])]+=1\n",
    "        return sort_list(score,3,-1)"
   ]
  },
  {
   "cell_type": "code",
   "execution_count": 26,
   "metadata": {},
   "outputs": [
    {
     "data": {
      "text/plain": [
       "['2', '2', 1, 1, 1, 1]"
      ]
     },
     "execution_count": 26,
     "metadata": {},
     "output_type": "execute_result"
    }
   ],
   "source": [
    "a = [1,1,1,1,1]\n",
    "a[0:1]=[\"2\",\"2\"]\n",
    "a"
   ]
  },
  {
   "cell_type": "code",
   "execution_count": 59,
   "metadata": {},
   "outputs": [],
   "source": [
    "def sort( data,index_num, direction, start):\n",
    "    for i in range(len(data)):\n",
    "        A_score[int(data[i][index_num])]+=1\n",
    "        \n",
    "    for i in range(len(data)):\n",
    "        if A_score[int(data[i][index_num])]>1:\n",
    "            score_part = data[i:i+A_score[int(score[i][index_num])]].copy()\n",
    "            print(score_part)\n",
    "            print(\"\\n\"+str(index_num))\n",
    "            if index_num==3:\n",
    "                score_part= sorted(score_part, key = lambda X: X[0])\n",
    "                score[start+i:start+i+A_score[int(data[i][index_num])]]=score_part\n",
    "                break\n",
    "            else:\n",
    "                if direction==1: #감소하는 순서로\n",
    "                    score_part= sorted(score_part, key = lambda X: X[index_num+1],reverse = True)\n",
    "                if direction==-1: #증가하는 순서로 \n",
    "                    score_part= sorted(score_part, key = lambda X: X[index_num+1])\n",
    "            \n",
    "            score[start+i:start+i+A_score[int(data[i][index_num])]]=score_part\n",
    "            return sort(score_part,index_num+1,direction*(-1),start+i)\n"
   ]
  },
  {
   "cell_type": "code",
   "execution_count": 60,
   "metadata": {},
   "outputs": [
    {
     "name": "stdout",
     "output_type": "stream",
     "text": [
      "[['Donghyuk', '80', '60', '100'], ['Sangkeun', '80', '60', '50'], ['Sunyoung', '80', '70', '100'], ['nsj', '80', '80', '80'], ['Sanghyun', '70', '70', '80'], ['Sei', '70', '70', '70'], ['Wonseob', '70', '70', '90'], ['Kangsoo', '60', '80', '100'], ['Haebin', '50', '60', '100'], ['Junkyu', '50', '60', '100'], ['Soong', '50', '60', '90'], ['Taewhan', '50', '60', '90']]\n",
      "\n",
      "1\n",
      "[['Donghyuk', '80', '60', '100'], ['Sangkeun', '80', '60', '50'], ['Haebin', '50', '60', '100'], ['Junkyu', '50', '60', '100'], ['Soong', '50', '60', '90'], ['Taewhan', '50', '60', '90'], ['Sunyoung', '80', '70', '100'], ['Sanghyun', '70', '70', '80'], ['Sei', '70', '70', '70'], ['Wonseob', '70', '70', '90'], ['nsj', '80', '80', '80'], ['Kangsoo', '60', '80', '100']]\n",
      "\n",
      "2\n",
      "[['Soong', '50', '60', '90'], ['Taewhan', '50', '60', '90'], ['Wonseob', '70', '70', '90'], ['Sanghyun', '70', '70', '80'], ['nsj', '80', '80', '80'], ['Sei', '70', '70', '70'], ['Sangkeun', '80', '60', '50'], ['Donghyuk', '80', '60', '100'], ['Haebin', '50', '60', '100'], ['Junkyu', '50', '60', '100'], ['Sunyoung', '80', '70', '100'], ['Kangsoo', '60', '80', '100']]\n",
      "\n",
      "3\n"
     ]
    },
    {
     "data": {
      "text/plain": [
       "[['Donghyuk', '80', '60', '100'],\n",
       " ['Haebin', '50', '60', '100'],\n",
       " ['Junkyu', '50', '60', '100'],\n",
       " ['Kangsoo', '60', '80', '100'],\n",
       " ['Sanghyun', '70', '70', '80'],\n",
       " ['Sangkeun', '80', '60', '50'],\n",
       " ['Sei', '70', '70', '70'],\n",
       " ['Soong', '50', '60', '90'],\n",
       " ['Sunyoung', '80', '70', '100'],\n",
       " ['Taewhan', '50', '60', '90'],\n",
       " ['Wonseob', '70', '70', '90'],\n",
       " ['nsj', '80', '80', '80']]"
      ]
     },
     "execution_count": 60,
     "metadata": {},
     "output_type": "execute_result"
    }
   ],
   "source": [
    "score = sorted(score, key = lambda X: X[1], reverse = True)\n",
    "sort(score, 1,-1,0)\n",
    "score\n",
    "# 재귀 호출 되는 순서 때문에 1-2-3번까지 다 정렬되고 다시 1번 재귀하니까 이미 리스트 순서가 바뀌어있다"
   ]
  }
 ],
 "metadata": {
  "kernelspec": {
   "display_name": "Python 3",
   "language": "python",
   "name": "python3"
  },
  "language_info": {
   "codemirror_mode": {
    "name": "ipython",
    "version": 3
   },
   "file_extension": ".py",
   "mimetype": "text/x-python",
   "name": "python",
   "nbconvert_exporter": "python",
   "pygments_lexer": "ipython3",
   "version": "3.8.5"
  }
 },
 "nbformat": 4,
 "nbformat_minor": 4
}
