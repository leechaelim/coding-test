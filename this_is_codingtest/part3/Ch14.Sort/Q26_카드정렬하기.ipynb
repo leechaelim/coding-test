{
 "cells": [
  {
   "cell_type": "code",
   "execution_count": 4,
   "metadata": {},
   "outputs": [
    {
     "name": "stdout",
     "output_type": "stream",
     "text": [
      "4\n",
      "50\n",
      "60\n",
      "70\n",
      "80\n",
      "550\n"
     ]
    }
   ],
   "source": [
    "# 첫번째 풀이 : 예외 생각 못함(ex 5 6 7 8), 틀림, \n",
    "N = int(input())\n",
    "card = []\n",
    "for i in range(N):\n",
    "    card.append(int(input()))\n",
    "card.sort()\n",
    "tmp = card[0]\n",
    "count = 0\n",
    "for i in range(1,len(card)):\n",
    "    tmp += card[i]\n",
    "    count +=tmp\n",
    "print(count)"
   ]
  },
  {
   "cell_type": "code",
   "execution_count": 5,
   "metadata": {},
   "outputs": [
    {
     "name": "stdout",
     "output_type": "stream",
     "text": [
      "4\n",
      "50\n",
      "60\n",
      "70\n",
      "80\n",
      "[50, 60, 70, 80]\n",
      "110\n",
      "[70, 80, 110]\n",
      "150\n",
      "[110, 150]\n",
      "260\n",
      "520\n"
     ]
    }
   ],
   "source": [
    "# 기능은 맞지만 런타임 초과\n",
    "N = int(input())\n",
    "card = []\n",
    "for i in range(N):\n",
    "    card.append(int(input()))\n",
    "answer = 0\n",
    "\n",
    "while(True):\n",
    "    if len(card)>1:\n",
    "        card.sort() \n",
    "        print(card)\n",
    "        count = card[0] + card[1]\n",
    "        answer += count\n",
    "        print(count)\n",
    "        del card[0]\n",
    "        del card[0]\n",
    "        card.append(count)\n",
    "        \n",
    "    else:\n",
    "        break\n",
    "    \n",
    "print(answer)"
   ]
  },
  {
   "cell_type": "code",
   "execution_count": 8,
   "metadata": {},
   "outputs": [
    {
     "name": "stdout",
     "output_type": "stream",
     "text": [
      "4\n",
      "5\n",
      "6\n",
      "7\n",
      "8\n",
      "52\n"
     ]
    }
   ],
   "source": [
    "# 힙 사용\n",
    "import heapq\n",
    "\n",
    "N = int(input())\n",
    "card_heap = []\n",
    "for i in range(N):\n",
    "    card = int(input())\n",
    "    heapq.heappush(card_heap, card)\n",
    "answer = 0\n",
    "\n",
    "while len(card_heap) != 1:\n",
    "    one = heapq.heappop(card_heap)\n",
    "    two = heapq.heappop(card_heap)\n",
    "    count = one + two\n",
    "    answer += count\n",
    "    heapq.heappush(card_heap, count)\n",
    "print(answer)"
   ]
  }
 ],
 "metadata": {
  "kernelspec": {
   "display_name": "Python 3",
   "language": "python",
   "name": "python3"
  },
  "language_info": {
   "codemirror_mode": {
    "name": "ipython",
    "version": 3
   },
   "file_extension": ".py",
   "mimetype": "text/x-python",
   "name": "python",
   "nbconvert_exporter": "python",
   "pygments_lexer": "ipython3",
   "version": "3.8.5"
  }
 },
 "nbformat": 4,
 "nbformat_minor": 4
}
