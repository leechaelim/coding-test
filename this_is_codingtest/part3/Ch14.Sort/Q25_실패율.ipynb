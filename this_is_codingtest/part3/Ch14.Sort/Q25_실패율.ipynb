{
 "cells": [
  {
   "cell_type": "code",
   "execution_count": 54,
   "metadata": {},
   "outputs": [],
   "source": [
    "#이거는 기능은 잘 되지만 런타임 너무 김\n",
    "\n",
    "def setting(data):\n",
    "    return data[2]\n",
    "\n",
    "def solution(N, stages):\n",
    "    answer = []\n",
    "    count = []\n",
    "    for i in range(N+2):\n",
    "        count.append([i,0,0])\n",
    "    for i in range(len(stages)):\n",
    "        count[stages[i]][1] += 1\n",
    "    number = len(stages)\n",
    "    del count[0]\n",
    "    del count[-1]\n",
    "    for i in range(len(count)):\n",
    "        count[i][2] = count[i][1]/number\n",
    "        number -= count[i][1]\n",
    "\n",
    "    \n",
    "    count = sorted(count, key = setting, reverse = True)\n",
    "    for x in count:\n",
    "        answer.append(x[0])\n",
    "    \n",
    "    return answer"
   ]
  },
  {
   "cell_type": "code",
   "execution_count": null,
   "metadata": {},
   "outputs": [],
   "source": [
    "#이렇게 짜야한다\n",
    "def setting(data):\n",
    "    return data[1]\n",
    "\n",
    "def solution(N, stages):\n",
    "    answer = []\n",
    "    number = len(stages)\n",
    "    for i in range(1,N+1):\n",
    "        count=stages.count(i)\n",
    "        if number == 0:\n",
    "            fail = 0\n",
    "        else:\n",
    "            fail = count/number\n",
    "        answer.append((i,fail))\n",
    "        number -= count\n",
    "    \n",
    "    answer = sorted(answer, key = setting, reverse = True)\n",
    "    answer = [i[0] for i in answer]\n",
    "    \n",
    "    return answer"
   ]
  },
  {
   "cell_type": "code",
   "execution_count": 55,
   "metadata": {},
   "outputs": [
    {
     "data": {
      "text/plain": [
       "[3, 4, 2, 1, 5]"
      ]
     },
     "execution_count": 55,
     "metadata": {},
     "output_type": "execute_result"
    }
   ],
   "source": [
    "N = 5\n",
    "#stages = [4,4,4,4,4]\n",
    "stages = [2, 1, 2, 6, 2, 4, 3, 3]\n",
    "solution(N, stages)"
   ]
  },
  {
   "cell_type": "code",
   "execution_count": null,
   "metadata": {},
   "outputs": [],
   "source": [
    "채점 결과\n",
    "정확성: 70.4\n",
    "합계: 70.4 / 100.0"
   ]
  }
 ],
 "metadata": {
  "kernelspec": {
   "display_name": "Python 3",
   "language": "python",
   "name": "python3"
  },
  "language_info": {
   "codemirror_mode": {
    "name": "ipython",
    "version": 3
   },
   "file_extension": ".py",
   "mimetype": "text/x-python",
   "name": "python",
   "nbconvert_exporter": "python",
   "pygments_lexer": "ipython3",
   "version": "3.8.5"
  }
 },
 "nbformat": 4,
 "nbformat_minor": 4
}
