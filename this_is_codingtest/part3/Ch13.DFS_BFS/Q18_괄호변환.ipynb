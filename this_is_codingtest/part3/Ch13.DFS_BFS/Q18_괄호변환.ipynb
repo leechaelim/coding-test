{
 "cells": [
  {
   "cell_type": "markdown",
   "metadata": {},
   "source": [
    "https://programmers.co.kr/learn/courses/30/lessons/60058"
   ]
  },
  {
   "cell_type": "code",
   "execution_count": 9,
   "metadata": {},
   "outputs": [],
   "source": [
    "def cut(p):\n",
    "    count_1 = 0\n",
    "    count_2 = 0\n",
    "    for x in p:\n",
    "        if x ==\"(\":\n",
    "            count_1 += 1\n",
    "        else:\n",
    "            count_2 += 1\n",
    "        if count_1 == count_2 and count_1+count_2 != len(p):\n",
    "            u = p[:count_1+count_2]\n",
    "            v = p[count_1+count_2:]\n",
    "            return u, v\n",
    "    return p,\"\"\n",
    "def check(u):\n",
    "    stack = []\n",
    "    for x in u:\n",
    "        if x == \"(\":\n",
    "            stack.append(\"(\")\n",
    "        else:\n",
    "            if len(stack) == 0:\n",
    "                return False\n",
    "            else:\n",
    "                stack.pop()\n",
    "    if len(stack) == 0: #올바른 괄호\n",
    "        return True\n",
    "def solution(p):\n",
    "    answer = ''\n",
    "    if p == \"\":\n",
    "        return answer\n",
    "    u, v = cut(p)\n",
    "    print(u,v)\n",
    "    if check(u):\n",
    "        answer = u + solution(v)\n",
    "    else:\n",
    "        answer = \"(\"\n",
    "        answer += solution(v)\n",
    "        answer += \")\"\n",
    "        u = u[1:-1]\n",
    "        for i in range(len(u)):\n",
    "            if u[i] == \"(\":\n",
    "                answer += \")\"\n",
    "            else:\n",
    "                answer += \"(\"\n",
    "    return answer"
   ]
  },
  {
   "cell_type": "code",
   "execution_count": null,
   "metadata": {},
   "outputs": [],
   "source": [
    "[(1, '()'), (2, '))((()')], \n",
    "[], \n",
    "[(3, '))(('), (4, '()')]"
   ]
  },
  {
   "cell_type": "code",
   "execution_count": null,
   "metadata": {},
   "outputs": [],
   "source": [
    "# dfs하다가 던진거 dfs 필요없고 재귀임\n",
    "def cut(p):\n",
    "    count_1 = 0\n",
    "    count_2 = 0\n",
    "    for x in p:\n",
    "        if x ==\"(\":\n",
    "            count_1 += 1\n",
    "        else:\n",
    "            count_2 += 1\n",
    "        if count_1 == count_2 and count_1+count_2 != len(p):\n",
    "            u = p[:count_1+count_2]\n",
    "            v = p[count_1+count_2:]\n",
    "            return u, v\n",
    "    return False\n",
    "def dfs(graph, v, visited):\n",
    "    visited[v] = True\n",
    "    if check(graph[v][0][1]):\n",
    "        answer += graph[v][0][1]\n",
    "    else:\n",
    "        a = \"(\"\n",
    "        \n",
    "    print(v, end = ' ')\n",
    "    for i in graph[v]:\n",
    "        if not visited[i]:\n",
    "            dfs(graph,i,visited)\n",
    "def check(u):\n",
    "    stack = []\n",
    "    for x in u:\n",
    "        if x == \"(\":\n",
    "            stack.append(\"(\")\n",
    "        else:\n",
    "            if len(stack) == 0:\n",
    "                return False\n",
    "            else:\n",
    "                stack.pop()\n",
    "    if len(stack) == 0: #올바른 괄호\n",
    "        return True\n",
    "def solution(p):\n",
    "    answer = ''\n",
    "    graph = [[]]\n",
    "    n = 0\n",
    "    i = 1\n",
    "    while True:\n",
    "        if cut(p) == False:\n",
    "            break\n",
    "        u, v = cut(p)\n",
    "        graph.append([])\n",
    "        graph[n].append((i,u))\n",
    "        graph[n].append((i+1,v))\n",
    "        \n",
    "        n = n + 2\n",
    "        i = i + 2\n",
    "        p = v\n",
    "        \n",
    "    print(graph)\n",
    "    visited = [False] * (i - 2)\n",
    "    dfs(graph,0,visited)\n",
    "    \n",
    "    \n",
    "    return answer"
   ]
  },
  {
   "cell_type": "code",
   "execution_count": 10,
   "metadata": {},
   "outputs": [
    {
     "name": "stdout",
     "output_type": "stream",
     "text": [
      "() ))((()\n",
      "))(( ()\n",
      "() \n"
     ]
    },
    {
     "data": {
      "text/plain": [
       "'()(())()'"
      ]
     },
     "execution_count": 10,
     "metadata": {},
     "output_type": "execute_result"
    }
   ],
   "source": [
    "solution('()))((()')"
   ]
  }
 ],
 "metadata": {
  "kernelspec": {
   "display_name": "Python 3",
   "language": "python",
   "name": "python3"
  },
  "language_info": {
   "codemirror_mode": {
    "name": "ipython",
    "version": 3
   },
   "file_extension": ".py",
   "mimetype": "text/x-python",
   "name": "python",
   "nbconvert_exporter": "python",
   "pygments_lexer": "ipython3",
   "version": "3.8.5"
  }
 },
 "nbformat": 4,
 "nbformat_minor": 4
}
