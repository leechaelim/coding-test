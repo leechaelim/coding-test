{
 "cells": [
  {
   "cell_type": "code",
   "execution_count": 17,
   "metadata": {},
   "outputs": [
    {
     "name": "stdout",
     "output_type": "stream",
     "text": [
      "4 6\n",
      "0 0 0 0 0 0\n",
      "1 0 0 0 0 2\n",
      "1 1 1 0 0 2\n",
      "0 0 0 0 0 2\n"
     ]
    }
   ],
   "source": [
    "N, M = map(int, input().split())\n",
    "map_list = []\n",
    "temp_map  = [[0]*M for _ in range(N)]\n",
    "for i in range(N):\n",
    "    map_list.append(list(map(int, input().split())))\n",
    "        "
   ]
  },
  {
   "cell_type": "code",
   "execution_count": 18,
   "metadata": {},
   "outputs": [
    {
     "name": "stdout",
     "output_type": "stream",
     "text": [
      "9\n"
     ]
    }
   ],
   "source": [
    "dx = [1,-1,0,0]\n",
    "dy = [0,0,1,-1]\n",
    "result = 0\n",
    "def virus(x,y):\n",
    "    for i in range(4):\n",
    "        nx = x + dx[i]\n",
    "        ny = y + dy[i]\n",
    "        if nx >= 0 and nx<N and ny>=0 and ny< M:\n",
    "            if temp_map[nx][ny] == 0:\n",
    "                temp_map[nx][ny] = 2\n",
    "                virus(nx,ny)\n",
    "def get_score():\n",
    "    score = 0\n",
    "    for i in range(N):\n",
    "        for j in range(M):\n",
    "            if temp_map[i][j] == 0:\n",
    "                score += 1\n",
    "    return score\n",
    "                \n",
    "def dfs(count):\n",
    "    global result\n",
    "    if count == 3:\n",
    "        for i in range(N):\n",
    "            for j in range(M):\n",
    "                temp_map[i][j] = map_list[i][j]\n",
    "        for i in range(N):\n",
    "            for j in range(M):\n",
    "                if temp_map[i][j] == 2:\n",
    "                    virus(i,j)\n",
    "        result = max(result, get_score())\n",
    "        return\n",
    "    for i in range(N):\n",
    "        for j in range(M):\n",
    "            if map_list[i][j] == 0:\n",
    "                map_list[i][j] = 1\n",
    "                count += 1\n",
    "                dfs(count)\n",
    "                map_list[i][j] = 0\n",
    "                count -= 1\n",
    "                \n",
    "dfs(0)\n",
    "print(result)"
   ]
  },
  {
   "cell_type": "code",
   "execution_count": 12,
   "metadata": {},
   "outputs": [
    {
     "data": {
      "text/plain": [
       "[[1, 1, 1, 1, 1, 1],\n",
       " [1, 1, 1, 1, 0, 2],\n",
       " [1, 1, 1, 0, 0, 2],\n",
       " [0, 0, 0, 0, 0, 2]]"
      ]
     },
     "execution_count": 12,
     "metadata": {},
     "output_type": "execute_result"
    }
   ],
   "source": [
    "temp_map"
   ]
  },
  {
   "cell_type": "code",
   "execution_count": 16,
   "metadata": {},
   "outputs": [
    {
     "data": {
      "text/plain": [
       "[[1, 1, 1, 1, 1, 1],\n",
       " [1, 1, 1, 1, 1, 2],\n",
       " [1, 1, 1, 1, 1, 2],\n",
       " [1, 1, 1, 0, 0, 2]]"
      ]
     },
     "execution_count": 16,
     "metadata": {},
     "output_type": "execute_result"
    }
   ],
   "source": [
    "map_list"
   ]
  }
 ],
 "metadata": {
  "kernelspec": {
   "display_name": "Python 3",
   "language": "python",
   "name": "python3"
  },
  "language_info": {
   "codemirror_mode": {
    "name": "ipython",
    "version": 3
   },
   "file_extension": ".py",
   "mimetype": "text/x-python",
   "name": "python",
   "nbconvert_exporter": "python",
   "pygments_lexer": "ipython3",
   "version": "3.8.5"
  }
 },
 "nbformat": 4,
 "nbformat_minor": 4
}
