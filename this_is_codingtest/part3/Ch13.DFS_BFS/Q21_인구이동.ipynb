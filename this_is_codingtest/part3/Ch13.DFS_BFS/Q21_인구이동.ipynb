{
 "cells": [
  {
   "cell_type": "markdown",
   "metadata": {},
   "source": [
    "https://www.acmicpc.net/problem/16234"
   ]
  },
  {
   "cell_type": "code",
   "execution_count": null,
   "metadata": {},
   "outputs": [],
   "source": [
    "교재 풀이로 해도 시간초과다\n",
    "다른 방법으로 풀기"
   ]
  },
  {
   "cell_type": "code",
   "execution_count": null,
   "metadata": {},
   "outputs": [],
   "source": [
    "import sys\n",
    "input = sys.stdin.readline\n",
    "#정확은 하지만 백준 시간초과\n",
    "import copy\n",
    "from collections import deque\n",
    "# 위상정렬이 나을 것 같은디\n",
    "N, L, P = map(int, input().split())\n",
    "country = []\n",
    "for _ in range(N):\n",
    "    country.append(list(map(int,input().split())))\n",
    "\n",
    "# 연합 정보\n",
    "def set_uni():\n",
    "    uni = [[0 for _ in range(N)]for _ in range(N)]\n",
    "    i = 1\n",
    "    for x in range(N):\n",
    "        for y in range(N):\n",
    "            uni[x][y] = i\n",
    "            i += 1\n",
    "    return uni\n",
    " \n",
    "def bfs(graph, x, y):\n",
    "    queue = deque()\n",
    "    queue.append((x,y))\n",
    "    while queue: #큐가 빌 때까지 계속, 큐가 비어있으면 False\n",
    "        x, y = queue.popleft()\n",
    "        for i in range(4):\n",
    "            nx = dx[i] + x\n",
    "            ny = dy[i] + y\n",
    "            if nx>=0 and nx <N and ny>= 0 and ny<N:\n",
    "                if uni[nx][ny] != uni[x][y]:\n",
    "                    if L <= abs(graph[x][y] - graph[nx][ny]) and abs(graph[x][y] - graph[nx][ny]) <= P :\n",
    "                    \n",
    "                        uni[nx][ny] = uni[x][y]\n",
    "                        queue.append((nx,ny))\n",
    "                \n",
    "\n",
    "dx = [1,-1,0,0]\n",
    "dy = [0,0,1,-1]\n",
    "times = 0\n",
    "global uni\n",
    "while True:\n",
    "    uni = set_uni()\n",
    "    uni_copy = copy.deepcopy(uni)\n",
    "\n",
    "    for a in range(N):\n",
    "        for b in range(N):\n",
    "            bfs(country, a, b)\n",
    "    Sum = [0]* (N * N + 1)\n",
    "    count = [0]* (N * N + 1)\n",
    "    for a in range(N):\n",
    "        for b in range(N):\n",
    "            Sum[uni[a][b]] += country[a][b]\n",
    "            count[uni[a][b]] += 1\n",
    "    for a in range(N):\n",
    "        for b in range(N):\n",
    "            country[a][b] = Sum[uni[a][b]] // count[uni[a][b]]   \n",
    "    if uni_copy != uni : #변동없으면 멈춤\n",
    "        times += 1\n",
    "    else:\n",
    "        break\n",
    "print(times)"
   ]
  },
  {
   "cell_type": "code",
   "execution_count": 44,
   "metadata": {},
   "outputs": [
    {
     "name": "stdout",
     "output_type": "stream",
     "text": [
      "3 5 10\n",
      "10 15 20\n",
      "20 30 25\n",
      "40 22 10\n",
      "2\n"
     ]
    }
   ],
   "source": [
    "import copy\n",
    "from collections import deque\n",
    "N, L, R = map(int, input().split())\n",
    "country = []\n",
    "for _ in range(N):\n",
    "    country.append(list(map(int,input().split())))\n",
    "\n",
    "# 연합 정보\n",
    "def set_uni():\n",
    "    uni = [[0 for _ in range(N)]for _ in range(N)]\n",
    "    i = 1\n",
    "    for x in range(N):\n",
    "        for y in range(N):\n",
    "            uni[x][y] = i\n",
    "            i += 1\n",
    "    return uni\n",
    " \n",
    "def bfs(graph, x, y):\n",
    "    queue = deque()\n",
    "    queue.append((x,y))\n",
    "    united = []\n",
    "    united.append((x, y))\n",
    "    summary = graph[x][y]\n",
    "    count_city = 1\n",
    "    while queue: #큐가 빌 때까지 계속, 큐가 비어있으면 False\n",
    "        x, y = queue.popleft()\n",
    "        for i in range(4):\n",
    "            nx = dx[i] + x\n",
    "            ny = dy[i] + y\n",
    "            if nx>=0 and nx <N and ny>= 0 and ny<N:\n",
    "                if abs(uni[nx][ny]) != abs(uni[x][y]) and uni[nx][ny] > 0:\n",
    "                    if L <= abs(graph[x][y] - graph[nx][ny])<= R :\n",
    "                        summary += graph[nx][ny]\n",
    "                        count_city += 1\n",
    "                        uni[nx][ny] = -uni[x][y]\n",
    "                        queue.append((nx,ny))\n",
    "                        united.append((nx,ny))\n",
    "                \n",
    "    for i, j in united:\n",
    "        graph[i][j] = summary // count_city\n",
    "        \n",
    "        \n",
    "dx = [1,-1,0,0]\n",
    "dy = [0,0,1,-1]\n",
    "times = 0\n",
    "global uni #글로벌~~~\n",
    "while True:\n",
    "    \n",
    "    uni = set_uni()\n",
    "    uni_copy = copy.deepcopy(uni)\n",
    "\n",
    "    for a in range(N):\n",
    "        for b in range(N):\n",
    "            if uni[a][b] == uni_copy[a][b]:\n",
    "                bfs(country, a, b)\n",
    "    if uni_copy != uni : #변동없으면 멈춤\n",
    "        times += 1\n",
    "    else:\n",
    "        break\n",
    "print(times)"
   ]
  },
  {
   "cell_type": "code",
   "execution_count": 46,
   "metadata": {},
   "outputs": [
    {
     "name": "stdout",
     "output_type": "stream",
     "text": [
      "4 10 50\n",
      "10 100 20 90\n",
      "80 100 60 70\n",
      "70 20 30 40\n",
      "50 20 100 10\n",
      "3\n"
     ]
    }
   ],
   "source": [
    "import copy\n",
    "from collections import deque\n",
    "N, L, R = map(int, input().split())\n",
    "country = []\n",
    "for _ in range(N):\n",
    "    country.append(list(map(int,input().split())))\n",
    "\n",
    "# 연합 정보\n",
    "def set_uni():\n",
    "    uni = [[0 for _ in range(N)]for _ in range(N)]\n",
    "    i = 1\n",
    "    for x in range(N):\n",
    "        for y in range(N):\n",
    "            uni[x][y] = i\n",
    "            i += 1\n",
    "    return uni\n",
    " \n",
    "def bfs(graph, x, y, index):\n",
    "    queue = deque()\n",
    "    queue.append((x,y))\n",
    "    united = []\n",
    "    united.append((x, y))\n",
    "    union[x][y] = index\n",
    "    summary = graph[x][y]\n",
    "    count_city = 1\n",
    "    while queue: #큐가 빌 때까지 계속, 큐가 비어있으면 False\n",
    "        x, y = queue.popleft()\n",
    "        for i in range(4):\n",
    "            nx = dx[i] + x\n",
    "            ny = dy[i] + y\n",
    "            if nx>=0 and nx <N and ny>= 0 and ny<N:\n",
    "                if union[nx][ny] == -1:\n",
    "                    if L <= abs(graph[x][y] - graph[nx][ny])<= R :\n",
    "                        summary += graph[nx][ny]\n",
    "                        count_city += 1\n",
    "                        union[nx][ny] = index\n",
    "                        queue.append((nx,ny))\n",
    "                        united.append((nx,ny))\n",
    "                \n",
    "    for i, j in united:\n",
    "        graph[i][j] = summary // count_city\n",
    "        \n",
    "        \n",
    "dx = [1,-1,0,0]\n",
    "dy = [0,0,1,-1]\n",
    "times = 0\n",
    "global uni #글로벌~~~\n",
    "while True:\n",
    "    union = [[-1] * n for _ in range(n)]\n",
    "    index = 0\n",
    "    uni = set_uni()\n",
    "    uni_copy = copy.deepcopy(uni)\n",
    "\n",
    "    for a in range(N):\n",
    "        for b in range(N):\n",
    "            if union[a][b] == -1:\n",
    "                bfs(country, a, b, index)\n",
    "                index += 1\n",
    "    if index == N*N: #변동없으면 멈춤\n",
    "        break\n",
    "    times += 1\n",
    "    \n",
    "    \n",
    "print(times)"
   ]
  },
  {
   "cell_type": "code",
   "execution_count": 2,
   "metadata": {},
   "outputs": [
    {
     "name": "stdout",
     "output_type": "stream",
     "text": [
      "2 40 50\n",
      "50 30\n",
      "20 40\n",
      "0\n"
     ]
    }
   ],
   "source": [
    "from collections import deque\n",
    "N, L, R = map(int, input().split())\n",
    "country = []\n",
    "for _ in range(N):\n",
    "    country.append(list(map(int,input().split())))\n",
    "\n",
    "def bfs(graph, x, y, index):\n",
    "    queue = deque()\n",
    "    queue.append((x,y))\n",
    "    united = []\n",
    "    united.append((x, y))\n",
    "    union[x][y] = index\n",
    "    summary = graph[x][y]\n",
    "    count_city = 1\n",
    "    while queue: #큐가 빌 때까지 계속, 큐가 비어있으면 False\n",
    "        x, y = queue.popleft()\n",
    "        for i in range(4):\n",
    "            nx = dx[i] + x\n",
    "            ny = dy[i] + y\n",
    "            if nx>=0 and nx <N and ny>= 0 and ny<N:\n",
    "                if union[nx][ny] == -1:\n",
    "                    if L <= abs(graph[x][y] - graph[nx][ny])<= R :\n",
    "                        summary += graph[nx][ny]\n",
    "                        count_city += 1\n",
    "                        union[nx][ny] = index\n",
    "                        queue.append((nx,ny))\n",
    "                        united.append((nx,ny))\n",
    "                \n",
    "    for i, j in united:\n",
    "        graph[i][j] = summary // count_city\n",
    "        \n",
    "        \n",
    "dx = [1,-1,0,0]\n",
    "dy = [0,0,1,-1]\n",
    "times = 0\n",
    "while True:\n",
    "    union = [[-1] * N for _ in range(N)]\n",
    "    index = 0\n",
    "\n",
    "    for a in range(N):\n",
    "        for b in range(N):\n",
    "            if union[a][b] == -1:\n",
    "                bfs(country, a, b, index)\n",
    "                index += 1\n",
    "    if index == N*N: #변동없으면 멈춤\n",
    "        break\n",
    "    times += 1\n",
    "    \n",
    "    \n",
    "print(times)"
   ]
  },
  {
   "cell_type": "code",
   "execution_count": 35,
   "metadata": {},
   "outputs": [
    {
     "data": {
      "text/plain": [
       "[[1, 2, 3], [4, 5, 6], [7, 8, 9]]"
      ]
     },
     "execution_count": 35,
     "metadata": {},
     "output_type": "execute_result"
    }
   ],
   "source": [
    "uni"
   ]
  },
  {
   "cell_type": "code",
   "execution_count": 31,
   "metadata": {},
   "outputs": [
    {
     "data": {
      "text/plain": [
       "[[36, 36], [36, 40]]"
      ]
     },
     "execution_count": 31,
     "metadata": {},
     "output_type": "execute_result"
    }
   ],
   "source": [
    "country"
   ]
  },
  {
   "cell_type": "code",
   "execution_count": 5,
   "metadata": {},
   "outputs": [
    {
     "data": {
      "text/plain": [
       "[[-1, -1, -1, -1], [-1, -1, -1, -1], [-1, -1, -1, -1], [-1, -1, -1, -1]]"
      ]
     },
     "execution_count": 5,
     "metadata": {},
     "output_type": "execute_result"
    }
   ],
   "source": [
    "union = [[-1] * N for _ in range(N)]\n",
    "union"
   ]
  },
  {
   "cell_type": "code",
   "execution_count": 21,
   "metadata": {},
   "outputs": [
    {
     "name": "stdout",
     "output_type": "stream",
     "text": [
      "4 10 50\n",
      "10 100 20 90\n",
      "80 100 60 70\n",
      "70 20 30 40\n",
      "50 20 100 10\n",
      "3\n"
     ]
    }
   ],
   "source": [
    "from collections import deque\n",
    "\n",
    "# 땅의 크기(N), L, R 값을 입력받기\n",
    "n, l, r = map(int, input().split())\n",
    "\n",
    "# 전체 나라의 정보(N x N)를 입력 받기\n",
    "graph = []\n",
    "for _ in range(n):\n",
    "    graph.append(list(map(int, input().split())))\n",
    "\n",
    "dx = [-1, 0, 1, 0]\n",
    "dy = [0, -1, 0, 1]\n",
    "\n",
    "# 특정 위치에서 출발하여 모든 연합을 체크한 뒤에 데이터 갱신\n",
    "def process(x, y, index):\n",
    "    # (x, y)의 위치와 연결된 나라(연합) 정보를 담는 리스트\n",
    "    united = []\n",
    "    united.append((x, y))\n",
    "    # 너비 우선 탐색 (BFS)을 위한 큐 라이브러리 사용\n",
    "    q = deque()\n",
    "    q.append((x, y))\n",
    "    union[x][y] = index # 현재 연합의 번호 할당\n",
    "    summary = graph[x][y] # 현재 연합의 전체 인구 수\n",
    "    count = 1 # 현재 연합의 국가 수\n",
    "    # 큐가 빌 때까지 반복(BFS)\n",
    "    while q:\n",
    "        x, y = q.popleft()\n",
    "        # 현재 위치에서 4가지 방향을 확인하며\n",
    "        for i in range(4):\n",
    "            nx = x + dx[i]\n",
    "            ny = y + dy[i]\n",
    "            # 바로 옆에 있는 나라를 확인하여\n",
    "            if 0 <= nx < n and 0 <= ny < n and union[nx][ny] == -1:\n",
    "                # 옆에 있는 나라와 인구 차이가 L명 이상, R명 이하라면\n",
    "                if l <= abs(graph[nx][ny] - graph[x][y]) <= r:\n",
    "                    q.append((nx, ny))\n",
    "                    # 연합에 추가하기\n",
    "                    union[nx][ny] = index\n",
    "                    summary += graph[nx][ny]\n",
    "                    count += 1\n",
    "                    united.append((nx, ny))\n",
    "    # 연합 국가끼리 인구를 분배\n",
    "    for i, j in united:\n",
    "        graph[i][j] = summary // count\n",
    "\n",
    "total_count = 0\n",
    "\n",
    "# 더 이상 인구 이동을 할 수 없을 때까지 반복\n",
    "while True:\n",
    "    union = [[-1] * n for _ in range(n)]\n",
    "    index = 0\n",
    "    for i in range(n):\n",
    "        for j in range(n):\n",
    "            if union[i][j] == -1: # 해당 나라가 아직 처리되지 않았다면\n",
    "                process(i, j, index)\n",
    "                index += 1\n",
    "    # 모든 인구 이동이 끝난 경우\n",
    "    if index == n * n:\n",
    "        break\n",
    "    total_count += 1\n",
    "\n",
    "# 인구 이동 횟수 출력\n",
    "print(total_count)"
   ]
  },
  {
   "cell_type": "code",
   "execution_count": 22,
   "metadata": {},
   "outputs": [
    {
     "data": {
      "text/plain": [
       "[[48, 48, 54, 54], [54, 54, 54, 50], [54, 54, 54, 54], [54, 54, 62, 54]]"
      ]
     },
     "execution_count": 22,
     "metadata": {},
     "output_type": "execute_result"
    }
   ],
   "source": [
    "graph"
   ]
  }
 ],
 "metadata": {
  "kernelspec": {
   "display_name": "Python 3",
   "language": "python",
   "name": "python3"
  },
  "language_info": {
   "codemirror_mode": {
    "name": "ipython",
    "version": 3
   },
   "file_extension": ".py",
   "mimetype": "text/x-python",
   "name": "python",
   "nbconvert_exporter": "python",
   "pygments_lexer": "ipython3",
   "version": "3.8.5"
  }
 },
 "nbformat": 4,
 "nbformat_minor": 4
}
