{
 "cells": [
  {
   "cell_type": "code",
   "execution_count": 22,
   "metadata": {},
   "outputs": [
    {
     "name": "stdout",
     "output_type": "stream",
     "text": [
      "4 4 1 1\n",
      "1 2\n",
      "1 3\n",
      "2 3\n",
      "2 4\n",
      "2\n",
      "3\n"
     ]
    }
   ],
   "source": [
    "from collections import deque\n",
    "\n",
    "def bfs(graph, start, visited):\n",
    "    queue = deque([start])\n",
    "    visited[start] = True\n",
    "    while queue: #큐가 빌 때까지 계속, 큐가 비어있으면 False\n",
    "        v = queue.popleft()\n",
    "        for i in graph[v]:\n",
    "            if not visited[i]:\n",
    "                distance[i] = distance[v]+1\n",
    "                queue.append(i)\n",
    "                visited[i] = True\n",
    "\n",
    "N, M, K, X = map(int, input().split())\n",
    "graph = [[] for _ in range(N+1)]\n",
    "for _ in range(M):\n",
    "    a, b = map(int, input().split())\n",
    "    graph[a].append(b)\n",
    "visited = [False] *(N+1) # 1차원 리스트    \n",
    "distance = [0]*(N+1)\n",
    "\n",
    "\n",
    "\n",
    "\n",
    "\n",
    "bfs(graph,X,visited)\n",
    "if K not in distance:\n",
    "    print(-1)\n",
    "else:\n",
    "    for i in range(1,N+1):\n",
    "        if distance[i] == K:\n",
    "            print(i)"
   ]
  }
 ],
 "metadata": {
  "kernelspec": {
   "display_name": "Python 3",
   "language": "python",
   "name": "python3"
  },
  "language_info": {
   "codemirror_mode": {
    "name": "ipython",
    "version": 3
   },
   "file_extension": ".py",
   "mimetype": "text/x-python",
   "name": "python",
   "nbconvert_exporter": "python",
   "pygments_lexer": "ipython3",
   "version": "3.8.5"
  }
 },
 "nbformat": 4,
 "nbformat_minor": 4
}
