{
 "cells": [
  {
   "cell_type": "markdown",
   "metadata": {},
   "source": [
    "https://www.acmicpc.net/problem/18405"
   ]
  },
  {
   "cell_type": "code",
   "execution_count": 93,
   "metadata": {},
   "outputs": [
    {
     "name": "stdout",
     "output_type": "stream",
     "text": [
      "3 3 \n",
      "1 0 2\n",
      "0 0 0\n",
      "3 0 0\n",
      "2 3 2\n",
      "3\n"
     ]
    }
   ],
   "source": [
    "\n",
    "# 정답\n",
    "from collections import deque\n",
    "N, K = map(int, input().split())\n",
    "graph = [] # n X n\n",
    "data = []\n",
    "for i in range(N):\n",
    "    graph.append(list(map(int, input().split())))\n",
    "    for x in range(N):\n",
    "        if graph[i][x] != 0:\n",
    "            data.append((graph[i][x], 0,i,x))\n",
    "S,X,Y = map(int, input().split())\n",
    "\n",
    "data.sort()\n",
    "\n",
    "def bfs(graph):\n",
    "    queue = deque(data)\n",
    "    while queue: #큐가 빌 때까지 계속, 큐가 비어있으면 False\n",
    "        virus, s, x, y = queue.popleft()\n",
    "        if s == S:\n",
    "            break\n",
    "        for i in range(4):\n",
    "            nx = dx[i] + x\n",
    "            ny = dy[i] + y\n",
    "            if nx>=0 and nx <N and ny>= 0 and ny<N:\n",
    "                if graph[nx][ny] == 0:\n",
    "                    graph[nx][ny] = virus\n",
    "                    queue.append((virus,s+1,nx,ny))\n",
    "\n",
    "dx = [1,-1,0,0]\n",
    "dy = [0,0,1,-1]\n",
    "\n",
    "bfs(graph)\n",
    "\n",
    "print(graph[X-1][Y-1])"
   ]
  },
  {
   "cell_type": "code",
   "execution_count": 85,
   "metadata": {},
   "outputs": [
    {
     "name": "stdout",
     "output_type": "stream",
     "text": [
      "3 3 \n",
      "1 0 2\n",
      "0 0 0\n",
      "3 0 0\n",
      "2 3 2\n",
      "3\n"
     ]
    }
   ],
   "source": [
    "#시간 초과\n",
    "# BFS 는 맞지만 find_index 하는 게 시간 잡아먹는다\n",
    "from collections import deque\n",
    "N, K = map(int, input().split())\n",
    "graph = [] # n X n\n",
    "for i in range(N):\n",
    "    graph.append(list(map(int, input().split())))\n",
    "S,X,Y = map(int, input().split())\n",
    "\n",
    "\n",
    "def find_index(Value):\n",
    "    array = []\n",
    "    for index, lst in enumerate(graph):\n",
    "        if Value in lst:\n",
    "            array.append((index, lst.index(Value)))\n",
    "\n",
    "    return array\n",
    "def bfs(graph, start):\n",
    "    array = find_index(start)\n",
    "    queue = deque()\n",
    "    for x in array:\n",
    "        queue.append(x)\n",
    "    while queue: #큐가 빌 때까지 계속, 큐가 비어있으면 False\n",
    "        v = queue.popleft()\n",
    "        for i in range(4):\n",
    "            nx = dx[i] + v[0]\n",
    "            ny = dy[i] + v[1]\n",
    "            if nx>=0 and nx <N and ny>= 0 and ny<N:\n",
    "                if graph[nx][ny] == 0:\n",
    "                    graph[nx][ny] = graph[v[0]][v[1]]\n",
    "\n",
    "dx = [1,-1,0,0]\n",
    "dy = [0,0,1,-1]\n",
    "for time in range(S):\n",
    "    for virus in range(1,K+1):\n",
    "        if find_index(virus)!=0:\n",
    "            bfs(graph,virus)\n",
    "\n",
    "print(graph[X-1][Y-1])"
   ]
  },
  {
   "cell_type": "code",
   "execution_count": null,
   "metadata": {},
   "outputs": [],
   "source": [
    "\n",
    "#ver 1\n",
    "from collections import deque\n",
    "N, K = map(int, input().split())\n",
    "graph = [] # n X n\n",
    "data = []\n",
    "for i in range(N):\n",
    "    graph.append(list(map(int, input().split())))\n",
    "    for x in range(N):\n",
    "        if graph[i][x] == 0:\n",
    "            graph[i][x] = 9999\n",
    "S,X,Y = map(int, input().split())\n",
    "\n",
    "\n",
    "def find_index(Value):\n",
    "    array = []\n",
    "    for index, lst in enumerate(graph):\n",
    "        if Value in lst:\n",
    "            array.append((index, lst.index(Value)))\n",
    "\n",
    "    return array\n",
    "def bfs(graph, start):\n",
    "    array = find_index(start)\n",
    "    queue = deque()\n",
    "    for x in array:\n",
    "        queue.append(x)\n",
    "    while queue: #큐가 빌 때까지 계속, 큐가 비어있으면 False\n",
    "        v = queue.popleft()\n",
    "        for i in range(4):\n",
    "            nx = dx[i] + v[0]\n",
    "            ny = dy[i] + v[1]\n",
    "            if nx>=0 and nx <N and ny>= 0 and ny<N:\n",
    "                if graph[nx][ny] == 9999:\n",
    "                    #queue.append((nx,ny))\n",
    "                    graph[nx][ny] = graph[v[0]][v[1]]\n",
    "\n",
    "dx = [1,-1,0,0]\n",
    "dy = [0,0,1,-1]\n",
    "mini = 9999\n",
    "for x in graph:\n",
    "    mini = min(min(x),mini)\n",
    "for time in range(S):\n",
    "    for virus in range(mini,K+1):\n",
    "        if find_index(virus)!=0:\n",
    "            bfs(graph,virus)\n",
    "\n",
    "print(graph[X-1][Y-1])"
   ]
  },
  {
   "cell_type": "code",
   "execution_count": 91,
   "metadata": {},
   "outputs": [
    {
     "data": {
      "text/plain": [
       "[[1, 0, 2], [0, 0, 0], [3, 0, 0]]"
      ]
     },
     "execution_count": 91,
     "metadata": {},
     "output_type": "execute_result"
    }
   ],
   "source": [
    "graph"
   ]
  },
  {
   "cell_type": "code",
   "execution_count": 80,
   "metadata": {},
   "outputs": [
    {
     "name": "stdout",
     "output_type": "stream",
     "text": [
      "3 3 \n",
      "1 0 2\n",
      "0 0 0\n",
      "3 0 0\n",
      "2 3 2\n"
     ]
    }
   ],
   "source": [
    "N, K = map(int, input().split())\n",
    "graph = [] # n X n\n",
    "for i in range(N):\n",
    "    graph.append(list(map(int, input().split())))\n",
    "    for x in range(N):\n",
    "        if graph[i][x] == 0:\n",
    "            graph[i][x] = 9999\n",
    "S,X,Y = map(int, input().split())"
   ]
  },
  {
   "cell_type": "code",
   "execution_count": 17,
   "metadata": {},
   "outputs": [
    {
     "data": {
      "text/plain": [
       "[[0, 0, 0], [1, 0, 2], [3, 0, 0]]"
      ]
     },
     "execution_count": 17,
     "metadata": {},
     "output_type": "execute_result"
    }
   ],
   "source": [
    "virus.sort()\n",
    "virus"
   ]
  },
  {
   "cell_type": "code",
   "execution_count": 79,
   "metadata": {},
   "outputs": [
    {
     "data": {
      "text/plain": [
       "[[1, 1, 2], [1, 1, 2], [3, 3, 9999]]"
      ]
     },
     "execution_count": 79,
     "metadata": {},
     "output_type": "execute_result"
    }
   ],
   "source": [
    "graph"
   ]
  },
  {
   "cell_type": "code",
   "execution_count": 81,
   "metadata": {},
   "outputs": [
    {
     "name": "stdout",
     "output_type": "stream",
     "text": [
      "1\n",
      "[(0, 0)]\n",
      "deque([(0, 0)])\n",
      "[(0, 2)]\n",
      "deque([(0, 2)])\n",
      "[(2, 0)]\n",
      "deque([(2, 0)])\n",
      "[(0, 0), (1, 0)]\n",
      "deque([(0, 0), (1, 0)])\n",
      "[(0, 2), (1, 2)]\n",
      "deque([(0, 2), (1, 2)])\n",
      "[(2, 0)]\n",
      "deque([(2, 0)])\n"
     ]
    }
   ],
   "source": [
    "from collections import deque\n",
    "\n",
    "def bfs(graph, start):\n",
    "    array = find_index(start)\n",
    "    queue = deque()\n",
    "    for x in array:\n",
    "        queue.append(x)\n",
    "    while queue: #큐가 빌 때까지 계속, 큐가 비어있으면 False\n",
    "        v = queue.popleft()\n",
    "        for i in range(4):\n",
    "            nx = dx[i] + v[0]\n",
    "            ny = dy[i] + v[1]\n",
    "            if nx>=0 and nx <N and ny>= 0 and ny<N:\n",
    "                if graph[nx][ny] == 9999:\n",
    "                    #queue.append((nx,ny))\n",
    "                    graph[nx][ny] = graph[v[0]][v[1]]\n",
    "\n",
    "dx = [1,-1,0,0]\n",
    "dy = [0,0,1,-1]\n",
    "mini = 9999\n",
    "for x in graph:\n",
    "    mini = min(min(x),mini)\n",
    "for time in range(S):\n",
    "    for virus in range(mini,K+1):\n",
    "        if find_index(virus)!=0:\n",
    "            bfs(graph,virus)\n",
    "\n",
    "print(graph[X-1][Y-1])"
   ]
  },
  {
   "cell_type": "code",
   "execution_count": 84,
   "metadata": {},
   "outputs": [
    {
     "name": "stdout",
     "output_type": "stream",
     "text": [
      "3\n"
     ]
    }
   ],
   "source": [
    "print(graph[X-1][Y-1])"
   ]
  },
  {
   "cell_type": "code",
   "execution_count": 52,
   "metadata": {},
   "outputs": [],
   "source": [
    "Value = 2\n",
    "#2차원 배열 중 값의 인덱스 구하기\n",
    "def find_index(Value):\n",
    "    array = []\n",
    "    for index, lst in enumerate(graph):\n",
    "        if Value in lst:\n",
    "            array.append((index, lst.index(Value)))\n",
    "\n",
    "    return array"
   ]
  },
  {
   "cell_type": "code",
   "execution_count": 33,
   "metadata": {},
   "outputs": [
    {
     "data": {
      "text/plain": [
       "1"
      ]
     },
     "execution_count": 33,
     "metadata": {},
     "output_type": "execute_result"
    }
   ],
   "source": [
    "a = 1\n",
    "b = 2\n",
    "queue = deque([(a,b)])\n",
    "v = queue.popleft()\n",
    "v[0]"
   ]
  },
  {
   "cell_type": "raw",
   "metadata": {},
   "source": []
  },
  {
   "cell_type": "code",
   "execution_count": 76,
   "metadata": {},
   "outputs": [
    {
     "data": {
      "text/plain": [
       "0"
      ]
     },
     "execution_count": 76,
     "metadata": {},
     "output_type": "execute_result"
    }
   ],
   "source": [
    "len(find_index(999))"
   ]
  },
  {
   "cell_type": "code",
   "execution_count": 40,
   "metadata": {},
   "outputs": [
    {
     "data": {
      "text/plain": [
       "[[1, 9999, 2], [9999, 9999, 9999], [3, 9999, 9999]]"
      ]
     },
     "execution_count": 40,
     "metadata": {},
     "output_type": "execute_result"
    }
   ],
   "source": [
    "graph"
   ]
  }
 ],
 "metadata": {
  "kernelspec": {
   "display_name": "Python 3",
   "language": "python",
   "name": "python3"
  },
  "language_info": {
   "codemirror_mode": {
    "name": "ipython",
    "version": 3
   },
   "file_extension": ".py",
   "mimetype": "text/x-python",
   "name": "python",
   "nbconvert_exporter": "python",
   "pygments_lexer": "ipython3",
   "version": "3.8.5"
  }
 },
 "nbformat": 4,
 "nbformat_minor": 4
}
