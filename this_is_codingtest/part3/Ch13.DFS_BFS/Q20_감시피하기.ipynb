{
 "cells": [
  {
   "cell_type": "markdown",
   "metadata": {},
   "source": [
    "https://www.acmicpc.net/problem/18428"
   ]
  },
  {
   "cell_type": "code",
   "execution_count": 37,
   "metadata": {},
   "outputs": [
    {
     "name": "stdout",
     "output_type": "stream",
     "text": [
      "5\n",
      " X S X X T\n",
      "T X S X X\n",
      "X X X X X\n",
      "X T X X X\n",
      "X X T X X \n"
     ]
    }
   ],
   "source": [
    "N = int(input())\n",
    "school = []\n",
    "for _ in range(N):\n",
    "    school.append(list(map(str,input().split())))\n",
    "    \n"
   ]
  },
  {
   "cell_type": "code",
   "execution_count": 40,
   "metadata": {},
   "outputs": [
    {
     "data": {
      "text/plain": [
       "[['X', 'S', 'X', 'XO', 'T'],\n",
       " ['T', 'XO', 'S', 'X', 'X'],\n",
       " ['X', 'XO', 'X', 'X', 'X'],\n",
       " ['X', 'T', 'XO', 'X', 'X'],\n",
       " ['X', 'X', 'T', 'X', 'X']]"
      ]
     },
     "execution_count": 40,
     "metadata": {},
     "output_type": "execute_result"
    }
   ],
   "source": [
    "school"
   ]
  },
  {
   "cell_type": "code",
   "execution_count": 39,
   "metadata": {},
   "outputs": [],
   "source": [
    "def dfs(graph, x, y):\n",
    "    for i in range(4):\n",
    "        dfs_2(graph, x, y, i)\n",
    "        \n",
    "            \n",
    "            \n",
    "\n",
    "        \n",
    "def dfs_2(graph, x, y, i):\n",
    "    nx = dx[i] + x\n",
    "    ny = dy[i] + y\n",
    "    if nx>=0 and nx <N and ny>= 0 and ny<N:\n",
    "        if graph[nx][ny] == \"T\":\n",
    "            return True\n",
    "        elif graph[nx][ny][0] == \"S\":\n",
    "            return False\n",
    "        elif graph[nx][ny][0] == \"X\":\n",
    "            if dfs_2(graph, nx, ny, i) == True:\n",
    "                graph[nx][ny] += \"O\"\n",
    "            return False\n",
    "    else:\n",
    "        return False\n",
    "    \n",
    "dx = [1,-1,0,0]\n",
    "dy = [0,0,1,-1]\n",
    "\n",
    "\n",
    "for i in range(N):\n",
    "    for j in range(N):\n",
    "        if school[i][j] == \"S\":\n",
    "            dfs(school, i, j)"
   ]
  },
  {
   "cell_type": "code",
   "execution_count": 31,
   "metadata": {},
   "outputs": [
    {
     "name": "stdout",
     "output_type": "stream",
     "text": [
      "None\n",
      "None\n",
      "None\n",
      "None\n"
     ]
    }
   ],
   "source": [
    "for i in range(N):\n",
    "    for j in range(N):\n",
    "        if school[i][j] == \"T\":\n",
    "            print(dfs(school, i, j))"
   ]
  }
 ],
 "metadata": {
  "kernelspec": {
   "display_name": "Python 3",
   "language": "python",
   "name": "python3"
  },
  "language_info": {
   "codemirror_mode": {
    "name": "ipython",
    "version": 3
   },
   "file_extension": ".py",
   "mimetype": "text/x-python",
   "name": "python",
   "nbconvert_exporter": "python",
   "pygments_lexer": "ipython3",
   "version": "3.8.5"
  }
 },
 "nbformat": 4,
 "nbformat_minor": 4
}
