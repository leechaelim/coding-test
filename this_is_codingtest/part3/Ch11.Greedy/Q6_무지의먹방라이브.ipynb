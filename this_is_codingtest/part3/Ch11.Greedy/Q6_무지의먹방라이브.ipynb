{
 "cells": [
  {
   "cell_type": "code",
   "execution_count": null,
   "metadata": {},
   "outputs": [],
   "source": [
    "#정확도 37.5점(런타임에러만 틀림) 효율성 0점\n",
    "#1초마다 확인하는 식으로 해서 런타임 느린듯\n",
    "def solution(food_times, k):\n",
    "    answer = -1\n",
    "    count = 0\n",
    "    time = 0\n",
    "    array = []\n",
    "    for i in range(1,len(food_times)+1):\n",
    "        array.append(i)\n",
    "    while True:\n",
    "        if food_times[count] != 0 :\n",
    "            food_times[count] -= 1\n",
    "            time += 1   \n",
    "            \n",
    "        if food_times[count]==0:\n",
    "            del food_times[count]\n",
    "            del array[count]\n",
    "            count = count  % len(food_times)\n",
    "        else:\n",
    "            count = (count + 1) % len(food_times)\n",
    "        \n",
    "        if len(food_times)==0:\n",
    "            break\n",
    "        if time == k :\n",
    "            answer = array[count]\n",
    "            break\n",
    "    \n",
    "    return answer\n"
   ]
  },
  {
   "cell_type": "code",
   "execution_count": null,
   "metadata": {},
   "outputs": [],
   "source": [
    "#교재 풀이\n",
    "import heapq\n",
    "\n",
    "def solution(food_times, k):\n",
    "    if sum(food_times) <=k:\n",
    "        answer = -1\n",
    "        return answer\n",
    "    answer = 0\n",
    "    q = []\n",
    "    for i in range(len(food_times)):\n",
    "        heapq.heappush(q,(food_times[i],i+1))\n",
    "    sum_value = 0\n",
    "    previous = 0\n",
    "    length = len(food_times)\n",
    "    \n",
    "    while sum_value + ((q[0][0]-previous)*length) <= k :\n",
    "        now = heapq.heappop(q)[0]\n",
    "        sum_value += (now - previous) * length\n",
    "        length -= 1\n",
    "        previous = now\n",
    "    answer = sorted(q,key = lambda x:x[1])\n",
    "    return answer[(k-sum_value)%length][1]"
   ]
  },
  {
   "cell_type": "code",
   "execution_count": 8,
   "metadata": {},
   "outputs": [
    {
     "data": {
      "text/plain": [
       "0"
      ]
     },
     "execution_count": 8,
     "metadata": {},
     "output_type": "execute_result"
    }
   ],
   "source": [
    "#정확성: 42.9(다맞음)\n",
    "#효율성: 7.1(높이기)\n",
    "#합계: 50.0 / 100.0\n",
    "    \n",
    "def solution(food_times, k):\n",
    "    answer = -1\n",
    "    if sum(food_times) <=k:\n",
    "        return answer\n",
    "    count = 0\n",
    "    time = 0\n",
    "    array = []\n",
    "    for i in range(1,len(food_times)+1):\n",
    "        array.append(i)\n",
    "        \n",
    "    while True:\n",
    "        if len(food_times) > 1 and len(food_times)*min(food_times) <= k:\n",
    "            mini = food_times.index(min(food_times))\n",
    "            mini_value = min(food_times)\n",
    "            for i in range(len(food_times)):#어떻게 for 안돌리지\n",
    "                food_times[i] -= mini_value\n",
    "                \n",
    "            k -= len(food_times)*mini_value\n",
    "                    \n",
    "            del food_times[mini]\n",
    "            del array[mini]   \n",
    "        else:\n",
    "            break\n",
    "        \n",
    "    answer = array[k % len(food_times)]\n",
    "    \n",
    "    return answer"
   ]
  }
 ],
 "metadata": {
  "kernelspec": {
   "display_name": "Python 3",
   "language": "python",
   "name": "python3"
  },
  "language_info": {
   "codemirror_mode": {
    "name": "ipython",
    "version": 3
   },
   "file_extension": ".py",
   "mimetype": "text/x-python",
   "name": "python",
   "nbconvert_exporter": "python",
   "pygments_lexer": "ipython3",
   "version": "3.8.5"
  }
 },
 "nbformat": 4,
 "nbformat_minor": 4
}
