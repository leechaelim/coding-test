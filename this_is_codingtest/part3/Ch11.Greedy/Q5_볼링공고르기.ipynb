{
 "cells": [
  {
   "cell_type": "code",
   "execution_count": 9,
   "metadata": {},
   "outputs": [
    {
     "name": "stdout",
     "output_type": "stream",
     "text": [
      "8 5\n",
      "1 5 4 3 2 4 5 2\n",
      "25\n"
     ]
    }
   ],
   "source": [
    "# 첫번째 풀이: 7m 16s\n",
    "from itertools import combinations \n",
    "N, M = map(int, input().split())\n",
    "weight = list(map(int,input().split()))\n",
    "combi = []\n",
    "combi=list(combinations(weight,2))\n",
    "for x in combi:\n",
    "    if x[0]==x[1]:\n",
    "        combi.remove(x)\n",
    "answer = len(combi)\n",
    "print(answer)"
   ]
  },
  {
   "cell_type": "code",
   "execution_count": 12,
   "metadata": {},
   "outputs": [
    {
     "name": "stdout",
     "output_type": "stream",
     "text": [
      "8 5\n",
      "1 5 4 3 2 4 5 2\n",
      "25\n"
     ]
    }
   ],
   "source": [
    "#두번째 풀이(라이브러리 안쓰고 풀기) +3m 44s\n",
    "N, M = map(int, input().split())\n",
    "weight = list(map(int,input().split()))\n",
    "combi = []\n",
    "for i in range(N-1):\n",
    "    for j in range(i+1,N):\n",
    "        combi.append([weight[i],weight[j]])\n",
    "for x in combi:\n",
    "    if x[0]==x[1]:\n",
    "        combi.remove(x)\n",
    "answer = len(combi)\n",
    "print(answer)"
   ]
  },
  {
   "cell_type": "code",
   "execution_count": 13,
   "metadata": {},
   "outputs": [
    {
     "data": {
      "text/plain": [
       "[[1, 5],\n",
       " [1, 4],\n",
       " [1, 3],\n",
       " [1, 2],\n",
       " [1, 4],\n",
       " [1, 5],\n",
       " [1, 2],\n",
       " [5, 4],\n",
       " [5, 3],\n",
       " [5, 2],\n",
       " [5, 4],\n",
       " [5, 2],\n",
       " [4, 3],\n",
       " [4, 2],\n",
       " [4, 5],\n",
       " [4, 2],\n",
       " [3, 2],\n",
       " [3, 4],\n",
       " [3, 5],\n",
       " [3, 2],\n",
       " [2, 4],\n",
       " [2, 5],\n",
       " [4, 5],\n",
       " [4, 2],\n",
       " [5, 2]]"
      ]
     },
     "execution_count": 13,
     "metadata": {},
     "output_type": "execute_result"
    }
   ],
   "source": [
    "combi"
   ]
  },
  {
   "cell_type": "code",
   "execution_count": 30,
   "metadata": {},
   "outputs": [
    {
     "name": "stdout",
     "output_type": "stream",
     "text": [
      "8 5\n",
      "1 5 4 3 2 4 5 2\n",
      "25\n"
     ]
    }
   ],
   "source": [
    "# 답지 풀이: 무게가 다른 두 공을 골라야 한다는 것에 초점\n",
    "N, M = map(int, input().split())\n",
    "weight = list(map(int,input().split()))\n",
    "answer = 0\n",
    "#array = [0] * 11 #무게 저장하는 리스트, M <=10이라서 최대로 11로 생성\n",
    "array = [0] * (M+1)\n",
    "for x in weight:\n",
    "    array[x] += 1\n",
    "\"\"\"    \n",
    "#ver1 내가 쓴 거\n",
    "for i in range(1,M+1):\n",
    "    a = 0\n",
    "    for j in range(i+1,M+1): # array의 i+1~M 까지 합이 결국 N - = array[i]\n",
    "        a += array[j]\n",
    "    answer += array[i]*a\n",
    "\"\"\"\n",
    "#ver2 교재, 이게 더 좋음\n",
    "for i in range(1,M+1):\n",
    "    N -= array[i]\n",
    "    answer += array[i]*N\n",
    "    \n",
    "print(answer)"
   ]
  },
  {
   "cell_type": "code",
   "execution_count": 28,
   "metadata": {},
   "outputs": [
    {
     "data": {
      "text/plain": [
       "[0, 1, 2, 1, 2, 2]"
      ]
     },
     "execution_count": 28,
     "metadata": {},
     "output_type": "execute_result"
    }
   ],
   "source": [
    "array"
   ]
  }
 ],
 "metadata": {
  "kernelspec": {
   "display_name": "Python 3",
   "language": "python",
   "name": "python3"
  },
  "language_info": {
   "codemirror_mode": {
    "name": "ipython",
    "version": 3
   },
   "file_extension": ".py",
   "mimetype": "text/x-python",
   "name": "python",
   "nbconvert_exporter": "python",
   "pygments_lexer": "ipython3",
   "version": "3.8.5"
  }
 },
 "nbformat": 4,
 "nbformat_minor": 4
}
