{
 "cells": [
  {
   "cell_type": "code",
   "execution_count": 10,
   "metadata": {},
   "outputs": [
    {
     "name": "stdout",
     "output_type": "stream",
     "text": [
      "0123\n",
      "6\n"
     ]
    }
   ],
   "source": [
    "# 첫번째 풀이 : 4m 42s -> 예외 생각 못해서 틀림\n",
    "# 예외 발생: 1을 곱하는 건 최대가 아님\n",
    "nums = list(map(int, input()))\n",
    "answer = nums[0]\n",
    "for i in range(1,len(nums)):\n",
    "    if nums[i - 1] == 0:\n",
    "        answer += nums[i]\n",
    "    else:\n",
    "        answer *= nums[i]\n",
    "print(answer)"
   ]
  },
  {
   "cell_type": "code",
   "execution_count": 9,
   "metadata": {},
   "outputs": [
    {
     "name": "stdout",
     "output_type": "stream",
     "text": [
      "0123\n",
      "9\n"
     ]
    }
   ],
   "source": [
    "# 수정\n",
    "nums = list(map(int, input()))\n",
    "answer = nums[0]\n",
    "for i in range(1,len(nums)):\n",
    "    if nums[i - 1] <= 1:\n",
    "        answer += nums[i]\n",
    "    else:\n",
    "        answer *= nums[i]\n",
    "print(answer)"
   ]
  }
 ],
 "metadata": {
  "kernelspec": {
   "display_name": "Python 3",
   "language": "python",
   "name": "python3"
  },
  "language_info": {
   "codemirror_mode": {
    "name": "ipython",
    "version": 3
   },
   "file_extension": ".py",
   "mimetype": "text/x-python",
   "name": "python",
   "nbconvert_exporter": "python",
   "pygments_lexer": "ipython3",
   "version": "3.8.5"
  }
 },
 "nbformat": 4,
 "nbformat_minor": 4
}
