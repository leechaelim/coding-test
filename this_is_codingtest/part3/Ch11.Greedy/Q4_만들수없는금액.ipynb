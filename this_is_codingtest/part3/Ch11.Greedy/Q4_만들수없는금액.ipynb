{
 "cells": [
  {
   "cell_type": "code",
   "execution_count": 55,
   "metadata": {
    "scrolled": true
   },
   "outputs": [
    {
     "name": "stdout",
     "output_type": "stream",
     "text": [
      "4\n",
      "1 2 4 5\n",
      "13\n"
     ]
    }
   ],
   "source": [
    "# 첫번째 풀이: 49m36s, 시간 초과, 아이디어를 못 떠올려서 조합으로 풀음\n",
    "# 아이디어 떠올리기가 너무 힘든 문제 같다. 다시 풀도록\n",
    "from itertools import combinations \n",
    "\n",
    "N = int(input())\n",
    "coin_list = list(map(int, input().split()))\n",
    "result = 1\n",
    "sum = []\n",
    "sum_list = []\n",
    "for i in range(1, len(coin_list)+1): \n",
    "    sum.append(list(combinations(coin_list,i)))\n",
    "for x in sum:\n",
    "    for y in x:\n",
    "        a = 0\n",
    "        for z in y:\n",
    "            a += z\n",
    "        sum_list.append(a)\n",
    "sum_list.sort()\n",
    "while True:\n",
    "    if result not in sum_list:\n",
    "        break\n",
    "    else:\n",
    "        result += 1\n",
    "\n",
    "print(result)"
   ]
  },
  {
   "cell_type": "code",
   "execution_count": 59,
   "metadata": {},
   "outputs": [
    {
     "name": "stdout",
     "output_type": "stream",
     "text": [
      "4\n",
      "1 2 4 5\n",
      "13\n"
     ]
    }
   ],
   "source": [
    "# 교재 풀이\n",
    "N = int(input())\n",
    "coin_list = list(map(int, input().split()))\n",
    "coin_list.sort()\n",
    "target = 1\n",
    "for x in coin_list:\n",
    "    if target >= x:\n",
    "        target += x\n",
    "    else:\n",
    "        break\n",
    "print(target)"
   ]
  },
  {
   "cell_type": "code",
   "execution_count": 70,
   "metadata": {},
   "outputs": [
    {
     "data": {
      "text/plain": [
       "[(1, 2), (1, 4), (1, 5), (2, 4), (2, 5), (4, 5)]"
      ]
     },
     "execution_count": 70,
     "metadata": {},
     "output_type": "execute_result"
    }
   ],
   "source": [
    "list(combinations(coin_list,2))"
   ]
  }
 ],
 "metadata": {
  "kernelspec": {
   "display_name": "Python 3",
   "language": "python",
   "name": "python3"
  },
  "language_info": {
   "codemirror_mode": {
    "name": "ipython",
    "version": 3
   },
   "file_extension": ".py",
   "mimetype": "text/x-python",
   "name": "python",
   "nbconvert_exporter": "python",
   "pygments_lexer": "ipython3",
   "version": "3.8.5"
  }
 },
 "nbformat": 4,
 "nbformat_minor": 4
}
