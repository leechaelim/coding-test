{
 "cells": [
  {
   "cell_type": "code",
   "execution_count": 36,
   "metadata": {},
   "outputs": [
    {
     "name": "stdout",
     "output_type": "stream",
     "text": [
      "10\n",
      "2 2 8 3 4 3 3 1 5 7\n",
      "3\n"
     ]
    }
   ],
   "source": [
    "#문제가 이해가 안됨, 책 예시랑 정답 예시랑 다른 얘기하는 거 같음 [1,2,3],[2,2]가 왜 예시야 아닌것 같은데\n",
    "N = int(input())\n",
    "score = list(map(int, input().split()))\n",
    "score.sort()\n",
    "answer = 0\n",
    "count = 0\n",
    "group = [0] * N\n",
    "for i in range(N):\n",
    "    count += 1\n",
    "    if score[i] <= count:\n",
    "        answer += 1\n",
    "        group[i] = answer\n",
    "        count = 0\n",
    "\n",
    "print(answer)"
   ]
  },
  {
   "cell_type": "code",
   "execution_count": 37,
   "metadata": {},
   "outputs": [
    {
     "data": {
      "text/plain": [
       "[1, 0, 2, 0, 0, 3, 0, 0, 0, 0]"
      ]
     },
     "execution_count": 37,
     "metadata": {},
     "output_type": "execute_result"
    }
   ],
   "source": [
    "group"
   ]
  },
  {
   "cell_type": "code",
   "execution_count": 38,
   "metadata": {},
   "outputs": [
    {
     "data": {
      "text/plain": [
       "[1, 2, 2, 3, 3, 3, 4, 5, 7, 8]"
      ]
     },
     "execution_count": 38,
     "metadata": {},
     "output_type": "execute_result"
    }
   ],
   "source": [
    "score"
   ]
  },
  {
   "cell_type": "code",
   "execution_count": 41,
   "metadata": {},
   "outputs": [
    {
     "name": "stdout",
     "output_type": "stream",
     "text": [
      "10\n",
      "2 2 8 3 4 3 3 1 5 7\n",
      "[[1, 1], [2, 2], [3, 3], [4, 1], [5, 1], [7, 1], [8, 1]]\n",
      "i :1 cnt: 1 port:0\n",
      "i :2 cnt: 2 port:0\n",
      "i :3 cnt: 3 port:0\n",
      "i :4 cnt: 3 port:0\n",
      "i :5 cnt: 3 port:1\n",
      "i :6 cnt: 3 port:2\n",
      "i :7 cnt: 3 port:3\n",
      "cnt 3\n"
     ]
    }
   ],
   "source": [
    "#출처 : https://github.com/CS-for-non-CS/ThisIsCodingTest\n",
    "N = int(input())\n",
    "arr= list(map(int, input().split()))\n",
    "temp = []\n",
    "for i in set(arr):\n",
    "    temp.append([i,arr.count(i)])\n",
    "print(temp)\n",
    "cnt=0\n",
    "rest=0\n",
    "portion=0\n",
    "for i in range(len(temp)):\n",
    "    portion += rest # 몫\n",
    "    cnt += (temp[i][1]+ portion) // temp[i][0] #공포지수가 같거나 낮은 사람과 그룹\n",
    "    rest = temp[i][1] % temp[i][0]\n",
    "    print(f\"i :{i+1} cnt: {cnt} port:{portion}\")\n",
    "\n",
    "print(\"cnt\",cnt)"
   ]
  },
  {
   "cell_type": "code",
   "execution_count": 40,
   "metadata": {},
   "outputs": [
    {
     "name": "stdout",
     "output_type": "stream",
     "text": [
      "10\n",
      "2 2 8 3 4 3 3 1 5 7\n",
      "3\n"
     ]
    }
   ],
   "source": [
    "#출처 : https://github.com/CS-for-non-CS/ThisIsCodingTest\n",
    "N = int(input())\n",
    "fear = list(map(int,input().split()))\n",
    "\n",
    "# 공포 지수의 최대 값 찾기\n",
    "max_idx = 0\n",
    "for i in range(N):\n",
    "    if fear[i] > fear[max_idx]:\n",
    "        max_idx = i\n",
    "\n",
    "# 카운트 배열을 통해 각 공포수치 마다 사람 수 세기\n",
    "count = [0] * (fear[max_idx]+1)\n",
    "for i in range(N):\n",
    "    count[fear[i]] += 1\n",
    "\n",
    "# PART03, 앞에서부터\n",
    "# 나머지 넘기지 않음\n",
    "total = 0\n",
    "rest = 0\n",
    "l = len(count)\n",
    "for i in range(1,l):\n",
    "    total += (count[i]+rest)//i\n",
    "    rest += count[i] % i\n",
    "print(total)"
   ]
  }
 ],
 "metadata": {
  "kernelspec": {
   "display_name": "Python 3",
   "language": "python",
   "name": "python3"
  },
  "language_info": {
   "codemirror_mode": {
    "name": "ipython",
    "version": 3
   },
   "file_extension": ".py",
   "mimetype": "text/x-python",
   "name": "python",
   "nbconvert_exporter": "python",
   "pygments_lexer": "ipython3",
   "version": "3.8.5"
  }
 },
 "nbformat": 4,
 "nbformat_minor": 4
}
