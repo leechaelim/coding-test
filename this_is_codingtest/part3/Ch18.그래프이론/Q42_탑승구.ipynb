{
 "cells": [
  {
   "cell_type": "code",
   "execution_count": 22,
   "metadata": {},
   "outputs": [
    {
     "name": "stdout",
     "output_type": "stream",
     "text": [
      "6\n",
      "5\n",
      "4\n",
      "4\n",
      "4\n",
      "4\n",
      "4\n",
      "4\n"
     ]
    },
    {
     "data": {
      "text/plain": [
       "[0, 1, 2, 3, 4, 0, 0]"
      ]
     },
     "execution_count": 22,
     "metadata": {},
     "output_type": "execute_result"
    }
   ],
   "source": [
    "# G 최대 100,000이라서 O(n^2)풀이는 안된다, 그래프로 풀어야 한다\n",
    "\n",
    "G = int(input())\n",
    "park = [0]*(G+1)\n",
    "count = 0\n",
    "P = int(input())\n",
    "for i in range(P):\n",
    "    a = int(input())\n",
    "    while a > 0:\n",
    "        if park[a] == 0:\n",
    "            park[a] = a\n",
    "            count += 1\n",
    "            break\n",
    "        else:\n",
    "            a -= 1\n",
    "            \n",
    "print(count)\n",
    "park"
   ]
  },
  {
   "cell_type": "code",
   "execution_count": 44,
   "metadata": {},
   "outputs": [
    {
     "name": "stdout",
     "output_type": "stream",
     "text": [
      "6\n",
      "6\n",
      "4\n",
      "[0, 1, 2, 3, 3, 5, 6]\n",
      "4\n",
      "[0, 1, 2, 2, 3, 5, 6]\n",
      "4\n",
      "[0, 1, 1, 2, 2, 5, 6]\n",
      "4\n",
      "[0, 0, 1, 2, 1, 5, 6]\n",
      "6\n",
      "[0, 0, 1, 2, 1, 5, 5]\n",
      "6\n",
      "[0, 0, 1, 2, 0, 0, 5]\n",
      "6\n"
     ]
    }
   ],
   "source": [
    "# 서로소 집합 확인\n",
    "def find_parent(parent, x):\n",
    "    if parent[x] != x:\n",
    "        parent[x] = find_parent(parent, parent[x])\n",
    "    return parent[x]\n",
    "\n",
    "def union(parent, a, b):\n",
    "    a = find_parent(parent, a)\n",
    "    b = find_parent(parent, b)\n",
    "    if a < b:\n",
    "        parent[b] = a\n",
    "    else:\n",
    "        parent[a] = b\n",
    "        \n",
    "G = int(input())\n",
    "parent = [0]*(G+1)\n",
    "for i in range(1,G+1):\n",
    "    parent[i] = i\n",
    "    \n",
    "count = 0\n",
    "\n",
    "P = int(input())\n",
    "for i in range(P):\n",
    "    a = int(input())\n",
    "    if find_parent(parent, a) == 0:\n",
    "        break\n",
    "    else:\n",
    "        \n",
    "        count += 1\n",
    "        union(parent, a, parent[a]-1) ###########교재는 union(parent, a, a-1)인데 내가 적은게 맞을 듯\n",
    "        print(parent)\n",
    "        \n",
    "        \n",
    "print(count)        "
   ]
  },
  {
   "cell_type": "code",
   "execution_count": 41,
   "metadata": {},
   "outputs": [
    {
     "data": {
      "text/plain": [
       "[0, 0, 1, 2, 0, 0, 5]"
      ]
     },
     "execution_count": 41,
     "metadata": {},
     "output_type": "execute_result"
    }
   ],
   "source": [
    "parent"
   ]
  }
 ],
 "metadata": {
  "kernelspec": {
   "display_name": "Python 3",
   "language": "python",
   "name": "python3"
  },
  "language_info": {
   "codemirror_mode": {
    "name": "ipython",
    "version": 3
   },
   "file_extension": ".py",
   "mimetype": "text/x-python",
   "name": "python",
   "nbconvert_exporter": "python",
   "pygments_lexer": "ipython3",
   "version": "3.8.5"
  }
 },
 "nbformat": 4,
 "nbformat_minor": 4
}
