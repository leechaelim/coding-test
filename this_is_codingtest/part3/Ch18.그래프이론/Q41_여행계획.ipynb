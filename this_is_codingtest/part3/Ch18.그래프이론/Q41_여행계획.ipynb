{
 "cells": [
  {
   "cell_type": "code",
   "execution_count": 5,
   "metadata": {},
   "outputs": [
    {
     "name": "stdout",
     "output_type": "stream",
     "text": [
      "5 4\n",
      "0 1 0 1 1\n",
      "1 0 1 1 0\n",
      "0 1 0 0 0\n",
      "1 1 0 0 0\n",
      "1 0 0 0 0\n",
      "2 3 4 3\n"
     ]
    }
   ],
   "source": [
    "N, M = map(int, input().split())\n",
    "map_list = [[] for _ in range(N)]\n",
    "for i in range(N):\n",
    "    map_list[i] = list(map(int, input().split()))\n",
    "goal = list(map(int, input().split()))"
   ]
  },
  {
   "cell_type": "code",
   "execution_count": 10,
   "metadata": {},
   "outputs": [
    {
     "data": {
      "text/plain": [
       "[2, 3, 4, 3]"
      ]
     },
     "execution_count": 10,
     "metadata": {},
     "output_type": "execute_result"
    }
   ],
   "source": [
    "goal"
   ]
  },
  {
   "cell_type": "code",
   "execution_count": 7,
   "metadata": {},
   "outputs": [],
   "source": [
    "def find_parent(parent, x):\n",
    "    if parent[x] != x:\n",
    "        parent[x] = find_parent(parent, parent[x])\n",
    "    return parent[x]\n",
    "\n",
    "def union(parent, a, b):\n",
    "    a = find_parent(parent, a)\n",
    "    b = find_parent(parent, b)\n",
    "    \n",
    "    if a < b:\n",
    "        parent[b] = a\n",
    "    else:\n",
    "        parent[a] = b"
   ]
  },
  {
   "cell_type": "code",
   "execution_count": 9,
   "metadata": {},
   "outputs": [
    {
     "name": "stdout",
     "output_type": "stream",
     "text": [
      "YES\n"
     ]
    }
   ],
   "source": [
    "parent = [0] * (N+1)\n",
    "for i in range(1, N+1):\n",
    "    parent[i] = i\n",
    "    \n",
    "for i in range(N):\n",
    "    for j in range(N):\n",
    "        if map_list[i][j] == 1:\n",
    "            union(parent, i+1, j+1)\n",
    "            \n",
    "first = find_parent(parent, goal[0])\n",
    "answer = \"YES\" #이렇게 문자열 바로 넣는 것 보단 True, False로 저장하는게 예뻐보인다\n",
    "for country in goal:\n",
    "    if first != find_parent(parent, country): #이부분을 나는 그냥 맨 첫번째꺼랑 나머지랑 비교해줬는다\n",
    "        answer = \"NO\"\n",
    "        \n",
    "print(answer)"
   ]
  },
  {
   "cell_type": "code",
   "execution_count": 12,
   "metadata": {},
   "outputs": [
    {
     "name": "stdout",
     "output_type": "stream",
     "text": [
      "YES\n"
     ]
    }
   ],
   "source": [
    "#추가 수정 ver\n",
    "parent = [0] * (N+1)\n",
    "for i in range(1, N+1):\n",
    "    parent[i] = i\n",
    "    \n",
    "for i in range(N):\n",
    "    for j in range(N):\n",
    "        if map_list[i][j] == 1:\n",
    "            union(parent, i+1, j+1)\n",
    "            \n",
    "answer = True\n",
    "for i in range(M-1):\n",
    "    if find_parent(parent, goal[i]) != find_parent(parent, goal[i+1]): \n",
    "        answer = False\n",
    "        \n",
    "if answer == True:\n",
    "    print(\"YES\")\n",
    "else:\n",
    "    print(\"NO\")"
   ]
  }
 ],
 "metadata": {
  "kernelspec": {
   "display_name": "Python 3",
   "language": "python",
   "name": "python3"
  },
  "language_info": {
   "codemirror_mode": {
    "name": "ipython",
    "version": 3
   },
   "file_extension": ".py",
   "mimetype": "text/x-python",
   "name": "python",
   "nbconvert_exporter": "python",
   "pygments_lexer": "ipython3",
   "version": "3.8.5"
  }
 },
 "nbformat": 4,
 "nbformat_minor": 4
}
