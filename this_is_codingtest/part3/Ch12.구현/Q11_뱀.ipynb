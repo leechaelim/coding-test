{
 "cells": [
  {
   "cell_type": "code",
   "execution_count": 1,
   "metadata": {},
   "outputs": [
    {
     "name": "stdout",
     "output_type": "stream",
     "text": [
      "10\n",
      "5\n",
      "1 5\n",
      "1 3\n",
      "1 2\n",
      "1 6\n",
      "1 7\n",
      "4\n",
      "8 D\n",
      "10 D\n",
      "11 D\n",
      "13 L\n"
     ]
    }
   ],
   "source": [
    "from collections import deque\n",
    "\n",
    "apple_queue = deque()\n",
    "N = int(input()) #보드의 크기\n",
    "K = int(input()) #사과의 갯수\n",
    "apple_list = [] #사과의 위치 (행, 열)\n",
    "for i in range(K):\n",
    "    apple_queue.append(tuple(map(int, input().split())))\n",
    "\n",
    "L = int(input()) #뱀의 방향 전환 횟수 \n",
    "\n",
    "direction_list = [] #x초 후 회전(L 왼쪽, D 오른쪽)\n",
    "for i in range(L):\n",
    "    direction_list.append(list(input().split()))\n",
    "    "
   ]
  },
  {
   "cell_type": "code",
   "execution_count": 67,
   "metadata": {},
   "outputs": [
    {
     "data": {
      "text/plain": [
       "deque([(1, 2), (1, 3), (1, 4), (1, 5)])"
      ]
     },
     "execution_count": 67,
     "metadata": {},
     "output_type": "execute_result"
    }
   ],
   "source": [
    "apple_queue"
   ]
  },
  {
   "cell_type": "code",
   "execution_count": 2,
   "metadata": {},
   "outputs": [
    {
     "name": "stdout",
     "output_type": "stream",
     "text": [
      "deque([(1, 1)]) 8\n",
      "deque([(1, 1), (1, 2)]) 6\n",
      "deque([(1, 1), (1, 2), (1, 3)]) 4\n",
      "(1, 4)\n",
      "+\n",
      "deque([(1, 2), (1, 3), (1, 4)]) 3\n",
      "deque([(1, 2), (1, 3), (1, 4), (1, 5)]) 1\n",
      "deque([(1, 2), (1, 3), (1, 4), (1, 5), (1, 6)]) 9\n",
      "deque([(1, 3), (1, 4), (1, 5), (1, 6), (2, 6)]) 8\n",
      "deque([(1, 4), (1, 5), (1, 6), (2, 6), (3, 6)]) 7\n",
      "deque([(1, 5), (1, 6), (2, 6), (3, 6), (4, 6)]) 6\n",
      "deque([(1, 6), (2, 6), (3, 6), (4, 6), (5, 6)]) 5\n",
      "deque([(2, 6), (3, 6), (4, 6), (5, 6), (6, 6)]) 4\n",
      "deque([(3, 6), (4, 6), (5, 6), (6, 6), (7, 6)]) 3\n",
      "deque([(4, 6), (5, 6), (6, 6), (7, 6), (8, 6)]) 2\n",
      "deque([(5, 6), (6, 6), (7, 6), (8, 6), (9, 6)]) 1\n",
      "deque([(6, 6), (7, 6), (8, 6), (9, 6), (10, 6)]) 11\n",
      "deque([(7, 6), (8, 6), (9, 6), (10, 6), (10, 5)]) 10\n",
      "deque([(8, 6), (9, 6), (10, 6), (10, 5), (10, 4)]) 9\n",
      "deque([(9, 6), (10, 6), (10, 5), (10, 4), (10, 3)]) 8\n",
      "deque([(10, 6), (10, 5), (10, 4), (10, 3), (10, 2)]) 7\n",
      "deque([(10, 5), (10, 4), (10, 3), (10, 2), (10, 1)]) 6\n",
      "3\n",
      "23\n"
     ]
    }
   ],
   "source": [
    "# 큐 \n",
    "from collections import deque\n",
    "time = 0\n",
    "short = 0\n",
    "queue = deque()\n",
    "queue.append((1,1))\n",
    "direction_list.reverse()\n",
    "answer = 0\n",
    "direction_int = 1\n",
    "while True:\n",
    "    if short <= 0:\n",
    "        if len(direction_list)==0:\n",
    "            answer = time\n",
    "            print(\"1\")\n",
    "            break\n",
    "        temp = direction_list.pop()\n",
    "        short += int(temp[0])\n",
    "        direction = temp[1]\n",
    "        \n",
    "    if queue.count(queue[-1]) > 1:\n",
    "        answer = time\n",
    "        print(\"2\")\n",
    "        break\n",
    "    print(queue, short)\n",
    "    if direction_int == 1 and queue[-1][1]+1 <= N: #오른쪽\n",
    "        queue.append((queue[-1][0],queue[-1][1]+1))\n",
    "        if apple_queue.count(queue[-1])==0:\n",
    "            print(queue[-1])\n",
    "            print(\"+\")\n",
    "            queue.popleft()\n",
    "        else:\n",
    "            time += 1\n",
    "            short -= 1\n",
    "    elif direction_int == 2 and queue[-1][0]+1 <= N: #아래쪽\n",
    "        queue.append((queue[-1][0]+1,queue[-1][1]))\n",
    "        if apple_queue.count(queue[-1])==0:\n",
    "            queue.popleft()\n",
    "        else:\n",
    "            time += 1\n",
    "            short -= 1\n",
    "    elif direction_int == 3 and queue[-1][1]- 1 > 0: #왼쪽\n",
    "        queue.append((queue[-1][0],queue[-1][1]-1))\n",
    "        if apple_queue.count(queue[-1])==0:\n",
    "            queue.popleft()\n",
    "        else:\n",
    "            time += 1\n",
    "            short -= 1\n",
    "    elif direction_int == 4 and queue[-1][0]-1 > 0: #위쪽\n",
    "        queue.append((queue[-1][0]-1,queue[-1][1]))\n",
    "        if apple_queue.count(queue[-1])==0:\n",
    "            queue.popleft()\n",
    "        else:\n",
    "            time += 1\n",
    "            short -= 1\n",
    "    else:\n",
    "        answer = time\n",
    "        print(\"3\")\n",
    "        break\n",
    "    time += 1\n",
    "    short -= 1\n",
    "    if short <= 0:\n",
    "        if direction == 'D':\n",
    "            if direction_int <=3:\n",
    "                direction_int += 1\n",
    "            else:\n",
    "                direction_int = 1\n",
    "        elif direction == 'L':\n",
    "\n",
    "            if direction_int >= 1:\n",
    "                direction_int -= 1\n",
    "            else:\n",
    "                direction_int = 0\n",
    "print(answer)"
   ]
  },
  {
   "cell_type": "code",
   "execution_count": 72,
   "metadata": {
    "scrolled": true
   },
   "outputs": [
    {
     "data": {
      "text/plain": [
       "2"
      ]
     },
     "execution_count": 72,
     "metadata": {},
     "output_type": "execute_result"
    }
   ],
   "source": [
    "direction_int"
   ]
  },
  {
   "cell_type": "code",
   "execution_count": 77,
   "metadata": {},
   "outputs": [
    {
     "data": {
      "text/plain": [
       "(0, 5)"
      ]
     },
     "execution_count": 77,
     "metadata": {},
     "output_type": "execute_result"
    }
   ],
   "source": [
    "\n",
    "head"
   ]
  },
  {
   "cell_type": "code",
   "execution_count": 34,
   "metadata": {},
   "outputs": [
    {
     "name": "stdout",
     "output_type": "stream",
     "text": [
      "8\n"
     ]
    }
   ],
   "source": [
    "# tail  줄어드는 방향이 머리 방향하고 항상 같은 건 아닌데, 같은 방향으로 줄어들게 만들어서 일단 틀림\n",
    "# 뱀 초기 : (1,1) 길이 1\n",
    "snake = []\n",
    "for i in range(N):\n",
    "    snake.append([])\n",
    "    \n",
    "    for k in range(N):\n",
    "        snake[i].append(0)\n",
    "\n",
    "for x in apple_list:\n",
    "    snake[x[0]-1][x[1]-1] = -1\n",
    "        \n",
    "snake[0][0] = 1\n",
    "    \n",
    "time = 0\n",
    "direction_int = 1\n",
    "head = (0,0)\n",
    "tail = (0,0)\n",
    "short = 0\n",
    "direction_list.reverse()\n",
    "answer = 0\n",
    "\n",
    "while True:\n",
    "    if short == 0:\n",
    "        if len(direction_list)==0:\n",
    "            answer = time\n",
    "            break\n",
    "        temp = direction_list.pop()\n",
    "        short = int(temp[0])\n",
    "        direction = temp[1]\n",
    "        \n",
    "    \n",
    "    if max(max(snake))>1 :\n",
    "        answer = time\n",
    "        break\n",
    "    \n",
    "    if direction_int == 1 and head[1]+1 < N: #오른쪽\n",
    "        snake[head[0]][head[1]+1] += 1\n",
    "        head = (head[0], head[1]+1)\n",
    "        if snake[head[0]][head[1]] != 0:\n",
    "            snake[tail[0]][tail[1]] -= 1\n",
    "            tail = (tail[0],tail[1]+1)\n",
    "        else:\n",
    "            snake[head[0]][head[1]] = 1\n",
    "            time += 1\n",
    "            short -= 1\n",
    "    elif direction_int == 2 and head[0]+1 < N: #아래쪽\n",
    "        snake[head[0]+1][head[1]] += 1\n",
    "        head = (head[0]+1, head[1])\n",
    "        if snake[head[0]][head[1]] != 0:\n",
    "            snake[tail[0]][tail[1]] -= 1\n",
    "            tail = (tail[0]+1,tail[1])\n",
    "        else:\n",
    "            snake[head[0]][head[1]] = 1\n",
    "            time += 1\n",
    "            short -= 1\n",
    "    elif direction_int == 3 and head[1]- 1 >= 0: #왼쪽\n",
    "        snake[head[0]][head[1]-1] += 1\n",
    "        head = (head[0], head[1]-1)\n",
    "        if snake[head[0]][head[1]] != 0:\n",
    "            snake[tail[0]][tail[1]] -= 1\n",
    "            tail = (tail[0],tail[1]-1)\n",
    "        else:\n",
    "            snake[head[0]][head[1]] = 1\n",
    "            time += 1\n",
    "            short -= 1\n",
    "    elif direction_int == 4 and head[0]-1 >= 0: #위쪽\n",
    "        snake[head[0]-1][head[1]] += 1\n",
    "        head = (head[0]-1, head[1])\n",
    "        if snake[head[0]][head[1]] != 0:\n",
    "            snake[tail[0]][tail[1]] -= 1\n",
    "            tail = (tail[0]-1,tail[1])\n",
    "        else:\n",
    "            time += 1\n",
    "            short -= 1\n",
    "            snake[head[0]][head[1]] = 1\n",
    "    else:\n",
    "        answer = time\n",
    "        break\n",
    "    time += 1\n",
    "    short -= 1\n",
    "    if short == 0:\n",
    "        if direction == 'D':\n",
    "            if direction_int <=3:\n",
    "                direction_int += 1\n",
    "            else:\n",
    "                direction_int = 1\n",
    "        elif direction == 'L':\n",
    "\n",
    "            if direction_int >= 1:\n",
    "                direction_int -= 1\n",
    "            else:\n",
    "                direction_int = 0\n",
    "\n",
    "print(answer)"
   ]
  }
 ],
 "metadata": {
  "kernelspec": {
   "display_name": "Python 3",
   "language": "python",
   "name": "python3"
  },
  "language_info": {
   "codemirror_mode": {
    "name": "ipython",
    "version": 3
   },
   "file_extension": ".py",
   "mimetype": "text/x-python",
   "name": "python",
   "nbconvert_exporter": "python",
   "pygments_lexer": "ipython3",
   "version": "3.8.5"
  }
 },
 "nbformat": 4,
 "nbformat_minor": 4
}
