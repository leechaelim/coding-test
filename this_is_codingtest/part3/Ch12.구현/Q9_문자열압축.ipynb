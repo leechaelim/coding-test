{
 "cells": [
  {
   "cell_type": "code",
   "execution_count": 146,
   "metadata": {},
   "outputs": [
    {
     "name": "stdout",
     "output_type": "stream",
     "text": [
      "9\n"
     ]
    }
   ],
   "source": [
    "#1h 29m 43s\n",
    "s = \"ababcdcdababcdcd\"\n",
    "num = 1\n",
    "answer_check =\"\"\n",
    "answer_list=[]\n",
    "\"\"\"\n",
    "for i in range(len(s)-1):\n",
    "    if s[i] == s[i+1]:\n",
    "        num += 1\n",
    "        if i == len(s)-2:\n",
    "            answer += str(num)+s[i]\n",
    "    else:\n",
    "        if num != 1:\n",
    "            answer += str(num)+s[i]\n",
    "            num = 1\n",
    "        else:\n",
    "            answer += s[i]\n",
    "if s[-1]!=answer[-1]:\n",
    "    answer+=s[-1]\n",
    "\"\"\"   \n",
    "num = 1    \n",
    "for i in range(len(s)//2):\n",
    "    k = 0\n",
    "    answer_check = \"\"\n",
    "    while True:\n",
    "        if k+2*(i+1)>len(s):\n",
    "            if num != 1:\n",
    "                answer_check += str(num) + s[k:]\n",
    "            else:\n",
    "                answer_check += s[k:]\n",
    "            num = 1\n",
    "            answer_list.append(answer_check)\n",
    "            break\n",
    "        elif s[k:k+i+1] == s[k+i+1:k+2*(i+1)]:\n",
    "            #print(s[k:k+i+1], i+1)\n",
    "            num += 1\n",
    "        else:\n",
    "            if num != 1:\n",
    "                answer_check += str(num) + s[k:k+i+1]\n",
    "            else:\n",
    "                answer_check += s[k:k+i+1]\n",
    "            num = 1\n",
    "            \n",
    "        k = k+i+1\n",
    "mini = len(s)        \n",
    "for x in answer_list:\n",
    "    if len(x)<mini:\n",
    "        mini = len(x)\n",
    "        \n",
    "print(mini)"
   ]
  },
  {
   "cell_type": "code",
   "execution_count": 135,
   "metadata": {},
   "outputs": [
    {
     "data": {
      "text/plain": [
       "'2ababcdcd'"
      ]
     },
     "execution_count": 135,
     "metadata": {},
     "output_type": "execute_result"
    }
   ],
   "source": [
    "answer_check"
   ]
  },
  {
   "cell_type": "code",
   "execution_count": 145,
   "metadata": {},
   "outputs": [
    {
     "data": {
      "text/plain": [
       "9"
      ]
     },
     "execution_count": 145,
     "metadata": {},
     "output_type": "execute_result"
    }
   ],
   "source": [
    "mini"
   ]
  },
  {
   "cell_type": "code",
   "execution_count": 107,
   "metadata": {},
   "outputs": [
    {
     "data": {
      "text/plain": [
       "'ab3c'"
      ]
     },
     "execution_count": 107,
     "metadata": {},
     "output_type": "execute_result"
    }
   ],
   "source": [
    "answer"
   ]
  }
 ],
 "metadata": {
  "kernelspec": {
   "display_name": "Python 3",
   "language": "python",
   "name": "python3"
  },
  "language_info": {
   "codemirror_mode": {
    "name": "ipython",
    "version": 3
   },
   "file_extension": ".py",
   "mimetype": "text/x-python",
   "name": "python",
   "nbconvert_exporter": "python",
   "pygments_lexer": "ipython3",
   "version": "3.8.5"
  }
 },
 "nbformat": 4,
 "nbformat_minor": 4
}
