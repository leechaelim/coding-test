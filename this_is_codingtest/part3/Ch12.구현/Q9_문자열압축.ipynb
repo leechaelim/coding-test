{
 "cells": [
  {
   "cell_type": "code",
   "execution_count": 148,
   "metadata": {},
   "outputs": [
    {
     "name": "stdout",
     "output_type": "stream",
     "text": [
      "9\n"
     ]
    }
   ],
   "source": [
    "#1h 29m 43s\n",
    "# 굳이 정답 str 안저장하고 len 최소만 저장해도 되는데\n",
    "# 정답 확인 하려고 그냥 str 저장해둠\n",
    "s = \"ababcdcdababcdcd\"\n",
    "num = 1\n",
    "answer_check =\"\"\n",
    "answer_list=[]    \n",
    "for i in range(len(s)//2):\n",
    "    k = 0\n",
    "    answer_check = \"\"\n",
    "    while True:\n",
    "        if k+2*(i+1)>len(s):\n",
    "            if num != 1:\n",
    "                answer_check += str(num) + s[k:]\n",
    "            else:\n",
    "                answer_check += s[k:]\n",
    "            num = 1\n",
    "            answer_list.append(answer_check)\n",
    "            break\n",
    "        elif s[k:k+i+1] == s[k+i+1:k+2*(i+1)]:\n",
    "            num += 1\n",
    "        else:\n",
    "            if num != 1:\n",
    "                answer_check += str(num) + s[k:k+i+1]\n",
    "            else:\n",
    "                answer_check += s[k:k+i+1]\n",
    "            num = 1\n",
    "            \n",
    "        k = k+i+1\n",
    "# 그냥 min(answer_list) 하면 왜 마지막 원소 못 체크하지?\n",
    "mini = len(s)        \n",
    "for x in answer_list:\n",
    "    if len(x)<mini:\n",
    "        mini = len(x)\n",
    "        \n",
    "print(mini)"
   ]
  },
  {
   "cell_type": "code",
   "execution_count": 135,
   "metadata": {},
   "outputs": [
    {
     "data": {
      "text/plain": [
       "'2ababcdcd'"
      ]
     },
     "execution_count": 135,
     "metadata": {},
     "output_type": "execute_result"
    }
   ],
   "source": [
    "answer_check"
   ]
  },
  {
   "cell_type": "code",
   "execution_count": 145,
   "metadata": {},
   "outputs": [
    {
     "data": {
      "text/plain": [
       "9"
      ]
     },
     "execution_count": 145,
     "metadata": {},
     "output_type": "execute_result"
    }
   ],
   "source": [
    "mini"
   ]
  },
  {
   "cell_type": "code",
   "execution_count": 107,
   "metadata": {},
   "outputs": [
    {
     "data": {
      "text/plain": [
       "'ab3c'"
      ]
     },
     "execution_count": 107,
     "metadata": {},
     "output_type": "execute_result"
    }
   ],
   "source": [
    "answer"
   ]
  }
 ],
 "metadata": {
  "kernelspec": {
   "display_name": "Python 3",
   "language": "python",
   "name": "python3"
  },
  "language_info": {
   "codemirror_mode": {
    "name": "ipython",
    "version": 3
   },
   "file_extension": ".py",
   "mimetype": "text/x-python",
   "name": "python",
   "nbconvert_exporter": "python",
   "pygments_lexer": "ipython3",
   "version": "3.8.5"
  }
 },
 "nbformat": 4,
 "nbformat_minor": 4
}
