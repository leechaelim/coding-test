{
 "cells": [
  {
   "cell_type": "code",
   "execution_count": 8,
   "metadata": {},
   "outputs": [
    {
     "name": "stdout",
     "output_type": "stream",
     "text": [
      "222402\n",
      "LUCKY\n"
     ]
    }
   ],
   "source": [
    "# 5m 46s\n",
    "N = input()\n",
    "sum_front=0\n",
    "sum_back = 0\n",
    "for x in range(len(N)//2):\n",
    "    sum_front +=int(N[x]) \n",
    "    sum_back += int(N[x+len(N)//2])\n",
    "if sum_front == sum_back:\n",
    "    print(\"LUCKY\")\n",
    "else:\n",
    "    print(\"READY\")"
   ]
  }
 ],
 "metadata": {
  "kernelspec": {
   "display_name": "Python 3",
   "language": "python",
   "name": "python3"
  },
  "language_info": {
   "codemirror_mode": {
    "name": "ipython",
    "version": 3
   },
   "file_extension": ".py",
   "mimetype": "text/x-python",
   "name": "python",
   "nbconvert_exporter": "python",
   "pygments_lexer": "ipython3",
   "version": "3.8.5"
  }
 },
 "nbformat": 4,
 "nbformat_minor": 4
}
