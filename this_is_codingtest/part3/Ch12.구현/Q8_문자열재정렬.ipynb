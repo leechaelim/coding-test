{
 "cells": [
  {
   "cell_type": "code",
   "execution_count": 27,
   "metadata": {},
   "outputs": [
    {
     "name": "stdout",
     "output_type": "stream",
     "text": [
      "K1KA5DB7\n",
      "ABDKK13\n"
     ]
    }
   ],
   "source": [
    "#11m 34s\n",
    "S = input()\n",
    "answer = \"\"#리스트를 str로 출력하는 걸 몰라서 그냥 str로 만들었었다. print(''.join(result))\n",
    "sum = 0\n",
    "acsii_list = []\n",
    "for x in S:\n",
    "    acsii_list.append(ord(x))\n",
    "acsii_list.sort()\n",
    "for x in acsii_list:\n",
    "    if x < 65:\n",
    "        sum += int(chr(x))\n",
    "    else:\n",
    "        answer+=chr(x)\n",
    "answer+=str(sum)\n",
    "print(answer)"
   ]
  },
  {
   "cell_type": "code",
   "execution_count": 34,
   "metadata": {},
   "outputs": [
    {
     "name": "stdout",
     "output_type": "stream",
     "text": [
      "K1KA5DB7\n",
      "ABDKK13\n"
     ]
    }
   ],
   "source": [
    "#교재 풀이에 있는 함수 익히기\n",
    "S = input()\n",
    "answer = []\n",
    "sum = 0\n",
    "for x in S:\n",
    "    if x.isalpha():# 알파벳인지 확인하는 함수 \n",
    "        answer.append(x)\n",
    "    else:\n",
    "        sum += int(x)\n",
    "answer.sort() # 리스트 형태라서 정렬 가능\n",
    "if sum != 0: #숫자가 하나라도 있었다면\n",
    "    answer.append(str(sum))\n",
    "print(''.join(answer))"
   ]
  },
  {
   "cell_type": "code",
   "execution_count": 29,
   "metadata": {},
   "outputs": [
    {
     "name": "stdout",
     "output_type": "stream",
     "text": [
      "SDFSE234FD\n"
     ]
    }
   ],
   "source": [
    "W = input()"
   ]
  },
  {
   "cell_type": "code",
   "execution_count": 33,
   "metadata": {},
   "outputs": [
    {
     "data": {
      "text/plain": [
       "['2', '3', '4', 'D', 'D', 'E', 'F', 'F', 'S', 'S']"
      ]
     },
     "execution_count": 33,
     "metadata": {},
     "output_type": "execute_result"
    }
   ],
   "source": [
    "# str이면 sort()안되고 list면 정수, 알파벳 섞여 있어도 정렬 가능\n",
    "a = []\n",
    "for x in W:\n",
    "    a.append(x)\n",
    "a.sort()\n",
    "a"
   ]
  },
  {
   "cell_type": "code",
   "execution_count": 19,
   "metadata": {},
   "outputs": [
    {
     "data": {
      "text/plain": [
       "[51, 52, 69, 70, 78, 78, 79, 87]"
      ]
     },
     "execution_count": 19,
     "metadata": {},
     "output_type": "execute_result"
    }
   ],
   "source": [
    "acsii_list"
   ]
  },
  {
   "cell_type": "code",
   "execution_count": 22,
   "metadata": {},
   "outputs": [
    {
     "data": {
      "text/plain": [
       "65"
      ]
     },
     "execution_count": 22,
     "metadata": {},
     "output_type": "execute_result"
    }
   ],
   "source": [
    "ord(\"A\")"
   ]
  }
 ],
 "metadata": {
  "kernelspec": {
   "display_name": "Python 3",
   "language": "python",
   "name": "python3"
  },
  "language_info": {
   "codemirror_mode": {
    "name": "ipython",
    "version": 3
   },
   "file_extension": ".py",
   "mimetype": "text/x-python",
   "name": "python",
   "nbconvert_exporter": "python",
   "pygments_lexer": "ipython3",
   "version": "3.8.5"
  }
 },
 "nbformat": 4,
 "nbformat_minor": 4
}
