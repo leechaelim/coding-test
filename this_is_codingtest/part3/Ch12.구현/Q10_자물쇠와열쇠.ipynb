{
 "cells": [
  {
   "cell_type": "code",
   "execution_count": 184,
   "metadata": {},
   "outputs": [],
   "source": [
    "import copy\n",
    "\n",
    "N = 3\n",
    "M =3\n",
    "max_list=[] \n",
    "for i in range(N+2*M -2):\n",
    "    max_list.append([])\n",
    "    \n",
    "    for k in range(N+2*M -2):\n",
    "        max_list[i].append(9)"
   ]
  },
  {
   "cell_type": "code",
   "execution_count": 185,
   "metadata": {},
   "outputs": [],
   "source": [
    "lock = [[1, 1, 1], [1, 1, 0], [1, 0, 1]]"
   ]
  },
  {
   "cell_type": "code",
   "execution_count": 186,
   "metadata": {},
   "outputs": [],
   "source": []
  },
  {
   "cell_type": "code",
   "execution_count": 216,
   "metadata": {},
   "outputs": [],
   "source": [
    "# 1h 3m 34s 합계: 73.0 / 100.0\n",
    "import copy\n",
    "def solution(key, lock):\n",
    "    answer = False\n",
    "    N = len(lock[0])\n",
    "    M = len(key[0])\n",
    "    \n",
    "\n",
    "    max_list=[] \n",
    "    for i in range(N+2*M -2):\n",
    "        max_list.append([])\n",
    "\n",
    "        for k in range(N+2*M -2):\n",
    "            max_list[i].append(9)\n",
    "\n",
    "    for i in range(N):\n",
    "        for k in range(N):\n",
    "            max_list[M-1+i][M-1+k] =lock[i][k]\n",
    "\n",
    "    for x in range(4):\n",
    "        for i in range(N + M -2):\n",
    "            for j in range(N + M -2):\n",
    "                if max(max_list, key) !=  min(max_list, key) and max(max_list, key)!=max_list and  min(max_list, key) != max_list:\n",
    "                    answer = True\n",
    "                    #print(i,j)\n",
    "                    break\n",
    "        max_list_copy =  copy.deepcopy(max_list)\n",
    "        for a in range(len(max_list)):\n",
    "            for b in range(len(max_list)):\n",
    "                max_list_copy[b][len(max_list)-1-a] = max_list[a][b] \n",
    "\n",
    "    \n",
    "    \n",
    "    return answer,max_list,max(max_list, key),key"
   ]
  },
  {
   "cell_type": "code",
   "execution_count": 219,
   "metadata": {},
   "outputs": [
    {
     "data": {
      "text/plain": [
       "(False,\n",
       " [[9, 9, 9, 9, 9, 9, 9],\n",
       "  [9, 9, 9, 9, 9, 9, 9],\n",
       "  [9, 9, 0, 1, 0, 9, 9],\n",
       "  [9, 9, 1, 1, 0, 9, 9],\n",
       "  [9, 9, 1, 1, 0, 9, 9],\n",
       "  [9, 9, 9, 9, 9, 9, 9],\n",
       "  [9, 9, 9, 9, 9, 9, 9]],\n",
       " [[9, 9, 9, 9, 9, 9, 9],\n",
       "  [9, 9, 9, 9, 9, 9, 9],\n",
       "  [9, 9, 0, 1, 0, 9, 9],\n",
       "  [9, 9, 1, 1, 0, 9, 9],\n",
       "  [9, 9, 1, 1, 0, 9, 9],\n",
       "  [9, 9, 9, 9, 9, 9, 9],\n",
       "  [9, 9, 9, 9, 9, 9, 9]],\n",
       " [[1, 1, 1], [1, 1, 1], [1, 1, 1]])"
      ]
     },
     "execution_count": 219,
     "metadata": {},
     "output_type": "execute_result"
    }
   ],
   "source": [
    "key = [[1,1,1],[1,1,1],[1,1,1]]\n",
    "lock = [[0,1,0],[1,1,0],[1,1,0]]\n",
    "solution(key, lock)"
   ]
  },
  {
   "cell_type": "code",
   "execution_count": 210,
   "metadata": {},
   "outputs": [
    {
     "data": {
      "text/plain": [
       "[[9, 9, 9, 9, 9, 9, 9],\n",
       " [9, 9, 9, 9, 9, 9, 9],\n",
       " [9, 9, 1, 1, 1, 9, 9],\n",
       " [9, 9, 1, 1, 0, 9, 9],\n",
       " [9, 9, 1, 0, 1, 9, 9],\n",
       " [9, 9, 9, 9, 9, 9, 9],\n",
       " [9, 9, 9, 9, 9, 9, 9]]"
      ]
     },
     "execution_count": 210,
     "metadata": {},
     "output_type": "execute_result"
    }
   ],
   "source": [
    "max_list"
   ]
  },
  {
   "cell_type": "code",
   "execution_count": 187,
   "metadata": {},
   "outputs": [],
   "source": [
    "max_list_copy =  copy.deepcopy(max_list)"
   ]
  },
  {
   "cell_type": "code",
   "execution_count": 188,
   "metadata": {},
   "outputs": [],
   "source": []
  },
  {
   "cell_type": "code",
   "execution_count": 189,
   "metadata": {},
   "outputs": [
    {
     "data": {
      "text/plain": [
       "[[9, 9, 9, 9, 9, 9, 9],\n",
       " [9, 9, 9, 9, 9, 9, 9],\n",
       " [9, 9, 1, 1, 1, 9, 9],\n",
       " [9, 9, 1, 1, 0, 9, 9],\n",
       " [9, 9, 1, 0, 1, 9, 9],\n",
       " [9, 9, 9, 9, 9, 9, 9],\n",
       " [9, 9, 9, 9, 9, 9, 9]]"
      ]
     },
     "execution_count": 189,
     "metadata": {},
     "output_type": "execute_result"
    }
   ],
   "source": [
    "max_list"
   ]
  },
  {
   "cell_type": "code",
   "execution_count": 190,
   "metadata": {},
   "outputs": [
    {
     "data": {
      "text/plain": [
       "[[9, 9, 9, 9, 9, 9, 9],\n",
       " [9, 9, 9, 9, 9, 9, 9],\n",
       " [9, 9, 1, 1, 1, 9, 9],\n",
       " [9, 9, 0, 1, 1, 9, 9],\n",
       " [9, 9, 1, 0, 1, 9, 9],\n",
       " [9, 9, 9, 9, 9, 9, 9],\n",
       " [9, 9, 9, 9, 9, 9, 9]]"
      ]
     },
     "execution_count": 190,
     "metadata": {},
     "output_type": "execute_result"
    }
   ],
   "source": [
    "max_list_copy"
   ]
  },
  {
   "cell_type": "code",
   "execution_count": 180,
   "metadata": {},
   "outputs": [
    {
     "name": "stdout",
     "output_type": "stream",
     "text": [
      "[[1, 2, 3], [4, 5, 6], [7, 8, 9]]\n",
      "[[1, 2, 3], [4, 5, 6], [7, 8, 9]]\n",
      "[[1, 2, 3], [4, 5, 6], [7, 8, 9]]\n",
      "[[1, 2, 1], [4, 5, 6], [7, 8, 9]]\n",
      "[[1, 2, 3], [4, 5, 6], [7, 8, 9]]\n",
      "[[1, 2, 1], [4, 5, 2], [7, 8, 9]]\n",
      "[[1, 2, 3], [4, 5, 6], [7, 8, 9]]\n",
      "[[1, 2, 1], [4, 5, 2], [7, 8, 3]]\n",
      "[[1, 2, 3], [4, 5, 6], [7, 8, 9]]\n",
      "[[1, 4, 1], [4, 5, 2], [7, 8, 3]]\n",
      "[[1, 2, 3], [4, 5, 6], [7, 8, 9]]\n",
      "[[1, 4, 1], [4, 5, 2], [7, 8, 3]]\n",
      "[[1, 2, 3], [4, 5, 6], [7, 8, 9]]\n",
      "[[1, 4, 1], [4, 5, 2], [7, 6, 3]]\n",
      "[[1, 2, 3], [4, 5, 6], [7, 8, 9]]\n",
      "[[7, 4, 1], [4, 5, 2], [7, 6, 3]]\n",
      "[[1, 2, 3], [4, 5, 6], [7, 8, 9]]\n",
      "[[7, 4, 1], [8, 5, 2], [7, 6, 3]]\n"
     ]
    },
    {
     "data": {
      "text/plain": [
       "[[7, 4, 1], [8, 5, 2], [9, 6, 3]]"
      ]
     },
     "execution_count": 180,
     "metadata": {},
     "output_type": "execute_result"
    }
   ],
   "source": [
    "\n",
    "\n",
    "ssssss= [[1,2,3],[4,5,6],[7,8,9]]\n",
    "scopyv = copy.deepcopy(ssssss)\n",
    "for a in range(len(ssssss)):\n",
    "    for b in range(len(ssssss)):\n",
    "        print(ssssss)\n",
    "        print(scopyv)\n",
    "        scopyv[ b][len(ssssss) - a-1] = ssssss[a][b] \n",
    "scopyv"
   ]
  },
  {
   "cell_type": "code",
   "execution_count": 166,
   "metadata": {},
   "outputs": [
    {
     "data": {
      "text/plain": [
       "[[7, 4, 1], [2, 5, 2], [1, 2, 1]]"
      ]
     },
     "execution_count": 166,
     "metadata": {},
     "output_type": "execute_result"
    }
   ],
   "source": [
    "ssssss"
   ]
  },
  {
   "cell_type": "code",
   "execution_count": 176,
   "metadata": {},
   "outputs": [],
   "source": [
    "a = [[1,2,3]]\n",
    "b = a.copy()"
   ]
  },
  {
   "cell_type": "code",
   "execution_count": 177,
   "metadata": {},
   "outputs": [
    {
     "data": {
      "text/plain": [
       "[[3, 2, 3]]"
      ]
     },
     "execution_count": 177,
     "metadata": {},
     "output_type": "execute_result"
    }
   ],
   "source": [
    "b[0][0] = a[0][2]\n",
    "b"
   ]
  },
  {
   "cell_type": "code",
   "execution_count": 178,
   "metadata": {},
   "outputs": [
    {
     "data": {
      "text/plain": [
       "[[3, 2, 3]]"
      ]
     },
     "execution_count": 178,
     "metadata": {},
     "output_type": "execute_result"
    }
   ],
   "source": [
    "a"
   ]
  },
  {
   "cell_type": "code",
   "execution_count": 179,
   "metadata": {},
   "outputs": [
    {
     "data": {
      "text/plain": [
       "[[3, 2, 3]]"
      ]
     },
     "execution_count": 179,
     "metadata": {},
     "output_type": "execute_result"
    }
   ],
   "source": [
    "b"
   ]
  },
  {
   "cell_type": "code",
   "execution_count": null,
   "metadata": {},
   "outputs": [],
   "source": []
  }
 ],
 "metadata": {
  "kernelspec": {
   "display_name": "Python 3",
   "language": "python",
   "name": "python3"
  },
  "language_info": {
   "codemirror_mode": {
    "name": "ipython",
    "version": 3
   },
   "file_extension": ".py",
   "mimetype": "text/x-python",
   "name": "python",
   "nbconvert_exporter": "python",
   "pygments_lexer": "ipython3",
   "version": "3.8.5"
  }
 },
 "nbformat": 4,
 "nbformat_minor": 4
}
