{
 "cells": [
  {
   "cell_type": "code",
   "execution_count": 10,
   "metadata": {},
   "outputs": [
    {
     "name": "stdout",
     "output_type": "stream",
     "text": [
      "5 3\n",
      "1\n",
      "2\n",
      "4\n",
      "8\n",
      "9\n"
     ]
    }
   ],
   "source": [
    "N, C = map(int, input().split())\n",
    "array = []\n",
    "for i in range(N):\n",
    "    array.append(int(input()))\n",
    "                 \n",
    "                 \n",
    "array.sort()"
   ]
  },
  {
   "cell_type": "code",
   "execution_count": 33,
   "metadata": {},
   "outputs": [
    {
     "data": {
      "text/plain": [
       "3"
      ]
     },
     "execution_count": 33,
     "metadata": {},
     "output_type": "execute_result"
    }
   ],
   "source": [
    "C"
   ]
  },
  {
   "cell_type": "code",
   "execution_count": 34,
   "metadata": {},
   "outputs": [],
   "source": [
    "def binary_search(array, C, start, end):\n",
    "    \n",
    "    if start > end :\n",
    "        return end\n",
    "    mid = (start + end) // 2\n",
    "    first = 0\n",
    "    count = 1\n",
    "    #print(start, end, mid)\n",
    "    for i in range(N):\n",
    "        if array[first]+mid <= array[i]:\n",
    "            count += 1\n",
    "            first = i\n",
    "   #print(count)\n",
    "    if count >= C:\n",
    "        return binary_search(array, C, mid+1, end)\n",
    "    else:\n",
    "        return binary_search(array, C, start, mid-1)"
   ]
  },
  {
   "cell_type": "code",
   "execution_count": 35,
   "metadata": {},
   "outputs": [
    {
     "name": "stdout",
     "output_type": "stream",
     "text": [
      "3\n"
     ]
    }
   ],
   "source": [
    "print(binary_search(array, C, 1, max(array)-1))#array[-1] - array[0]이 정확하다"
   ]
  }
 ],
 "metadata": {
  "kernelspec": {
   "display_name": "Python 3",
   "language": "python",
   "name": "python3"
  },
  "language_info": {
   "codemirror_mode": {
    "name": "ipython",
    "version": 3
   },
   "file_extension": ".py",
   "mimetype": "text/x-python",
   "name": "python",
   "nbconvert_exporter": "python",
   "pygments_lexer": "ipython3",
   "version": "3.8.5"
  }
 },
 "nbformat": 4,
 "nbformat_minor": 4
}
