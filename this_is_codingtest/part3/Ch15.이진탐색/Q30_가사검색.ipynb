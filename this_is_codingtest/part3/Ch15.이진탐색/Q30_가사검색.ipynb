{
 "cells": [
  {
   "cell_type": "code",
   "execution_count": 45,
   "metadata": {},
   "outputs": [],
   "source": [
    "def bineary_search_front(text, start, end):#앞에 ?\n",
    "    if start > end :\n",
    "        return None\n",
    "    mid = (start + end )// 2\n",
    "    if text[end] == \"?\":\n",
    "        return text[end+1:]\n",
    "    elif text[mid] == \"?\":\n",
    "        return bineary_search_front(text, start, end - 1)\n",
    "    elif text[mid] != \"?\":\n",
    "        return bineary_search_front(text, start, mid - 1)\n",
    "def bineary_search_back(text, start, end):#뒤에 ?\n",
    "    if start > end :\n",
    "        return None\n",
    "    mid = (start + end )// 2\n",
    "    if text[start] == \"?\":\n",
    "        return text[:start]\n",
    "    elif text[mid] == \"?\":\n",
    "        return bineary_search_back(text, start+1, end)\n",
    "    elif text[mid] != \"?\":\n",
    "        return bineary_search_back(text, mid + 1, end)\n",
    "    \n",
    "def solution(words, queries):\n",
    "    answer = []\n",
    "    for x in  queries:\n",
    "        count = 0\n",
    "        if x[0] == \"?\":\n",
    "            text = bineary_search_front(x, 0, len(x)-1)\n",
    "            \n",
    "            for w in words:\n",
    "                if len(x)==len(w) and text == w[-len(text):]:\n",
    "                    count += 1\n",
    "            answer.append(count)\n",
    "        elif x[-1] == \"?\":\n",
    "            text = bineary_search_back(x, 0, len(x)-1)\n",
    "            for w in words:\n",
    "                if len(x)==len(w) and text == w[:len(text)]:\n",
    "                    count += 1\n",
    "            answer.append(count)\n",
    "        else:\n",
    "            answer.append(0)\n",
    "            \n",
    "        \n",
    "    return answer\n"
   ]
  },
  {
   "cell_type": "markdown",
   "metadata": {},
   "source": [
    "정확성: 25.0\n",
    "효율성: 0.0\n",
    "합계: 25.0 / 100.0"
   ]
  },
  {
   "cell_type": "code",
   "execution_count": 110,
   "metadata": {},
   "outputs": [],
   "source": [
    "words = [\"frodo\", \"front\", \"frost\", \"frozen\", \"frame\", \"kakao\"]\n",
    "queries = [\"fro??\", \"????o\", \"fr???\", \"fro???\", \"pro?\"]"
   ]
  },
  {
   "cell_type": "code",
   "execution_count": 130,
   "metadata": {},
   "outputs": [
    {
     "data": {
      "text/plain": [
       "[3, 2, 4, 1, 0]"
      ]
     },
     "execution_count": 130,
     "metadata": {},
     "output_type": "execute_result"
    }
   ],
   "source": [
    "solution(words, queries)"
   ]
  },
  {
   "cell_type": "code",
   "execution_count": 102,
   "metadata": {},
   "outputs": [],
   "source": [
    "def bineary_search_front(text, start, end):#앞에 ?\n",
    "    if start > end :\n",
    "        return None\n",
    "    mid = (start + end )// 2\n",
    "    if text[end] == \"?\":\n",
    "        return text[end+1:]\n",
    "    elif text[mid] == \"?\":\n",
    "        return bineary_search_front(text, start, end - 1)\n",
    "    elif text[mid] != \"?\":\n",
    "        return bineary_search_front(text, start, mid - 1)\n",
    "def bineary_search_back(text, start, end):#뒤에 ?\n",
    "    if start > end :\n",
    "        return None\n",
    "    mid = (start + end )// 2\n",
    "    if text[start] == \"?\":\n",
    "        return text[:start]\n",
    "    elif text[mid] == \"?\":\n",
    "        return bineary_search_back(text, start+1, end)\n",
    "    elif text[mid] != \"?\":\n",
    "        return bineary_search_back(text, mid + 1, end)\n",
    "    \n",
    "def solution(words, queries):\n",
    "    answer = []\n",
    "    words_length = [[\"\"] for i in range(10001)]\n",
    "    for i in range(len(words)):\n",
    "        words_length[len(words[i])].append(words[i])\n",
    "    \n",
    "    for x in  queries:\n",
    "        count = 0\n",
    "        if x[0] == \"?\":\n",
    "            text = bineary_search_front(x, 0, len(x)-1)\n",
    "            check = words_length[len(x)]\n",
    "            for y in check:\n",
    "                if text == y[-len(text):]:\n",
    "                    count += 1\n",
    "            answer.append(count)\n",
    "        elif x[-1] == \"?\":\n",
    "            text = bineary_search_back(x, 0, len(x)-1)\n",
    "            check = words_length[len(x)]\n",
    "            \n",
    "            for y in check:\n",
    "                if text == y[:len(text)]:\n",
    "                    count += 1\n",
    "            answer.append(count)\n",
    "        else:\n",
    "            answer.append(0)\n",
    "            \n",
    "        \n",
    "    return answer\n"
   ]
  },
  {
   "cell_type": "markdown",
   "metadata": {},
   "source": [
    "정확성: 25.0\n",
    "효율성: 0.0\n",
    "합계: 25.0 / 100.0"
   ]
  },
  {
   "cell_type": "markdown",
   "metadata": {},
   "source": [
    "from bisect import bisect_left, bisect_right\n",
    "\n",
    "\n",
    "bisect_left(a, x)\n",
    "정렬된 a에 x를 삽입할 위치를 리턴해준다. x가 a에 이미 있으면 기존 항목의 앞 (왼쪽)의 위치를 반환한다.\n",
    "\n",
    "bisect_right(a, x)\n",
    "bisect_left와 거의 같은 함수인데, 이번에는 x가 a에 이미 있으면 기존 항목 뒤 (오른쪽)의 위치를 반환한다.\n",
    "\n"
   ]
  },
  {
   "cell_type": "code",
   "execution_count": 129,
   "metadata": {},
   "outputs": [],
   "source": [
    "# 교재 풀이는 bisect 이용했는데 다른 사람은 trie로 많이 푸는 듯, trie도 공부하고 다시 풀도록\n",
    "from bisect import bisect_left, bisect_right\n",
    "\n",
    "\n",
    "def count_by_range(array, left_value, right_value):\n",
    "    left_index = bisect_left(array,left_value)\n",
    "    right_index = bisect_right(array,right_value)\n",
    "    \n",
    "    return right_index - left_index\n",
    "\n",
    "def solution(words, queries):\n",
    "    answer = []\n",
    "    words_length = [[] for i in range(10001)]\n",
    "    words_length_reverse= [[] for i in range(10001)]\n",
    "    for i in range(len(words)):\n",
    "        words_length[len(words[i])].append(words[i])\n",
    "        words_length_reverse[len(words[i])].append(words[i][::-1])\n",
    "    \n",
    "    # bisect 쓰려면 먼저 정렬\n",
    "    for i in range(10001):\n",
    "        words_length[i].sort()\n",
    "        words_length_reverse[i].sort()\n",
    "        \n",
    "    for x in  queries:\n",
    "        if x[0] == \"?\":\n",
    "            count = count_by_range(words_length_reverse[len(x)], x[::-1].replace(\"?\",\"a\"), x[::-1].replace(\"?\",\"z\"))\n",
    "            #  x.replace(\"?\",\"a\") 아니고 x[::-1].replace(\"?\",\"a\")인거 생각\n",
    "            answer.append(count)\n",
    "        elif x[-1] == \"?\":\n",
    "            count = count_by_range(words_length[len(x)], x.replace(\"?\",\"a\"), x.replace(\"?\",\"z\"))\n",
    "            answer.append(count)\n",
    "            \n",
    "        \n",
    "    return answer\n"
   ]
  },
  {
   "cell_type": "code",
   "execution_count": 115,
   "metadata": {},
   "outputs": [
    {
     "data": {
      "text/plain": [
       "'Abcd'"
      ]
     },
     "execution_count": 115,
     "metadata": {},
     "output_type": "execute_result"
    }
   ],
   "source": [
    "a = \"abcd\"\n",
    "a[::-1]\n",
    "a.replace(\"a\",\"A\")\n",
    "bisect_left(a,\"c\")\n",
    "a.replace(\"a\",\"A\")"
   ]
  }
 ],
 "metadata": {
  "kernelspec": {
   "display_name": "Python 3",
   "language": "python",
   "name": "python3"
  },
  "language_info": {
   "codemirror_mode": {
    "name": "ipython",
    "version": 3
   },
   "file_extension": ".py",
   "mimetype": "text/x-python",
   "name": "python",
   "nbconvert_exporter": "python",
   "pygments_lexer": "ipython3",
   "version": "3.8.5"
  }
 },
 "nbformat": 4,
 "nbformat_minor": 4
}
