{
 "cells": [
  {
   "cell_type": "code",
   "execution_count": 45,
   "metadata": {},
   "outputs": [],
   "source": [
    "def bineary_search_front(text, start, end):#앞에 ?\n",
    "    if start > end :\n",
    "        return None\n",
    "    mid = (start + end )// 2\n",
    "    if text[end] == \"?\":\n",
    "        return text[end+1:]\n",
    "    elif text[mid] == \"?\":\n",
    "        return bineary_search_front(text, start, end - 1)\n",
    "    elif text[mid] != \"?\":\n",
    "        return bineary_search_front(text, start, mid - 1)\n",
    "def bineary_search_back(text, start, end):#뒤에 ?\n",
    "    if start > end :\n",
    "        return None\n",
    "    mid = (start + end )// 2\n",
    "    if text[start] == \"?\":\n",
    "        return text[:start]\n",
    "    elif text[mid] == \"?\":\n",
    "        return bineary_search_back(text, start+1, end)\n",
    "    elif text[mid] != \"?\":\n",
    "        return bineary_search_back(text, mid + 1, end)\n",
    "    \n",
    "def solution(words, queries):\n",
    "    answer = []\n",
    "    for x in  queries:\n",
    "        count = 0\n",
    "        if x[0] == \"?\":\n",
    "            text = bineary_search_front(x, 0, len(x)-1)\n",
    "            \n",
    "            for w in words:\n",
    "                if len(x)==len(w) and text == w[-len(text):]:\n",
    "                    count += 1\n",
    "            answer.append(count)\n",
    "        elif x[-1] == \"?\":\n",
    "            text = bineary_search_back(x, 0, len(x)-1)\n",
    "            for w in words:\n",
    "                if len(x)==len(w) and text == w[:len(text)]:\n",
    "                    count += 1\n",
    "            answer.append(count)\n",
    "        else:\n",
    "            answer.append(0)\n",
    "            \n",
    "        \n",
    "    return answer\n"
   ]
  },
  {
   "cell_type": "markdown",
   "metadata": {},
   "source": [
    "정확성: 25.0\n",
    "효율성: 0.0\n",
    "합계: 25.0 / 100.0"
   ]
  },
  {
   "cell_type": "code",
   "execution_count": 3,
   "metadata": {},
   "outputs": [],
   "source": [
    "words = [\"frodo\", \"front\", \"frost\", \"frozen\", \"frame\", \"kakao\"]\n",
    "queries = [\"fro??\", \"????o\", \"fr???\", \"fro???\", \"pro?\"]"
   ]
  },
  {
   "cell_type": "code",
   "execution_count": 106,
   "metadata": {},
   "outputs": [
    {
     "ename": "TypeError",
     "evalue": "unsupported operand type(s) for -: 'str' and 'str'",
     "output_type": "error",
     "traceback": [
      "\u001b[1;31m---------------------------------------------------------------------------\u001b[0m",
      "\u001b[1;31mTypeError\u001b[0m                                 Traceback (most recent call last)",
      "\u001b[1;32m<ipython-input-106-e11de2da525a>\u001b[0m in \u001b[0;36m<module>\u001b[1;34m\u001b[0m\n\u001b[1;32m----> 1\u001b[1;33m \u001b[0msolution\u001b[0m\u001b[1;33m(\u001b[0m\u001b[0mwords\u001b[0m\u001b[1;33m,\u001b[0m \u001b[0mqueries\u001b[0m\u001b[1;33m)\u001b[0m\u001b[1;33m\u001b[0m\u001b[1;33m\u001b[0m\u001b[0m\n\u001b[0m",
      "\u001b[1;32m<ipython-input-105-ce91cd2500c1>\u001b[0m in \u001b[0;36msolution\u001b[1;34m(words, queries)\u001b[0m\n\u001b[0;32m     24\u001b[0m             \u001b[0manswer\u001b[0m\u001b[1;33m.\u001b[0m\u001b[0mappend\u001b[0m\u001b[1;33m(\u001b[0m\u001b[0mcount\u001b[0m\u001b[1;33m)\u001b[0m\u001b[1;33m\u001b[0m\u001b[1;33m\u001b[0m\u001b[0m\n\u001b[0;32m     25\u001b[0m         \u001b[1;32melif\u001b[0m \u001b[0mx\u001b[0m\u001b[1;33m[\u001b[0m\u001b[1;33m-\u001b[0m\u001b[1;36m1\u001b[0m\u001b[1;33m]\u001b[0m \u001b[1;33m==\u001b[0m \u001b[1;34m\"?\"\u001b[0m\u001b[1;33m:\u001b[0m\u001b[1;33m\u001b[0m\u001b[1;33m\u001b[0m\u001b[0m\n\u001b[1;32m---> 26\u001b[1;33m             \u001b[0mcount\u001b[0m \u001b[1;33m=\u001b[0m \u001b[0mcount_by_range\u001b[0m\u001b[1;33m(\u001b[0m\u001b[0mwords_length\u001b[0m\u001b[1;33m[\u001b[0m\u001b[0mlen\u001b[0m\u001b[1;33m(\u001b[0m\u001b[0mx\u001b[0m\u001b[1;33m)\u001b[0m\u001b[1;33m]\u001b[0m\u001b[1;33m,\u001b[0m \u001b[0mx\u001b[0m\u001b[1;33m.\u001b[0m\u001b[0mreplace\u001b[0m\u001b[1;33m(\u001b[0m\u001b[1;34m\"?\"\u001b[0m\u001b[1;33m,\u001b[0m\u001b[1;34m\"a\"\u001b[0m\u001b[1;33m)\u001b[0m\u001b[1;33m,\u001b[0m \u001b[0mx\u001b[0m\u001b[1;33m.\u001b[0m\u001b[0mreplace\u001b[0m\u001b[1;33m(\u001b[0m\u001b[1;34m\"?\"\u001b[0m\u001b[1;33m,\u001b[0m\u001b[1;34m\"z\"\u001b[0m\u001b[1;33m)\u001b[0m\u001b[1;33m)\u001b[0m\u001b[1;33m\u001b[0m\u001b[1;33m\u001b[0m\u001b[0m\n\u001b[0m\u001b[0;32m     27\u001b[0m             \u001b[0manswer\u001b[0m\u001b[1;33m.\u001b[0m\u001b[0mappend\u001b[0m\u001b[1;33m(\u001b[0m\u001b[0mcount\u001b[0m\u001b[1;33m)\u001b[0m\u001b[1;33m\u001b[0m\u001b[1;33m\u001b[0m\u001b[0m\n\u001b[0;32m     28\u001b[0m         \u001b[1;32melse\u001b[0m\u001b[1;33m:\u001b[0m\u001b[1;33m\u001b[0m\u001b[1;33m\u001b[0m\u001b[0m\n",
      "\u001b[1;32m<ipython-input-105-ce91cd2500c1>\u001b[0m in \u001b[0;36mcount_by_range\u001b[1;34m(array, left_value, right_value)\u001b[0m\n\u001b[0;32m      6\u001b[0m     \u001b[0mright_index\u001b[0m \u001b[1;33m=\u001b[0m \u001b[0mbisect_right\u001b[0m\u001b[1;33m(\u001b[0m\u001b[0marray\u001b[0m\u001b[1;33m,\u001b[0m\u001b[0mright_value\u001b[0m\u001b[1;33m)\u001b[0m\u001b[1;33m\u001b[0m\u001b[1;33m\u001b[0m\u001b[0m\n\u001b[0;32m      7\u001b[0m \u001b[1;33m\u001b[0m\u001b[0m\n\u001b[1;32m----> 8\u001b[1;33m     \u001b[1;32mreturn\u001b[0m \u001b[0mright_value\u001b[0m \u001b[1;33m-\u001b[0m \u001b[0mleft_value\u001b[0m\u001b[1;33m\u001b[0m\u001b[1;33m\u001b[0m\u001b[0m\n\u001b[0m\u001b[0;32m      9\u001b[0m \u001b[1;32mdef\u001b[0m \u001b[0msolution\u001b[0m\u001b[1;33m(\u001b[0m\u001b[0mwords\u001b[0m\u001b[1;33m,\u001b[0m \u001b[0mqueries\u001b[0m\u001b[1;33m)\u001b[0m\u001b[1;33m:\u001b[0m\u001b[1;33m\u001b[0m\u001b[1;33m\u001b[0m\u001b[0m\n\u001b[0;32m     10\u001b[0m     \u001b[0manswer\u001b[0m \u001b[1;33m=\u001b[0m \u001b[1;33m[\u001b[0m\u001b[1;33m]\u001b[0m\u001b[1;33m\u001b[0m\u001b[1;33m\u001b[0m\u001b[0m\n",
      "\u001b[1;31mTypeError\u001b[0m: unsupported operand type(s) for -: 'str' and 'str'"
     ]
    }
   ],
   "source": [
    "solution(words, queries)"
   ]
  },
  {
   "cell_type": "code",
   "execution_count": 102,
   "metadata": {},
   "outputs": [],
   "source": [
    "def bineary_search_front(text, start, end):#앞에 ?\n",
    "    if start > end :\n",
    "        return None\n",
    "    mid = (start + end )// 2\n",
    "    if text[end] == \"?\":\n",
    "        return text[end+1:]\n",
    "    elif text[mid] == \"?\":\n",
    "        return bineary_search_front(text, start, end - 1)\n",
    "    elif text[mid] != \"?\":\n",
    "        return bineary_search_front(text, start, mid - 1)\n",
    "def bineary_search_back(text, start, end):#뒤에 ?\n",
    "    if start > end :\n",
    "        return None\n",
    "    mid = (start + end )// 2\n",
    "    if text[start] == \"?\":\n",
    "        return text[:start]\n",
    "    elif text[mid] == \"?\":\n",
    "        return bineary_search_back(text, start+1, end)\n",
    "    elif text[mid] != \"?\":\n",
    "        return bineary_search_back(text, mid + 1, end)\n",
    "    \n",
    "def solution(words, queries):\n",
    "    answer = []\n",
    "    words_length = [[\"\"] for i in range(10001)]\n",
    "    for i in range(len(words)):\n",
    "        words_length[len(words[i])].append(words[i])\n",
    "    \n",
    "    for x in  queries:\n",
    "        count = 0\n",
    "        if x[0] == \"?\":\n",
    "            text = bineary_search_front(x, 0, len(x)-1)\n",
    "            check = words_length[len(x)]\n",
    "            for y in check:\n",
    "                if text == y[-len(text):]:\n",
    "                    count += 1\n",
    "            answer.append(count)\n",
    "        elif x[-1] == \"?\":\n",
    "            text = bineary_search_back(x, 0, len(x)-1)\n",
    "            check = words_length[len(x)]\n",
    "            \n",
    "            for y in check:\n",
    "                if text == y[:len(text)]:\n",
    "                    count += 1\n",
    "            answer.append(count)\n",
    "        else:\n",
    "            answer.append(0)\n",
    "            \n",
    "        \n",
    "    return answer\n"
   ]
  },
  {
   "cell_type": "markdown",
   "metadata": {},
   "source": [
    "정확성: 25.0\n",
    "효율성: 0.0\n",
    "합계: 25.0 / 100.0"
   ]
  },
  {
   "cell_type": "markdown",
   "metadata": {},
   "source": [
    "from bisect import bisect_left, bisect_right\n",
    "\n",
    "\n",
    "bisect_left(a, x)\n",
    "정렬된 a에 x를 삽입할 위치를 리턴해준다. x가 a에 이미 있으면 기존 항목의 앞 (왼쪽)의 위치를 반환한다.\n",
    "\n",
    "bisect_right(a, x)\n",
    "bisect_left와 거의 같은 함수인데, 이번에는 x가 a에 이미 있으면 기존 항목 뒤 (오른쪽)의 위치를 반환한다.\n",
    "\n"
   ]
  },
  {
   "cell_type": "code",
   "execution_count": 105,
   "metadata": {},
   "outputs": [],
   "source": [
    "from bisect import bisect_left, bisect_right\n",
    "\n",
    "\n",
    "def count_by_range(array, left_value, right_value):\n",
    "    left_index = bisect_left(array,left_value)\n",
    "    right_index = bisect_right(array,right_value)\n",
    "    \n",
    "    return right_value - left_value\n",
    "def solution(words, queries):\n",
    "    answer = []\n",
    "    words_length = [[] for i in range(10001)]\n",
    "    words_length_reverse= [[] for i in range(10001)]\n",
    "    for i in range(len(words)):\n",
    "        words_length[len(words[i])].append(words[i])\n",
    "        words_length_reverse[len(words[i])].append(words[i][::-1])\n",
    "        \n",
    "    for i in range(10001):\n",
    "        words_length[i].sort()\n",
    "        words_length_reverse.sort()\n",
    "        \n",
    "    for x in  queries:\n",
    "        if x[0] == \"?\":\n",
    "            count = count_by_range(words_length_reverse[len(x)], x.replace(\"?\",\"a\"), x.replace(\"?\",\"z\"))\n",
    "            answer.append(count)\n",
    "        elif x[-1] == \"?\":\n",
    "            count = count_by_range(words_length[len(x)], x.replace(\"?\",\"a\"), x.replace(\"?\",\"z\"))\n",
    "            answer.append(count)\n",
    "        else:\n",
    "            answer.append(0)\n",
    "            \n",
    "        \n",
    "    return answer\n"
   ]
  },
  {
   "cell_type": "code",
   "execution_count": null,
   "metadata": {},
   "outputs": [],
   "source": []
  }
 ],
 "metadata": {
  "kernelspec": {
   "display_name": "Python 3",
   "language": "python",
   "name": "python3"
  },
  "language_info": {
   "codemirror_mode": {
    "name": "ipython",
    "version": 3
   },
   "file_extension": ".py",
   "mimetype": "text/x-python",
   "name": "python",
   "nbconvert_exporter": "python",
   "pygments_lexer": "ipython3",
   "version": "3.8.5"
  }
 },
 "nbformat": 4,
 "nbformat_minor": 4
}
