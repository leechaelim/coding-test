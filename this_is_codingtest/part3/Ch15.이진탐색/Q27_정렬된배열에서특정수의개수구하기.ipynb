{
 "cells": [
  {
   "cell_type": "code",
   "execution_count": 70,
   "metadata": {},
   "outputs": [
    {
     "name": "stdout",
     "output_type": "stream",
     "text": [
      "7 2\n",
      "1 1 2 2 2 2 3\n"
     ]
    }
   ],
   "source": [
    "N, X = map(int, input().split())\n",
    "N_array = list(map(int, input().split()))"
   ]
  },
  {
   "cell_type": "code",
   "execution_count": 77,
   "metadata": {},
   "outputs": [
    {
     "name": "stdout",
     "output_type": "stream",
     "text": [
      "maxi 3\n",
      "maxi 3\n",
      "maxi 4\n",
      "maxi 4\n",
      "maxi 5\n",
      "maxi 5\n",
      "mini 3\n",
      "mini 2\n",
      "mini 2\n",
      "mini 2\n",
      "mini 2\n",
      "4\n"
     ]
    }
   ],
   "source": [
    "# 함수를 2개 작성해서 처음 target의 인덱스와 마지막 인덱스로 갯수를 계산한다는 접근은 맞음\n",
    "\n",
    "# 하지만, 이 함수에서는 start = start + 1 이라서 O(log N)인지는 잘 모르겠다...?\n",
    "# 시간 복잡도 계산하는 방법 더 공부해야 한다\n",
    "\n",
    "def binary_maxi(N_array, X, start, end):\n",
    "    maxi = 0\n",
    "    while start <= end :\n",
    "        mid = (start + end) // 2\n",
    "        if N_array[mid] == X :\n",
    "            if mid >= maxi:\n",
    "                maxi = mid\n",
    "                print(\"maxi \"+str(maxi))\n",
    "                start = start + 1\n",
    "        elif N_array[mid] > X :\n",
    "            end =  mid - 1\n",
    "        else:\n",
    "            start = mid + 1  \n",
    "    return maxi\n",
    "\n",
    "\n",
    "def binary_mini(N_array, X, start, end):\n",
    "    mini = 1000001\n",
    "    while start <= end :\n",
    "        mid = (start + end) // 2\n",
    "        if N_array[mid] == X :\n",
    "            if mid <= mini:\n",
    "                mini = mid\n",
    "                print(\"mini \"+str(mini))\n",
    "                end =  end - 1\n",
    "                #print(start, end)\n",
    "        elif N_array[mid] > X :\n",
    "            end =  mid - 1\n",
    "            #print(start, end)\n",
    "        else:\n",
    "            start = mid + 1\n",
    "            #print(start, end)\n",
    "    return mini\n",
    "\n",
    "maxi_value = binary_maxi(N_array, X, 0, N-1)     \n",
    "mini_value = binary_mini(N_array, X, 0, N-1)\n",
    "if mini > 0: #이거 아님 틀렸다, 0일 때도 +1 맞음\n",
    "    answer = maxi_value - mini_value + 1\n",
    "else:\n",
    "    answer = maxi_value\n",
    "if mini_value == 1000001:\n",
    "    answer = -1\n",
    "    \n",
    "print(answer)"
   ]
  },
  {
   "cell_type": "code",
   "execution_count": 76,
   "metadata": {},
   "outputs": [
    {
     "data": {
      "text/plain": [
       "(1000001, 5, 6, 6, 6)"
      ]
     },
     "execution_count": 76,
     "metadata": {},
     "output_type": "execute_result"
    }
   ],
   "source": [
    "mini_value, maxi_value, mid, start, end"
   ]
  },
  {
   "cell_type": "code",
   "execution_count": 81,
   "metadata": {},
   "outputs": [
    {
     "name": "stdout",
     "output_type": "stream",
     "text": [
      "4\n"
     ]
    }
   ],
   "source": [
    "# 교재 참고한 인덱스 구하는 방법\n",
    "def binary_maxi(N_array, X, start, end):\n",
    "    maxi = 0\n",
    "    while start <= end :\n",
    "        mid = (start + end) // 2\n",
    "        if (mid == N-1 or X < N_array[mid + 1]) and N_array[mid] == X : #mid 가 N-1(마지막)이거나 배열에서 다음 값이 X보다 크면 마지막 원소\n",
    "            maxi = mid\n",
    "            return maxi\n",
    "        elif N_array[mid] > X : #####X가 작은 경우!!!!!\n",
    "            end =  mid - 1\n",
    "        else:\n",
    "            start = mid + 1  \n",
    "    return maxi\n",
    "\n",
    "\n",
    "def binary_mini(N_array, X, start, end):\n",
    "    mini = 1000001\n",
    "    while start <= end :\n",
    "        mid = (start + end) // 2\n",
    "        if (mid == 0 or X > N_array[mid - 1]) and N_array[mid] == X : #mid 가 0(처음)이거나 배열에서 다음 값이 X보다 작으면 마지막 원소\n",
    "            mini = mid\n",
    "            return mini\n",
    "        elif N_array[mid] >= X : #####X가 작거나 같은 경우!!!!!\n",
    "            end =  mid - 1\n",
    "            #print(start, end)\n",
    "        else:\n",
    "            start = mid + 1\n",
    "            #print(start, end)\n",
    "    return mini\n",
    "\n",
    "maxi_value = binary_maxi(N_array, X, 0, N-1)     \n",
    "mini_value = binary_mini(N_array, X, 0, N-1)\n",
    "answer = maxi_value - mini_value + 1\n",
    "if mini_value == 1000001:\n",
    "    answer = -1\n",
    "    \n",
    "print(answer)"
   ]
  }
 ],
 "metadata": {
  "kernelspec": {
   "display_name": "Python 3",
   "language": "python",
   "name": "python3"
  },
  "language_info": {
   "codemirror_mode": {
    "name": "ipython",
    "version": 3
   },
   "file_extension": ".py",
   "mimetype": "text/x-python",
   "name": "python",
   "nbconvert_exporter": "python",
   "pygments_lexer": "ipython3",
   "version": "3.8.5"
  }
 },
 "nbformat": 4,
 "nbformat_minor": 4
}
