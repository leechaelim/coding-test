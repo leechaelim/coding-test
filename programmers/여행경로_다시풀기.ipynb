{
 "cells": [
  {
   "cell_type": "code",
   "execution_count": null,
   "metadata": {},
   "outputs": [],
   "source": [
    "# 다른 사람 풀이\n",
    "# 티켓이 없다 == 도착지다 이용해서 도착지리스트 만들어서 뒤집어줌\n",
    "from collections import defaultdict\n",
    "def solution(tickets):\n",
    "    r = defaultdict(list)\n",
    "    print(r)\n",
    "    for i,j in tickets:\n",
    "        r[i].append(j)\n",
    "    for i in r.keys():\n",
    "        r[i].sort()\n",
    "    # r에 key에 출발, item에 도착지로 티켓 정리함\n",
    "    print(r)\n",
    "    s = [\"ICN\"]\n",
    "    p = []\n",
    "    while s:\n",
    "        q = s[-1]\n",
    "        if r[q] != []: #티켓 있음\n",
    "            s.append(r[q].pop(0))\n",
    "            print(\"s\",s)\n",
    "        else: #티켓 없음\n",
    "            print(q, r[q])\n",
    "            p.append(s.pop()) #도착지에 넣어줌\n",
    "            print(\"p\",p)\n",
    "    return p[::-1] #뒤집기"
   ]
  },
  {
   "cell_type": "code",
   "execution_count": null,
   "metadata": {},
   "outputs": [],
   "source": [
    "# 이건 효율 떨어져서 50점임\n",
    "# 44분 풀어도 bfs 어캐할지 감 안온다\n",
    "# 다시 풀기\n",
    "def setting(data):\n",
    "    return data[1]\n",
    "\n",
    "def solution(tickets):\n",
    "    answer = []\n",
    "    tickets = sorted(tickets,key = setting)\n",
    "    start = \"ICN\"\n",
    "    answer.append(start)\n",
    "    for _ in range(len(tickets)):\n",
    "        for idx, country in enumerate(tickets):\n",
    "            if country[0] == start:\n",
    "                answer.append(country[1])\n",
    "                start = country[1]\n",
    "                del tickets[idx]\n",
    "    \n",
    "    return answer"
   ]
  },
  {
   "cell_type": "code",
   "execution_count": null,
   "metadata": {},
   "outputs": [],
   "source": [
    "# 테케 1번 실패함\n",
    "\n",
    "from collections import deque\n",
    "def solution(tickets):\n",
    "    answer = []\n",
    "    idx = set()\n",
    "    for x in tickets:\n",
    "        idx |= set(x)\n",
    "    idx = list(idx)\n",
    "    graph = [[] for _ in range(len(idx))]\n",
    "    for start, end in tickets:\n",
    "        graph[idx.index(start)].append(end)\n",
    "    for x in graph:\n",
    "        x.sort()\n",
    "    \n",
    "    queue = deque()\n",
    "    queue.append(\"ICN\")\n",
    "    while queue:\n",
    "        city = queue.pop()\n",
    "        answer.append(city)\n",
    "        \n",
    "        if graph[idx.index(city)]:\n",
    "            next_city = graph[idx.index(city)][0]\n",
    "            if len(graph[idx.index(city)]) >= 2:\n",
    "                second = graph[idx.index(city)][1]\n",
    "                if city in graph[idx.index(second)]:\n",
    "                    queue.append(graph[idx.index(city)][1])\n",
    "                    del graph[idx.index(city)][1]\n",
    "                else:\n",
    "                    queue.append(graph[idx.index(city)][0])\n",
    "                    del graph[idx.index(city)][0]\n",
    "            else:\n",
    "                queue.append(graph[idx.index(city)][0])\n",
    "                del graph[idx.index(city)][0]\n",
    "        \n",
    "    \n",
    "    return answer"
   ]
  }
 ],
 "metadata": {
  "kernelspec": {
   "display_name": "Python 3",
   "language": "python",
   "name": "python3"
  },
  "language_info": {
   "codemirror_mode": {
    "name": "ipython",
    "version": 3
   },
   "file_extension": ".py",
   "mimetype": "text/x-python",
   "name": "python",
   "nbconvert_exporter": "python",
   "pygments_lexer": "ipython3",
   "version": "3.8.5"
  }
 },
 "nbformat": 4,
 "nbformat_minor": 4
}
