{
 "cells": [
  {
   "cell_type": "code",
   "execution_count": null,
   "metadata": {},
   "outputs": [],
   "source": [
    "def cut(p):\n",
    "    count_1 = 0\n",
    "    count_2 = 0\n",
    "    for x in p:\n",
    "        if x ==\"(\":\n",
    "            count_1 += 1\n",
    "        else:\n",
    "            count_2 += 1\n",
    "        if count_1 == count_2 and count_1+count_2 != len(p):\n",
    "            u = p[:count_1+count_2]\n",
    "            v = p[count_1+count_2:]\n",
    "            return u, v\n",
    "    return p,\"\"\n",
    "def check(u):\n",
    "    stack = []\n",
    "    for x in u:\n",
    "        if x == \"(\":\n",
    "            stack.append(\"(\")\n",
    "        else:\n",
    "            if len(stack) == 0:\n",
    "                return False\n",
    "            else:\n",
    "                stack.pop()\n",
    "    if len(stack) == 0: #올바른 괄호\n",
    "        return True\n",
    "def solution(p):\n",
    "    answer = ''\n",
    "    if p == \"\":\n",
    "        return answer\n",
    "    u, v = cut(p)\n",
    "    print(u,v)\n",
    "    if check(u):\n",
    "        answer = u + solution(v)\n",
    "    else:\n",
    "        answer = \"(\"\n",
    "        answer += solution(v)\n",
    "        answer += \")\"\n",
    "        u = u[1:-1]\n",
    "        for i in range(len(u)):\n",
    "            if u[i] == \"(\":\n",
    "                answer += \")\"\n",
    "            else:\n",
    "                answer += \"(\"\n",
    "    return answer"
   ]
  }
 ],
 "metadata": {
  "kernelspec": {
   "display_name": "Python 3",
   "language": "python",
   "name": "python3"
  },
  "language_info": {
   "codemirror_mode": {
    "name": "ipython",
    "version": 3
   },
   "file_extension": ".py",
   "mimetype": "text/x-python",
   "name": "python",
   "nbconvert_exporter": "python",
   "pygments_lexer": "ipython3",
   "version": "3.8.5"
  }
 },
 "nbformat": 4,
 "nbformat_minor": 4
}
