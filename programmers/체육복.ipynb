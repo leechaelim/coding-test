{
 "cells": [
  {
   "cell_type": "code",
   "execution_count": null,
   "metadata": {},
   "outputs": [],
   "source": [
    "# 십분쯤?\n",
    "\n",
    "def solution(n, lost, reserve):\n",
    "    answer = 0\n",
    "    array = [0 for _ in range(n)]\n",
    "    for x in lost:\n",
    "        array[x-1] = -1\n",
    "    for x in reserve:\n",
    "        array[x-1] += 1  \n",
    "    for idx, num in enumerate(array):\n",
    "        if num < 0: #체육복이 없다면\n",
    "            if 0 < idx and array[idx - 1] == 1:\n",
    "                array[idx - 1] -= 1\n",
    "                array[idx] += 1\n",
    "            elif idx < n-1 and array[idx + 1] == 1:\n",
    "                array[idx + 1] -= 1\n",
    "                array[idx] += 1\n",
    "    for x in array:\n",
    "        if x >= 0:\n",
    "            answer += 1\n",
    "    return answer"
   ]
  },
  {
   "cell_type": "code",
   "execution_count": null,
   "metadata": {},
   "outputs": [],
   "source": [
    "#다른 사람 풀이 \n",
    "# lost, reserve 자체로 이용\n",
    "def solution(n, lost, reserve):\n",
    "    _reserve = [r for r in reserve if r not in lost] #잃어버리지 않고 여분있는애\n",
    "    _lost = [l for l in lost if l not in reserve] #잃어버렸는데 여분 없는애\n",
    "    # 여분 있으면서 잃어버린 애는 빼준 것\n",
    "    print(_reserve)\n",
    "    print(_lost)\n",
    "    for r in _reserve:\n",
    "        f = r - 1\n",
    "        b = r + 1\n",
    "        if f in _lost: #앞부터 확인\n",
    "            _lost.remove(f)\n",
    "        elif b in _lost:#뒤 확인\n",
    "            _lost.remove(b)\n",
    "    return n - len(_lost) #잃어버린 애만 전체에서 빼면 오키\n"
   ]
  }
 ],
 "metadata": {
  "kernelspec": {
   "display_name": "Python 3",
   "language": "python",
   "name": "python3"
  },
  "language_info": {
   "codemirror_mode": {
    "name": "ipython",
    "version": 3
   },
   "file_extension": ".py",
   "mimetype": "text/x-python",
   "name": "python",
   "nbconvert_exporter": "python",
   "pygments_lexer": "ipython3",
   "version": "3.8.5"
  }
 },
 "nbformat": 4,
 "nbformat_minor": 4
}
