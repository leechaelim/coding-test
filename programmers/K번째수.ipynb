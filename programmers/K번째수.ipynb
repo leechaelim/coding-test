{
 "cells": [
  {
   "cell_type": "code",
   "execution_count": null,
   "metadata": {},
   "outputs": [],
   "source": [
    "#4분\n",
    "def solution(array, commands):\n",
    "    answer = []\n",
    "    for c in commands:\n",
    "        temp = []\n",
    "        temp = array[c[0]-1:c[1]]\n",
    "        temp.sort()\n",
    "        answer.append(temp[c[2]-1])\n",
    "    return answer"
   ]
  }
 ],
 "metadata": {
  "kernelspec": {
   "display_name": "Python 3",
   "language": "python",
   "name": "python3"
  },
  "language_info": {
   "codemirror_mode": {
    "name": "ipython",
    "version": 3
   },
   "file_extension": ".py",
   "mimetype": "text/x-python",
   "name": "python",
   "nbconvert_exporter": "python",
   "pygments_lexer": "ipython3",
   "version": "3.8.5"
  }
 },
 "nbformat": 4,
 "nbformat_minor": 4
}
