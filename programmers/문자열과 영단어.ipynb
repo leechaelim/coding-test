{
 "cells": [
  {
   "cell_type": "code",
   "execution_count": null,
   "metadata": {},
   "outputs": [],
   "source": [
    "# 내 풀이 20분\n",
    "# 참 어렵게도 풀었다\n",
    "\n",
    "def solution(s):\n",
    "    answer = \"\"\n",
    "    abc = ['zero','one','two','three','four','five','six','seven','eight','nine']\n",
    "\n",
    "    while len(s) > 0:\n",
    "        if ord(s[0])>= ord('0') and ord(s[0]) <= ord('9'):\n",
    "            answer += s[0]\n",
    "            s = s[1:]\n",
    "        else:\n",
    "            for idx, num in enumerate(abc):\n",
    "                if s[:len(num)] == num:\n",
    "                    answer += str(idx)\n",
    "                    s = s[len(num):]\n",
    "\n",
    "    return int(answer)"
   ]
  },
  {
   "cell_type": "code",
   "execution_count": null,
   "metadata": {},
   "outputs": [],
   "source": [
    "num_dic = {\"zero\":\"0\", \"one\":\"1\", \"two\":\"2\", \"three\":\"3\", \"four\":\"4\", \"five\":\"5\", \"six\":\"6\", \"seven\":\"7\", \"eight\":\"8\", \"nine\":\"9\"}\n",
    "\n",
    "def solution(s):\n",
    "    answer = s\n",
    "    for key, value in num_dic.items():\n",
    "        answer = answer.replace(key, value)\n",
    "    return int(answer)"
   ]
  }
 ],
 "metadata": {
  "kernelspec": {
   "display_name": "Python 3",
   "language": "python",
   "name": "python3"
  },
  "language_info": {
   "codemirror_mode": {
    "name": "ipython",
    "version": 3
   },
   "file_extension": ".py",
   "mimetype": "text/x-python",
   "name": "python",
   "nbconvert_exporter": "python",
   "pygments_lexer": "ipython3",
   "version": "3.8.5"
  }
 },
 "nbformat": 4,
 "nbformat_minor": 4
}
