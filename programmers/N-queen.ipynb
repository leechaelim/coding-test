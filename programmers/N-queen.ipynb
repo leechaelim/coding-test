{
 "cells": [
  {
   "cell_type": "code",
   "execution_count": 1,
   "metadata": {},
   "outputs": [],
   "source": [
    "import copy\n",
    "def checking(queen,N, x):\n",
    "    global answer\n",
    "    for i in range(N): \n",
    "        if i not in queen: #세로줄에 같은거 확인\n",
    "            # 대각선 확인\n",
    "            tmp = True\n",
    "            for idx in range(len(queen)):\n",
    "                if abs(queen[idx] - i) == x-idx:\n",
    "                    tmp = False\n",
    "                    break\n",
    "            if tmp:\n",
    "                if x == N-1:\n",
    "                    answer += 1\n",
    "                else:\n",
    "                    #next_queen = copy.deepcopy(queen)# 이거 보다 슬라이싱이 더 빠름\n",
    "                    next_queen = queen[:] # 슬라이싱이 더 빠름\n",
    "                    next_queen.append(i)\n",
    "                    checking(next_queen,N, x+1) #다음 행 체크\n",
    "\n",
    "                    \n",
    "def solution(N):\n",
    "    global answer\n",
    "    answer = 0\n",
    "    if N == 1: #1일때 1개 가능함\n",
    "        return 1\n",
    "    for a in range(N):\n",
    "        queen = [a]#0행 i열\n",
    "        checking(queen,N, 1)\n",
    "    return answer"
   ]
  },
  {
   "cell_type": "code",
   "execution_count": 8,
   "metadata": {},
   "outputs": [
    {
     "data": {
      "text/plain": [
       "0"
      ]
     },
     "execution_count": 8,
     "metadata": {},
     "output_type": "execute_result"
    }
   ],
   "source": [
    "solution(1)"
   ]
  }
 ],
 "metadata": {
  "kernelspec": {
   "display_name": "Python 3",
   "language": "python",
   "name": "python3"
  },
  "language_info": {
   "codemirror_mode": {
    "name": "ipython",
    "version": 3
   },
   "file_extension": ".py",
   "mimetype": "text/x-python",
   "name": "python",
   "nbconvert_exporter": "python",
   "pygments_lexer": "ipython3",
   "version": "3.8.5"
  }
 },
 "nbformat": 4,
 "nbformat_minor": 4
}
