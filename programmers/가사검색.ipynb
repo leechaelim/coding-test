{
 "cells": [
  {
   "cell_type": "code",
   "execution_count": null,
   "metadata": {},
   "outputs": [],
   "source": [
    "from bisect import bisect_left, bisect_right\n",
    "\n",
    "\n",
    "def count_by_range(array, left_value, right_value):\n",
    "    left_index = bisect_left(array,left_value)\n",
    "    right_index = bisect_right(array,right_value)\n",
    "    \n",
    "    return right_index - left_index\n",
    "\n",
    "def solution(words, queries):\n",
    "    answer = []\n",
    "    words_length = [[] for i in range(10001)]\n",
    "    words_length_reverse= [[] for i in range(10001)]\n",
    "    for i in range(len(words)):\n",
    "        words_length[len(words[i])].append(words[i])\n",
    "        words_length_reverse[len(words[i])].append(words[i][::-1])\n",
    "        \n",
    "    for i in range(10001):\n",
    "        words_length[i].sort()\n",
    "        words_length_reverse[i].sort()\n",
    "        \n",
    "    for x in  queries:\n",
    "        if x[0] == \"?\":\n",
    "            count = count_by_range(words_length_reverse[len(x)], x[::-1].replace(\"?\",\"a\"), x[::-1].replace(\"?\",\"z\"))\n",
    "            answer.append(count)\n",
    "        elif x[-1] == \"?\":\n",
    "            count = count_by_range(words_length[len(x)], x.replace(\"?\",\"a\"), x.replace(\"?\",\"z\"))\n",
    "            answer.append(count)\n",
    "            \n",
    "        \n",
    "    return answer"
   ]
  }
 ],
 "metadata": {
  "kernelspec": {
   "display_name": "Python 3",
   "language": "python",
   "name": "python3"
  },
  "language_info": {
   "codemirror_mode": {
    "name": "ipython",
    "version": 3
   },
   "file_extension": ".py",
   "mimetype": "text/x-python",
   "name": "python",
   "nbconvert_exporter": "python",
   "pygments_lexer": "ipython3",
   "version": "3.8.5"
  }
 },
 "nbformat": 4,
 "nbformat_minor": 4
}
