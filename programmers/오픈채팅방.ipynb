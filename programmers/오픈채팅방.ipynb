{
 "cells": [
  {
   "cell_type": "code",
   "execution_count": null,
   "metadata": {},
   "outputs": [],
   "source": [
    "#14분 컷\n",
    "\n",
    "def solution(record):\n",
    "    answer = []\n",
    "    user_arr = dict()\n",
    "    for x in record:\n",
    "        msg = list(map(str,x.split())) #msg, user, nickname\n",
    "        if msg[0] == \"Enter\" or msg[0] == \"Change\":\n",
    "            user_arr[msg[1]] = msg[2]\n",
    "    \n",
    "    for x in record:\n",
    "        msg = list(map(str,x.split())) #msg, user, nickname\n",
    "        if msg[0] == \"Enter\":\n",
    "            answer.append(user_arr[msg[1]]+\"님이 들어왔습니다.\")\n",
    "        elif msg[0] == \"Leave\":\n",
    "            answer.append(user_arr[msg[1]]+\"님이 나갔습니다.\")\n",
    "        \n",
    "    return answer"
   ]
  }
 ],
 "metadata": {
  "kernelspec": {
   "display_name": "Python 3",
   "language": "python",
   "name": "python3"
  },
  "language_info": {
   "codemirror_mode": {
    "name": "ipython",
    "version": 3
   },
   "file_extension": ".py",
   "mimetype": "text/x-python",
   "name": "python",
   "nbconvert_exporter": "python",
   "pygments_lexer": "ipython3",
   "version": "3.8.5"
  }
 },
 "nbformat": 4,
 "nbformat_minor": 4
}
