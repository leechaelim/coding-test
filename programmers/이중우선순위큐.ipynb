{
 "cells": [
  {
   "cell_type": "code",
   "execution_count": 4,
   "metadata": {},
   "outputs": [],
   "source": [
    "import heapq\n",
    "\n",
    "def solution(operations):\n",
    "    HEAP = []\n",
    "    N = 0\n",
    "    for oper in operations:\n",
    "        if oper[0] == \"I\": #I 숫자\n",
    "            heapq.heappush(HEAP, int(oper[2:]))\n",
    "            N += 1\n",
    "        elif HEAP:\n",
    "            if oper == \"D 1\":\n",
    "                max_h = [-ele for ele in HEAP]\n",
    "                heapq.heapify(max_h)\n",
    "                heapq.heappop(max_h)\n",
    "                HEAP = [-ele for ele in max_h]\n",
    "                heapq.heapify(HEAP)\n",
    "                N -= 1\n",
    "            elif oper == \"D -1\":\n",
    "                heapq.heappop(HEAP)\n",
    "                N -= 1\n",
    "        \n",
    "    \n",
    "    if HEAP:\n",
    "        return [max(HEAP),min(HEAP)] #max(HEAP) 대신 HEAP[-1]쓰면 틀림\n",
    "    else:\n",
    "        return [0,0]"
   ]
  },
  {
   "cell_type": "code",
   "execution_count": 7,
   "metadata": {},
   "outputs": [
    {
     "name": "stdout",
     "output_type": "stream",
     "text": [
      "16\n"
     ]
    },
    {
     "data": {
      "text/plain": [
       "[0, 0]"
      ]
     },
     "execution_count": 7,
     "metadata": {},
     "output_type": "execute_result"
    }
   ],
   "source": [
    "import heapq\n",
    "\n",
    "def solution(operations):\n",
    "    HEAP = []\n",
    "    N = 0\n",
    "    for oper in operations:\n",
    "        if oper[0] == \"I\": #I 숫자\n",
    "            heapq.heappush(HEAP, int(oper[2:]))\n",
    "            N += 1\n",
    "        elif HEAP:\n",
    "            if oper == \"D 1\":\n",
    "                max_h = [-ele for ele in HEAP]\n",
    "                heapq.heapify(max_h)\n",
    "                heapq.heappop(max_h)\n",
    "                HEAP = [-ele for ele in max_h]\n",
    "                heapq.heapify(HEAP)\n",
    "                N -= 1\n",
    "            elif oper == \"D -1\":\n",
    "                heapq.heappop(HEAP)\n",
    "                N -= 1\n",
    "        \n",
    "    \n",
    "    if HEAP:\n",
    "        max_h = [-ele for ele in HEAP]\n",
    "        heapq.heapify(max_h)\n",
    "        return [-heapq.heappop(max_h),heapq.heappop(HEAP)] #max_h은 부호 반대인 상태인거 유의\n",
    "    else:\n",
    "        return [0,0]"
   ]
  }
 ],
 "metadata": {
  "kernelspec": {
   "display_name": "Python 3",
   "language": "python",
   "name": "python3"
  },
  "language_info": {
   "codemirror_mode": {
    "name": "ipython",
    "version": 3
   },
   "file_extension": ".py",
   "mimetype": "text/x-python",
   "name": "python",
   "nbconvert_exporter": "python",
   "pygments_lexer": "ipython3",
   "version": "3.8.5"
  }
 },
 "nbformat": 4,
 "nbformat_minor": 4
}
