{
 "cells": [
  {
   "cell_type": "code",
   "execution_count": 5,
   "metadata": {},
   "outputs": [],
   "source": [
    "answer = 9999999\n",
    "def dfs(visited, graph, v, times, words,target):\n",
    "    global answer\n",
    "    visited[v] = True\n",
    "    for x in graph[v]:\n",
    "        if words[x]==target:\n",
    "            answer = min(answer, times) #최소 구해줘야함\n",
    "        if not visited[x]:\n",
    "            dfs(visited, graph, x, times+1,words,target)\n",
    "            \n",
    "def solution(begin, target, words):\n",
    "    global answer\n",
    "    \n",
    "    if target not in words:\n",
    "        return 0\n",
    "    words.append(begin) # 시작단어를 words 끝에 삽입\n",
    "    visited = [False]*(len(words))\n",
    "    graph = [[] for _ in range(len(words))]\n",
    "    # 1 글자 다른 단어들 연결하는 graph 생성\n",
    "    for idx, x in enumerate(words):\n",
    "        for IDX, y in enumerate(words[idx:]):\n",
    "            CHK = 0\n",
    "            for i in range(len(begin)):\n",
    "                if x[i]!=y[i]:\n",
    "                    CHK+=1\n",
    "            if CHK == 1:\n",
    "                graph[idx].append(idx+IDX)\n",
    "                graph[idx+IDX].append(idx)\n",
    "    #begin 부터 탐색\n",
    "    dfs(visited, graph, len(words)-1,1,words,target)\n",
    "    \n",
    "    return answer"
   ]
  },
  {
   "cell_type": "code",
   "execution_count": 7,
   "metadata": {},
   "outputs": [
    {
     "name": "stdout",
     "output_type": "stream",
     "text": [
      "[[1, 3, 6], [0, 2, 3], [1, 4, 5], [0, 1, 4], [2, 3, 5], [2, 4], [0]]\n"
     ]
    },
    {
     "data": {
      "text/plain": [
       "4"
      ]
     },
     "execution_count": 7,
     "metadata": {},
     "output_type": "execute_result"
    }
   ],
   "source": [
    "solution(\"hit\", \"cog\", [\"hot\", \"dot\", \"dog\", \"lot\", \"log\", \"cog\"])"
   ]
  }
 ],
 "metadata": {
  "kernelspec": {
   "display_name": "Python 3",
   "language": "python",
   "name": "python3"
  },
  "language_info": {
   "codemirror_mode": {
    "name": "ipython",
    "version": 3
   },
   "file_extension": ".py",
   "mimetype": "text/x-python",
   "name": "python",
   "nbconvert_exporter": "python",
   "pygments_lexer": "ipython3",
   "version": "3.8.5"
  }
 },
 "nbformat": 4,
 "nbformat_minor": 4
}
