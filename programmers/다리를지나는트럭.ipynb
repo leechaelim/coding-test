{
 "cells": [
  {
   "cell_type": "code",
   "execution_count": null,
   "metadata": {},
   "outputs": [],
   "source": [
    "#18분\n",
    "import collections\n",
    "def solution(bridge_length, weight, truck_weights):\n",
    "    answer = 0\n",
    "    stack = collections.deque()\n",
    "    truck_weights = collections.deque(truck_weights)\n",
    "    weight_sum = 0\n",
    "    while truck_weights:\n",
    "        if stack and stack[0][1]+bridge_length<= answer:\n",
    "            weight_sum -= stack[0][0]\n",
    "            stack.popleft() #트럭 빠져나감\n",
    "            \n",
    "        if weight_sum + truck_weights[0] <= weight and len(stack) <= bridge_length:\n",
    "            stack.append((truck_weights[0], answer)) #트럭 진입 (무게, 진입 시점)\n",
    "            weight_sum += truck_weights[0]\n",
    "            truck_weights.popleft()\n",
    "        #다리 꽉 차서 트럭 나가야함\n",
    "        answer += 1\n",
    "            \n",
    "    return answer + bridge_length"
   ]
  }
 ],
 "metadata": {
  "kernelspec": {
   "display_name": "Python 3",
   "language": "python",
   "name": "python3"
  },
  "language_info": {
   "codemirror_mode": {
    "name": "ipython",
    "version": 3
   },
   "file_extension": ".py",
   "mimetype": "text/x-python",
   "name": "python",
   "nbconvert_exporter": "python",
   "pygments_lexer": "ipython3",
   "version": "3.8.5"
  }
 },
 "nbformat": 4,
 "nbformat_minor": 4
}
