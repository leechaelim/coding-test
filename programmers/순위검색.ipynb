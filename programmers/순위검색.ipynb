{
 "cells": [
  {
   "cell_type": "code",
   "execution_count": 30,
   "metadata": {},
   "outputs": [
    {
     "data": {
      "text/plain": [
       "['java backend junior pizza 150']"
      ]
     },
     "execution_count": 30,
     "metadata": {},
     "output_type": "execute_result"
    }
   ],
   "source": [
    "채점 결과\n",
    "정확성: 40.0\n",
    "효율성: 0.0\n",
    "합계: 40.0 / 100.0"
   ]
  },
  {
   "cell_type": "code",
   "execution_count": null,
   "metadata": {},
   "outputs": [],
   "source": [
    "# 1. 그룹으로 분류하기( 5 x 3 x 3 x 3)\n",
    "# 2. 점수로 정렬\n",
    "# 3. 이분탐색, lower_bound로 탐색"
   ]
  },
  {
   "cell_type": "code",
   "execution_count": 65,
   "metadata": {},
   "outputs": [],
   "source": [
    "def solution(info, query):\n",
    "    answer = []\n",
    "    i_list = []\n",
    "    q_list = []\n",
    "    \n",
    "    for x in info:\n",
    "        i_list.append(list(x.split(' ')))\n",
    "    for x in range(len(query)):\n",
    "        q_list.append(list(query[x].split(' and ')))\n",
    "        a = q_list[x][-1].split(' ')\n",
    "        del q_list[x][-1]\n",
    "        q_list[x].append(a[0])\n",
    "        q_list[x].append(a[1])\n",
    "    \n",
    "    for sub in q_list:\n",
    "        tmp_emp = []\n",
    "        for emp in i_list:\n",
    "            print(emp[-1],sub[-1])\n",
    "            if int(emp[-1])>=int(sub[-1]):\n",
    "                tmp_emp.append(emp)\n",
    "                print(tmp_emp)\n",
    "                if sub[0]!=\"-\" and emp[0] != sub[0]:\n",
    "                    del tmp_emp[-1]\n",
    "                    print(\"1\")\n",
    "                    continue\n",
    "                if sub[1]!=\"-\" and emp[1] != sub[1]:\n",
    "                    del tmp_emp[-1]\n",
    "                    print(\"2\")\n",
    "                    continue\n",
    "                if sub[2]!=\"-\" and emp[2] != sub[2]:\n",
    "                    del tmp_emp[-1]\n",
    "                    print(\"3\")\n",
    "                    continue\n",
    "                if sub[3]!=\"-\" and emp[3] != sub[3]:\n",
    "                    del tmp_emp[-1]\n",
    "                    print(\"4\")\n",
    "                    continue\n",
    "        answer.append(len(tmp_emp))\n",
    "                \n",
    "                \n",
    "    \n",
    "    \n",
    "    \n",
    "    return answer"
   ]
  },
  {
   "cell_type": "code",
   "execution_count": 17,
   "metadata": {},
   "outputs": [],
   "source": [
    "info = [\"java backend junior pizza 150\",\"python frontend senior chicken 210\",\"python frontend senior chicken 150\",\"cpp backend senior pizza 260\",\"java backend junior chicken 80\",\"python backend senior chicken 50\"]\n",
    "query = [\"java and backend and junior and pizza 100\",\"python and frontend and senior and chicken 200\",\"cpp and - and senior and pizza 250\",\"- and backend and senior and - 150\",\"- and - and - and chicken 100\",\"- and - and - and - 150\"] "
   ]
  },
  {
   "cell_type": "code",
   "execution_count": 63,
   "metadata": {},
   "outputs": [],
   "source": [
    "info = [\"java backend junior pizza 150\",\"python frontend senior chicken 210\",\"python frontend senior chicken 150\",\"cpp backend senior pizza 260\",\"java backend junior chicken 80\",\"python backend senior chicken 50\"]\n",
    "query = [\"- and backend and senior and - 150\"] "
   ]
  },
  {
   "cell_type": "code",
   "execution_count": 66,
   "metadata": {},
   "outputs": [
    {
     "name": "stdout",
     "output_type": "stream",
     "text": [
      "150 150\n",
      "[['java', 'backend', 'junior', 'pizza', '150']]\n",
      "3\n",
      "210 150\n",
      "[['python', 'frontend', 'senior', 'chicken', '210']]\n",
      "2\n",
      "150 150\n",
      "[['python', 'frontend', 'senior', 'chicken', '150']]\n",
      "2\n",
      "260 150\n",
      "[['cpp', 'backend', 'senior', 'pizza', '260']]\n",
      "80 150\n",
      "50 150\n"
     ]
    },
    {
     "data": {
      "text/plain": [
       "[1]"
      ]
     },
     "execution_count": 66,
     "metadata": {},
     "output_type": "execute_result"
    }
   ],
   "source": [
    "solution(info, query)"
   ]
  },
  {
   "cell_type": "code",
   "execution_count": 46,
   "metadata": {},
   "outputs": [
    {
     "data": {
      "text/plain": [
       "True"
      ]
     },
     "execution_count": 46,
     "metadata": {},
     "output_type": "execute_result"
    }
   ],
   "source": [
    "'java' in \"java\""
   ]
  }
 ],
 "metadata": {
  "kernelspec": {
   "display_name": "Python 3",
   "language": "python",
   "name": "python3"
  },
  "language_info": {
   "codemirror_mode": {
    "name": "ipython",
    "version": 3
   },
   "file_extension": ".py",
   "mimetype": "text/x-python",
   "name": "python",
   "nbconvert_exporter": "python",
   "pygments_lexer": "ipython3",
   "version": "3.8.5"
  }
 },
 "nbformat": 4,
 "nbformat_minor": 4
}
