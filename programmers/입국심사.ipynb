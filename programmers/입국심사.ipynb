{
 "cells": [
  {
   "cell_type": "code",
   "execution_count": null,
   "metadata": {},
   "outputs": [],
   "source": [
    "# 아이디어 보고 나서 25분\n",
    "# 어떤 변수를 탐색해야하는 지 감이 안잡힌 문제 \n",
    "# answer(최소 시간)의 최소~최대 범위로 한정해서 탐색하는 문제였다\n",
    "\n",
    "def solution(n, times):\n",
    "    # answer의 범위에서 n명 심사가 가능한 최소값을 찾는다.\n",
    "    start = 0\n",
    "    end = min(times) * n #최댓값은 제일 빠른 심사관이 n명을 심사하는게 최댓값으로 넣는 게 좋음\n",
    "    while True:\n",
    "        mid = (start + end) // 2\n",
    "        if start >= end:\n",
    "            return mid\n",
    "        people = 0\n",
    "        for x in times:\n",
    "            people += mid // x\n",
    "        if people >= n: #n명 심사 가능\n",
    "            end = mid  #최대 더 줄여서 검사\n",
    "        else:\n",
    "            start = mid + 1 #최소 더 키워서 검사\n"
   ]
  }
 ],
 "metadata": {
  "kernelspec": {
   "display_name": "Python 3",
   "language": "python",
   "name": "python3"
  },
  "language_info": {
   "codemirror_mode": {
    "name": "ipython",
    "version": 3
   },
   "file_extension": ".py",
   "mimetype": "text/x-python",
   "name": "python",
   "nbconvert_exporter": "python",
   "pygments_lexer": "ipython3",
   "version": "3.8.5"
  }
 },
 "nbformat": 4,
 "nbformat_minor": 4
}
