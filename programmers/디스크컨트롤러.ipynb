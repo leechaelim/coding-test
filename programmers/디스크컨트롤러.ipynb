{
 "cells": [
  {
   "cell_type": "code",
   "execution_count": null,
   "metadata": {},
   "outputs": [],
   "source": [
    "import heapq\n",
    "def solution(jobs): #SJF\n",
    "    N = len(jobs)\n",
    "    jobs.sort()\n",
    "    first = jobs[0] #요청시간 제일 빠른것\n",
    "    answer = jobs[0][1]\n",
    "    del jobs[0]\n",
    "    HEAP = []\n",
    "    for i in range(len(jobs)):\n",
    "        heapq.heappush(HEAP, (jobs[i][1], jobs[i][0])) #수행시간, 요청시간\n",
    "    num = len(jobs)\n",
    "    for i in range(num):\n",
    "        if answer <= HEAP[i][1]:\n",
    "            now = heapq.heappop(HEAP) #남은 것 중 수행시간 가장 작은거\n",
    "            answer += now[0] #수행시간 더해줌\n",
    "        if i == num - 1 and \n",
    "    return answer"
   ]
  },
  {
   "cell_type": "code",
   "execution_count": 21,
   "metadata": {},
   "outputs": [],
   "source": [
    "jobs = [[0, 3], [1, 9], [2, 6]]\n",
    "import heapq\n",
    "def setting(data):\n",
    "    return data[1]\n",
    "\n",
    "\n",
    "def solution(jobs): #SJF (요청, 수행)\n",
    "    N = len(jobs)\n",
    "    jobs.sort()\n",
    "    answer = jobs[0][1] #요청부터 종료\n",
    "    time = jobs[0][0] + jobs[0][1] #현재 시간\n",
    "    del jobs[0]\n",
    "    jobs = sorted(jobs, key = setting) #수행 순 정렬\n",
    "    while True:\n",
    "        for i in range(len(jobs)):\n",
    "            print(answer, time, jobs, len(jobs))\n",
    "            if len(jobs) == 1:\n",
    "                if time >= jobs[0][0]: #바로 실행\n",
    "                    time += jobs[0][1]\n",
    "                    answer += time - jobs[0][0]\n",
    "                else: #기다렸다 실행\n",
    "                    time = jobs[0][1]+jobs[0][0]\n",
    "                    answer += jobs[0][1] \n",
    "                return answer//N\n",
    "            if time >= jobs[i][0]: #요청시간이 현재 시간 이전라면\n",
    "                time += jobs[i][1]\n",
    "                answer += time - jobs[i][0] #수행시간 더해줌\n",
    "                del jobs[i]\n",
    "            if i == len(jobs) - 1 and answer < jobs[i][0]:\n",
    "                jobs.sort()\n",
    "                time = jobs[0][1]+jobs[0][0]\n",
    "                answer += jobs[0][1] #수행시간 더해줌\n",
    "                del jobs[0]\n",
    "                jobs = sorted(jobs, key = setting) #수행 순 정렬\n",
    "    return answer//N"
   ]
  },
  {
   "cell_type": "code",
   "execution_count": 22,
   "metadata": {},
   "outputs": [
    {
     "name": "stdout",
     "output_type": "stream",
     "text": [
      "3 3 [[2, 6], [1, 9]] 2\n",
      "10 9 [[1, 9]] 1\n"
     ]
    },
    {
     "data": {
      "text/plain": [
       "9"
      ]
     },
     "execution_count": 22,
     "metadata": {},
     "output_type": "execute_result"
    }
   ],
   "source": [
    "solution(jobs)"
   ]
  }
 ],
 "metadata": {
  "kernelspec": {
   "display_name": "Python 3",
   "language": "python",
   "name": "python3"
  },
  "language_info": {
   "codemirror_mode": {
    "name": "ipython",
    "version": 3
   },
   "file_extension": ".py",
   "mimetype": "text/x-python",
   "name": "python",
   "nbconvert_exporter": "python",
   "pygments_lexer": "ipython3",
   "version": "3.8.5"
  }
 },
 "nbformat": 4,
 "nbformat_minor": 4
}
