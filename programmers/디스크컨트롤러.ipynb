{
 "cells": [
  {
   "cell_type": "code",
   "execution_count": null,
   "metadata": {},
   "outputs": [],
   "source": [
    "#24분 2번째 시도\n",
    "import heapq\n",
    "'''\n",
    "1. 먼저 요청된 건은 제일 먼저 실행\n",
    "2 - 1. 요청된 건 다수인 경우 -> 제일 수행 시간 짧은 거 먼저함\n",
    "2 - 2. 요청된 건 없을 경우 기다렸다가 먼저 요청된 건 수행\n",
    "'''\n",
    "def solution(j_heap): #(요청, 수행)\n",
    "    N = len(j_heap)\n",
    "    answer = 0\n",
    "    time = 0\n",
    "    heapq.heapify(j_heap) #요청될 건\n",
    "    disk = [] #수행될 건\n",
    "    while j_heap or disk: #아직 요청될 건이나 수행될 건 남은 경우\n",
    "        while j_heap and j_heap[0][0] <= time : #요청 시간이 현재 시간 이전\n",
    "            run = heapq.heappop(j_heap)\n",
    "            heapq.heappush(disk,(run[1],run[0])) #수행될 건에 푸쉬, 정렬 수행시간 짧은 순이라 순서 반대로 푸시\n",
    "        if disk:\n",
    "            now = heapq.heappop(disk)\n",
    "            time += now[0]\n",
    "            answer += time - now[1]\n",
    "        else:\n",
    "            time += 1\n",
    "    \n",
    "    \n",
    "    return answer//N"
   ]
  },
  {
   "cell_type": "code",
   "execution_count": 21,
   "metadata": {},
   "outputs": [],
   "source": [
    "jobs = [[0, 3], [1, 9], [2, 6]]\n",
    "import heapq\n",
    "def setting(data):\n",
    "    return data[1]\n",
    "\n",
    "\n",
    "def solution(jobs): #SJF (요청, 수행)\n",
    "    N = len(jobs)\n",
    "    jobs.sort()\n",
    "    answer = jobs[0][1] #요청부터 종료\n",
    "    time = jobs[0][0] + jobs[0][1] #현재 시간\n",
    "    del jobs[0]\n",
    "    jobs = sorted(jobs, key = setting) #수행 순 정렬\n",
    "    while True:\n",
    "        for i in range(len(jobs)):\n",
    "            print(answer, time, jobs, len(jobs))\n",
    "            if len(jobs) == 1:\n",
    "                if time >= jobs[0][0]: #바로 실행\n",
    "                    time += jobs[0][1]\n",
    "                    answer += time - jobs[0][0]\n",
    "                else: #기다렸다 실행\n",
    "                    time = jobs[0][1]+jobs[0][0]\n",
    "                    answer += jobs[0][1] \n",
    "                return answer//N\n",
    "            if time >= jobs[i][0]: #요청시간이 현재 시간 이전라면\n",
    "                time += jobs[i][1]\n",
    "                answer += time - jobs[i][0] #수행시간 더해줌\n",
    "                del jobs[i]\n",
    "            if i == len(jobs) - 1 and answer < jobs[i][0]:\n",
    "                jobs.sort()\n",
    "                time = jobs[0][1]+jobs[0][0]\n",
    "                answer += jobs[0][1] #수행시간 더해줌\n",
    "                del jobs[0]\n",
    "                jobs = sorted(jobs, key = setting) #수행 순 정렬\n",
    "    return answer//N"
   ]
  },
  {
   "cell_type": "code",
   "execution_count": 22,
   "metadata": {},
   "outputs": [
    {
     "name": "stdout",
     "output_type": "stream",
     "text": [
      "3 3 [[2, 6], [1, 9]] 2\n",
      "10 9 [[1, 9]] 1\n"
     ]
    },
    {
     "data": {
      "text/plain": [
       "9"
      ]
     },
     "execution_count": 22,
     "metadata": {},
     "output_type": "execute_result"
    }
   ],
   "source": [
    "\n",
    "solution(jobs)\n",
    "\n"
   ]
  }
 ],
 "metadata": {
  "kernelspec": {
   "display_name": "Python 3",
   "language": "python",
   "name": "python3"
  },
  "language_info": {
   "codemirror_mode": {
    "name": "ipython",
    "version": 3
   },
   "file_extension": ".py",
   "mimetype": "text/x-python",
   "name": "python",
   "nbconvert_exporter": "python",
   "pygments_lexer": "ipython3",
   "version": "3.8.5"
  }
 },
 "nbformat": 4,
 "nbformat_minor": 4
}
