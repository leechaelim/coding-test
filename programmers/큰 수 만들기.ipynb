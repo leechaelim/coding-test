{
 "cells": [
  {
   "cell_type": "code",
   "execution_count": null,
   "metadata": {},
   "outputs": [],
   "source": [
    "#38분 테케 10번만 통과 안된다\n",
    "def solution(number, k):\n",
    "    answer = ''\n",
    "    if min(number) == max(number):\n",
    "        return number[k:]\n",
    "    if number == \"\".join(sorted(number,reverse=True)): #테케 12번 1000\n",
    "        return number[:-k]\n",
    "    while True:\n",
    "        if k == 0 :\n",
    "            return number\n",
    "        \n",
    "        \"\"\"if len(number) - 1 == k:\n",
    "            idx = number.find(min(number))\n",
    "            return number[:idx]+number[idx+1:]\"\"\"#이거있으면 테케 11번 실패\n",
    "        for idx in range(len(number)-1):\n",
    "            if number[idx] < number[idx+1]:\n",
    "                number = number[:idx]+number[idx+1:]\n",
    "                k -= 1\n",
    "                break\n",
    "        "
   ]
  },
  {
   "cell_type": "code",
   "execution_count": null,
   "metadata": {},
   "outputs": [],
   "source": [
    "#테케 10번만 통과 안된다, 시간초과 실패\n",
    "def solution(number, k):\n",
    "    answer = ''\n",
    "    if min(number) == max(number):\n",
    "        return number[k:]\n",
    "    if number == \"\".join(sorted(number,reverse=True)): #테케 12번 1000\n",
    "        return number[:-k]\n",
    "    if len(number) - 1 == k:\n",
    "            idx = number.find(min(number))\n",
    "            return str(max(number))\n",
    "    for _ in range(k):\n",
    "        for idx in range(len(number)-1):\n",
    "            if number[idx] < number[idx+1]:\n",
    "                number = number[:idx]+number[idx+1:]\n",
    "                k -= 1\n",
    "                break\n",
    "    return number"
   ]
  },
  {
   "cell_type": "code",
   "execution_count": null,
   "metadata": {},
   "outputs": [],
   "source": [
    "# 다른 사람 풀이\n",
    "def solution(number, k):\n",
    "    st = []\n",
    "    for i in range(len(number)):\n",
    "        while st and k > 0 and st[-1] < number[i]:\n",
    "            \n",
    "            st.pop()\n",
    "            \n",
    "            k -= 1\n",
    "        st.append(number[i])\n",
    "        print(st)\n",
    "    return ''.join(st[:len(st) - k])#여기서 나머진 짤라줌"
   ]
  }
 ],
 "metadata": {
  "kernelspec": {
   "display_name": "Python 3",
   "language": "python",
   "name": "python3"
  },
  "language_info": {
   "codemirror_mode": {
    "name": "ipython",
    "version": 3
   },
   "file_extension": ".py",
   "mimetype": "text/x-python",
   "name": "python",
   "nbconvert_exporter": "python",
   "pygments_lexer": "ipython3",
   "version": "3.8.5"
  }
 },
 "nbformat": 4,
 "nbformat_minor": 4
}
