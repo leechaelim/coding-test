{
 "cells": [
  {
   "cell_type": "code",
   "execution_count": 1,
   "metadata": {},
   "outputs": [
    {
     "data": {
      "text/plain": [
       "[1, 2, 3]"
      ]
     },
     "execution_count": 1,
     "metadata": {},
     "output_type": "execute_result"
    }
   ],
   "source": [
    "# 지금 중복되어서 더해지고 있는 데 어캐 해결할지는 모르겠당!1시간\n",
    "# 합계: 30.0 / 100.0\n",
    "def cal(idx, n,money):\n",
    "    return (idx - n)%len(money)\n",
    "def solution(money):\n",
    "    array = [[] for i in range(len(money))]\n",
    "    if len(money)==3:\n",
    "        return max(money)\n",
    "    for idx, home in enumerate(money):\n",
    "        a = cal(idx, 2,money)\n",
    "        b = cal(idx, 3,money)\n",
    "        if idx in array[a] or a == idx or a == cal(idx, 1,money) or a == (idx + 1)%len(money) or cal(idx, 1,money) in array[a] or (idx + 1)%len(money) in array[a]:\n",
    "            a = -1\n",
    "        if idx in array[b]  or b == idx or b == cal(idx, 1,money) or b == (idx + 1)%len(money) or cal(idx, 1,money) in array[b] or (idx + 1)%len(money) in array[b]:\n",
    "            b = -1\n",
    "        if a == -1 and b== -1:\n",
    "            continue\n",
    "        elif a == -1 or b== -1:\n",
    "            money[idx] += money[max(a,b)]\n",
    "            array[idx].append(max(a,b))\n",
    "            array[idx]+=(array[max(a,b)])\n",
    "        elif money[a] >= money[b]:\n",
    "            money[idx] += money[a]\n",
    "            array[idx].append(a)\n",
    "            array[idx]+=array[a]\n",
    "        else:\n",
    "            money[idx] += money[b]\n",
    "            array[idx].append(b)\n",
    "            array[idx]+=(array[b])\n",
    "            \n",
    "    return max(money)"
   ]
  }
 ],
 "metadata": {
  "kernelspec": {
   "display_name": "Python 3",
   "language": "python",
   "name": "python3"
  },
  "language_info": {
   "codemirror_mode": {
    "name": "ipython",
    "version": 3
   },
   "file_extension": ".py",
   "mimetype": "text/x-python",
   "name": "python",
   "nbconvert_exporter": "python",
   "pygments_lexer": "ipython3",
   "version": "3.8.5"
  }
 },
 "nbformat": 4,
 "nbformat_minor": 4
}
