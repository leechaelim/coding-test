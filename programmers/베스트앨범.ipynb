{
 "cells": [
  {
   "cell_type": "code",
   "execution_count": null,
   "metadata": {},
   "outputs": [],
   "source": [
    "def solution(genres, plays):\n",
    "    answer = []\n",
    "    count = {}\n",
    "    for idx,g in enumerate(genres):\n",
    "        if g not in count:\n",
    "            count[g] = plays[idx]\n",
    "        else:\n",
    "            count[g] += plays[idx]\n",
    "    count = sorted(count.items(), key = lambda item: item[1], reverse = True) #dict item 값으로 정렬하기 내림차순, 하고 나니까 리스트다.?\n",
    "    while count:\n",
    "        temp = []\n",
    "        for idx,g in enumerate(genres):\n",
    "            if g == count[0][0]:\n",
    "                temp.append((plays[idx], idx))\n",
    "        \n",
    "        if len(temp) == 1: #1개만 있을 때 처리 필요\n",
    "            answer.append(temp[0][1])\n",
    "            print(temp, 1)\n",
    "        else:\n",
    "            temp=sorted(temp, reverse = True) #내림차순 정렬\n",
    "            if temp[0][0] == temp[1][0]: # 상위 2개 플레이 횟수 같을 때\n",
    "                answer.append(temp[1][1])\n",
    "                answer.append(temp[0][1])\n",
    "            else:        \n",
    "                answer.append(temp[0][1])\n",
    "                answer.append(temp[1][1])\n",
    "        del count[0]\n",
    "        \n",
    "        \n",
    "    return answer"
   ]
  },
  {
   "cell_type": "code",
   "execution_count": 1,
   "metadata": {},
   "outputs": [
    {
     "name": "stdout",
     "output_type": "stream",
     "text": [
      "[1]\n"
     ]
    }
   ],
   "source": [
    "a = [1]\n",
    "print(a[:2])\n",
    "# 슬라이싱 크기 상관없이 짝은 거에 알아서 맞추네"
   ]
  },
  {
   "cell_type": "code",
   "execution_count": null,
   "metadata": {},
   "outputs": [],
   "source": [
    "# 좀더 간결하게 !\n",
    "def solution(genres, plays):\n",
    "    answer = []\n",
    "    count = {}\n",
    "    for idx,g in enumerate(genres):\n",
    "        if g not in count:\n",
    "            count[g] = plays[idx]\n",
    "        else:\n",
    "            count[g] += plays[idx]\n",
    "    count = sorted(count.items(), key = lambda item: item[1], reverse = True) \n",
    "    while count:\n",
    "        temp = []\n",
    "        for idx,g in enumerate(genres):\n",
    "            if g == count[0][0]:\n",
    "                temp.append((plays[idx], idx))\n",
    "        \n",
    "        if len(temp) == 1:\n",
    "            answer.append(temp[0][1])\n",
    "        else:\n",
    "            temp.sort(key = lambda x: (-x[0],x[1])) #튜플 정렬 우선순위 이용(백준 국영수), 내림, 오름\n",
    "            answer.append(temp[0][1])\n",
    "            answer.append(temp[1][1])\n",
    "        del count[0]\n",
    "        \n",
    "        \n",
    "    return answer"
   ]
  }
 ],
 "metadata": {
  "kernelspec": {
   "display_name": "Python 3",
   "language": "python",
   "name": "python3"
  },
  "language_info": {
   "codemirror_mode": {
    "name": "ipython",
    "version": 3
   },
   "file_extension": ".py",
   "mimetype": "text/x-python",
   "name": "python",
   "nbconvert_exporter": "python",
   "pygments_lexer": "ipython3",
   "version": "3.8.5"
  }
 },
 "nbformat": 4,
 "nbformat_minor": 4
}
