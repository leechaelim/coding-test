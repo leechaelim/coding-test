{
 "cells": [
  {
   "cell_type": "markdown",
   "metadata": {},
   "source": [
    "https://programmers.co.kr/learn/courses/30/lessons/42626"
   ]
  },
  {
   "cell_type": "code",
   "execution_count": 1,
   "metadata": {},
   "outputs": [],
   "source": [
    "# 힙 문제\n",
    "# 힙써야 정렬 알아서 되니까 힙으로 접근해야함\n",
    "# 음식 1개 일때 런타임 에러날 수 있으므로 예외 처리 필요\n",
    "\n",
    "import heapq\n",
    "def solution(scoville, K):\n",
    "    N = len(scoville)\n",
    "    heapq.heapify(scoville)\n",
    "    answer = 0\n",
    "    while True:\n",
    "        if N == 1 and scoville[0] < K:\n",
    "            return -1\n",
    "        if scoville[0] < K: #가장 작은 원소가 K보다 작다면\n",
    "            answer += 1\n",
    "            N -= 1\n",
    "            one = heapq.heappop(scoville)\n",
    "            two = heapq.heappop(scoville)\n",
    "            heapq.heappush(scoville, one + two*2)\n",
    "        else:\n",
    "            return answer\n"
   ]
  }
 ],
 "metadata": {
  "kernelspec": {
   "display_name": "Python 3",
   "language": "python",
   "name": "python3"
  },
  "language_info": {
   "codemirror_mode": {
    "name": "ipython",
    "version": 3
   },
   "file_extension": ".py",
   "mimetype": "text/x-python",
   "name": "python",
   "nbconvert_exporter": "python",
   "pygments_lexer": "ipython3",
   "version": "3.8.5"
  }
 },
 "nbformat": 4,
 "nbformat_minor": 4
}
