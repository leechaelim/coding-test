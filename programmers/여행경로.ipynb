{
 "cells": [
  {
   "cell_type": "code",
   "execution_count": null,
   "metadata": {},
   "outputs": [],
   "source": [
    "# 이건 효율 떨어져서 50점임\n",
    "# 44분 풀어도 bfs 어캐할지 감 안온다\n",
    "# 다시 풀기\n",
    "def setting(data):\n",
    "    return data[1]\n",
    "\n",
    "def solution(tickets):\n",
    "    answer = []\n",
    "    tickets = sorted(tickets,key = setting)\n",
    "    start = \"ICN\"\n",
    "    answer.append(start)\n",
    "    while tickets:\n",
    "        for idx, country in enumerate(tickets):\n",
    "            if country[0] == start:\n",
    "                answer.append(country[1])\n",
    "                start = country[1]\n",
    "                del tickets[idx]\n",
    "    \n",
    "    return answer"
   ]
  }
 ],
 "metadata": {
  "kernelspec": {
   "display_name": "Python 3",
   "language": "python",
   "name": "python3"
  },
  "language_info": {
   "codemirror_mode": {
    "name": "ipython",
    "version": 3
   },
   "file_extension": ".py",
   "mimetype": "text/x-python",
   "name": "python",
   "nbconvert_exporter": "python",
   "pygments_lexer": "ipython3",
   "version": "3.8.5"
  }
 },
 "nbformat": 4,
 "nbformat_minor": 4
}
