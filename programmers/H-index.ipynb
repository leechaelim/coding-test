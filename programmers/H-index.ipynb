{
 "cells": [
  {
   "cell_type": "code",
   "execution_count": null,
   "metadata": {},
   "outputs": [],
   "source": [
    "#25분, 지문이 이상한 문제\n",
    "def solution(citations):\n",
    "    citations = sorted(citations,reverse = True)\n",
    "    for h in range(len(citations),0, -1):\n",
    "        for idx, x in enumerate(citations):\n",
    "            if h<=x and idx+1 >= h:\n",
    "                return h\n",
    "    return 0"
   ]
  }
 ],
 "metadata": {
  "kernelspec": {
   "display_name": "Python 3",
   "language": "python",
   "name": "python3"
  },
  "language_info": {
   "codemirror_mode": {
    "name": "ipython",
    "version": 3
   },
   "file_extension": ".py",
   "mimetype": "text/x-python",
   "name": "python",
   "nbconvert_exporter": "python",
   "pygments_lexer": "ipython3",
   "version": "3.8.5"
  }
 },
 "nbformat": 4,
 "nbformat_minor": 4
}
