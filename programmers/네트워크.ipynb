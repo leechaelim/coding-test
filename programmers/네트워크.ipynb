{
 "cells": [
  {
   "cell_type": "code",
   "execution_count": null,
   "metadata": {},
   "outputs": [],
   "source": [
    "def dfs(graph, v, visited):\n",
    "    visited[v] = True\n",
    "    for i, x in enumerate(graph[v]):\n",
    "        if not visited[i] and x==1:\n",
    "            dfs(graph,i,visited)\n",
    "            \n",
    "def solution(n, computers):\n",
    "    answer = 0\n",
    "    visited = [False]*(n)\n",
    "    \n",
    "    while False in visited:\n",
    "        answer += 1\n",
    "        for i,x in enumerate(visited):\n",
    "            if x == False:\n",
    "                dfs(computers, i, visited)\n",
    "                break\n",
    "        \n",
    "    return answer"
   ]
  }
 ],
 "metadata": {
  "kernelspec": {
   "display_name": "Python 3",
   "language": "python",
   "name": "python3"
  },
  "language_info": {
   "codemirror_mode": {
    "name": "ipython",
    "version": 3
   },
   "file_extension": ".py",
   "mimetype": "text/x-python",
   "name": "python",
   "nbconvert_exporter": "python",
   "pygments_lexer": "ipython3",
   "version": "3.8.5"
  }
 },
 "nbformat": 4,
 "nbformat_minor": 4
}
