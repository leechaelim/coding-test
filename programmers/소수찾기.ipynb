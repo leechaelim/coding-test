{
 "cells": [
  {
   "cell_type": "code",
   "execution_count": null,
   "metadata": {},
   "outputs": [],
   "source": [
    "#ver 1\n",
    "import itertools\n",
    "\n",
    "def solution(numbers):\n",
    "    answer = 0\n",
    "    array = []\n",
    "    P_list = []\n",
    "    permu_list = []\n",
    "    for x in numbers:\n",
    "        array.append(x)\n",
    "    for i in range(1,len(array)+1):\n",
    "        P_list.append(list(map(''.join, itertools.permutations(array, i))))\n",
    "\n",
    "    for col,x in enumerate(P_list):\n",
    "        for index, j in enumerate(x):\n",
    "            permu_list.append(int(P_list[col][index]))\n",
    "    a = set(permu_list)\n",
    "    permu_list = list(a)\n",
    "    for i, x in enumerate(permu_list):\n",
    "        if x==0 or x==1:\n",
    "            continue\n",
    "        answer += 1    \n",
    "        for k in range(2,x):\n",
    "            if x%k == 0:\n",
    "                answer -= 1\n",
    "                break\n",
    "\n",
    "    return answer"
   ]
  },
  {
   "cell_type": "code",
   "execution_count": null,
   "metadata": {},
   "outputs": [],
   "source": [
    "#ver 2 좀 더 짧게\n",
    "import itertools\n",
    "\n",
    "def solution(numbers):\n",
    "    answer = 0\n",
    "    a = set()\n",
    "    array=list(numbers) # 문자열 리스트로 변환\n",
    "    for i in range(1,len(array)+1):\n",
    "        a|=set(map(int,map(''.join, itertools.permutations(array, i)))) #set 사용으로 한방에 중복 제거, map으로 int형변환\n",
    "\n",
    "    for i, x in enumerate(a):\n",
    "        if x==0 or x==1:\n",
    "            continue\n",
    "        answer += 1    \n",
    "        for k in range(2,x):\n",
    "            if x%k == 0:\n",
    "                answer -= 1\n",
    "                break\n",
    "\n",
    "    return answer"
   ]
  },
  {
   "cell_type": "code",
   "execution_count": null,
   "metadata": {},
   "outputs": [],
   "source": [
    "#숏 코딩 \n",
    "from itertools import permutations\n",
    "def solution(n):\n",
    "    a = set()\n",
    "    for i in range(len(n)):\n",
    "        a |= set(map(int, map(\"\".join, permutations(list(n), i + 1))))\n",
    "    a -= set(range(0, 2))\n",
    "    for i in range(2, int(max(a) ** 0.5) + 1):\n",
    "        a -= set(range(i * 2, max(a) + 1, i))\n",
    "    return len(a)"
   ]
  }
 ],
 "metadata": {
  "kernelspec": {
   "display_name": "Python 3",
   "language": "python",
   "name": "python3"
  },
  "language_info": {
   "codemirror_mode": {
    "name": "ipython",
    "version": 3
   },
   "file_extension": ".py",
   "mimetype": "text/x-python",
   "name": "python",
   "nbconvert_exporter": "python",
   "pygments_lexer": "ipython3",
   "version": "3.8.5"
  }
 },
 "nbformat": 4,
 "nbformat_minor": 4
}
