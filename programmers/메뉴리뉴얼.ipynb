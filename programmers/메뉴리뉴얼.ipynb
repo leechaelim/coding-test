{
 "cells": [
  {
   "cell_type": "code",
   "execution_count": 3,
   "metadata": {},
   "outputs": [
    {
     "data": {
      "text/plain": [
       "True"
      ]
     },
     "execution_count": 3,
     "metadata": {},
     "output_type": "execute_result"
    }
   ],
   "source": [
    "채점 결과 #56분\n",
    "정확성: 70.0\n",
    "합계: 70.0 / 100.0"
   ]
  },
  {
   "cell_type": "code",
   "execution_count": 8,
   "metadata": {},
   "outputs": [],
   "source": [
    "import string\n",
    "import itertools\n",
    "def solution(orders, course):\n",
    "    answer = []\n",
    "    a = string.ascii_uppercase\n",
    "    menu=\"\"\n",
    "    for x in range(len(a)):\n",
    "        for y in orders:\n",
    "            if a[x] in y:\n",
    "                menu+=a[x]\n",
    "                break\n",
    "    for i in course: #2,3,4\n",
    "        result = list(itertools.combinations(menu,i))\n",
    "        maxi = [0]*(len(result))\n",
    "        for x in range(len(result)): #('A', 'B')\n",
    "            for y in orders: \n",
    "                check = True\n",
    "                for n in range(i):#0,1\n",
    "                    if result[x][n] not in y:\n",
    "                        check = False\n",
    "                        \n",
    "                if check == True:\n",
    "                    maxi[x] += 1\n",
    "            \n",
    "        if max(maxi) >= 2:\n",
    "            for n in range(len(maxi)):\n",
    "                if max(maxi)==maxi[n]:\n",
    "                    answer.append(''.join(result[n]))\n",
    "            \n",
    "    answer.sort()                   \n",
    "    return answer"
   ]
  },
  {
   "cell_type": "code",
   "execution_count": 21,
   "metadata": {},
   "outputs": [
    {
     "data": {
      "text/plain": [
       "False"
      ]
     },
     "execution_count": 21,
     "metadata": {},
     "output_type": "execute_result"
    }
   ],
   "source": [
    "result[0][0] in [\"ABCD\",\"AB\"]"
   ]
  },
  {
   "cell_type": "code",
   "execution_count": 23,
   "metadata": {},
   "outputs": [
    {
     "data": {
      "text/plain": [
       "'ab'"
      ]
     },
     "execution_count": 23,
     "metadata": {},
     "output_type": "execute_result"
    }
   ],
   "source": [
    "a = [('a','b'),('c','d')]\n",
    "X = ''.join(a[0])\n",
    "X"
   ]
  }
 ],
 "metadata": {
  "kernelspec": {
   "display_name": "Python 3",
   "language": "python",
   "name": "python3"
  },
  "language_info": {
   "codemirror_mode": {
    "name": "ipython",
    "version": 3
   },
   "file_extension": ".py",
   "mimetype": "text/x-python",
   "name": "python",
   "nbconvert_exporter": "python",
   "pygments_lexer": "ipython3",
   "version": "3.8.5"
  }
 },
 "nbformat": 4,
 "nbformat_minor": 4
}
