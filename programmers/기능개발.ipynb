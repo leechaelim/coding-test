{
 "cells": [
  {
   "cell_type": "code",
   "execution_count": null,
   "metadata": {},
   "outputs": [],
   "source": [
    "# 24분 맞음\n",
    "\"\"\"나는 스택에 완료 된 것들 넣어주고 min_idx가 완료되면 \n",
    "스택안에 인덱스 연속적인 것들 del, 비연속이면 day 늘려서 기다림\n",
    "stack sort도 해줘야 하고 append, del 많아서 효율 떨어짐\"\"\"\n",
    "def solution(progresses, speeds):\n",
    "    answer = []\n",
    "    day = 1\n",
    "    stack = []\n",
    "    min_idx = 0\n",
    "    while min_idx!=len(speeds):\n",
    "        for idx, percent in enumerate(progresses):\n",
    "            if percent + speeds[idx]*day >= 100:\n",
    "                stack.append(idx)\n",
    "                speeds[idx] = 0 # 진행 막음\n",
    "        day += 1\n",
    "        count = 0\n",
    "        if stack and min(stack) == min_idx:\n",
    "            while stack:\n",
    "                stack.sort()\n",
    "                if stack[0] == min_idx:\n",
    "                    del stack[0]\n",
    "                    min_idx += 1\n",
    "                    count += 1\n",
    "                else:\n",
    "                    break\n",
    "            \n",
    "            if count != 0:\n",
    "                answer.append(count)\n",
    "    \n",
    "    \n",
    "    return answer\n",
    "# 프로그래스 + day* 스피드 >= 100 이면 배포 가능 상태\n",
    "\"\"\"\n",
    "1. 앞에 배포 될게 없어 ->스택과 함께 바로 배포\n",
    "2. 앞에 막혔어 -> 스택에 넣어, \"\"\""
   ]
  },
  {
   "cell_type": "code",
   "execution_count": null,
   "metadata": {},
   "outputs": [],
   "source": [
    "#다른 사람 풀이\n",
    "\"\"\"맨 앞에 것 완료 안되었으면 사실 뒤에거는 알 필요 없기 때문에, \n",
    "맨 앞만 확인해도 된다.\"\"\"\n",
    "def solution(progresses, speeds):\n",
    "    answer = []\n",
    "    time = 0\n",
    "    count = 0\n",
    "    while progresses:\n",
    "        if (progresses[0] + time*speeds[0]) >= 100:\n",
    "            progresses.pop(0)\n",
    "            speeds.pop(0)\n",
    "            count += 1\n",
    "        else:\n",
    "            if count > 0:\n",
    "                answer.append(count)\n",
    "                count = 0\n",
    "            time += 1\n",
    "    answer.append(count)\n",
    "    return answer"
   ]
  }
 ],
 "metadata": {
  "kernelspec": {
   "display_name": "Python 3",
   "language": "python",
   "name": "python3"
  },
  "language_info": {
   "codemirror_mode": {
    "name": "ipython",
    "version": 3
   },
   "file_extension": ".py",
   "mimetype": "text/x-python",
   "name": "python",
   "nbconvert_exporter": "python",
   "pygments_lexer": "ipython3",
   "version": "3.8.5"
  }
 },
 "nbformat": 4,
 "nbformat_minor": 4
}
