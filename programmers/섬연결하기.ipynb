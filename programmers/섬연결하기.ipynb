{
 "cells": [
  {
   "cell_type": "code",
   "execution_count": null,
   "metadata": {},
   "outputs": [],
   "source": [
    "# 예제 코드 복붙해서 28분\n",
    "# 처음에 플루이드로 갔다가 1->마지막으로 순서가 정해서 있어서 크루스칼로 바꿈\n",
    "# 특정원소가 속한 집합찾기\n",
    "def find_parent(parent, x):\n",
    "    #루트 노드 찾을 때까지 재귀적으로 호출\n",
    "    if parent[x] != x:\n",
    "        parent[x] = find_parent(parent, parent[x])\n",
    "    return parent[x] \n",
    "\n",
    "# 두 원소가 속한 집합 찾기\n",
    "def union_parent(parent, a, b):\n",
    "    a = find_parent(parent, a)\n",
    "    b = find_parent(parent, b)\n",
    "    if a < b:\n",
    "        parent[b] = a\n",
    "    else:\n",
    "        parent[a] = b\n",
    "    \n",
    "\n",
    "def solution(v, costs):\n",
    "    \n",
    "    # 부모 테이블 초기화\n",
    "    parent = [0] * (v )\n",
    "    for i in range(v):\n",
    "        parent[i] = i\n",
    "\n",
    "    edges = [] #간선 정보\n",
    "    result = 0\n",
    "\n",
    "\n",
    "    # 간선 정보 입력 받기\n",
    "    for a, b, cost in costs:\n",
    "        edges.append((cost, a, b))\n",
    "        edges.append((cost, b, a))\n",
    "\n",
    "\n",
    "    edges.sort() #정렬 필수    \n",
    "\n",
    "\n",
    "    for edge in edges:\n",
    "        cost, a, b = edge\n",
    "        # 사이클이 아닌 경우에만 집합에 포함\n",
    "        if find_parent(parent, a) != find_parent(parent, b):\n",
    "            union_parent(parent, a, b)\n",
    "            result += cost\n",
    "\n",
    "    return result\n",
    "\n",
    "# graph 넣어줄거임, 프로스칼\n",
    "# n 개라면 최소 연결은 n-1 개, 각  노드마다 하나는 연결되어야 함"
   ]
  }
 ],
 "metadata": {
  "kernelspec": {
   "display_name": "Python 3",
   "language": "python",
   "name": "python3"
  },
  "language_info": {
   "codemirror_mode": {
    "name": "ipython",
    "version": 3
   },
   "file_extension": ".py",
   "mimetype": "text/x-python",
   "name": "python",
   "nbconvert_exporter": "python",
   "pygments_lexer": "ipython3",
   "version": "3.8.5"
  }
 },
 "nbformat": 4,
 "nbformat_minor": 4
}
