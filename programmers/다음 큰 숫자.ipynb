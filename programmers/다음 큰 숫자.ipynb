{
 "cells": [
  {
   "cell_type": "code",
   "execution_count": null,
   "metadata": {},
   "outputs": [],
   "source": [
    "# 9분 컷 -> 한번에 올솔\n",
    "\n",
    "def two(n):\n",
    "    two_n = \"\"\n",
    "    while n//2>0:\n",
    "        two_n = str(n%2) + two_n\n",
    "        n //= 2\n",
    "    two_n = str(n) + two_n\n",
    "    return two_n\n",
    "def solution(n):\n",
    "    answer = n+1\n",
    "    two_n = two(n)# 이진법으로 n 표현\n",
    "    #print(two_n) \n",
    "    while True:\n",
    "        two_next = two(answer)\n",
    "        if two_next.count(\"1\") ==  two_n.count(\"1\"):\n",
    "            return answer\n",
    "        answer += 1"
   ]
  },
  {
   "cell_type": "code",
   "execution_count": null,
   "metadata": {},
   "outputs": [],
   "source": [
    "# __builtin__ module에 포함된 bin 함수 활용\n",
    "def solution(n):\n",
    "    answer = n+1\n",
    "    two_n = bin(n)# 이진법으로 n 표현\n",
    "    while True:\n",
    "        two_next = bin(answer)\n",
    "        if two_next.count(\"1\") ==  two_n.count(\"1\"):\n",
    "            return answer\n",
    "        answer += 1"
   ]
  }
 ],
 "metadata": {
  "kernelspec": {
   "display_name": "Python 3",
   "language": "python",
   "name": "python3"
  },
  "language_info": {
   "codemirror_mode": {
    "name": "ipython",
    "version": 3
   },
   "file_extension": ".py",
   "mimetype": "text/x-python",
   "name": "python",
   "nbconvert_exporter": "python",
   "pygments_lexer": "ipython3",
   "version": "3.8.5"
  }
 },
 "nbformat": 4,
 "nbformat_minor": 4
}
