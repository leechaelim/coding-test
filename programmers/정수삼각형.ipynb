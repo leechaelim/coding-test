{
 "cells": [
  {
   "cell_type": "code",
   "execution_count": null,
   "metadata": {},
   "outputs": [],
   "source": [
    "# 한 십분..?\n",
    "def solution(tri):\n",
    "    answer = 0\n",
    "    for idx in range(1,len(tri)):\n",
    "        for IDX in range(len(tri[idx])):\n",
    "            if IDX == 0: #맨 왼쪽\n",
    "                tri[idx][IDX] += tri[idx-1][IDX]\n",
    "            elif IDX == len(tri[idx])-1: #맨 오른쪽\n",
    "                tri[idx][IDX] += tri[idx-1][IDX-1]\n",
    "            else:\n",
    "                tri[idx][IDX] += max(tri[idx-1][IDX],tri[idx-1][IDX-1])\n",
    "    return max(tri[-1])"
   ]
  }
 ],
 "metadata": {
  "kernelspec": {
   "display_name": "Python 3",
   "language": "python",
   "name": "python3"
  },
  "language_info": {
   "codemirror_mode": {
    "name": "ipython",
    "version": 3
   },
   "file_extension": ".py",
   "mimetype": "text/x-python",
   "name": "python",
   "nbconvert_exporter": "python",
   "pygments_lexer": "ipython3",
   "version": "3.8.5"
  }
 },
 "nbformat": 4,
 "nbformat_minor": 4
}
