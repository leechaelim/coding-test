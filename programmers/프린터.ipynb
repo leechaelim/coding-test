{
 "cells": [
  {
   "cell_type": "code",
   "execution_count": null,
   "metadata": {},
   "outputs": [],
   "source": [
    "# 문제 잘못봄 그냥 튜플 우선순위 정렬인줄~\n",
    "def solution(priorities, location):\n",
    "    tp = []\n",
    "    for idx, x in enumerate(priorities):\n",
    "        tp.append((x, idx))\n",
    "    tp = sorted(tp,key = lambda x:(-x[0],x[1]))\n",
    "    print(tp)\n",
    "    for idx in range(len(tp)):\n",
    "        if tp[idx][1] == location:\n",
    "            return idx + 1"
   ]
  },
  {
   "cell_type": "code",
   "execution_count": null,
   "metadata": {},
   "outputs": [],
   "source": [
    "# 내 풀이 16분\n",
    "def solution(priorities, location):\n",
    "    tp = []\n",
    "    result = []\n",
    "    for idx, x in enumerate(priorities):\n",
    "        tp.append((x, idx))\n",
    "        \n",
    "    while tp:\n",
    "        if tp[0][0] < max(tp)[0]:\n",
    "            tmp = tp[0]\n",
    "            tp = tp[1:]\n",
    "            tp.append(tmp)\n",
    "        else:\n",
    "            result.append(tp[0])\n",
    "            del tp[0]\n",
    "            \n",
    "    for idx in range(len(result)):\n",
    "        if result[idx][1] == location:\n",
    "            return idx + 1"
   ]
  }
 ],
 "metadata": {
  "kernelspec": {
   "display_name": "Python 3",
   "language": "python",
   "name": "python3"
  },
  "language_info": {
   "codemirror_mode": {
    "name": "ipython",
    "version": 3
   },
   "file_extension": ".py",
   "mimetype": "text/x-python",
   "name": "python",
   "nbconvert_exporter": "python",
   "pygments_lexer": "ipython3",
   "version": "3.8.5"
  }
 },
 "nbformat": 4,
 "nbformat_minor": 4
}
