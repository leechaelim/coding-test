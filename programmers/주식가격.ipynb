{
 "cells": [
  {
   "cell_type": "code",
   "execution_count": null,
   "metadata": {},
   "outputs": [],
   "source": [
    "#30분\n",
    "def solution(prices):\n",
    "    answer = [0 for _ in range(len(prices))]\n",
    "    array = []\n",
    "    for idx, x in enumerate(prices):\n",
    "        array.append((x,idx))\n",
    "    array = sorted(array, key = lambda x: (-x[0],-x[1]))\n",
    "    for idx, x in enumerate(array):\n",
    "        if x[1] == len(array) - 1:\n",
    "            answer[x[1]] = 0\n",
    "        elif x[1] == idx:\n",
    "            answer[x[1]] = 1\n",
    "        elif x[1] < idx: # 가격 안떨어짐\n",
    "            answer[x[1]] = len(array) - x[1] - 1\n",
    "        else:\n",
    "            answer[x[1]] =  x[1] - idx \n",
    "    return answer\n",
    "\n",
    "\"\"\"\n",
    "[1, 2, 3, 2, 3]\n",
    " 0 1 2 3 4 #x1\n",
    "[3,3,2,2,1]\n",
    " 2 4 1 3 0 \n",
    " - 0 + + +\n",
    " 0 1 2 3 4 #idx\n",
    " + + - + 0 \"\"\""
   ]
  },
  {
   "cell_type": "code",
   "execution_count": null,
   "metadata": {},
   "outputs": [],
   "source": [
    "#22분\n",
    "from collections import deque\n",
    "def solution(prices):\n",
    "    answer = [0 for _ in range(len(prices))]\n",
    "    stack = deque()\n",
    "    for idx, p in enumerate(prices):\n",
    "        if not stack :\n",
    "            stack.append((p,idx))\n",
    "        elif stack[-1][0] <= p: #가격 안떨어짐\n",
    "            stack.append((p,idx))\n",
    "        else:\n",
    "            while stack and stack[-1][0] > p:\n",
    "                tmp = stack.pop()\n",
    "                answer[tmp[1]] = idx - tmp[1]\n",
    "            stack.append((p,idx))\n",
    "    while stack:\n",
    "        tmp = stack.popleft()\n",
    "        answer[tmp[1]] = len(prices) - tmp[1] - 1\n",
    "    return answer"
   ]
  },
  {
   "cell_type": "code",
   "execution_count": null,
   "metadata": {},
   "outputs": [],
   "source": [
    "# 조금 더 수정\n",
    "from collections import deque\n",
    "def solution(prices):\n",
    "    answer = [0 for _ in range(len(prices))]\n",
    "    stack = deque()\n",
    "    for idx, p in enumerate(prices):\n",
    "        if not stack :\n",
    "            stack.append((p,idx))\n",
    "        elif stack[-1][0] > p: #가격 떨어짐\n",
    "            while stack and stack[-1][0] > p:\n",
    "                tmp = stack.pop()\n",
    "                answer[tmp[1]] = idx - tmp[1]\n",
    "        stack.append((p,idx))\n",
    "    while stack:\n",
    "        tmp = stack.popleft()\n",
    "        answer[tmp[1]] = len(prices) - tmp[1] - 1\n",
    "    return answer"
   ]
  }
 ],
 "metadata": {
  "kernelspec": {
   "display_name": "Python 3",
   "language": "python",
   "name": "python3"
  },
  "language_info": {
   "codemirror_mode": {
    "name": "ipython",
    "version": 3
   },
   "file_extension": ".py",
   "mimetype": "text/x-python",
   "name": "python",
   "nbconvert_exporter": "python",
   "pygments_lexer": "ipython3",
   "version": "3.8.5"
  }
 },
 "nbformat": 4,
 "nbformat_minor": 4
}
