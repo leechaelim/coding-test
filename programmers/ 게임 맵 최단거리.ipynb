{
 "cells": [
  {
   "cell_type": "code",
   "execution_count": null,
   "metadata": {},
   "outputs": [],
   "source": [
    "from collections import deque\n",
    "def solution(maps):\n",
    "    answer = 0\n",
    "    N = len(maps)\n",
    "    M = len(maps[0])\n",
    "    queue = deque()\n",
    "    queue.append([0,0,1])\n",
    "    maps[0][0] = -1\n",
    "    dx = [1,-1,0,0]\n",
    "    dy = [0,0,1,-1]\n",
    "    while queue:\n",
    "        x, y, cnt = queue.popleft()\n",
    "        if x==N-1 and y==M-1:\n",
    "            return cnt\n",
    "        for i in range(4):\n",
    "            nx = x + dx[i]\n",
    "            ny = y + dy[i]\n",
    "            if nx >= 0 and nx< N and ny >= 0 and ny < M and maps[nx][ny] == 1:\n",
    "                queue.append([nx,ny, cnt + 1])\n",
    "                maps[nx][ny] = -1\n",
    "        \n",
    "    return -1"
   ]
  }
 ],
 "metadata": {
  "kernelspec": {
   "display_name": "Python 3",
   "language": "python",
   "name": "python3"
  },
  "language_info": {
   "codemirror_mode": {
    "name": "ipython",
    "version": 3
   },
   "file_extension": ".py",
   "mimetype": "text/x-python",
   "name": "python",
   "nbconvert_exporter": "python",
   "pygments_lexer": "ipython3",
   "version": "3.8.5"
  }
 },
 "nbformat": 4,
 "nbformat_minor": 4
}
