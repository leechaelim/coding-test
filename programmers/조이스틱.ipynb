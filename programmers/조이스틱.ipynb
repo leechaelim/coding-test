{
 "cells": [
  {
   "cell_type": "code",
   "execution_count": null,
   "metadata": {},
   "outputs": [],
   "source": [
    "#30분\n",
    "def count(target):\n",
    "    abc = \"ABCDEFGHIJKLMNOPQRSTUVWXYZ\"\n",
    "    target = abc.find(target)\n",
    "    return min(target, 26 - target)\n",
    "    \n",
    "def solution(name):\n",
    "    answer = 0\n",
    "    road = \"\"\n",
    "    for idx, char in enumerate(name):\n",
    "        answer += count(char) #일단 가로방향 이동 제외한 이동수\n",
    "        \n",
    "    # 가로 방향 이동 어떻게 할까?\n",
    "    # BFS???완탐???\n",
    "    \n",
    "    return answer + len(name) -1"
   ]
  }
 ],
 "metadata": {
  "kernelspec": {
   "display_name": "Python 3",
   "language": "python",
   "name": "python3"
  },
  "language_info": {
   "codemirror_mode": {
    "name": "ipython",
    "version": 3
   },
   "file_extension": ".py",
   "mimetype": "text/x-python",
   "name": "python",
   "nbconvert_exporter": "python",
   "pygments_lexer": "ipython3",
   "version": "3.8.5"
  }
 },
 "nbformat": 4,
 "nbformat_minor": 4
}
