{
 "cells": [
  {
   "cell_type": "code",
   "execution_count": null,
   "metadata": {},
   "outputs": [],
   "source": [
    "# 1-6번 테케 실패ㅜㅠ 1시간\n",
    "def solution(numbers):\n",
    "    answer = ''\n",
    "    temp = []\n",
    "    count = 0\n",
    "    for x in numbers:\n",
    "        if x == 0:\n",
    "            count += 1\n",
    "        else:\n",
    "            temp.append((str(x)+str(x)[-1]*4,str(x)))# 끝 자리를 반복\n",
    "    temp=sorted(temp,reverse = True)\n",
    "    for x in temp:\n",
    "        answer+=x[1]\n",
    "    answer = int(answer+\"0\"*count)\n",
    "    return str(answer)"
   ]
  },
  {
   "cell_type": "code",
   "execution_count": null,
   "metadata": {},
   "outputs": [],
   "source": [
    "# 다른 사람풀이\n",
    "# 끝 자리를 반복하지 않고, 전체를 3번 반복함\n",
    "# 90, 908 일때 90000과 908888하면 908이 더 크다고 판단해서 틀리는데\n",
    "#909090-908908908하면 90이 더 크다고 판단해서 맞음 - 1-6번 테스트 케이스\n",
    "def solution(numbers):\n",
    "    numbers = list(map(str, numbers))\n",
    "    numbers.sort(key=lambda x: x*3, reverse=True)\n",
    "    return str(int(''.join(numbers)))"
   ]
  }
 ],
 "metadata": {
  "kernelspec": {
   "display_name": "Python 3",
   "language": "python",
   "name": "python3"
  },
  "language_info": {
   "codemirror_mode": {
    "name": "ipython",
    "version": 3
   },
   "file_extension": ".py",
   "mimetype": "text/x-python",
   "name": "python",
   "nbconvert_exporter": "python",
   "pygments_lexer": "ipython3",
   "version": "3.8.5"
  }
 },
 "nbformat": 4,
 "nbformat_minor": 4
}
