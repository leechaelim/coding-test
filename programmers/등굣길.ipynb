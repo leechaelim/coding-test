{
 "cells": [
  {
   "cell_type": "code",
   "execution_count": 5,
   "metadata": {},
   "outputs": [
    {
     "data": {
      "text/plain": [
       "2"
      ]
     },
     "execution_count": 5,
     "metadata": {},
     "output_type": "execute_result"
    }
   ],
   "source": [
    "# 1시간\n",
    "# 너무 벡터화 해서 풀었고, if else 많이 써서 알아보기 힘듦\n",
    "# 인덱스 0을 걍 만들어 주고 1부터 생각하는게 예외처리 간단하다\n",
    "\n",
    "def solution(m, n, puddles):#열, 행, 홍수\n",
    "    map = [[[1,1] for j in range(m)] for i in range(n)]\n",
    "    if len(puddles[0]) != 0: #홍수 없을 때 처리\n",
    "        for x,y in puddles:\n",
    "            map[y-1][x-1] = [690285631,1]\n",
    "    for i in range(n):#행\n",
    "        for j in range(m):#열\n",
    "            if i==0 and j==0:\n",
    "                continue\n",
    "            elif i==0: #첫 행\n",
    "                map[i][j][0] = map[i][j][0]+map[i][j-1][0]\n",
    "            elif j==0: #첫 열\n",
    "                map[i][j][0] = map[i][j][0]+map[i-1][j][0]\n",
    "            else:\n",
    "                \n",
    "                if map[i][j][0]+map[i][j-1][0]==map[i][j][0]+map[i-1][j][0]:\n",
    "                    map[i][j][1] = map[i][j-1][1]+map[i-1][j][1]\n",
    "                elif map[i][j][0]+map[i][j-1][0]<map[i][j][0]+map[i-1][j][0]:\n",
    "                        map[i][j][1] = map[i][j-1][1]\n",
    "                elif map[i][j][0]+map[i][j-1][0]>map[i][j][0]+map[i-1][j][0]:\n",
    "                    map[i][j][1] = map[i-1][j][1]\n",
    "                \n",
    "                map[i][j][0] = min(map[i][j][0]+map[i][j-1][0],map[i][j][0]+map[i-1][j][0])\n",
    "                    \n",
    "    #print(map)\n",
    "    if map[-1][-1][0]>690285631: # 학교 갈 수 없을 때 처리, 테케 10번, n,m = 100일때 값이 690285631이라 넣어줌\n",
    "        return 0\n",
    "    else:\n",
    "        return (map[-1][-1][1])%1000000007"
   ]
  },
  {
   "cell_type": "code",
   "execution_count": null,
   "metadata": {},
   "outputs": [],
   "source": [
    "def solution(m,n,puddles):\n",
    "    grid = [[0]*(m+1) for i in range(n+1)] #왼쪽, 위로 한줄씩 만들어서 IndexError 방지\n",
    "    if puddles != [[]]:                    #물이 잠긴 지역이 0일 수 있음\n",
    "        for a, b in puddles:\n",
    "            grid[b][a] = -1                #미리 -1로 체크\n",
    "    grid[1][1] = 1\n",
    "    for j in range(1,n+1):\n",
    "        for k in range(1,m+1):\n",
    "            if j == k == 1:                #(1,1)은 1로 만들어두고, 0이 되지 않도록\n",
    "                continue\n",
    "            if grid[j][k] == -1:           #웅덩이는 0으로 만들어 다음 덧셈 때 영향끼치지 않게\n",
    "                grid[j][k] = 0\n",
    "                continue\n",
    "            grid[j][k] = (grid[j][k-1] + grid[j-1][k])%1000000007   #[a,b] = [a-1,b] + [a,b-1] 공식\n",
    "\n",
    "    return grid[n][m]\n",
    "\n"
   ]
  }
 ],
 "metadata": {
  "kernelspec": {
   "display_name": "Python 3",
   "language": "python",
   "name": "python3"
  },
  "language_info": {
   "codemirror_mode": {
    "name": "ipython",
    "version": 3
   },
   "file_extension": ".py",
   "mimetype": "text/x-python",
   "name": "python",
   "nbconvert_exporter": "python",
   "pygments_lexer": "ipython3",
   "version": "3.8.5"
  }
 },
 "nbformat": 4,
 "nbformat_minor": 4
}
