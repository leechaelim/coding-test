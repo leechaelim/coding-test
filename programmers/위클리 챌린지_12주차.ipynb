{
 "cells": [
  {
   "cell_type": "code",
   "execution_count": null,
   "metadata": {},
   "outputs": [],
   "source": [
    "# 18분 컷\n",
    "# 처음에 dfs 로 할려다가 순열로 바꿈\n",
    "import itertools\n",
    "def solution(k, dungeons):\n",
    "    global answer\n",
    "    answer = -1\n",
    "    num = [ i for i in range(len(dungeons))]\n",
    "    check = list(itertools.permutations(num, len(dungeons)))\n",
    "\n",
    "    for x in check:\n",
    "        HP = k\n",
    "        tmp = 0\n",
    "        for i in x:\n",
    "            limits, minus = dungeons[i]\n",
    "            if HP >= limits:\n",
    "                tmp += 1\n",
    "                HP -= minus\n",
    "            else:\n",
    "                break\n",
    "        answer = max(answer, tmp)\n",
    "    if answer == 0:\n",
    "        return -1\n",
    "    else:\n",
    "        return answer"
   ]
  },
  {
   "cell_type": "code",
   "execution_count": null,
   "metadata": {},
   "outputs": [],
   "source": [
    "# 다른사람 풀이\n",
    "answer = 0\n",
    "N = 0\n",
    "visited = []\n",
    "\n",
    "\n",
    "def dfs(k, cnt, dungeons):\n",
    "    global answer\n",
    "    if cnt > answer:\n",
    "        answer = cnt\n",
    "\n",
    "    for j in range(N):\n",
    "        if k >= dungeons[j][0] and not visited[j]:\n",
    "            visited[j] = 1\n",
    "            dfs(k - dungeons[j][1], cnt + 1, dungeons)\n",
    "            #print(visited, k - dungeons[j][1] )\n",
    "            visited[j] = 0 # 요렇게 visited 다시 바꿔줘야함\n",
    "\n",
    "\n",
    "def solution(k, dungeons):\n",
    "    global N, visited\n",
    "    N = len(dungeons)\n",
    "    visited = [0] * N\n",
    "    dfs(k, 0, dungeons)\n",
    "    return answer"
   ]
  }
 ],
 "metadata": {
  "kernelspec": {
   "display_name": "Python 3",
   "language": "python",
   "name": "python3"
  },
  "language_info": {
   "codemirror_mode": {
    "name": "ipython",
    "version": 3
   },
   "file_extension": ".py",
   "mimetype": "text/x-python",
   "name": "python",
   "nbconvert_exporter": "python",
   "pygments_lexer": "ipython3",
   "version": "3.8.5"
  }
 },
 "nbformat": 4,
 "nbformat_minor": 4
}
