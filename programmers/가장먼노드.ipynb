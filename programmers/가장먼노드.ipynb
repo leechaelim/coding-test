{
 "cells": [
  {
   "cell_type": "code",
   "execution_count": null,
   "metadata": {},
   "outputs": [],
   "source": [
    "#10분\n",
    "from collections import deque\n",
    "def solution(n, edge):\n",
    "    answer = 0\n",
    "    graph = [[] for _ in range(n+1)]\n",
    "    visited = [0 for _ in range(n+1)]\n",
    "    for a, b in edge:\n",
    "        graph[a].append(b)\n",
    "        graph[b].append(a)\n",
    "    queue = deque([1])\n",
    "    visited[1] = 1\n",
    "    while queue:\n",
    "        now = queue.popleft()\n",
    "        for v in graph[now]:\n",
    "            if visited[v] == 0:\n",
    "                queue.append(v)\n",
    "                visited[v] = visited[now]+1\n",
    "    \"\"\"cnt = 0\n",
    "    for x in visited:\n",
    "        if x==max(visited):\n",
    "            cnt += 1\"\"\"\n",
    "    # 이렇게 완탐 할려면 시간 오래걸림\n",
    "    # count 애용하자\n",
    "    return visited.count(max(visited))"
   ]
  }
 ],
 "metadata": {
  "kernelspec": {
   "display_name": "Python 3",
   "language": "python",
   "name": "python3"
  },
  "language_info": {
   "codemirror_mode": {
    "name": "ipython",
    "version": 3
   },
   "file_extension": ".py",
   "mimetype": "text/x-python",
   "name": "python",
   "nbconvert_exporter": "python",
   "pygments_lexer": "ipython3",
   "version": "3.8.5"
  }
 },
 "nbformat": 4,
 "nbformat_minor": 4
}
