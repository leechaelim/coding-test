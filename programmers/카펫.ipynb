{
 "cells": [
  {
   "cell_type": "code",
   "execution_count": null,
   "metadata": {},
   "outputs": [],
   "source": [
    "def solution(brown, yellow):\n",
    "    answer = []\n",
    "    for w in range(1,5000):\n",
    "        for h in range(1,5000):\n",
    "            if (2+w)*(2+h)==brown + yellow and w*h == yellow:\n",
    "                Width = w + 2\n",
    "                Height = h + 2\n",
    "                return [max(Width,Height),min(Width,Height)]\n",
    "\n",
    "# 1+ X + 1 : 가로\n",
    "# 1+ Y + 1 : 세로\n",
    "# (2+X)(2+Y) = 브라운 + 옐로\n",
    "# 옐로 = XY\n",
    "# (2+X)(2+Y) = XY + 브라운"
   ]
  }
 ],
 "metadata": {
  "kernelspec": {
   "display_name": "Python 3",
   "language": "python",
   "name": "python3"
  },
  "language_info": {
   "codemirror_mode": {
    "name": "ipython",
    "version": 3
   },
   "file_extension": ".py",
   "mimetype": "text/x-python",
   "name": "python",
   "nbconvert_exporter": "python",
   "pygments_lexer": "ipython3",
   "version": "3.8.5"
  }
 },
 "nbformat": 4,
 "nbformat_minor": 4
}
