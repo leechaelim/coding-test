{
 "cells": [
  {
   "cell_type": "code",
   "execution_count": null,
   "metadata": {},
   "outputs": [],
   "source": [
    "# 내 풀이 \n",
    "def solution(phone_book):\n",
    "    phone_book.sort()\n",
    "    for idx in range(len(phone_book)-1):\n",
    "        if phone_book[idx] == phone_book[idx+1][:len(phone_book[idx])]:\n",
    "            return False\n",
    "    return True"
   ]
  },
  {
   "cell_type": "code",
   "execution_count": null,
   "metadata": {},
   "outputs": [],
   "source": [
    "# 해쉬 정석 풀이\n",
    "def solution(phone_book):\n",
    "    answer = True\n",
    "    hash_map = {}\n",
    "    for phone_number in phone_book:\n",
    "        hash_map[phone_number] = 1\n",
    "    for phone_number in phone_book:\n",
    "        temp = \"\"\n",
    "        for number in phone_number:\n",
    "            temp += number\n",
    "            if temp in hash_map and temp != phone_number:\n",
    "                answer = False\n",
    "    return answer"
   ]
  },
  {
   "cell_type": "code",
   "execution_count": 7,
   "metadata": {},
   "outputs": [
    {
     "name": "stdout",
     "output_type": "stream",
     "text": [
      "0\n",
      "-1\n",
      "5\n",
      "-1\n",
      "True\n",
      "False\n",
      "False\n",
      "True\n",
      "False\n",
      "True\n"
     ]
    }
   ],
   "source": [
    "#find(찾을문자, 찾기시작할위치)\n",
    "s = '가나다라 마바사아 자차카타 파하'\n",
    "print(s.find('가'))\n",
    "print(s.find('a'))\n",
    "print(s.find('마',2))\n",
    "print(s.find('가',5))\n",
    "#startswith(시작하는문자, 시작지점)\n",
    "print(s.startswith('가'))\n",
    "print(s.startswith('나'))\n",
    "#endswith(끝나는문자, 문자열의시작, 문자열의끝)\n",
    "print(s.endswith('마'))\n",
    "print(s.endswith('하'))\n",
    "print(s.endswith('마',0,10))\n",
    "print(s.endswith('마',0,6))"
   ]
  },
  {
   "cell_type": "code",
   "execution_count": null,
   "metadata": {},
   "outputs": [],
   "source": []
  }
 ],
 "metadata": {
  "kernelspec": {
   "display_name": "Python 3",
   "language": "python",
   "name": "python3"
  },
  "language_info": {
   "codemirror_mode": {
    "name": "ipython",
    "version": 3
   },
   "file_extension": ".py",
   "mimetype": "text/x-python",
   "name": "python",
   "nbconvert_exporter": "python",
   "pygments_lexer": "ipython3",
   "version": "3.8.5"
  }
 },
 "nbformat": 4,
 "nbformat_minor": 4
}
