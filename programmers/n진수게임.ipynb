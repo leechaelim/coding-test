{
 "cells": [
  {
   "cell_type": "code",
   "execution_count": null,
   "metadata": {},
   "outputs": [],
   "source": [
    "# 12분 컷 -> 한번에 올솔\n",
    "def solution(n, t, m, p):\n",
    "    answer = ''\n",
    "    arr = ''\n",
    "    number = 0\n",
    "    alpha = ['0','1','2','3','4','5','6','7','8','9','A','B','C','D','E','F'] # 16진법까지 였다\n",
    "    while len(arr) < m * t:\n",
    "        tmp = number\n",
    "        tmp_ans = ''\n",
    "        while tmp // n > 0:\n",
    "            tmp_ans = alpha[tmp % n] + tmp_ans\n",
    "            tmp //= n\n",
    "        tmp_ans = alpha[tmp] + tmp_ans\n",
    "        arr += tmp_ans\n",
    "        number += 1\n",
    "    for i in range(t):\n",
    "        answer += arr[m*i + p- 1]\n",
    "    return answer"
   ]
  }
 ],
 "metadata": {
  "kernelspec": {
   "display_name": "Python 3",
   "language": "python",
   "name": "python3"
  },
  "language_info": {
   "codemirror_mode": {
    "name": "ipython",
    "version": 3
   },
   "file_extension": ".py",
   "mimetype": "text/x-python",
   "name": "python",
   "nbconvert_exporter": "python",
   "pygments_lexer": "ipython3",
   "version": "3.8.5"
  }
 },
 "nbformat": 4,
 "nbformat_minor": 4
}
