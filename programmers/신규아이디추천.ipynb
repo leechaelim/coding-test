{
 "cells": [
  {
   "cell_type": "code",
   "execution_count": null,
   "metadata": {},
   "outputs": [],
   "source": [
    "import string\n",
    "def solution(new_id):\n",
    "    answer = ''\n",
    "    #1\n",
    "    answer = new_id.lower()\n",
    "    #2\n",
    "    able_char = string.ascii_lowercase\n",
    "    able_char += string.digits\n",
    "    able_char += '-_.'\n",
    "    i = 0\n",
    "    while(True):\n",
    "        if i>=len(answer):\n",
    "            break\n",
    "        if answer[i] not in able_char:\n",
    "            x = answer[i]\n",
    "            print(x)\n",
    "            answer = answer.replace(x,\"\")\n",
    "        else:\n",
    "            i+=1\n",
    "    #3\n",
    "    count = 0\n",
    "    i = 0\n",
    "    while(True):\n",
    "        if i>=len(answer):\n",
    "            break\n",
    "        if answer[i] == '.':\n",
    "            count += 1\n",
    "            if count >= 2:\n",
    "                answer = answer[:i]+answer[i+1:]\n",
    "                count = 1\n",
    "                i -= 1\n",
    "        else:\n",
    "            count = 0\n",
    "        i+=1\n",
    "                \n",
    "    #4\n",
    "    print(answer)\n",
    "    if answer[0] == \".\":\n",
    "        answer = answer[1:]\n",
    "    if len(answer)==0:#######길이 0 되는 거 생각\n",
    "        answer = \"aaa\"\n",
    "    if answer[-1] == \".\":\n",
    "        answer = answer[:-1]\n",
    "        \n",
    "    #5\n",
    "    if len(answer)==0:\n",
    "        answer = \"aaa\"\n",
    "    if len(answer) >= 16:\n",
    "        answer = answer[:15]\n",
    "    if answer[-1] == \".\":\n",
    "        answer = answer[:-1]\n",
    "    #6\n",
    "    if len(answer)==1:\n",
    "        answer = answer+answer+answer\n",
    "    if len(answer)==2:\n",
    "        answer = answer+answer[0]\n",
    "    return answer"
   ]
  },
  {
   "cell_type": "code",
   "execution_count": null,
   "metadata": {},
   "outputs": [],
   "source": [
    "import string\n",
    "a = string.ascii_letters # 대소문자 모두 abcdefghijklmnopqrstuvwxyzABCDEFGHIJKLMNOPQRSTUVWXYZ\n",
    "a = a+string.digits # 숫자 0123456789\n",
    "\"a\" in a"
   ]
  }
 ],
 "metadata": {
  "kernelspec": {
   "display_name": "Python 3",
   "language": "python",
   "name": "python3"
  },
  "language_info": {
   "codemirror_mode": {
    "name": "ipython",
    "version": 3
   },
   "file_extension": ".py",
   "mimetype": "text/x-python",
   "name": "python",
   "nbconvert_exporter": "python",
   "pygments_lexer": "ipython3",
   "version": "3.8.5"
  }
 },
 "nbformat": 4,
 "nbformat_minor": 4
}
