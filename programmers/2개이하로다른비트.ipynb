{
 "cells": [
  {
   "cell_type": "code",
   "execution_count": null,
   "metadata": {},
   "outputs": [],
   "source": [
    "# 이렇게 하는 건 시간초과이고 걍 규칙 찾아해라\n",
    "def solution(numbers):\n",
    "    answer = []\n",
    "    for x in numbers:\n",
    "        bit_str = bin(x)\n",
    "        bit_str = '00000'+bit_str[2:]\n",
    "        nxt = x + 1\n",
    "        check = True\n",
    "        while check:\n",
    "            next_bit = bin(nxt)\n",
    "            next_bit = '0'*(len(bit_str)-len(next_bit) + 2) + next_bit[2:]\n",
    "            cnt = 0\n",
    "            for a,b in zip(bit_str, next_bit):\n",
    "                if a!=b:\n",
    "                    cnt += 1\n",
    "            if cnt == 2 or cnt == 1:\n",
    "                answer.append(nxt)\n",
    "                check = False\n",
    "            else:\n",
    "                nxt += 1\n",
    "            \n",
    "    return answer"
   ]
  }
 ],
 "metadata": {
  "kernelspec": {
   "display_name": "Python 3",
   "language": "python",
   "name": "python3"
  },
  "language_info": {
   "codemirror_mode": {
    "name": "ipython",
    "version": 3
   },
   "file_extension": ".py",
   "mimetype": "text/x-python",
   "name": "python",
   "nbconvert_exporter": "python",
   "pygments_lexer": "ipython3",
   "version": "3.8.5"
  }
 },
 "nbformat": 4,
 "nbformat_minor": 4
}
