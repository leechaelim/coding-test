{
 "cells": [
  {
   "cell_type": "code",
   "execution_count": null,
   "metadata": {},
   "outputs": [],
   "source": [
    "# ver 1\n",
    "def solution(answers):\n",
    "    answer = []\n",
    "    one = [1,2,3,4,5]\n",
    "    two = [2, 1, 2, 3, 2, 4, 2, 5]\n",
    "    three = [3, 3, 1, 1, 2, 2, 4, 4, 5, 5]\n",
    "    result_1 = 0\n",
    "    result_2 = 0\n",
    "    result_3 = 0\n",
    "    for i in range(len(answers)):\n",
    "        if answers[i]==one[i%len(one)]:\n",
    "            result_1 += 1\n",
    "        if answers[i]==two[i%len(two)]:\n",
    "            result_2 += 1\n",
    "        if answers[i]==three[i%len(three)]:\n",
    "            result_3 += 1\n",
    "    maxi = max(result_1,result_2,result_3)\n",
    "    if maxi==result_1:\n",
    "        answer.append(1)\n",
    "    if maxi==result_2:\n",
    "        answer.append(2)\n",
    "    if maxi==result_3:\n",
    "        answer.append(3)\n",
    "    return answer\n"
   ]
  },
  {
   "cell_type": "code",
   "execution_count": null,
   "metadata": {},
   "outputs": [],
   "source": [
    "# enumerate 쓰는 습관\n",
    "def solution(answers):\n",
    "    answer = []\n",
    "    one = [1,2,3,4,5]\n",
    "    two = [2, 1, 2, 3, 2, 4, 2, 5]\n",
    "    three = [3, 3, 1, 1, 2, 2, 4, 4, 5, 5]\n",
    "    result = [0,0,0]\n",
    "    for index,ans in enumerate(answers):\n",
    "        if ans==one[index%len(one)]:\n",
    "            result[0]+= 1\n",
    "        if ans==two[index%len(two)]:\n",
    "            result[1] += 1\n",
    "        if ans==three[index%len(three)]:\n",
    "            result[2] += 1\n",
    "    for index, student in enumerate(result, start = 1):\n",
    "        if max(result)==student:\n",
    "            answer.append(index)\n",
    "    return answer"
   ]
  }
 ],
 "metadata": {
  "kernelspec": {
   "display_name": "Python 3",
   "language": "python",
   "name": "python3"
  },
  "language_info": {
   "codemirror_mode": {
    "name": "ipython",
    "version": 3
   },
   "file_extension": ".py",
   "mimetype": "text/x-python",
   "name": "python",
   "nbconvert_exporter": "python",
   "pygments_lexer": "ipython3",
   "version": "3.8.5"
  }
 },
 "nbformat": 4,
 "nbformat_minor": 4
}
