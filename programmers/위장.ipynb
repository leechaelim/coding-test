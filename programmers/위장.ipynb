{
 "cells": [
  {
   "cell_type": "code",
   "execution_count": null,
   "metadata": {},
   "outputs": [],
   "source": [
    "# 첫 풀이, 해쉬\n",
    "def solution(clothes):\n",
    "    answer = 1\n",
    "    things = {}\n",
    "    for name, types in clothes:\n",
    "        things[types] = 0\n",
    "    for name, types in clothes:\n",
    "        things[types] += 1\n",
    "    for number in things.values() :\n",
    "        answer*= (number+1)\n",
    "    return answer - 1\n"
   ]
  },
  {
   "cell_type": "code",
   "execution_count": null,
   "metadata": {},
   "outputs": [],
   "source": [
    "# 수정본\n",
    "def solution(clothes):\n",
    "    answer = 1\n",
    "    things = {}\n",
    "    for name, types in clothes:\n",
    "        if types not in things: # dict에 없는 입력은 어떻게 입력해줄지 몰랐음. not in으로 하면 된다~\n",
    "            things[types] = 1\n",
    "        else:\n",
    "            things[types] += 1\n",
    "    for number in things.values() :\n",
    "        answer*= (number+1)\n",
    "    return answer - 1\n"
   ]
  }
 ],
 "metadata": {
  "kernelspec": {
   "display_name": "Python 3",
   "language": "python",
   "name": "python3"
  },
  "language_info": {
   "codemirror_mode": {
    "name": "ipython",
    "version": 3
   },
   "file_extension": ".py",
   "mimetype": "text/x-python",
   "name": "python",
   "nbconvert_exporter": "python",
   "pygments_lexer": "ipython3",
   "version": "3.8.5"
  }
 },
 "nbformat": 4,
 "nbformat_minor": 4
}
