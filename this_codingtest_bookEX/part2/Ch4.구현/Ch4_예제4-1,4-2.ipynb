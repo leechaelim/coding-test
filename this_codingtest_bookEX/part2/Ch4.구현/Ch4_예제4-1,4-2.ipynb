{
 "cells": [
  {
   "cell_type": "code",
   "execution_count": 1,
   "metadata": {},
   "outputs": [
    {
     "name": "stdout",
     "output_type": "stream",
     "text": [
      "5\n",
      "R R R U D D\n",
      "3 4\n"
     ]
    }
   ],
   "source": [
    "#예제 4-1 첫번째 풀이 12'28''\n",
    "N = int(input())\n",
    "moves = list(map(str, input().split()))\n",
    "X = 1\n",
    "Y = 1\n",
    "for i in moves:\n",
    "    if (i==\"R\")& (Y!=N):\n",
    "        Y += 1\n",
    "    elif (i==\"L\")& (Y!=1):\n",
    "        Y -= 1\n",
    "    elif (i==\"U\")& (X!=1):\n",
    "        X -= 1\n",
    "    elif (i==\"D\") & (X!=N):\n",
    "        X += 1\n",
    "        \n",
    "print(str(X)+\" \"+str(Y))#print(\"%d %d\"%(X,Y))"
   ]
  },
  {
   "cell_type": "code",
   "execution_count": 11,
   "metadata": {},
   "outputs": [
    {
     "name": "stdout",
     "output_type": "stream",
     "text": [
      "5\n",
      "11475\n"
     ]
    }
   ],
   "source": [
    "#예제 4-2 첫번째 풀이 18'12''\n",
    "#풀이는 3줄 반복문으로 str안에 3포함이면 count 올림, 실행 시간은 내 풀이가 짧을듯\n",
    "N = int(input())\n",
    "X = 0 \n",
    "Y = 0\n",
    "for i in range(0,N+1):\n",
    "    if i%10 == 3:\n",
    "        X += 1\n",
    "for i in range(0, 60):\n",
    "    if (i// 10 == 3) | (i%10 == 3):\n",
    "        Y += 1\n",
    "answer =(N+1)*60*60 - (N+1-X)*(60-Y)*(60-Y)\n",
    "print(answer)"
   ]
  }
 ],
 "metadata": {
  "kernelspec": {
   "display_name": "Python 3",
   "language": "python",
   "name": "python3"
  },
  "language_info": {
   "codemirror_mode": {
    "name": "ipython",
    "version": 3
   },
   "file_extension": ".py",
   "mimetype": "text/x-python",
   "name": "python",
   "nbconvert_exporter": "python",
   "pygments_lexer": "ipython3",
   "version": "3.8.5"
  }
 },
 "nbformat": 4,
 "nbformat_minor": 4
}
