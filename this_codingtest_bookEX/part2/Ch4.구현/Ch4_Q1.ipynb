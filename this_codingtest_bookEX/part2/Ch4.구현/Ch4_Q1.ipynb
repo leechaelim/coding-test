{
 "cells": [
  {
   "cell_type": "code",
   "execution_count": 28,
   "metadata": {},
   "outputs": [
    {
     "name": "stdout",
     "output_type": "stream",
     "text": [
      "c2\n",
      "6\n"
     ]
    }
   ],
   "source": [
    "#첫번째 풀이 : 15'29''\n",
    "state = input()\n",
    "answer = 0\n",
    "    \n",
    "#수직 두 칸\n",
    "if (state[1] < \"3\")|(state[1] > \"6\"):\n",
    "    if (state[0] == \"a\") | (state[0] == \"h\"):\n",
    "        answer += 1\n",
    "    else:\n",
    "        answer += 2\n",
    "else:\n",
    "    answer += 4\n",
    "#수평 두 칸\n",
    "if (state[0] < \"c\")|(state[0] > \"f\"):\n",
    "    if (state[1] == \"1\") | (state[1] == \"8\"):\n",
    "        answer += 1\n",
    "    else:\n",
    "        answer += 2\n",
    "else:\n",
    "    answer += 4\n",
    "print(answer)"
   ]
  },
  {
   "cell_type": "code",
   "execution_count": 26,
   "metadata": {},
   "outputs": [
    {
     "name": "stdout",
     "output_type": "stream",
     "text": [
      "c2\n",
      "6\n"
     ]
    }
   ],
   "source": [
    "# 상하좌우 문제에서는 움직임을 좌표로 나타내는 것이 좋다\n",
    "state = input()\n",
    "answer = 0\n",
    "row = int(state[1])\n",
    "col = int(ord(state[0]))-int(ord(\"a\"))+1 # ord(c)는 문자의 유니코드값을 반환해주는 함수 ord(\"a\") = 97\n",
    "answer = 0\n",
    "steps = [[-2,-1],[-2,1],[2,-1],[2,1],[1,2],[1,-2],[-1,2],[-1,-2]]\n",
    "for i in range(8):\n",
    "    if (row + steps[i][0] < 1)| (row + steps[i][0] > 8) | (col + steps[i][1] < 1) |(col + steps[i][1] > 8):\n",
    "        answer += 0\n",
    "    else:\n",
    "        answer += 1\n",
    "print(answer)"
   ]
  }
 ],
 "metadata": {
  "kernelspec": {
   "display_name": "Python 3",
   "language": "python",
   "name": "python3"
  },
  "language_info": {
   "codemirror_mode": {
    "name": "ipython",
    "version": 3
   },
   "file_extension": ".py",
   "mimetype": "text/x-python",
   "name": "python",
   "nbconvert_exporter": "python",
   "pygments_lexer": "ipython3",
   "version": "3.8.5"
  }
 },
 "nbformat": 4,
 "nbformat_minor": 4
}
