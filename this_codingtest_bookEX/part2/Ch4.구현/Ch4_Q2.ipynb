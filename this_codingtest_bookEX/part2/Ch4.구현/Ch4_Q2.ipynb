{
 "cells": [
  {
   "cell_type": "code",
   "execution_count": 25,
   "metadata": {},
   "outputs": [
    {
     "name": "stdout",
     "output_type": "stream",
     "text": [
      "3 5\n",
      "1 1 0\n",
      "1 1 1 1 1\n",
      "1 0 0 0 1\n",
      "1 1 1 1 1\n",
      "3\n"
     ]
    }
   ],
   "source": [
    "# 첫번째 풀이: 49'39'' 시간 초과(9'39''초과)\n",
    "N, M = map(int, input().split())\n",
    "B, A, state = map(int, input().split())\n",
    "count = 0\n",
    "answer = 0\n",
    "map_list=[]\n",
    "for i in range(N):\n",
    "    map_list.append(list(map(int, input().split())))\n",
    "map_list[A][B] = -1    \n",
    "while count>=0:\n",
    "    if state == 0:\n",
    "        if A-1>=0 and map_list[A-1][B] == 0 :\n",
    "            map_list[A-1][B] = -1\n",
    "            A = A - 1\n",
    "            count = 0\n",
    "        else:\n",
    "            count += 1\n",
    "    elif state == 1:\n",
    "        if B-1>=0 and map_list[A][B-1] == 0 :\n",
    "            map_list[A][B-1] = -1\n",
    "            B = B - 1\n",
    "            count = 0\n",
    "        else:\n",
    "            count += 1\n",
    "    elif state == 2:\n",
    "        if A+1<N and map_list[A+1][B] == 0 :\n",
    "            map_list[A+1][B] = -1\n",
    "            A = A + 1\n",
    "            count = 0\n",
    "        else:\n",
    "            count += 1\n",
    "    elif state == 3:\n",
    "        if B+1<M and map_list[A][B+1] == 0 :\n",
    "            map_list[A][B+1] = -1\n",
    "            B = B + 1\n",
    "            count = 0\n",
    "        else:\n",
    "            count += 1\n",
    "        \n",
    "    if state == 0:\n",
    "        state = 3\n",
    "    else:\n",
    "        state -= 1\n",
    "        \n",
    "    if count == 4:\n",
    "        if state == 0 and map_list[A][B+1] != 1 :\n",
    "            B = B + 1\n",
    "            count = 0\n",
    "        elif state == 1 and map_list[A-1][B] != 1:\n",
    "            A = A - 1\n",
    "            count = 0\n",
    "        elif state == 2 and map_list[A][B-1] != 1:\n",
    "            B = B - 1\n",
    "            count = 0\n",
    "        elif state == 3 and map_list[A+1][B] != 1:\n",
    "            A = A + 1\n",
    "            count = 0\n",
    "        else:\n",
    "            count = -1\n",
    "        \n",
    "for i in map_list:\n",
    "    for j in i:\n",
    "        if j == -1:\n",
    "            answer += 1\n",
    "print(answer)\n",
    "        "
   ]
  },
  {
   "cell_type": "code",
   "execution_count": 8,
   "metadata": {},
   "outputs": [
    {
     "data": {
      "text/plain": [
       "[[1, 1, 1, 1], [1, -1, -1, 1], [1, 1, -1, 1], [1, 1, 1, 1]]"
      ]
     },
     "execution_count": 8,
     "metadata": {},
     "output_type": "execute_result"
    }
   ],
   "source": [
    "map_list"
   ]
  },
  {
   "cell_type": "code",
   "execution_count": 17,
   "metadata": {},
   "outputs": [
    {
     "name": "stdout",
     "output_type": "stream",
     "text": [
      " 4 4\n",
      "1 1 0\n",
      "1 1 1 1\n",
      "1 0 0 1\n",
      "1 1 0 1\n",
      "1 1 1 1\n",
      "3\n"
     ]
    }
   ],
   "source": [
    "# 교재 풀이 손복사\n",
    "n, m = map(int, input().split())\n",
    "d = [[0] * m for _ in range(n)]\n",
    "x , y, direction = map(int, input().split())\n",
    "d[x][y] = 1\n",
    "array = []\n",
    "for i in range(n):\n",
    "    array.append(list(map(int, input().split())))\n",
    "dx = [-1, 0, 1, 0]\n",
    "dy = [0, 1, 0, -1]\n",
    "\n",
    "def turn_left():\n",
    "    global direction\n",
    "    direction -= 1\n",
    "    if direction == -1:\n",
    "        direction = 3\n",
    "count = 1\n",
    "turn_time = 0\n",
    "while True:\n",
    "    turn_left()\n",
    "    nx = x + dx[direction]\n",
    "    ny = y + dy[direction]\n",
    "    if d[nx][ny] == 0 and array[nx][ny] == 0:\n",
    "        d[nx][ny] = 1\n",
    "        x = nx\n",
    "        y = ny\n",
    "        count += 1\n",
    "        turn_time = 0\n",
    "        continue\n",
    "    else:\n",
    "        turn_time += 1\n",
    "    if turn_time == 4:\n",
    "        nx = x - dx[direction]\n",
    "        ny = y - dy[direction]\n",
    "        if array[nx][ny] == 0:\n",
    "            x = nx\n",
    "            y = ny\n",
    "        else:\n",
    "            break\n",
    "        turn_time = 0\n",
    "        \n",
    "print(count)"
   ]
  }
 ],
 "metadata": {
  "kernelspec": {
   "display_name": "Python 3",
   "language": "python",
   "name": "python3"
  },
  "language_info": {
   "codemirror_mode": {
    "name": "ipython",
    "version": 3
   },
   "file_extension": ".py",
   "mimetype": "text/x-python",
   "name": "python",
   "nbconvert_exporter": "python",
   "pygments_lexer": "ipython3",
   "version": "3.8.5"
  }
 },
 "nbformat": 4,
 "nbformat_minor": 4
}
