{
 "cells": [
  {
   "cell_type": "code",
   "execution_count": 47,
   "metadata": {},
   "outputs": [
    {
     "name": "stdout",
     "output_type": "stream",
     "text": [
      "3 3\n",
      "001\n",
      "011\n",
      "100\n",
      "2\n"
     ]
    }
   ],
   "source": [
    "#첫번째:제한시간 내에 못 품\n",
    "#dfs\n",
    "# 노드 연결 되는 방식이 같으니까 인접 행렬 필요없음, visited만 이용\n",
    "def dfs(x, y):\n",
    "    if x<0 or x>=N or y<0 or y>=M:#or로 해야하네 \n",
    "        return False\n",
    "    if graph[x][y]== 0:\n",
    "        graph[x][y] = 1\n",
    "        dfs(x-1,y)\n",
    "        dfs(x+1,y)\n",
    "        dfs(x,y-1)\n",
    "        dfs(x,y+1)\n",
    "        return True\n",
    "\n",
    "    return False\n",
    "\n",
    "        \n",
    "N, M = map(int, input().split())\n",
    "graph = []\n",
    "for i in range(N):\n",
    "    graph.append(list(map(int,input())))\n",
    "answer = 0\n",
    "for i in range(N):   \n",
    "    for j in range(M):\n",
    "        if dfs(i, j)==True:\n",
    "            answer+= 1\n",
    "print(answer)"
   ]
  },
  {
   "cell_type": "code",
   "execution_count": 33,
   "metadata": {},
   "outputs": [
    {
     "name": "stdout",
     "output_type": "stream",
     "text": [
      "False\n",
      "1\n",
      "2\n",
      "3\n",
      "4\n"
     ]
    },
    {
     "data": {
      "text/plain": [
       "True"
      ]
     },
     "execution_count": 33,
     "metadata": {},
     "output_type": "execute_result"
    }
   ],
   "source": [
    "def b_f(n):\n",
    "    if n>1:\n",
    "        b_f(n-1)\n",
    "        print(n-1)\n",
    "        return True #제일 처음 시작이 중요한듯\n",
    "    else:\n",
    "        print(\"False\")\n",
    "        return False\n",
    "    \n",
    "b_f(5)"
   ]
  },
  {
   "cell_type": "code",
   "execution_count": 48,
   "metadata": {},
   "outputs": [
    {
     "data": {
      "text/plain": [
       "[[1, 1, 1], [1, 1, 1], [1, 1, 1]]"
      ]
     },
     "execution_count": 48,
     "metadata": {},
     "output_type": "execute_result"
    }
   ],
   "source": [
    "graph "
   ]
  }
 ],
 "metadata": {
  "kernelspec": {
   "display_name": "Python 3",
   "language": "python",
   "name": "python3"
  },
  "language_info": {
   "codemirror_mode": {
    "name": "ipython",
    "version": 3
   },
   "file_extension": ".py",
   "mimetype": "text/x-python",
   "name": "python",
   "nbconvert_exporter": "python",
   "pygments_lexer": "ipython3",
   "version": "3.8.5"
  }
 },
 "nbformat": 4,
 "nbformat_minor": 4
}
