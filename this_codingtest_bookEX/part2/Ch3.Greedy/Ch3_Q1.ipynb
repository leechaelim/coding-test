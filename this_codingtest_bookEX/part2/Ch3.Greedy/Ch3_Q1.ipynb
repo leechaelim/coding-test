{
 "cells": [
  {
   "cell_type": "code",
   "execution_count": 13,
   "metadata": {},
   "outputs": [],
   "source": [
    "# 첫번째 풀이: 20'56''\n",
    "def max_function_ver1():\n",
    "    first_string = input() #파이썬 입력법을 잘 몰라서 비효율적으로 함\n",
    "    second_string = input()\n",
    "    anwser = 0\n",
    "    count = 0\n",
    "    N = int(first_string[0])\n",
    "    M = int(first_string[2])\n",
    "    K = int(first_string[4])\n",
    "    num_list = []\n",
    "    for i in range(len(second_string)):\n",
    "        if second_string[i]!=\" \":\n",
    "            num_list.append(int(second_string[i]))\n",
    "    num_list.sort()\n",
    "    \n",
    "    \n",
    "    if num_list[-1]==num_list[-2]: # 굳이 필요없는 예외처리였음\n",
    "        anwser = M * num_list[-1]\n",
    "    else:\n",
    "        for i in range(0,M): #K반복이 더 효율적임\n",
    "            if count < K:\n",
    "                anwser += num_list[-1]\n",
    "                count += 1\n",
    "            else:\n",
    "                anwser += num_list[-2]\n",
    "                count = 0 \n",
    "        \n",
    "    print(anwser)   \n",
    "    # 가장 큰 수 & 두번째로 큰 수만 사용한다는 것은 알았으니 너무 비효율적이였다."
   ]
  },
  {
   "cell_type": "code",
   "execution_count": 22,
   "metadata": {},
   "outputs": [],
   "source": [
    "# 첫번째 풀이에 입출력 수정\n",
    "def max_function_ver2():\n",
    "    anwser = 0\n",
    "    count = 0\n",
    "    N, M, K = map(int,input().split())\n",
    "    num_list = list(map(int, input().split()))\n",
    "    num_list.sort()\n",
    "    \n",
    "    if num_list[-1]==num_list[-2]: # 굳이 필요없는 예외처리였음\n",
    "        anwser = M * num_list[-1]\n",
    "    else:\n",
    "        for i in range(0,M): #K반복이 더 효율적임\n",
    "            if count < K:\n",
    "                anwser += num_list[-1]\n",
    "                count += 1\n",
    "            else:\n",
    "                anwser += num_list[-2]\n",
    "                count = 0 \n",
    "        \n",
    "    print(anwser)   "
   ]
  },
  {
   "cell_type": "code",
   "execution_count": 28,
   "metadata": {},
   "outputs": [],
   "source": [
    "#교재 베스트 풀이\n",
    "def max_function_ver3():\n",
    "    anwser = 0\n",
    "    count = 0\n",
    "    N, M, K = map(int,input().split())\n",
    "    num_list = list(map(int, input().split()))\n",
    "    num_list.sort()\n",
    "    \n",
    "    count = M//(K + 1) * K # 제일 큰 수를 더하는 횟수만 구하면 해결됨\n",
    "    count += M%(K + 1)\n",
    "    anwser = num_list[-1] * count + num_list[-2] * (M - count)\n",
    "    print(anwser) "
   ]
  },
  {
   "cell_type": "code",
   "execution_count": 14,
   "metadata": {},
   "outputs": [
    {
     "name": "stdout",
     "output_type": "stream",
     "text": [
      "5 8 3\n",
      "2 4 5 4 6\n",
      "46\n"
     ]
    }
   ],
   "source": [
    "max_function()"
   ]
  },
  {
   "cell_type": "code",
   "execution_count": 23,
   "metadata": {},
   "outputs": [
    {
     "name": "stdout",
     "output_type": "stream",
     "text": [
      "5 8 3\n",
      "2 4 5 4 6\n",
      "46\n"
     ]
    }
   ],
   "source": [
    "max_function_ver2()"
   ]
  },
  {
   "cell_type": "code",
   "execution_count": 29,
   "metadata": {},
   "outputs": [
    {
     "name": "stdout",
     "output_type": "stream",
     "text": [
      "5 8 3\n",
      "2 4 5 4 6\n",
      "46\n"
     ]
    }
   ],
   "source": [
    "max_function_ver3()"
   ]
  }
 ],
 "metadata": {
  "kernelspec": {
   "display_name": "Python 3",
   "language": "python",
   "name": "python3"
  },
  "language_info": {
   "codemirror_mode": {
    "name": "ipython",
    "version": 3
   },
   "file_extension": ".py",
   "mimetype": "text/x-python",
   "name": "python",
   "nbconvert_exporter": "python",
   "pygments_lexer": "ipython3",
   "version": "3.8.5"
  }
 },
 "nbformat": 4,
 "nbformat_minor": 4
}
