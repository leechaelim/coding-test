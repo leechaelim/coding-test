{
 "cells": [
  {
   "cell_type": "code",
   "execution_count": 47,
   "metadata": {},
   "outputs": [],
   "source": [
    "#첫번째 풀이: 13'16''\n",
    "def card():\n",
    "    card_list = []\n",
    "    low_list = []\n",
    "    N, M = map(int, input().split())\n",
    "    for i in range(N):\n",
    "        card_list.append(list(map(int,input().split())))\n",
    "        card_list[i].sort()\n",
    "        low_list.append(card_list[i][0])\n",
    "    low_list.sort()\n",
    "    print(low_list[-1])\n",
    "    #sort 사용이 나쁜 지는 모르겠다"
   ]
  },
  {
   "cell_type": "code",
   "execution_count": 27,
   "metadata": {},
   "outputs": [],
   "source": [
    "#교재식 풀이: min&max 함수 이용\n",
    "def card_ver2():\n",
    "    card_list = []\n",
    "    low_list = []\n",
    "    answer = 0\n",
    "    N, M = map(int, input().split())\n",
    "    for i in range(N):\n",
    "        card_list=list(map(int,input().split()))\n",
    "        min_value = min(card_list)\n",
    "        answer = max(answer,min_value)\n",
    "    print(answer)"
   ]
  },
  {
   "cell_type": "code",
   "execution_count": 23,
   "metadata": {},
   "outputs": [
    {
     "name": "stdout",
     "output_type": "stream",
     "text": [
      "2 4\n",
      "7 3 1 8\n",
      "3 3 3 4\n",
      "3\n"
     ]
    }
   ],
   "source": [
    " card()"
   ]
  },
  {
   "cell_type": "code",
   "execution_count": 28,
   "metadata": {},
   "outputs": [
    {
     "name": "stdout",
     "output_type": "stream",
     "text": [
      "2 4\n",
      "7 3 1 8\n",
      "3 3 3 4\n",
      "3\n"
     ]
    }
   ],
   "source": [
    "card_ver2()"
   ]
  },
  {
   "cell_type": "code",
   "execution_count": null,
   "metadata": {},
   "outputs": [],
   "source": [
    "import time\n",
    "start_time = time.time()\n",
    "###########################\n",
    "card()\n",
    "###########################\n",
    "end_time = time.time()\n",
    "print(\"{0:.100f}\".format(end_time - start_time))"
   ]
  }
 ],
 "metadata": {
  "kernelspec": {
   "display_name": "Python 3",
   "language": "python",
   "name": "python3"
  },
  "language_info": {
   "codemirror_mode": {
    "name": "ipython",
    "version": 3
   },
   "file_extension": ".py",
   "mimetype": "text/x-python",
   "name": "python",
   "nbconvert_exporter": "python",
   "pygments_lexer": "ipython3",
   "version": "3.8.5"
  }
 },
 "nbformat": 4,
 "nbformat_minor": 4
}
